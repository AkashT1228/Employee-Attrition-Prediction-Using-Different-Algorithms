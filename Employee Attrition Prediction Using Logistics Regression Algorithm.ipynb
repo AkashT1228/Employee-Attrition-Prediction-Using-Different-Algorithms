{
 "cells": [
  {
   "cell_type": "markdown",
   "id": "3ca7a379",
   "metadata": {},
   "source": [
    "### Objectives : Uncover the factors that lead to employee attrition and explore important questions such as ‘show me a breakdown of distance from home by job role and attrition’ or ‘compare average monthly income by education and attrition’."
   ]
  },
  {
   "cell_type": "markdown",
   "id": "75c4f120",
   "metadata": {},
   "source": [
    "# Step 1 : Import Libraries"
   ]
  },
  {
   "cell_type": "code",
   "execution_count": 1,
   "id": "4fec6e15",
   "metadata": {},
   "outputs": [
    {
     "data": {
      "text/html": [
       "        <script type=\"text/javascript\">\n",
       "        window.PlotlyConfig = {MathJaxConfig: 'local'};\n",
       "        if (window.MathJax) {MathJax.Hub.Config({SVG: {font: \"STIX-Web\"}});}\n",
       "        if (typeof require !== 'undefined') {\n",
       "        require.undef(\"plotly\");\n",
       "        requirejs.config({\n",
       "            paths: {\n",
       "                'plotly': ['https://cdn.plot.ly/plotly-2.9.0.min']\n",
       "            }\n",
       "        });\n",
       "        require(['plotly'], function(Plotly) {\n",
       "            window._Plotly = Plotly;\n",
       "        });\n",
       "        }\n",
       "        </script>\n",
       "        "
      ]
     },
     "metadata": {},
     "output_type": "display_data"
    }
   ],
   "source": [
    "import numpy as np\n",
    "import pandas as pd \n",
    "import os\n",
    "import itertools\n",
    "import warnings\n",
    "warnings.filterwarnings(\"ignore\")\n",
    "import io\n",
    "import matplotlib.pyplot as plt \n",
    "from PIL import  Image\n",
    "import seaborn as sns \n",
    "import plotly.offline as py\n",
    "py.init_notebook_mode(connected=True)\n",
    "import plotly.graph_objs as go\n",
    "import plotly.tools as tls\n",
    "import plotly.figure_factory as ff"
   ]
  },
  {
   "cell_type": "markdown",
   "id": "05b79bd9",
   "metadata": {},
   "source": [
    "# Step 2 : Data Import"
   ]
  },
  {
   "cell_type": "code",
   "execution_count": 2,
   "id": "5a68b9e1",
   "metadata": {},
   "outputs": [
    {
     "data": {
      "text/html": [
       "<div>\n",
       "<style scoped>\n",
       "    .dataframe tbody tr th:only-of-type {\n",
       "        vertical-align: middle;\n",
       "    }\n",
       "\n",
       "    .dataframe tbody tr th {\n",
       "        vertical-align: top;\n",
       "    }\n",
       "\n",
       "    .dataframe thead th {\n",
       "        text-align: right;\n",
       "    }\n",
       "</style>\n",
       "<table border=\"1\" class=\"dataframe\">\n",
       "  <thead>\n",
       "    <tr style=\"text-align: right;\">\n",
       "      <th></th>\n",
       "      <th>Age</th>\n",
       "      <th>Attrition</th>\n",
       "      <th>BusinessTravel</th>\n",
       "      <th>DailyRate</th>\n",
       "      <th>Department</th>\n",
       "      <th>DistanceFromHome</th>\n",
       "      <th>EducationField</th>\n",
       "      <th>EnvironmentSatisfaction</th>\n",
       "      <th>Gender</th>\n",
       "      <th>HourlyRate</th>\n",
       "      <th>...</th>\n",
       "      <th>JobSatisfaction</th>\n",
       "      <th>MaritalStatus</th>\n",
       "      <th>MonthlyIncome</th>\n",
       "      <th>MonthlyRate</th>\n",
       "      <th>OverTime</th>\n",
       "      <th>PercentSalaryHike</th>\n",
       "      <th>PerformanceRating</th>\n",
       "      <th>TotalWorkingYears</th>\n",
       "      <th>YearsAtCompany</th>\n",
       "      <th>YearsSinceLastPromotion</th>\n",
       "    </tr>\n",
       "  </thead>\n",
       "  <tbody>\n",
       "    <tr>\n",
       "      <th>0</th>\n",
       "      <td>41</td>\n",
       "      <td>Yes</td>\n",
       "      <td>Travel_Rarely</td>\n",
       "      <td>1102</td>\n",
       "      <td>Sales</td>\n",
       "      <td>1</td>\n",
       "      <td>Life Sciences</td>\n",
       "      <td>2</td>\n",
       "      <td>Female</td>\n",
       "      <td>94</td>\n",
       "      <td>...</td>\n",
       "      <td>4</td>\n",
       "      <td>Single</td>\n",
       "      <td>5993</td>\n",
       "      <td>19479</td>\n",
       "      <td>Yes</td>\n",
       "      <td>11</td>\n",
       "      <td>3</td>\n",
       "      <td>8</td>\n",
       "      <td>6</td>\n",
       "      <td>0</td>\n",
       "    </tr>\n",
       "    <tr>\n",
       "      <th>1</th>\n",
       "      <td>49</td>\n",
       "      <td>No</td>\n",
       "      <td>Travel_Frequently</td>\n",
       "      <td>279</td>\n",
       "      <td>Research &amp; Development</td>\n",
       "      <td>8</td>\n",
       "      <td>Life Sciences</td>\n",
       "      <td>3</td>\n",
       "      <td>Male</td>\n",
       "      <td>61</td>\n",
       "      <td>...</td>\n",
       "      <td>2</td>\n",
       "      <td>Married</td>\n",
       "      <td>5130</td>\n",
       "      <td>24907</td>\n",
       "      <td>No</td>\n",
       "      <td>23</td>\n",
       "      <td>4</td>\n",
       "      <td>10</td>\n",
       "      <td>10</td>\n",
       "      <td>1</td>\n",
       "    </tr>\n",
       "    <tr>\n",
       "      <th>2</th>\n",
       "      <td>37</td>\n",
       "      <td>Yes</td>\n",
       "      <td>Travel_Rarely</td>\n",
       "      <td>1373</td>\n",
       "      <td>Research &amp; Development</td>\n",
       "      <td>2</td>\n",
       "      <td>Other</td>\n",
       "      <td>4</td>\n",
       "      <td>Male</td>\n",
       "      <td>92</td>\n",
       "      <td>...</td>\n",
       "      <td>3</td>\n",
       "      <td>Single</td>\n",
       "      <td>2090</td>\n",
       "      <td>2396</td>\n",
       "      <td>Yes</td>\n",
       "      <td>15</td>\n",
       "      <td>3</td>\n",
       "      <td>7</td>\n",
       "      <td>0</td>\n",
       "      <td>0</td>\n",
       "    </tr>\n",
       "    <tr>\n",
       "      <th>3</th>\n",
       "      <td>33</td>\n",
       "      <td>No</td>\n",
       "      <td>Travel_Frequently</td>\n",
       "      <td>1392</td>\n",
       "      <td>Research &amp; Development</td>\n",
       "      <td>3</td>\n",
       "      <td>Life Sciences</td>\n",
       "      <td>4</td>\n",
       "      <td>Female</td>\n",
       "      <td>56</td>\n",
       "      <td>...</td>\n",
       "      <td>3</td>\n",
       "      <td>Married</td>\n",
       "      <td>2909</td>\n",
       "      <td>23159</td>\n",
       "      <td>Yes</td>\n",
       "      <td>11</td>\n",
       "      <td>3</td>\n",
       "      <td>8</td>\n",
       "      <td>8</td>\n",
       "      <td>3</td>\n",
       "    </tr>\n",
       "    <tr>\n",
       "      <th>4</th>\n",
       "      <td>27</td>\n",
       "      <td>No</td>\n",
       "      <td>Travel_Rarely</td>\n",
       "      <td>591</td>\n",
       "      <td>Research &amp; Development</td>\n",
       "      <td>2</td>\n",
       "      <td>Medical</td>\n",
       "      <td>1</td>\n",
       "      <td>Male</td>\n",
       "      <td>40</td>\n",
       "      <td>...</td>\n",
       "      <td>2</td>\n",
       "      <td>Married</td>\n",
       "      <td>3468</td>\n",
       "      <td>16632</td>\n",
       "      <td>No</td>\n",
       "      <td>12</td>\n",
       "      <td>3</td>\n",
       "      <td>6</td>\n",
       "      <td>2</td>\n",
       "      <td>2</td>\n",
       "    </tr>\n",
       "    <tr>\n",
       "      <th>...</th>\n",
       "      <td>...</td>\n",
       "      <td>...</td>\n",
       "      <td>...</td>\n",
       "      <td>...</td>\n",
       "      <td>...</td>\n",
       "      <td>...</td>\n",
       "      <td>...</td>\n",
       "      <td>...</td>\n",
       "      <td>...</td>\n",
       "      <td>...</td>\n",
       "      <td>...</td>\n",
       "      <td>...</td>\n",
       "      <td>...</td>\n",
       "      <td>...</td>\n",
       "      <td>...</td>\n",
       "      <td>...</td>\n",
       "      <td>...</td>\n",
       "      <td>...</td>\n",
       "      <td>...</td>\n",
       "      <td>...</td>\n",
       "      <td>...</td>\n",
       "    </tr>\n",
       "    <tr>\n",
       "      <th>1465</th>\n",
       "      <td>36</td>\n",
       "      <td>No</td>\n",
       "      <td>Travel_Frequently</td>\n",
       "      <td>884</td>\n",
       "      <td>Research &amp; Development</td>\n",
       "      <td>23</td>\n",
       "      <td>Medical</td>\n",
       "      <td>3</td>\n",
       "      <td>Male</td>\n",
       "      <td>41</td>\n",
       "      <td>...</td>\n",
       "      <td>4</td>\n",
       "      <td>Married</td>\n",
       "      <td>2571</td>\n",
       "      <td>12290</td>\n",
       "      <td>No</td>\n",
       "      <td>17</td>\n",
       "      <td>3</td>\n",
       "      <td>17</td>\n",
       "      <td>5</td>\n",
       "      <td>0</td>\n",
       "    </tr>\n",
       "    <tr>\n",
       "      <th>1466</th>\n",
       "      <td>39</td>\n",
       "      <td>No</td>\n",
       "      <td>Travel_Rarely</td>\n",
       "      <td>613</td>\n",
       "      <td>Research &amp; Development</td>\n",
       "      <td>6</td>\n",
       "      <td>Medical</td>\n",
       "      <td>4</td>\n",
       "      <td>Male</td>\n",
       "      <td>42</td>\n",
       "      <td>...</td>\n",
       "      <td>1</td>\n",
       "      <td>Married</td>\n",
       "      <td>9991</td>\n",
       "      <td>21457</td>\n",
       "      <td>No</td>\n",
       "      <td>15</td>\n",
       "      <td>3</td>\n",
       "      <td>9</td>\n",
       "      <td>7</td>\n",
       "      <td>1</td>\n",
       "    </tr>\n",
       "    <tr>\n",
       "      <th>1467</th>\n",
       "      <td>27</td>\n",
       "      <td>No</td>\n",
       "      <td>Travel_Rarely</td>\n",
       "      <td>155</td>\n",
       "      <td>Research &amp; Development</td>\n",
       "      <td>4</td>\n",
       "      <td>Life Sciences</td>\n",
       "      <td>2</td>\n",
       "      <td>Male</td>\n",
       "      <td>87</td>\n",
       "      <td>...</td>\n",
       "      <td>2</td>\n",
       "      <td>Married</td>\n",
       "      <td>6142</td>\n",
       "      <td>5174</td>\n",
       "      <td>Yes</td>\n",
       "      <td>20</td>\n",
       "      <td>4</td>\n",
       "      <td>6</td>\n",
       "      <td>6</td>\n",
       "      <td>0</td>\n",
       "    </tr>\n",
       "    <tr>\n",
       "      <th>1468</th>\n",
       "      <td>49</td>\n",
       "      <td>No</td>\n",
       "      <td>Travel_Frequently</td>\n",
       "      <td>1023</td>\n",
       "      <td>Sales</td>\n",
       "      <td>2</td>\n",
       "      <td>Medical</td>\n",
       "      <td>4</td>\n",
       "      <td>Male</td>\n",
       "      <td>63</td>\n",
       "      <td>...</td>\n",
       "      <td>2</td>\n",
       "      <td>Married</td>\n",
       "      <td>5390</td>\n",
       "      <td>13243</td>\n",
       "      <td>No</td>\n",
       "      <td>14</td>\n",
       "      <td>3</td>\n",
       "      <td>17</td>\n",
       "      <td>9</td>\n",
       "      <td>0</td>\n",
       "    </tr>\n",
       "    <tr>\n",
       "      <th>1469</th>\n",
       "      <td>34</td>\n",
       "      <td>No</td>\n",
       "      <td>Travel_Rarely</td>\n",
       "      <td>628</td>\n",
       "      <td>Research &amp; Development</td>\n",
       "      <td>8</td>\n",
       "      <td>Medical</td>\n",
       "      <td>2</td>\n",
       "      <td>Male</td>\n",
       "      <td>82</td>\n",
       "      <td>...</td>\n",
       "      <td>3</td>\n",
       "      <td>Married</td>\n",
       "      <td>4404</td>\n",
       "      <td>10228</td>\n",
       "      <td>No</td>\n",
       "      <td>12</td>\n",
       "      <td>3</td>\n",
       "      <td>6</td>\n",
       "      <td>4</td>\n",
       "      <td>1</td>\n",
       "    </tr>\n",
       "  </tbody>\n",
       "</table>\n",
       "<p>1470 rows × 21 columns</p>\n",
       "</div>"
      ],
      "text/plain": [
       "      Age Attrition     BusinessTravel  DailyRate              Department  \\\n",
       "0      41       Yes      Travel_Rarely       1102                   Sales   \n",
       "1      49        No  Travel_Frequently        279  Research & Development   \n",
       "2      37       Yes      Travel_Rarely       1373  Research & Development   \n",
       "3      33        No  Travel_Frequently       1392  Research & Development   \n",
       "4      27        No      Travel_Rarely        591  Research & Development   \n",
       "...   ...       ...                ...        ...                     ...   \n",
       "1465   36        No  Travel_Frequently        884  Research & Development   \n",
       "1466   39        No      Travel_Rarely        613  Research & Development   \n",
       "1467   27        No      Travel_Rarely        155  Research & Development   \n",
       "1468   49        No  Travel_Frequently       1023                   Sales   \n",
       "1469   34        No      Travel_Rarely        628  Research & Development   \n",
       "\n",
       "      DistanceFromHome EducationField  EnvironmentSatisfaction  Gender  \\\n",
       "0                    1  Life Sciences                        2  Female   \n",
       "1                    8  Life Sciences                        3    Male   \n",
       "2                    2          Other                        4    Male   \n",
       "3                    3  Life Sciences                        4  Female   \n",
       "4                    2        Medical                        1    Male   \n",
       "...                ...            ...                      ...     ...   \n",
       "1465                23        Medical                        3    Male   \n",
       "1466                 6        Medical                        4    Male   \n",
       "1467                 4  Life Sciences                        2    Male   \n",
       "1468                 2        Medical                        4    Male   \n",
       "1469                 8        Medical                        2    Male   \n",
       "\n",
       "      HourlyRate  ... JobSatisfaction  MaritalStatus MonthlyIncome  \\\n",
       "0             94  ...               4         Single          5993   \n",
       "1             61  ...               2        Married          5130   \n",
       "2             92  ...               3         Single          2090   \n",
       "3             56  ...               3        Married          2909   \n",
       "4             40  ...               2        Married          3468   \n",
       "...          ...  ...             ...            ...           ...   \n",
       "1465          41  ...               4        Married          2571   \n",
       "1466          42  ...               1        Married          9991   \n",
       "1467          87  ...               2        Married          6142   \n",
       "1468          63  ...               2        Married          5390   \n",
       "1469          82  ...               3        Married          4404   \n",
       "\n",
       "      MonthlyRate  OverTime PercentSalaryHike  PerformanceRating  \\\n",
       "0           19479       Yes                11                  3   \n",
       "1           24907        No                23                  4   \n",
       "2            2396       Yes                15                  3   \n",
       "3           23159       Yes                11                  3   \n",
       "4           16632        No                12                  3   \n",
       "...           ...       ...               ...                ...   \n",
       "1465        12290        No                17                  3   \n",
       "1466        21457        No                15                  3   \n",
       "1467         5174       Yes                20                  4   \n",
       "1468        13243        No                14                  3   \n",
       "1469        10228        No                12                  3   \n",
       "\n",
       "      TotalWorkingYears  YearsAtCompany  YearsSinceLastPromotion  \n",
       "0                     8               6                        0  \n",
       "1                    10              10                        1  \n",
       "2                     7               0                        0  \n",
       "3                     8               8                        3  \n",
       "4                     6               2                        2  \n",
       "...                 ...             ...                      ...  \n",
       "1465                 17               5                        0  \n",
       "1466                  9               7                        1  \n",
       "1467                  6               6                        0  \n",
       "1468                 17               9                        0  \n",
       "1469                  6               4                        1  \n",
       "\n",
       "[1470 rows x 21 columns]"
      ]
     },
     "execution_count": 2,
     "metadata": {},
     "output_type": "execute_result"
    }
   ],
   "source": [
    "data = pd.read_csv(r\"C:\\Users\\akash\\OneDrive\\Desktop\\Python\\Machine Learning---- Python\\Projects\\HR-Employee-Attrition.csv\")\n",
    "data"
   ]
  },
  {
   "cell_type": "markdown",
   "id": "649dd103",
   "metadata": {},
   "source": [
    "# Step 3 :  Data Pre-Processing\n",
    "* Data Type and conversion.\n",
    "* Identifying & Treatment Missing Values.\n",
    "* Identifying & Treatment of Outliers."
   ]
  },
  {
   "cell_type": "markdown",
   "id": "23f40908",
   "metadata": {},
   "source": [
    "### Data Type and conversion"
   ]
  },
  {
   "cell_type": "code",
   "execution_count": 3,
   "id": "9688a3ce",
   "metadata": {
    "scrolled": false
   },
   "outputs": [
    {
     "name": "stdout",
     "output_type": "stream",
     "text": [
      "<class 'pandas.core.frame.DataFrame'>\n",
      "RangeIndex: 1470 entries, 0 to 1469\n",
      "Data columns (total 21 columns):\n",
      " #   Column                   Non-Null Count  Dtype \n",
      "---  ------                   --------------  ----- \n",
      " 0   Age                      1470 non-null   int64 \n",
      " 1   Attrition                1470 non-null   object\n",
      " 2   BusinessTravel           1470 non-null   object\n",
      " 3   DailyRate                1470 non-null   int64 \n",
      " 4   Department               1470 non-null   object\n",
      " 5   DistanceFromHome         1470 non-null   int64 \n",
      " 6   EducationField           1470 non-null   object\n",
      " 7   EnvironmentSatisfaction  1470 non-null   int64 \n",
      " 8   Gender                   1470 non-null   object\n",
      " 9   HourlyRate               1470 non-null   int64 \n",
      " 10  JobRole                  1470 non-null   object\n",
      " 11  JobSatisfaction          1470 non-null   int64 \n",
      " 12  MaritalStatus            1470 non-null   object\n",
      " 13  MonthlyIncome            1470 non-null   int64 \n",
      " 14  MonthlyRate              1470 non-null   int64 \n",
      " 15  OverTime                 1470 non-null   object\n",
      " 16  PercentSalaryHike        1470 non-null   int64 \n",
      " 17  PerformanceRating        1470 non-null   int64 \n",
      " 18  TotalWorkingYears        1470 non-null   int64 \n",
      " 19  YearsAtCompany           1470 non-null   int64 \n",
      " 20  YearsSinceLastPromotion  1470 non-null   int64 \n",
      "dtypes: int64(13), object(8)\n",
      "memory usage: 241.3+ KB\n"
     ]
    }
   ],
   "source": [
    "data.info()"
   ]
  },
  {
   "cell_type": "markdown",
   "id": "9870eae7",
   "metadata": {},
   "source": [
    "### Univariate Analysis"
   ]
  },
  {
   "cell_type": "code",
   "execution_count": 4,
   "id": "b1359c76",
   "metadata": {
    "scrolled": true
   },
   "outputs": [
    {
     "data": {
      "text/html": [
       "<div>\n",
       "<style scoped>\n",
       "    .dataframe tbody tr th:only-of-type {\n",
       "        vertical-align: middle;\n",
       "    }\n",
       "\n",
       "    .dataframe tbody tr th {\n",
       "        vertical-align: top;\n",
       "    }\n",
       "\n",
       "    .dataframe thead th {\n",
       "        text-align: right;\n",
       "    }\n",
       "</style>\n",
       "<table border=\"1\" class=\"dataframe\">\n",
       "  <thead>\n",
       "    <tr style=\"text-align: right;\">\n",
       "      <th></th>\n",
       "      <th>Age</th>\n",
       "      <th>DailyRate</th>\n",
       "      <th>DistanceFromHome</th>\n",
       "      <th>EnvironmentSatisfaction</th>\n",
       "      <th>HourlyRate</th>\n",
       "      <th>JobSatisfaction</th>\n",
       "      <th>MonthlyIncome</th>\n",
       "      <th>MonthlyRate</th>\n",
       "      <th>PercentSalaryHike</th>\n",
       "      <th>PerformanceRating</th>\n",
       "      <th>TotalWorkingYears</th>\n",
       "      <th>YearsAtCompany</th>\n",
       "      <th>YearsSinceLastPromotion</th>\n",
       "    </tr>\n",
       "  </thead>\n",
       "  <tbody>\n",
       "    <tr>\n",
       "      <th>count</th>\n",
       "      <td>1470.000000</td>\n",
       "      <td>1470.000000</td>\n",
       "      <td>1470.000000</td>\n",
       "      <td>1470.000000</td>\n",
       "      <td>1470.000000</td>\n",
       "      <td>1470.000000</td>\n",
       "      <td>1470.000000</td>\n",
       "      <td>1470.000000</td>\n",
       "      <td>1470.000000</td>\n",
       "      <td>1470.000000</td>\n",
       "      <td>1470.000000</td>\n",
       "      <td>1470.000000</td>\n",
       "      <td>1470.000000</td>\n",
       "    </tr>\n",
       "    <tr>\n",
       "      <th>mean</th>\n",
       "      <td>36.923810</td>\n",
       "      <td>802.485714</td>\n",
       "      <td>9.192517</td>\n",
       "      <td>2.721769</td>\n",
       "      <td>65.891156</td>\n",
       "      <td>2.728571</td>\n",
       "      <td>6502.931293</td>\n",
       "      <td>14313.103401</td>\n",
       "      <td>15.209524</td>\n",
       "      <td>3.153741</td>\n",
       "      <td>11.279592</td>\n",
       "      <td>7.008163</td>\n",
       "      <td>2.187755</td>\n",
       "    </tr>\n",
       "    <tr>\n",
       "      <th>std</th>\n",
       "      <td>9.135373</td>\n",
       "      <td>403.509100</td>\n",
       "      <td>8.106864</td>\n",
       "      <td>1.093082</td>\n",
       "      <td>20.329428</td>\n",
       "      <td>1.102846</td>\n",
       "      <td>4707.956783</td>\n",
       "      <td>7117.786044</td>\n",
       "      <td>3.659938</td>\n",
       "      <td>0.360824</td>\n",
       "      <td>7.780782</td>\n",
       "      <td>6.126525</td>\n",
       "      <td>3.222430</td>\n",
       "    </tr>\n",
       "    <tr>\n",
       "      <th>min</th>\n",
       "      <td>18.000000</td>\n",
       "      <td>102.000000</td>\n",
       "      <td>1.000000</td>\n",
       "      <td>1.000000</td>\n",
       "      <td>30.000000</td>\n",
       "      <td>1.000000</td>\n",
       "      <td>1009.000000</td>\n",
       "      <td>2094.000000</td>\n",
       "      <td>11.000000</td>\n",
       "      <td>3.000000</td>\n",
       "      <td>0.000000</td>\n",
       "      <td>0.000000</td>\n",
       "      <td>0.000000</td>\n",
       "    </tr>\n",
       "    <tr>\n",
       "      <th>25%</th>\n",
       "      <td>30.000000</td>\n",
       "      <td>465.000000</td>\n",
       "      <td>2.000000</td>\n",
       "      <td>2.000000</td>\n",
       "      <td>48.000000</td>\n",
       "      <td>2.000000</td>\n",
       "      <td>2911.000000</td>\n",
       "      <td>8047.000000</td>\n",
       "      <td>12.000000</td>\n",
       "      <td>3.000000</td>\n",
       "      <td>6.000000</td>\n",
       "      <td>3.000000</td>\n",
       "      <td>0.000000</td>\n",
       "    </tr>\n",
       "    <tr>\n",
       "      <th>50%</th>\n",
       "      <td>36.000000</td>\n",
       "      <td>802.000000</td>\n",
       "      <td>7.000000</td>\n",
       "      <td>3.000000</td>\n",
       "      <td>66.000000</td>\n",
       "      <td>3.000000</td>\n",
       "      <td>4919.000000</td>\n",
       "      <td>14235.500000</td>\n",
       "      <td>14.000000</td>\n",
       "      <td>3.000000</td>\n",
       "      <td>10.000000</td>\n",
       "      <td>5.000000</td>\n",
       "      <td>1.000000</td>\n",
       "    </tr>\n",
       "    <tr>\n",
       "      <th>75%</th>\n",
       "      <td>43.000000</td>\n",
       "      <td>1157.000000</td>\n",
       "      <td>14.000000</td>\n",
       "      <td>4.000000</td>\n",
       "      <td>83.750000</td>\n",
       "      <td>4.000000</td>\n",
       "      <td>8379.000000</td>\n",
       "      <td>20461.500000</td>\n",
       "      <td>18.000000</td>\n",
       "      <td>3.000000</td>\n",
       "      <td>15.000000</td>\n",
       "      <td>9.000000</td>\n",
       "      <td>3.000000</td>\n",
       "    </tr>\n",
       "    <tr>\n",
       "      <th>max</th>\n",
       "      <td>60.000000</td>\n",
       "      <td>1499.000000</td>\n",
       "      <td>29.000000</td>\n",
       "      <td>4.000000</td>\n",
       "      <td>100.000000</td>\n",
       "      <td>4.000000</td>\n",
       "      <td>19999.000000</td>\n",
       "      <td>26999.000000</td>\n",
       "      <td>25.000000</td>\n",
       "      <td>4.000000</td>\n",
       "      <td>40.000000</td>\n",
       "      <td>40.000000</td>\n",
       "      <td>15.000000</td>\n",
       "    </tr>\n",
       "  </tbody>\n",
       "</table>\n",
       "</div>"
      ],
      "text/plain": [
       "               Age    DailyRate  DistanceFromHome  EnvironmentSatisfaction  \\\n",
       "count  1470.000000  1470.000000       1470.000000              1470.000000   \n",
       "mean     36.923810   802.485714          9.192517                 2.721769   \n",
       "std       9.135373   403.509100          8.106864                 1.093082   \n",
       "min      18.000000   102.000000          1.000000                 1.000000   \n",
       "25%      30.000000   465.000000          2.000000                 2.000000   \n",
       "50%      36.000000   802.000000          7.000000                 3.000000   \n",
       "75%      43.000000  1157.000000         14.000000                 4.000000   \n",
       "max      60.000000  1499.000000         29.000000                 4.000000   \n",
       "\n",
       "        HourlyRate  JobSatisfaction  MonthlyIncome   MonthlyRate  \\\n",
       "count  1470.000000      1470.000000    1470.000000   1470.000000   \n",
       "mean     65.891156         2.728571    6502.931293  14313.103401   \n",
       "std      20.329428         1.102846    4707.956783   7117.786044   \n",
       "min      30.000000         1.000000    1009.000000   2094.000000   \n",
       "25%      48.000000         2.000000    2911.000000   8047.000000   \n",
       "50%      66.000000         3.000000    4919.000000  14235.500000   \n",
       "75%      83.750000         4.000000    8379.000000  20461.500000   \n",
       "max     100.000000         4.000000   19999.000000  26999.000000   \n",
       "\n",
       "       PercentSalaryHike  PerformanceRating  TotalWorkingYears  \\\n",
       "count        1470.000000        1470.000000        1470.000000   \n",
       "mean           15.209524           3.153741          11.279592   \n",
       "std             3.659938           0.360824           7.780782   \n",
       "min            11.000000           3.000000           0.000000   \n",
       "25%            12.000000           3.000000           6.000000   \n",
       "50%            14.000000           3.000000          10.000000   \n",
       "75%            18.000000           3.000000          15.000000   \n",
       "max            25.000000           4.000000          40.000000   \n",
       "\n",
       "       YearsAtCompany  YearsSinceLastPromotion  \n",
       "count     1470.000000              1470.000000  \n",
       "mean         7.008163                 2.187755  \n",
       "std          6.126525                 3.222430  \n",
       "min          0.000000                 0.000000  \n",
       "25%          3.000000                 0.000000  \n",
       "50%          5.000000                 1.000000  \n",
       "75%          9.000000                 3.000000  \n",
       "max         40.000000                15.000000  "
      ]
     },
     "execution_count": 4,
     "metadata": {},
     "output_type": "execute_result"
    }
   ],
   "source": [
    "data.describe()"
   ]
  },
  {
   "cell_type": "code",
   "execution_count": 5,
   "id": "c44a6c10",
   "metadata": {},
   "outputs": [
    {
     "data": {
      "text/plain": [
       "(1470, 21)"
      ]
     },
     "execution_count": 5,
     "metadata": {},
     "output_type": "execute_result"
    }
   ],
   "source": [
    "data.shape"
   ]
  },
  {
   "cell_type": "markdown",
   "id": "106ca585",
   "metadata": {},
   "source": [
    "#### In Dataset There Are 1470 Rows And 35 Columns Are Present."
   ]
  },
  {
   "cell_type": "code",
   "execution_count": 6,
   "id": "3430210e",
   "metadata": {},
   "outputs": [
    {
     "data": {
      "text/plain": [
       "Age                        0\n",
       "Attrition                  0\n",
       "BusinessTravel             0\n",
       "DailyRate                  0\n",
       "Department                 0\n",
       "DistanceFromHome           0\n",
       "EducationField             0\n",
       "EnvironmentSatisfaction    0\n",
       "Gender                     0\n",
       "HourlyRate                 0\n",
       "JobRole                    0\n",
       "JobSatisfaction            0\n",
       "MaritalStatus              0\n",
       "MonthlyIncome              0\n",
       "MonthlyRate                0\n",
       "OverTime                   0\n",
       "PercentSalaryHike          0\n",
       "PerformanceRating          0\n",
       "TotalWorkingYears          0\n",
       "YearsAtCompany             0\n",
       "YearsSinceLastPromotion    0\n",
       "dtype: int64"
      ]
     },
     "execution_count": 6,
     "metadata": {},
     "output_type": "execute_result"
    }
   ],
   "source": [
    "data.isna().sum()"
   ]
  },
  {
   "cell_type": "markdown",
   "id": "823f79fc",
   "metadata": {},
   "source": [
    "#### There Is No Any Missing Values In Data"
   ]
  },
  {
   "cell_type": "markdown",
   "id": "644b5d34",
   "metadata": {},
   "source": [
    "### Identifying & Treatment of Outliers"
   ]
  },
  {
   "cell_type": "code",
   "execution_count": 7,
   "id": "94473a32",
   "metadata": {},
   "outputs": [
    {
     "data": {
      "text/plain": [
       "<AxesSubplot:>"
      ]
     },
     "execution_count": 7,
     "metadata": {},
     "output_type": "execute_result"
    },
    {
     "data": {
      "image/png": "[encoded data removed]",
      "text/plain": [
       "<Figure size 432x288 with 1 Axes>"
      ]
     },
     "metadata": {
      "needs_background": "light"
     },
     "output_type": "display_data"
    }
   ],
   "source": [
    "sns.boxplot(data = data)"
   ]
  },
  {
   "cell_type": "code",
   "execution_count": 8,
   "id": "fb318544",
   "metadata": {},
   "outputs": [
    {
     "data": {
      "text/plain": [
       "<AxesSubplot:ylabel='MonthlyIncome'>"
      ]
     },
     "execution_count": 8,
     "metadata": {},
     "output_type": "execute_result"
    },
    {
     "data": {
      "image/png": "[encoded data removed]",
      "text/plain": [
       "<Figure size 432x288 with 1 Axes>"
      ]
     },
     "metadata": {
      "needs_background": "light"
     },
     "output_type": "display_data"
    }
   ],
   "source": [
    "sns.boxplot(y = 'MonthlyIncome' , data = data)"
   ]
  },
  {
   "cell_type": "markdown",
   "id": "c517c919",
   "metadata": {},
   "source": [
    "### Removing Outliers By Using Winsorizing Technique"
   ]
  },
  {
   "cell_type": "code",
   "execution_count": 9,
   "id": "48c9265f",
   "metadata": {},
   "outputs": [],
   "source": [
    "def outliers(data):\n",
    "    a = data.select_dtypes(include = [np.number]).columns.tolist()\n",
    "    for i in a:\n",
    "        q1 = data[i].quantile(0.25)\n",
    "        q3 = data[i].quantile(0.75)\n",
    "        iqr = q3 - q1\n",
    "        upper_limit = q3+1.5*iqr\n",
    "        lower_limit = q1-1.5*iqr\n",
    "        data[i] = np.where(data[i]>upper_limit,upper_limit,data[i])\n",
    "        data[i] = np.where(data[i]<lower_limit,lower_limit,data[i])"
   ]
  },
  {
   "cell_type": "code",
   "execution_count": 10,
   "id": "e0d0a160",
   "metadata": {},
   "outputs": [],
   "source": [
    "outliers(data)"
   ]
  },
  {
   "cell_type": "code",
   "execution_count": 11,
   "id": "8795b716",
   "metadata": {},
   "outputs": [
    {
     "data": {
      "text/plain": [
       "<AxesSubplot:>"
      ]
     },
     "execution_count": 11,
     "metadata": {},
     "output_type": "execute_result"
    },
    {
     "data": {
      "image/png": "[encoded data removed]",
      "text/plain": [
       "<Figure size 432x288 with 1 Axes>"
      ]
     },
     "metadata": {
      "needs_background": "light"
     },
     "output_type": "display_data"
    }
   ],
   "source": [
    "sns.boxplot(data = data)"
   ]
  },
  {
   "cell_type": "code",
   "execution_count": 12,
   "id": "ae6a0987",
   "metadata": {},
   "outputs": [
    {
     "data": {
      "text/plain": [
       "No     1233\n",
       "Yes     237\n",
       "Name: Attrition, dtype: int64"
      ]
     },
     "execution_count": 12,
     "metadata": {},
     "output_type": "execute_result"
    }
   ],
   "source": [
    "data.Attrition.value_counts(dropna=False)"
   ]
  },
  {
   "cell_type": "code",
   "execution_count": 13,
   "id": "baf6d690",
   "metadata": {},
   "outputs": [
    {
     "data": {
      "text/plain": [
       "83.87755102040816"
      ]
     },
     "execution_count": 13,
     "metadata": {},
     "output_type": "execute_result"
    }
   ],
   "source": [
    "((1233)/1470)*100"
   ]
  },
  {
   "cell_type": "markdown",
   "id": "0b485ab2",
   "metadata": {},
   "source": [
    "#### 83.87 % Employees are not leaving the company or not leaving the organization."
   ]
  },
  {
   "cell_type": "markdown",
   "id": "01eaf33f",
   "metadata": {},
   "source": [
    "# Step 4 : Data Visualization"
   ]
  },
  {
   "cell_type": "code",
   "execution_count": 14,
   "id": "2591a50d",
   "metadata": {},
   "outputs": [
    {
     "data": {
      "text/html": [
       "<div>\n",
       "<style scoped>\n",
       "    .dataframe tbody tr th:only-of-type {\n",
       "        vertical-align: middle;\n",
       "    }\n",
       "\n",
       "    .dataframe tbody tr th {\n",
       "        vertical-align: top;\n",
       "    }\n",
       "\n",
       "    .dataframe thead th {\n",
       "        text-align: right;\n",
       "    }\n",
       "</style>\n",
       "<table border=\"1\" class=\"dataframe\">\n",
       "  <thead>\n",
       "    <tr style=\"text-align: right;\">\n",
       "      <th>col_0</th>\n",
       "      <th>N</th>\n",
       "    </tr>\n",
       "    <tr>\n",
       "      <th>EnvironmentSatisfaction</th>\n",
       "      <th></th>\n",
       "    </tr>\n",
       "  </thead>\n",
       "  <tbody>\n",
       "    <tr>\n",
       "      <th>1.0</th>\n",
       "      <td>0.193197</td>\n",
       "    </tr>\n",
       "    <tr>\n",
       "      <th>2.0</th>\n",
       "      <td>0.195238</td>\n",
       "    </tr>\n",
       "    <tr>\n",
       "      <th>3.0</th>\n",
       "      <td>0.308163</td>\n",
       "    </tr>\n",
       "    <tr>\n",
       "      <th>4.0</th>\n",
       "      <td>0.303401</td>\n",
       "    </tr>\n",
       "  </tbody>\n",
       "</table>\n",
       "</div>"
      ],
      "text/plain": [
       "col_0                           N\n",
       "EnvironmentSatisfaction          \n",
       "1.0                      0.193197\n",
       "2.0                      0.195238\n",
       "3.0                      0.308163\n",
       "4.0                      0.303401"
      ]
     },
     "execution_count": 14,
     "metadata": {},
     "output_type": "execute_result"
    }
   ],
   "source": [
    "Target = 'EnvironmentSatisfaction'\n",
    "pd.crosstab(data[Target], columns='N', normalize=True)"
   ]
  },
  {
   "cell_type": "code",
   "execution_count": 15,
   "id": "e7bdfc0c",
   "metadata": {},
   "outputs": [],
   "source": [
    "num_cols = data.select_dtypes(include=[np.number]).columns.tolist()\n",
    "non_num_cols = data.select_dtypes(exclude=[np.number]).columns.tolist()"
   ]
  },
  {
   "cell_type": "code",
   "execution_count": 16,
   "id": "b7ab5b5e",
   "metadata": {},
   "outputs": [
    {
     "name": "stdout",
     "output_type": "stream",
     "text": [
      "Numeric Columns \n",
      " ['Age', 'DailyRate', 'DistanceFromHome', 'EnvironmentSatisfaction', 'HourlyRate', 'JobSatisfaction', 'MonthlyIncome', 'MonthlyRate', 'PercentSalaryHike', 'PerformanceRating', 'TotalWorkingYears', 'YearsAtCompany', 'YearsSinceLastPromotion']\n",
      "Non-Numeric Columns \n",
      " ['Attrition', 'BusinessTravel', 'Department', 'EducationField', 'Gender', 'JobRole', 'MaritalStatus', 'OverTime']\n"
     ]
    }
   ],
   "source": [
    "print('Numeric Columns \\n', num_cols)\n",
    "print('Non-Numeric Columns \\n', non_num_cols)"
   ]
  },
  {
   "cell_type": "code",
   "execution_count": 17,
   "id": "c2044b29",
   "metadata": {},
   "outputs": [
    {
     "data": {
      "text/html": [
       "<div>\n",
       "<style scoped>\n",
       "    .dataframe tbody tr th:only-of-type {\n",
       "        vertical-align: middle;\n",
       "    }\n",
       "\n",
       "    .dataframe tbody tr th {\n",
       "        vertical-align: top;\n",
       "    }\n",
       "\n",
       "    .dataframe thead th {\n",
       "        text-align: right;\n",
       "    }\n",
       "</style>\n",
       "<table border=\"1\" class=\"dataframe\">\n",
       "  <thead>\n",
       "    <tr style=\"text-align: right;\">\n",
       "      <th>EnvironmentSatisfaction</th>\n",
       "      <th>1.0</th>\n",
       "      <th>2.0</th>\n",
       "      <th>3.0</th>\n",
       "      <th>4.0</th>\n",
       "    </tr>\n",
       "    <tr>\n",
       "      <th>JobSatisfaction</th>\n",
       "      <th></th>\n",
       "      <th></th>\n",
       "      <th></th>\n",
       "      <th></th>\n",
       "    </tr>\n",
       "  </thead>\n",
       "  <tbody>\n",
       "    <tr>\n",
       "      <th>1.0</th>\n",
       "      <td>53</td>\n",
       "      <td>55</td>\n",
       "      <td>94</td>\n",
       "      <td>87</td>\n",
       "    </tr>\n",
       "    <tr>\n",
       "      <th>2.0</th>\n",
       "      <td>47</td>\n",
       "      <td>59</td>\n",
       "      <td>87</td>\n",
       "      <td>87</td>\n",
       "    </tr>\n",
       "    <tr>\n",
       "      <th>3.0</th>\n",
       "      <td>100</td>\n",
       "      <td>84</td>\n",
       "      <td>128</td>\n",
       "      <td>130</td>\n",
       "    </tr>\n",
       "    <tr>\n",
       "      <th>4.0</th>\n",
       "      <td>84</td>\n",
       "      <td>89</td>\n",
       "      <td>144</td>\n",
       "      <td>142</td>\n",
       "    </tr>\n",
       "  </tbody>\n",
       "</table>\n",
       "</div>"
      ],
      "text/plain": [
       "EnvironmentSatisfaction  1.0  2.0  3.0  4.0\n",
       "JobSatisfaction                            \n",
       "1.0                       53   55   94   87\n",
       "2.0                       47   59   87   87\n",
       "3.0                      100   84  128  130\n",
       "4.0                       84   89  144  142"
      ]
     },
     "execution_count": 17,
     "metadata": {},
     "output_type": "execute_result"
    }
   ],
   "source": [
    "pd.crosstab(data.JobSatisfaction,data[Target])"
   ]
  },
  {
   "cell_type": "code",
   "execution_count": 18,
   "id": "7750b587",
   "metadata": {
    "scrolled": false
   },
   "outputs": [
    {
     "data": {
      "image/png": "[encoded data removed]",
      "text/plain": [
       "<Figure size 1080x3600 with 11 Axes>"
      ]
     },
     "metadata": {
      "needs_background": "light"
     },
     "output_type": "display_data"
    }
   ],
   "source": [
    "non_num_cols_viz = non_num_cols+['JobSatisfaction', 'PerformanceRating', 'EnvironmentSatisfaction']\n",
    "fig, axes = plt.subplots(len(non_num_cols_viz), figsize=(15,50))\n",
    "for i in range(len(non_num_cols_viz)):  # i = 0\n",
    "    pd.crosstab(data[non_num_cols_viz[i]], data[Target]).plot(kind='bar', \n",
    "                                                                                  stacked=True, \n",
    "                                                                                  ax=axes[i],\n",
    "   # sharex=False every plot should have different axis ax=axes[i],\n",
    "                                                                                  rot=0)"
   ]
  },
  {
   "cell_type": "code",
   "execution_count": 19,
   "id": "6cc7dfde",
   "metadata": {},
   "outputs": [
    {
     "data": {
      "text/plain": [
       "<AxesSubplot:xlabel='Attrition'>"
      ]
     },
     "execution_count": 19,
     "metadata": {},
     "output_type": "execute_result"
    },
    {
     "data": {
      "image/png": "[encoded data removed]",
      "text/plain": [
       "<Figure size 432x288 with 1 Axes>"
      ]
     },
     "metadata": {
      "needs_background": "light"
     },
     "output_type": "display_data"
    }
   ],
   "source": [
    "data.groupby('Attrition')['Attrition'].agg('count').plot.bar()"
   ]
  },
  {
   "cell_type": "code",
   "execution_count": 20,
   "id": "36dec4f7",
   "metadata": {},
   "outputs": [
    {
     "data": {
      "text/plain": [
       "<AxesSubplot:title={'center':'Gender Vs Attrition'}, xlabel='Gender', ylabel='count'>"
      ]
     },
     "execution_count": 20,
     "metadata": {},
     "output_type": "execute_result"
    },
    {
     "data": {
      "image/png": "[encoded data removed]",
      "text/plain": [
       "<Figure size 1584x1152 with 1 Axes>"
      ]
     },
     "metadata": {
      "needs_background": "light"
     },
     "output_type": "display_data"
    }
   ],
   "source": [
    "plt.figure(figsize=(22,16))\n",
    "sns.set(style=\"darkgrid\")\n",
    "plt.subplot(221)\n",
    "plt.title('Gender Vs Attrition')\n",
    "sns.countplot('Gender',hue='Attrition',data=data,palette='seismic_r')"
   ]
  },
  {
   "cell_type": "code",
   "execution_count": 21,
   "id": "cc1fa046",
   "metadata": {},
   "outputs": [
    {
     "data": {
      "text/plain": [
       "<AxesSubplot:title={'center':'JobSatisfaction Vs Attrition'}, xlabel='JobSatisfaction', ylabel='count'>"
      ]
     },
     "execution_count": 21,
     "metadata": {},
     "output_type": "execute_result"
    },
    {
     "data": {
      "image/png": "[encoded data removed]",
      "text/plain": [
       "<Figure size 1584x1152 with 1 Axes>"
      ]
     },
     "metadata": {},
     "output_type": "display_data"
    }
   ],
   "source": [
    "plt.figure(figsize=(22,16))\n",
    "sns.set(style=\"darkgrid\")\n",
    "plt.subplot(221)\n",
    "plt.title('JobSatisfaction Vs Attrition')\n",
    "sns.countplot('JobSatisfaction',hue='Attrition',data=data,palette='husl')"
   ]
  },
  {
   "cell_type": "code",
   "execution_count": 22,
   "id": "ed1a47a2",
   "metadata": {},
   "outputs": [
    {
     "data": {
      "text/plain": [
       "<AxesSubplot:title={'center':'EnvironmentSatisfaction Vs MonthlyIncome'}, xlabel='EnvironmentSatisfaction', ylabel='count'>"
      ]
     },
     "execution_count": 22,
     "metadata": {},
     "output_type": "execute_result"
    },
    {
     "data": {
      "image/png": "[encoded data removed]",
      "text/plain": [
       "<Figure size 1584x1152 with 1 Axes>"
      ]
     },
     "metadata": {},
     "output_type": "display_data"
    }
   ],
   "source": [
    "plt.figure(figsize=(22,16))\n",
    "plt.subplot(221)\n",
    "plt.title('EnvironmentSatisfaction Vs MonthlyIncome')\n",
    "sns.countplot(data['EnvironmentSatisfaction'],hue=data['Attrition'],palette='mako')"
   ]
  },
  {
   "cell_type": "code",
   "execution_count": 23,
   "id": "dcbd8056",
   "metadata": {},
   "outputs": [
    {
     "data": {
      "text/plain": [
       "EducationField\n",
       "Human Resources      184060.0\n",
       "Life Sciences       3834672.0\n",
       "Marketing           1147609.0\n",
       "Medical             2948383.0\n",
       "Other                486552.0\n",
       "Technical Degree     750705.0\n",
       "Name: MonthlyIncome, dtype: float64"
      ]
     },
     "execution_count": 23,
     "metadata": {},
     "output_type": "execute_result"
    }
   ],
   "source": [
    "data_1 = data.groupby(\"EducationField\")[\"MonthlyIncome\"].sum()\n",
    "data_1"
   ]
  },
  {
   "cell_type": "code",
   "execution_count": 24,
   "id": "515e3ccf",
   "metadata": {},
   "outputs": [
    {
     "data": {
      "text/plain": [
       "Text(0.5, 1.0, 'Monthly Income With Respect to Education Field ')"
      ]
     },
     "execution_count": 24,
     "metadata": {},
     "output_type": "execute_result"
    },
    {
     "data": {
      "image/png": "[encoded data removed]",
      "text/plain": [
       "<Figure size 864x864 with 1 Axes>"
      ]
     },
     "metadata": {},
     "output_type": "display_data"
    }
   ],
   "source": [
    "data_1.plot.pie(figsize=[12,12],autopct=\"%0.1f%%\")\n",
    "plt.title(\"Monthly Income With Respect to Education Field \")"
   ]
  },
  {
   "cell_type": "code",
   "execution_count": 25,
   "id": "16318e2d",
   "metadata": {},
   "outputs": [
    {
     "data": {
      "text/plain": [
       "<AxesSubplot:title={'center':'Department Vs Attrition'}, xlabel='Department', ylabel='count'>"
      ]
     },
     "execution_count": 25,
     "metadata": {},
     "output_type": "execute_result"
    },
    {
     "data": {
      "image/png": "[encoded data removed]",
      "text/plain": [
       "<Figure size 1584x1152 with 1 Axes>"
      ]
     },
     "metadata": {},
     "output_type": "display_data"
    }
   ],
   "source": [
    "plt.figure(figsize=(22,16))\n",
    "sns.set(style=\"darkgrid\")\n",
    "plt.subplot(221)\n",
    "plt.title('Department Vs Attrition')\n",
    "sns.countplot(data['Department'],hue=data['Attrition'],palette='prism_r')"
   ]
  },
  {
   "cell_type": "code",
   "execution_count": 26,
   "id": "6cdf4203",
   "metadata": {},
   "outputs": [
    {
     "data": {
      "text/plain": [
       "Text(0.5, 1.0, 'Attrition amongst different JobRoles')"
      ]
     },
     "execution_count": 26,
     "metadata": {},
     "output_type": "execute_result"
    },
    {
     "data": {
      "image/png": "[encoded data removed]",
      "text/plain": [
       "<Figure size 1440x1008 with 1 Axes>"
      ]
     },
     "metadata": {},
     "output_type": "display_data"
    }
   ],
   "source": [
    "plt.figure(figsize=(20,14))\n",
    "sns.set(style=\"whitegrid\")\n",
    "\n",
    "\n",
    "plt.subplot(211)\n",
    "plt.title('JobRole Vs Attrition')\n",
    "sns.countplot(data['JobRole'],palette='rocket_r',hue=data['Attrition'].sort_values(ascending=True))\n",
    "plt.title('Attrition amongst different JobRoles',size=15)"
   ]
  },
  {
   "cell_type": "code",
   "execution_count": 27,
   "id": "ebdd9dcf",
   "metadata": {},
   "outputs": [
    {
     "data": {
      "text/plain": [
       "<AxesSubplot:title={'center':'MaritalStatus Vs MonthlyIncome'}, xlabel='MaritalStatus', ylabel='count'>"
      ]
     },
     "execution_count": 27,
     "metadata": {},
     "output_type": "execute_result"
    },
    {
     "data": {
      "image/png": "[encoded data removed]",
      "text/plain": [
       "<Figure size 1440x1008 with 1 Axes>"
      ]
     },
     "metadata": {},
     "output_type": "display_data"
    }
   ],
   "source": [
    "plt.figure(figsize=(20,14))\n",
    "plt.subplot(221)\n",
    "plt.title('MaritalStatus Vs MonthlyIncome')\n",
    "sns.countplot(data['MaritalStatus'],hue=data['Attrition'],palette='hot')"
   ]
  },
  {
   "cell_type": "code",
   "execution_count": null,
   "id": "53dafc8b",
   "metadata": {},
   "outputs": [],
   "source": []
  },
  {
   "cell_type": "code",
   "execution_count": null,
   "id": "6e9bf14c",
   "metadata": {},
   "outputs": [],
   "source": []
  },
  {
   "cell_type": "markdown",
   "id": "96db5e1f",
   "metadata": {},
   "source": [
    "#### Bad Rate Analysis"
   ]
  },
  {
   "cell_type": "code",
   "execution_count": 28,
   "id": "c50845c5",
   "metadata": {},
   "outputs": [
    {
     "data": {
      "text/plain": [
       "No     1233\n",
       "Yes     237\n",
       "Name: Attrition, dtype: int64"
      ]
     },
     "execution_count": 28,
     "metadata": {},
     "output_type": "execute_result"
    }
   ],
   "source": [
    "data.Attrition.value_counts()"
   ]
  },
  {
   "cell_type": "code",
   "execution_count": 29,
   "id": "de566b3e",
   "metadata": {},
   "outputs": [
    {
     "data": {
      "text/plain": [
       "16.122448979591837"
      ]
     },
     "execution_count": 29,
     "metadata": {},
     "output_type": "execute_result"
    }
   ],
   "source": [
    "((237/1470)*100)"
   ]
  },
  {
   "cell_type": "markdown",
   "id": "3977cdb3",
   "metadata": {},
   "source": [
    "#### 16.12 %  Employees are  leaving the company or  leaving the organization for any reason."
   ]
  },
  {
   "cell_type": "code",
   "execution_count": 30,
   "id": "522858c2",
   "metadata": {},
   "outputs": [
    {
     "data": {
      "application/vnd.plotly.v1+json": {
       "config": {
        "plotlyServerURL": "https://plot.ly"
       },
       "data": [
        {
         "customdata": [
          [
           "Yes"
          ],
          [
           "No"
          ],
          [
           "Yes"
          ],
          [
           "No"
          ],
          [
           "No"
          ],
          [
           "No"
          ],
          [
           "No"
          ],
          [
           "No"
          ],
          [
           "No"
          ],
          [
           "No"
          ],
          [
           "No"
          ],
          [
           "No"
          ],
          [
           "No"
          ],
          [
           "No"
          ],
          [
           "Yes"
          ],
          [
           "No"
          ],
          [
           "No"
          ],
          [
           "No"
          ],
          [
           "No"
          ],
          [
           "No"
          ],
          [
           "No"
          ],
          [
           "Yes"
          ],
          [
           "No"
          ],
          [
           "No"
          ],
          [
           "Yes"
          ],
          [
           "No"
          ],
          [
           "Yes"
          ],
          [
           "No"
          ],
          [
           "No"
          ],
          [
           "No"
          ],
          [
           "No"
          ],
          [
           "No"
          ],
          [
           "No"
          ],
          [
           "Yes"
          ],
          [
           "Yes"
          ],
          [
           "No"
          ],
          [
           "Yes"
          ],
          [
           "No"
          ],
          [
           "No"
          ],
          [
           "No"
          ],
          [
           "No"
          ],
          [
           "No"
          ],
          [
           "Yes"
          ],
          [
           "No"
          ],
          [
           "No"
          ],
          [
           "Yes"
          ],
          [
           "No"
          ],
          [
           "No"
          ],
          [
           "No"
          ],
          [
           "No"
          ],
          [
           "Yes"
          ],
          [
           "Yes"
          ],
          [
           "No"
          ],
          [
           "No"
          ],
          [
           "No"
          ],
          [
           "No"
          ],
          [
           "No"
          ],
          [
           "No"
          ],
          [
           "No"
          ],
          [
           "No"
          ],
          [
           "No"
          ],
          [
           "No"
          ],
          [
           "No"
          ],
          [
           "No"
          ],
          [
           "No"
          ],
          [
           "No"
          ],
          [
           "No"
          ],
          [
           "No"
          ],
          [
           "No"
          ],
          [
           "Yes"
          ],
          [
           "No"
          ],
          [
           "No"
          ],
          [
           "No"
          ],
          [
           "No"
          ],
          [
           "No"
          ],
          [
           "No"
          ],
          [
           "No"
          ],
          [
           "No"
          ],
          [
           "No"
          ],
          [
           "No"
          ],
          [
           "No"
          ],
          [
           "No"
          ],
          [
           "No"
          ],
          [
           "No"
          ],
          [
           "No"
          ],
          [
           "No"
          ],
          [
           "No"
          ],
          [
           "No"
          ],
          [
           "No"
          ],
          [
           "Yes"
          ],
          [
           "No"
          ],
          [
           "No"
          ],
          [
           "No"
          ],
          [
           "No"
          ],
          [
           "No"
          ],
          [
           "No"
          ],
          [
           "No"
          ],
          [
           "No"
          ],
          [
           "No"
          ],
          [
           "No"
          ],
          [
           "Yes"
          ],
          [
           "No"
          ],
          [
           "Yes"
          ],
          [
           "No"
          ],
          [
           "No"
          ],
          [
           "No"
          ],
          [
           "No"
          ],
          [
           "Yes"
          ],
          [
           "No"
          ],
          [
           "No"
          ],
          [
           "No"
          ],
          [
           "Yes"
          ],
          [
           "No"
          ],
          [
           "No"
          ],
          [
           "No"
          ],
          [
           "No"
          ],
          [
           "No"
          ],
          [
           "No"
          ],
          [
           "No"
          ],
          [
           "No"
          ],
          [
           "No"
          ],
          [
           "No"
          ],
          [
           "Yes"
          ],
          [
           "No"
          ],
          [
           "Yes"
          ],
          [
           "No"
          ],
          [
           "Yes"
          ],
          [
           "Yes"
          ],
          [
           "No"
          ],
          [
           "No"
          ],
          [
           "No"
          ],
          [
           "No"
          ],
          [
           "Yes"
          ],
          [
           "No"
          ],
          [
           "No"
          ],
          [
           "No"
          ],
          [
           "Yes"
          ],
          [
           "No"
          ],
          [
           "No"
          ],
          [
           "No"
          ],
          [
           "Yes"
          ],
          [
           "No"
          ],
          [
           "No"
          ],
          [
           "No"
          ],
          [
           "No"
          ],
          [
           "No"
          ],
          [
           "No"
          ],
          [
           "No"
          ],
          [
           "No"
          ],
          [
           "No"
          ],
          [
           "No"
          ],
          [
           "No"
          ],
          [
           "No"
          ],
          [
           "No"
          ],
          [
           "No"
          ],
          [
           "No"
          ],
          [
           "No"
          ],
          [
           "No"
          ],
          [
           "No"
          ],
          [
           "No"
          ],
          [
           "No"
          ],
          [
           "No"
          ],
          [
           "No"
          ],
          [
           "No"
          ],
          [
           "No"
          ],
          [
           "No"
          ],
          [
           "No"
          ],
          [
           "No"
          ],
          [
           "No"
          ],
          [
           "No"
          ],
          [
           "No"
          ],
          [
           "Yes"
          ],
          [
           "No"
          ],
          [
           "No"
          ],
          [
           "No"
          ],
          [
           "No"
          ],
          [
           "No"
          ],
          [
           "Yes"
          ],
          [
           "No"
          ],
          [
           "No"
          ],
          [
           "No"
          ],
          [
           "No"
          ],
          [
           "Yes"
          ],
          [
           "No"
          ],
          [
           "No"
          ],
          [
           "No"
          ],
          [
           "No"
          ],
          [
           "No"
          ],
          [
           "No"
          ],
          [
           "No"
          ],
          [
           "No"
          ],
          [
           "No"
          ],
          [
           "Yes"
          ],
          [
           "No"
          ],
          [
           "No"
          ],
          [
           "No"
          ],
          [
           "No"
          ],
          [
           "No"
          ],
          [
           "No"
          ],
          [
           "No"
          ],
          [
           "No"
          ],
          [
           "No"
          ],
          [
           "No"
          ],
          [
           "No"
          ],
          [
           "Yes"
          ],
          [
           "Yes"
          ],
          [
           "No"
          ],
          [
           "No"
          ],
          [
           "No"
          ],
          [
           "No"
          ],
          [
           "Yes"
          ],
          [
           "No"
          ],
          [
           "No"
          ],
          [
           "No"
          ],
          [
           "Yes"
          ],
          [
           "No"
          ],
          [
           "Yes"
          ],
          [
           "Yes"
          ],
          [
           "No"
          ],
          [
           "No"
          ],
          [
           "No"
          ],
          [
           "No"
          ],
          [
           "No"
          ],
          [
           "No"
          ],
          [
           "No"
          ],
          [
           "No"
          ],
          [
           "No"
          ],
          [
           "No"
          ],
          [
           "No"
          ],
          [
           "Yes"
          ],
          [
           "No"
          ],
          [
           "No"
          ],
          [
           "No"
          ],
          [
           "No"
          ],
          [
           "Yes"
          ],
          [
           "No"
          ],
          [
           "Yes"
          ],
          [
           "No"
          ],
          [
           "No"
          ],
          [
           "Yes"
          ],
          [
           "No"
          ],
          [
           "No"
          ],
          [
           "No"
          ],
          [
           "No"
          ],
          [
           "No"
          ],
          [
           "No"
          ],
          [
           "No"
          ],
          [
           "No"
          ],
          [
           "No"
          ],
          [
           "No"
          ],
          [
           "Yes"
          ],
          [
           "No"
          ],
          [
           "No"
          ],
          [
           "No"
          ],
          [
           "No"
          ],
          [
           "No"
          ],
          [
           "No"
          ],
          [
           "No"
          ],
          [
           "No"
          ],
          [
           "Yes"
          ],
          [
           "No"
          ],
          [
           "No"
          ],
          [
           "No"
          ],
          [
           "No"
          ],
          [
           "Yes"
          ],
          [
           "No"
          ],
          [
           "No"
          ],
          [
           "No"
          ],
          [
           "No"
          ],
          [
           "No"
          ],
          [
           "No"
          ],
          [
           "Yes"
          ],
          [
           "No"
          ],
          [
           "No"
          ],
          [
           "No"
          ],
          [
           "No"
          ],
          [
           "No"
          ],
          [
           "No"
          ],
          [
           "No"
          ],
          [
           "No"
          ],
          [
           "No"
          ],
          [
           "No"
          ],
          [
           "No"
          ],
          [
           "No"
          ],
          [
           "No"
          ],
          [
           "No"
          ],
          [
           "Yes"
          ],
          [
           "No"
          ],
          [
           "Yes"
          ],
          [
           "No"
          ],
          [
           "No"
          ],
          [
           "No"
          ],
          [
           "No"
          ],
          [
           "Yes"
          ],
          [
           "No"
          ],
          [
           "No"
          ],
          [
           "Yes"
          ],
          [
           "No"
          ],
          [
           "No"
          ],
          [
           "No"
          ],
          [
           "No"
          ],
          [
           "No"
          ],
          [
           "No"
          ],
          [
           "No"
          ],
          [
           "No"
          ],
          [
           "No"
          ],
          [
           "No"
          ],
          [
           "No"
          ],
          [
           "No"
          ],
          [
           "No"
          ],
          [
           "No"
          ],
          [
           "No"
          ],
          [
           "No"
          ],
          [
           "No"
          ],
          [
           "No"
          ],
          [
           "No"
          ],
          [
           "No"
          ],
          [
           "Yes"
          ],
          [
           "No"
          ],
          [
           "No"
          ],
          [
           "No"
          ],
          [
           "No"
          ],
          [
           "No"
          ],
          [
           "Yes"
          ],
          [
           "No"
          ],
          [
           "No"
          ],
          [
           "No"
          ],
          [
           "Yes"
          ],
          [
           "No"
          ],
          [
           "No"
          ],
          [
           "No"
          ],
          [
           "No"
          ],
          [
           "No"
          ],
          [
           "No"
          ],
          [
           "No"
          ],
          [
           "No"
          ],
          [
           "Yes"
          ],
          [
           "No"
          ],
          [
           "No"
          ],
          [
           "No"
          ],
          [
           "No"
          ],
          [
           "No"
          ],
          [
           "No"
          ],
          [
           "No"
          ],
          [
           "No"
          ],
          [
           "No"
          ],
          [
           "No"
          ],
          [
           "No"
          ],
          [
           "No"
          ],
          [
           "No"
          ],
          [
           "No"
          ],
          [
           "No"
          ],
          [
           "No"
          ],
          [
           "No"
          ],
          [
           "No"
          ],
          [
           "No"
          ],
          [
           "No"
          ],
          [
           "Yes"
          ],
          [
           "No"
          ],
          [
           "No"
          ],
          [
           "No"
          ],
          [
           "No"
          ],
          [
           "No"
          ],
          [
           "Yes"
          ],
          [
           "No"
          ],
          [
           "No"
          ],
          [
           "Yes"
          ],
          [
           "No"
          ],
          [
           "Yes"
          ],
          [
           "No"
          ],
          [
           "Yes"
          ],
          [
           "No"
          ],
          [
           "No"
          ],
          [
           "No"
          ],
          [
           "No"
          ],
          [
           "No"
          ],
          [
           "No"
          ],
          [
           "No"
          ],
          [
           "Yes"
          ],
          [
           "No"
          ],
          [
           "No"
          ],
          [
           "No"
          ],
          [
           "Yes"
          ],
          [
           "No"
          ],
          [
           "No"
          ],
          [
           "Yes"
          ],
          [
           "No"
          ],
          [
           "No"
          ],
          [
           "No"
          ],
          [
           "No"
          ],
          [
           "No"
          ],
          [
           "No"
          ],
          [
           "No"
          ],
          [
           "No"
          ],
          [
           "No"
          ],
          [
           "No"
          ],
          [
           "No"
          ],
          [
           "No"
          ],
          [
           "No"
          ],
          [
           "No"
          ],
          [
           "No"
          ],
          [
           "No"
          ],
          [
           "No"
          ],
          [
           "No"
          ],
          [
           "No"
          ],
          [
           "Yes"
          ],
          [
           "No"
          ],
          [
           "No"
          ],
          [
           "No"
          ],
          [
           "No"
          ],
          [
           "No"
          ],
          [
           "No"
          ],
          [
           "No"
          ],
          [
           "No"
          ],
          [
           "Yes"
          ],
          [
           "Yes"
          ],
          [
           "No"
          ],
          [
           "No"
          ],
          [
           "No"
          ],
          [
           "No"
          ],
          [
           "No"
          ],
          [
           "Yes"
          ],
          [
           "Yes"
          ],
          [
           "No"
          ],
          [
           "No"
          ],
          [
           "No"
          ],
          [
           "No"
          ],
          [
           "No"
          ],
          [
           "No"
          ],
          [
           "No"
          ],
          [
           "No"
          ],
          [
           "No"
          ],
          [
           "No"
          ],
          [
           "No"
          ],
          [
           "No"
          ],
          [
           "Yes"
          ],
          [
           "Yes"
          ],
          [
           "No"
          ],
          [
           "No"
          ],
          [
           "Yes"
          ],
          [
           "Yes"
          ],
          [
           "No"
          ],
          [
           "No"
          ],
          [
           "Yes"
          ],
          [
           "No"
          ],
          [
           "No"
          ],
          [
           "No"
          ],
          [
           "No"
          ],
          [
           "No"
          ],
          [
           "No"
          ],
          [
           "No"
          ],
          [
           "No"
          ],
          [
           "No"
          ],
          [
           "Yes"
          ],
          [
           "No"
          ],
          [
           "No"
          ],
          [
           "No"
          ],
          [
           "Yes"
          ],
          [
           "No"
          ],
          [
           "No"
          ],
          [
           "No"
          ],
          [
           "No"
          ],
          [
           "No"
          ],
          [
           "Yes"
          ],
          [
           "No"
          ],
          [
           "No"
          ],
          [
           "No"
          ],
          [
           "No"
          ],
          [
           "No"
          ],
          [
           "Yes"
          ],
          [
           "No"
          ],
          [
           "No"
          ],
          [
           "No"
          ],
          [
           "No"
          ],
          [
           "No"
          ],
          [
           "No"
          ],
          [
           "No"
          ],
          [
           "No"
          ],
          [
           "No"
          ],
          [
           "Yes"
          ],
          [
           "Yes"
          ],
          [
           "No"
          ],
          [
           "Yes"
          ],
          [
           "No"
          ],
          [
           "No"
          ],
          [
           "No"
          ],
          [
           "No"
          ],
          [
           "No"
          ],
          [
           "No"
          ],
          [
           "No"
          ],
          [
           "No"
          ],
          [
           "No"
          ],
          [
           "No"
          ],
          [
           "No"
          ],
          [
           "No"
          ],
          [
           "Yes"
          ],
          [
           "No"
          ],
          [
           "No"
          ],
          [
           "No"
          ],
          [
           "No"
          ],
          [
           "No"
          ],
          [
           "No"
          ],
          [
           "No"
          ],
          [
           "No"
          ],
          [
           "Yes"
          ],
          [
           "No"
          ],
          [
           "No"
          ],
          [
           "No"
          ],
          [
           "No"
          ],
          [
           "No"
          ],
          [
           "No"
          ],
          [
           "No"
          ],
          [
           "No"
          ],
          [
           "Yes"
          ],
          [
           "Yes"
          ],
          [
           "No"
          ],
          [
           "No"
          ],
          [
           "No"
          ],
          [
           "No"
          ],
          [
           "No"
          ],
          [
           "No"
          ],
          [
           "No"
          ],
          [
           "No"
          ],
          [
           "No"
          ],
          [
           "No"
          ],
          [
           "Yes"
          ],
          [
           "No"
          ],
          [
           "No"
          ],
          [
           "Yes"
          ],
          [
           "No"
          ],
          [
           "No"
          ],
          [
           "No"
          ],
          [
           "No"
          ],
          [
           "No"
          ],
          [
           "No"
          ],
          [
           "No"
          ],
          [
           "No"
          ],
          [
           "No"
          ],
          [
           "No"
          ],
          [
           "No"
          ],
          [
           "Yes"
          ],
          [
           "No"
          ],
          [
           "No"
          ],
          [
           "No"
          ],
          [
           "No"
          ],
          [
           "No"
          ],
          [
           "No"
          ],
          [
           "Yes"
          ],
          [
           "No"
          ],
          [
           "No"
          ],
          [
           "No"
          ],
          [
           "No"
          ],
          [
           "No"
          ],
          [
           "No"
          ],
          [
           "No"
          ],
          [
           "No"
          ],
          [
           "No"
          ],
          [
           "No"
          ],
          [
           "No"
          ],
          [
           "No"
          ],
          [
           "No"
          ],
          [
           "No"
          ],
          [
           "Yes"
          ],
          [
           "No"
          ],
          [
           "No"
          ],
          [
           "No"
          ],
          [
           "Yes"
          ],
          [
           "No"
          ],
          [
           "Yes"
          ],
          [
           "No"
          ],
          [
           "No"
          ],
          [
           "No"
          ],
          [
           "No"
          ],
          [
           "Yes"
          ],
          [
           "No"
          ],
          [
           "No"
          ],
          [
           "No"
          ],
          [
           "No"
          ],
          [
           "No"
          ],
          [
           "No"
          ],
          [
           "No"
          ],
          [
           "No"
          ],
          [
           "No"
          ],
          [
           "No"
          ],
          [
           "No"
          ],
          [
           "Yes"
          ],
          [
           "No"
          ],
          [
           "No"
          ],
          [
           "No"
          ],
          [
           "Yes"
          ],
          [
           "No"
          ],
          [
           "Yes"
          ],
          [
           "No"
          ],
          [
           "No"
          ],
          [
           "No"
          ],
          [
           "Yes"
          ],
          [
           "No"
          ],
          [
           "No"
          ],
          [
           "Yes"
          ],
          [
           "No"
          ],
          [
           "No"
          ],
          [
           "No"
          ],
          [
           "No"
          ],
          [
           "No"
          ],
          [
           "No"
          ],
          [
           "No"
          ],
          [
           "No"
          ],
          [
           "Yes"
          ],
          [
           "Yes"
          ],
          [
           "No"
          ],
          [
           "No"
          ],
          [
           "No"
          ],
          [
           "No"
          ],
          [
           "No"
          ],
          [
           "Yes"
          ],
          [
           "No"
          ],
          [
           "No"
          ],
          [
           "No"
          ],
          [
           "No"
          ],
          [
           "No"
          ],
          [
           "No"
          ],
          [
           "No"
          ],
          [
           "No"
          ],
          [
           "No"
          ],
          [
           "No"
          ],
          [
           "No"
          ],
          [
           "No"
          ],
          [
           "No"
          ],
          [
           "No"
          ],
          [
           "No"
          ],
          [
           "No"
          ],
          [
           "No"
          ],
          [
           "No"
          ],
          [
           "No"
          ],
          [
           "No"
          ],
          [
           "No"
          ],
          [
           "Yes"
          ],
          [
           "No"
          ],
          [
           "No"
          ],
          [
           "No"
          ],
          [
           "No"
          ],
          [
           "No"
          ],
          [
           "No"
          ],
          [
           "No"
          ],
          [
           "No"
          ],
          [
           "Yes"
          ],
          [
           "No"
          ],
          [
           "No"
          ],
          [
           "No"
          ],
          [
           "No"
          ],
          [
           "No"
          ],
          [
           "No"
          ],
          [
           "No"
          ],
          [
           "No"
          ],
          [
           "No"
          ],
          [
           "No"
          ],
          [
           "Yes"
          ],
          [
           "No"
          ],
          [
           "No"
          ],
          [
           "No"
          ],
          [
           "Yes"
          ],
          [
           "No"
          ],
          [
           "Yes"
          ],
          [
           "Yes"
          ],
          [
           "No"
          ],
          [
           "No"
          ],
          [
           "Yes"
          ],
          [
           "Yes"
          ],
          [
           "No"
          ],
          [
           "Yes"
          ],
          [
           "No"
          ],
          [
           "No"
          ],
          [
           "No"
          ],
          [
           "No"
          ],
          [
           "No"
          ],
          [
           "No"
          ],
          [
           "No"
          ],
          [
           "No"
          ],
          [
           "No"
          ],
          [
           "No"
          ],
          [
           "No"
          ],
          [
           "No"
          ],
          [
           "No"
          ],
          [
           "Yes"
          ],
          [
           "No"
          ],
          [
           "No"
          ],
          [
           "No"
          ],
          [
           "No"
          ],
          [
           "Yes"
          ],
          [
           "Yes"
          ],
          [
           "No"
          ],
          [
           "No"
          ],
          [
           "No"
          ],
          [
           "Yes"
          ],
          [
           "No"
          ],
          [
           "Yes"
          ],
          [
           "No"
          ],
          [
           "No"
          ],
          [
           "No"
          ],
          [
           "No"
          ],
          [
           "Yes"
          ],
          [
           "No"
          ],
          [
           "No"
          ],
          [
           "No"
          ],
          [
           "No"
          ],
          [
           "No"
          ],
          [
           "Yes"
          ],
          [
           "No"
          ],
          [
           "No"
          ],
          [
           "Yes"
          ],
          [
           "No"
          ],
          [
           "Yes"
          ],
          [
           "No"
          ],
          [
           "No"
          ],
          [
           "No"
          ],
          [
           "No"
          ],
          [
           "No"
          ],
          [
           "No"
          ],
          [
           "No"
          ],
          [
           "No"
          ],
          [
           "Yes"
          ],
          [
           "No"
          ],
          [
           "No"
          ],
          [
           "No"
          ],
          [
           "No"
          ],
          [
           "Yes"
          ],
          [
           "No"
          ],
          [
           "No"
          ],
          [
           "No"
          ],
          [
           "No"
          ],
          [
           "No"
          ],
          [
           "Yes"
          ],
          [
           "Yes"
          ],
          [
           "No"
          ],
          [
           "No"
          ],
          [
           "No"
          ],
          [
           "No"
          ],
          [
           "No"
          ],
          [
           "No"
          ],
          [
           "No"
          ],
          [
           "No"
          ],
          [
           "No"
          ],
          [
           "No"
          ],
          [
           "No"
          ],
          [
           "Yes"
          ],
          [
           "No"
          ],
          [
           "No"
          ],
          [
           "No"
          ],
          [
           "Yes"
          ],
          [
           "Yes"
          ],
          [
           "No"
          ],
          [
           "No"
          ],
          [
           "Yes"
          ],
          [
           "No"
          ],
          [
           "No"
          ],
          [
           "No"
          ],
          [
           "No"
          ],
          [
           "No"
          ],
          [
           "No"
          ],
          [
           "No"
          ],
          [
           "No"
          ],
          [
           "Yes"
          ],
          [
           "Yes"
          ],
          [
           "No"
          ],
          [
           "No"
          ],
          [
           "No"
          ],
          [
           "No"
          ],
          [
           "No"
          ],
          [
           "No"
          ],
          [
           "No"
          ],
          [
           "No"
          ],
          [
           "No"
          ],
          [
           "No"
          ],
          [
           "No"
          ],
          [
           "No"
          ],
          [
           "No"
          ],
          [
           "Yes"
          ],
          [
           "Yes"
          ],
          [
           "No"
          ],
          [
           "Yes"
          ],
          [
           "Yes"
          ],
          [
           "No"
          ],
          [
           "No"
          ],
          [
           "No"
          ],
          [
           "No"
          ],
          [
           "No"
          ],
          [
           "No"
          ],
          [
           "No"
          ],
          [
           "No"
          ],
          [
           "Yes"
          ],
          [
           "No"
          ],
          [
           "Yes"
          ],
          [
           "Yes"
          ],
          [
           "No"
          ],
          [
           "No"
          ],
          [
           "No"
          ],
          [
           "Yes"
          ],
          [
           "Yes"
          ],
          [
           "Yes"
          ],
          [
           "No"
          ],
          [
           "Yes"
          ],
          [
           "Yes"
          ],
          [
           "No"
          ],
          [
           "No"
          ],
          [
           "No"
          ],
          [
           "No"
          ],
          [
           "No"
          ],
          [
           "No"
          ],
          [
           "No"
          ],
          [
           "No"
          ],
          [
           "No"
          ],
          [
           "No"
          ],
          [
           "No"
          ],
          [
           "Yes"
          ],
          [
           "No"
          ],
          [
           "No"
          ],
          [
           "No"
          ],
          [
           "No"
          ],
          [
           "No"
          ],
          [
           "No"
          ],
          [
           "No"
          ],
          [
           "No"
          ],
          [
           "No"
          ],
          [
           "No"
          ],
          [
           "No"
          ],
          [
           "No"
          ],
          [
           "No"
          ],
          [
           "No"
          ],
          [
           "Yes"
          ],
          [
           "Yes"
          ],
          [
           "No"
          ],
          [
           "Yes"
          ],
          [
           "No"
          ],
          [
           "No"
          ],
          [
           "No"
          ],
          [
           "No"
          ],
          [
           "Yes"
          ],
          [
           "No"
          ],
          [
           "Yes"
          ],
          [
           "No"
          ],
          [
           "No"
          ],
          [
           "No"
          ],
          [
           "Yes"
          ],
          [
           "No"
          ],
          [
           "No"
          ],
          [
           "No"
          ],
          [
           "No"
          ],
          [
           "No"
          ],
          [
           "No"
          ],
          [
           "Yes"
          ],
          [
           "No"
          ],
          [
           "No"
          ],
          [
           "No"
          ],
          [
           "No"
          ],
          [
           "No"
          ],
          [
           "No"
          ],
          [
           "No"
          ],
          [
           "Yes"
          ],
          [
           "No"
          ],
          [
           "No"
          ],
          [
           "Yes"
          ],
          [
           "No"
          ],
          [
           "No"
          ],
          [
           "No"
          ],
          [
           "Yes"
          ],
          [
           "No"
          ],
          [
           "No"
          ],
          [
           "No"
          ],
          [
           "No"
          ],
          [
           "No"
          ],
          [
           "No"
          ],
          [
           "Yes"
          ],
          [
           "No"
          ],
          [
           "No"
          ],
          [
           "No"
          ],
          [
           "No"
          ],
          [
           "No"
          ],
          [
           "No"
          ],
          [
           "No"
          ],
          [
           "No"
          ],
          [
           "No"
          ],
          [
           "No"
          ],
          [
           "No"
          ],
          [
           "No"
          ],
          [
           "No"
          ],
          [
           "No"
          ],
          [
           "No"
          ],
          [
           "No"
          ],
          [
           "No"
          ],
          [
           "No"
          ],
          [
           "No"
          ],
          [
           "No"
          ],
          [
           "Yes"
          ],
          [
           "No"
          ],
          [
           "No"
          ],
          [
           "No"
          ],
          [
           "No"
          ],
          [
           "No"
          ],
          [
           "No"
          ],
          [
           "No"
          ],
          [
           "No"
          ],
          [
           "No"
          ],
          [
           "No"
          ],
          [
           "No"
          ],
          [
           "No"
          ],
          [
           "No"
          ],
          [
           "No"
          ],
          [
           "No"
          ],
          [
           "No"
          ],
          [
           "No"
          ],
          [
           "No"
          ],
          [
           "Yes"
          ],
          [
           "No"
          ],
          [
           "Yes"
          ],
          [
           "No"
          ],
          [
           "Yes"
          ],
          [
           "No"
          ],
          [
           "No"
          ],
          [
           "No"
          ],
          [
           "No"
          ],
          [
           "No"
          ],
          [
           "No"
          ],
          [
           "No"
          ],
          [
           "No"
          ],
          [
           "No"
          ],
          [
           "No"
          ],
          [
           "No"
          ],
          [
           "No"
          ],
          [
           "Yes"
          ],
          [
           "No"
          ],
          [
           "No"
          ],
          [
           "No"
          ],
          [
           "Yes"
          ],
          [
           "No"
          ],
          [
           "No"
          ],
          [
           "No"
          ],
          [
           "No"
          ],
          [
           "No"
          ],
          [
           "No"
          ],
          [
           "Yes"
          ],
          [
           "Yes"
          ],
          [
           "No"
          ],
          [
           "No"
          ],
          [
           "No"
          ],
          [
           "No"
          ],
          [
           "No"
          ],
          [
           "Yes"
          ],
          [
           "Yes"
          ],
          [
           "No"
          ],
          [
           "No"
          ],
          [
           "No"
          ],
          [
           "No"
          ],
          [
           "Yes"
          ],
          [
           "Yes"
          ],
          [
           "No"
          ],
          [
           "No"
          ],
          [
           "No"
          ],
          [
           "No"
          ],
          [
           "No"
          ],
          [
           "No"
          ],
          [
           "No"
          ],
          [
           "No"
          ],
          [
           "No"
          ],
          [
           "No"
          ],
          [
           "No"
          ],
          [
           "No"
          ],
          [
           "Yes"
          ],
          [
           "No"
          ],
          [
           "No"
          ],
          [
           "No"
          ],
          [
           "No"
          ],
          [
           "No"
          ],
          [
           "No"
          ],
          [
           "No"
          ],
          [
           "No"
          ],
          [
           "Yes"
          ],
          [
           "No"
          ],
          [
           "No"
          ],
          [
           "No"
          ],
          [
           "No"
          ],
          [
           "Yes"
          ],
          [
           "Yes"
          ],
          [
           "No"
          ],
          [
           "No"
          ],
          [
           "No"
          ],
          [
           "Yes"
          ],
          [
           "No"
          ],
          [
           "No"
          ],
          [
           "No"
          ],
          [
           "No"
          ],
          [
           "No"
          ],
          [
           "No"
          ],
          [
           "No"
          ],
          [
           "No"
          ],
          [
           "No"
          ],
          [
           "No"
          ],
          [
           "No"
          ],
          [
           "Yes"
          ],
          [
           "No"
          ],
          [
           "No"
          ],
          [
           "No"
          ],
          [
           "No"
          ],
          [
           "No"
          ],
          [
           "No"
          ],
          [
           "No"
          ],
          [
           "No"
          ],
          [
           "Yes"
          ],
          [
           "Yes"
          ],
          [
           "No"
          ],
          [
           "No"
          ],
          [
           "No"
          ],
          [
           "No"
          ],
          [
           "Yes"
          ],
          [
           "No"
          ],
          [
           "No"
          ],
          [
           "No"
          ],
          [
           "Yes"
          ],
          [
           "No"
          ],
          [
           "No"
          ],
          [
           "No"
          ],
          [
           "No"
          ],
          [
           "Yes"
          ],
          [
           "No"
          ],
          [
           "No"
          ],
          [
           "No"
          ],
          [
           "No"
          ],
          [
           "No"
          ],
          [
           "No"
          ],
          [
           "No"
          ],
          [
           "No"
          ],
          [
           "No"
          ],
          [
           "Yes"
          ],
          [
           "Yes"
          ],
          [
           "Yes"
          ],
          [
           "No"
          ],
          [
           "No"
          ],
          [
           "Yes"
          ],
          [
           "No"
          ],
          [
           "No"
          ],
          [
           "Yes"
          ],
          [
           "No"
          ],
          [
           "No"
          ],
          [
           "No"
          ],
          [
           "No"
          ],
          [
           "No"
          ],
          [
           "No"
          ],
          [
           "No"
          ],
          [
           "No"
          ],
          [
           "No"
          ],
          [
           "No"
          ],
          [
           "No"
          ],
          [
           "No"
          ],
          [
           "No"
          ],
          [
           "No"
          ],
          [
           "No"
          ],
          [
           "No"
          ],
          [
           "Yes"
          ],
          [
           "Yes"
          ],
          [
           "Yes"
          ],
          [
           "No"
          ],
          [
           "Yes"
          ],
          [
           "No"
          ],
          [
           "No"
          ],
          [
           "No"
          ],
          [
           "No"
          ],
          [
           "No"
          ],
          [
           "No"
          ],
          [
           "No"
          ],
          [
           "Yes"
          ],
          [
           "No"
          ],
          [
           "No"
          ],
          [
           "No"
          ],
          [
           "No"
          ],
          [
           "No"
          ],
          [
           "No"
          ],
          [
           "No"
          ],
          [
           "No"
          ],
          [
           "Yes"
          ],
          [
           "No"
          ],
          [
           "No"
          ],
          [
           "No"
          ],
          [
           "No"
          ],
          [
           "No"
          ],
          [
           "Yes"
          ],
          [
           "No"
          ],
          [
           "Yes"
          ],
          [
           "No"
          ],
          [
           "No"
          ],
          [
           "No"
          ],
          [
           "No"
          ],
          [
           "No"
          ],
          [
           "No"
          ],
          [
           "No"
          ],
          [
           "No"
          ],
          [
           "No"
          ],
          [
           "No"
          ],
          [
           "No"
          ],
          [
           "No"
          ],
          [
           "No"
          ],
          [
           "No"
          ],
          [
           "No"
          ],
          [
           "No"
          ],
          [
           "No"
          ],
          [
           "No"
          ],
          [
           "No"
          ],
          [
           "No"
          ],
          [
           "Yes"
          ],
          [
           "No"
          ],
          [
           "No"
          ],
          [
           "No"
          ],
          [
           "Yes"
          ],
          [
           "Yes"
          ],
          [
           "Yes"
          ],
          [
           "No"
          ],
          [
           "No"
          ],
          [
           "No"
          ],
          [
           "No"
          ],
          [
           "No"
          ],
          [
           "No"
          ],
          [
           "No"
          ],
          [
           "No"
          ],
          [
           "No"
          ],
          [
           "No"
          ],
          [
           "No"
          ],
          [
           "No"
          ],
          [
           "No"
          ],
          [
           "No"
          ],
          [
           "No"
          ],
          [
           "No"
          ],
          [
           "No"
          ],
          [
           "No"
          ],
          [
           "No"
          ],
          [
           "No"
          ],
          [
           "No"
          ],
          [
           "No"
          ],
          [
           "No"
          ],
          [
           "Yes"
          ],
          [
           "No"
          ],
          [
           "No"
          ],
          [
           "No"
          ],
          [
           "No"
          ],
          [
           "No"
          ],
          [
           "No"
          ],
          [
           "No"
          ],
          [
           "No"
          ],
          [
           "No"
          ],
          [
           "No"
          ],
          [
           "No"
          ],
          [
           "No"
          ],
          [
           "No"
          ],
          [
           "No"
          ],
          [
           "No"
          ],
          [
           "No"
          ],
          [
           "Yes"
          ],
          [
           "No"
          ],
          [
           "No"
          ],
          [
           "No"
          ],
          [
           "No"
          ],
          [
           "No"
          ],
          [
           "No"
          ],
          [
           "No"
          ],
          [
           "No"
          ],
          [
           "Yes"
          ],
          [
           "No"
          ],
          [
           "No"
          ],
          [
           "No"
          ],
          [
           "No"
          ],
          [
           "Yes"
          ],
          [
           "No"
          ],
          [
           "No"
          ],
          [
           "No"
          ],
          [
           "Yes"
          ],
          [
           "No"
          ],
          [
           "No"
          ],
          [
           "No"
          ],
          [
           "No"
          ],
          [
           "No"
          ],
          [
           "No"
          ],
          [
           "No"
          ],
          [
           "No"
          ],
          [
           "No"
          ],
          [
           "No"
          ],
          [
           "No"
          ],
          [
           "No"
          ],
          [
           "No"
          ],
          [
           "No"
          ],
          [
           "Yes"
          ],
          [
           "No"
          ],
          [
           "No"
          ],
          [
           "No"
          ],
          [
           "No"
          ],
          [
           "No"
          ],
          [
           "No"
          ],
          [
           "No"
          ],
          [
           "No"
          ],
          [
           "No"
          ],
          [
           "No"
          ],
          [
           "No"
          ],
          [
           "No"
          ],
          [
           "No"
          ],
          [
           "No"
          ],
          [
           "Yes"
          ],
          [
           "No"
          ],
          [
           "No"
          ],
          [
           "Yes"
          ],
          [
           "Yes"
          ],
          [
           "No"
          ],
          [
           "No"
          ],
          [
           "No"
          ],
          [
           "No"
          ],
          [
           "No"
          ],
          [
           "No"
          ],
          [
           "No"
          ],
          [
           "Yes"
          ],
          [
           "No"
          ],
          [
           "No"
          ],
          [
           "No"
          ],
          [
           "No"
          ],
          [
           "No"
          ],
          [
           "No"
          ],
          [
           "No"
          ],
          [
           "No"
          ],
          [
           "Yes"
          ],
          [
           "Yes"
          ],
          [
           "No"
          ],
          [
           "No"
          ],
          [
           "No"
          ],
          [
           "No"
          ],
          [
           "No"
          ],
          [
           "No"
          ],
          [
           "No"
          ],
          [
           "No"
          ],
          [
           "No"
          ],
          [
           "No"
          ],
          [
           "No"
          ],
          [
           "No"
          ],
          [
           "Yes"
          ],
          [
           "Yes"
          ],
          [
           "No"
          ],
          [
           "No"
          ],
          [
           "No"
          ],
          [
           "No"
          ],
          [
           "No"
          ],
          [
           "No"
          ],
          [
           "No"
          ],
          [
           "No"
          ],
          [
           "Yes"
          ],
          [
           "No"
          ],
          [
           "No"
          ],
          [
           "Yes"
          ],
          [
           "No"
          ],
          [
           "No"
          ],
          [
           "No"
          ],
          [
           "No"
          ],
          [
           "No"
          ],
          [
           "Yes"
          ],
          [
           "No"
          ],
          [
           "Yes"
          ],
          [
           "No"
          ],
          [
           "No"
          ],
          [
           "No"
          ],
          [
           "No"
          ],
          [
           "Yes"
          ],
          [
           "No"
          ],
          [
           "No"
          ],
          [
           "No"
          ],
          [
           "No"
          ],
          [
           "No"
          ],
          [
           "No"
          ],
          [
           "No"
          ],
          [
           "No"
          ],
          [
           "Yes"
          ],
          [
           "No"
          ],
          [
           "Yes"
          ],
          [
           "No"
          ],
          [
           "No"
          ],
          [
           "No"
          ],
          [
           "No"
          ],
          [
           "No"
          ],
          [
           "Yes"
          ],
          [
           "No"
          ],
          [
           "Yes"
          ],
          [
           "No"
          ],
          [
           "No"
          ],
          [
           "No"
          ],
          [
           "No"
          ],
          [
           "No"
          ],
          [
           "No"
          ],
          [
           "No"
          ],
          [
           "No"
          ],
          [
           "Yes"
          ],
          [
           "Yes"
          ],
          [
           "No"
          ],
          [
           "No"
          ],
          [
           "No"
          ],
          [
           "No"
          ],
          [
           "No"
          ],
          [
           "Yes"
          ],
          [
           "Yes"
          ],
          [
           "No"
          ],
          [
           "No"
          ],
          [
           "No"
          ],
          [
           "No"
          ],
          [
           "No"
          ],
          [
           "No"
          ],
          [
           "No"
          ],
          [
           "No"
          ],
          [
           "No"
          ],
          [
           "No"
          ],
          [
           "No"
          ],
          [
           "No"
          ],
          [
           "No"
          ],
          [
           "Yes"
          ],
          [
           "Yes"
          ],
          [
           "No"
          ],
          [
           "No"
          ],
          [
           "No"
          ],
          [
           "No"
          ],
          [
           "No"
          ],
          [
           "No"
          ],
          [
           "No"
          ],
          [
           "No"
          ],
          [
           "No"
          ],
          [
           "No"
          ],
          [
           "No"
          ],
          [
           "No"
          ],
          [
           "Yes"
          ],
          [
           "No"
          ],
          [
           "No"
          ],
          [
           "No"
          ],
          [
           "No"
          ],
          [
           "No"
          ],
          [
           "Yes"
          ],
          [
           "Yes"
          ],
          [
           "No"
          ],
          [
           "No"
          ],
          [
           "No"
          ],
          [
           "No"
          ],
          [
           "Yes"
          ],
          [
           "Yes"
          ],
          [
           "No"
          ],
          [
           "No"
          ],
          [
           "No"
          ],
          [
           "No"
          ],
          [
           "No"
          ],
          [
           "No"
          ],
          [
           "No"
          ],
          [
           "No"
          ],
          [
           "No"
          ],
          [
           "No"
          ],
          [
           "No"
          ],
          [
           "No"
          ],
          [
           "No"
          ],
          [
           "Yes"
          ],
          [
           "Yes"
          ],
          [
           "No"
          ],
          [
           "No"
          ],
          [
           "No"
          ],
          [
           "No"
          ],
          [
           "No"
          ],
          [
           "No"
          ],
          [
           "No"
          ],
          [
           "No"
          ],
          [
           "No"
          ],
          [
           "No"
          ],
          [
           "Yes"
          ],
          [
           "No"
          ],
          [
           "No"
          ],
          [
           "No"
          ],
          [
           "Yes"
          ],
          [
           "No"
          ],
          [
           "No"
          ],
          [
           "No"
          ],
          [
           "No"
          ],
          [
           "No"
          ],
          [
           "Yes"
          ],
          [
           "No"
          ],
          [
           "No"
          ],
          [
           "No"
          ],
          [
           "Yes"
          ],
          [
           "No"
          ],
          [
           "No"
          ],
          [
           "No"
          ],
          [
           "No"
          ],
          [
           "No"
          ],
          [
           "No"
          ],
          [
           "No"
          ],
          [
           "No"
          ],
          [
           "No"
          ],
          [
           "No"
          ],
          [
           "Yes"
          ],
          [
           "No"
          ],
          [
           "No"
          ],
          [
           "No"
          ],
          [
           "No"
          ],
          [
           "Yes"
          ],
          [
           "Yes"
          ],
          [
           "No"
          ],
          [
           "No"
          ],
          [
           "No"
          ],
          [
           "No"
          ],
          [
           "No"
          ],
          [
           "No"
          ],
          [
           "No"
          ],
          [
           "No"
          ],
          [
           "No"
          ],
          [
           "No"
          ],
          [
           "No"
          ],
          [
           "No"
          ],
          [
           "No"
          ],
          [
           "No"
          ],
          [
           "No"
          ],
          [
           "No"
          ],
          [
           "No"
          ],
          [
           "No"
          ],
          [
           "No"
          ],
          [
           "No"
          ],
          [
           "No"
          ],
          [
           "No"
          ],
          [
           "No"
          ],
          [
           "No"
          ],
          [
           "No"
          ],
          [
           "No"
          ],
          [
           "No"
          ],
          [
           "No"
          ],
          [
           "No"
          ],
          [
           "No"
          ],
          [
           "No"
          ],
          [
           "No"
          ],
          [
           "No"
          ],
          [
           "No"
          ],
          [
           "No"
          ],
          [
           "No"
          ],
          [
           "No"
          ],
          [
           "No"
          ],
          [
           "No"
          ],
          [
           "No"
          ],
          [
           "No"
          ],
          [
           "Yes"
          ],
          [
           "No"
          ],
          [
           "No"
          ],
          [
           "No"
          ],
          [
           "Yes"
          ],
          [
           "No"
          ],
          [
           "Yes"
          ],
          [
           "No"
          ],
          [
           "No"
          ],
          [
           "No"
          ],
          [
           "No"
          ],
          [
           "No"
          ],
          [
           "No"
          ],
          [
           "No"
          ],
          [
           "Yes"
          ],
          [
           "No"
          ],
          [
           "No"
          ],
          [
           "No"
          ],
          [
           "No"
          ],
          [
           "No"
          ],
          [
           "No"
          ],
          [
           "No"
          ],
          [
           "No"
          ],
          [
           "Yes"
          ],
          [
           "No"
          ],
          [
           "No"
          ],
          [
           "No"
          ],
          [
           "No"
          ],
          [
           "No"
          ],
          [
           "No"
          ],
          [
           "No"
          ],
          [
           "No"
          ]
         ],
         "domain": {
          "x": [
           0,
           1
          ],
          "y": [
           0,
           1
          ]
         },
         "hovertemplate": "Attrition=%{customdata[0]}<extra></extra>",
         "labels": [
          "Yes",
          "No",
          "Yes",
          "No",
          "No",
          "No",
          "No",
          "No",
          "No",
          "No",
          "No",
          "No",
          "No",
          "No",
          "Yes",
          "No",
          "No",
          "No",
          "No",
          "No",
          "No",
          "Yes",
          "No",
          "No",
          "Yes",
          "No",
          "Yes",
          "No",
          "No",
          "No",
          "No",
          "No",
          "No",
          "Yes",
          "Yes",
          "No",
          "Yes",
          "No",
          "No",
          "No",
          "No",
          "No",
          "Yes",
          "No",
          "No",
          "Yes",
          "No",
          "No",
          "No",
          "No",
          "Yes",
          "Yes",
          "No",
          "No",
          "No",
          "No",
          "No",
          "No",
          "No",
          "No",
          "No",
          "No",
          "No",
          "No",
          "No",
          "No",
          "No",
          "No",
          "No",
          "Yes",
          "No",
          "No",
          "No",
          "No",
          "No",
          "No",
          "No",
          "No",
          "No",
          "No",
          "No",
          "No",
          "No",
          "No",
          "No",
          "No",
          "No",
          "No",
          "No",
          "Yes",
          "No",
          "No",
          "No",
          "No",
          "No",
          "No",
          "No",
          "No",
          "No",
          "No",
          "Yes",
          "No",
          "Yes",
          "No",
          "No",
          "No",
          "No",
          "Yes",
          "No",
          "No",
          "No",
          "Yes",
          "No",
          "No",
          "No",
          "No",
          "No",
          "No",
          "No",
          "No",
          "No",
          "No",
          "Yes",
          "No",
          "Yes",
          "No",
          "Yes",
          "Yes",
          "No",
          "No",
          "No",
          "No",
          "Yes",
          "No",
          "No",
          "No",
          "Yes",
          "No",
          "No",
          "No",
          "Yes",
          "No",
          "No",
          "No",
          "No",
          "No",
          "No",
          "No",
          "No",
          "No",
          "No",
          "No",
          "No",
          "No",
          "No",
          "No",
          "No",
          "No",
          "No",
          "No",
          "No",
          "No",
          "No",
          "No",
          "No",
          "No",
          "No",
          "No",
          "No",
          "No",
          "No",
          "Yes",
          "No",
          "No",
          "No",
          "No",
          "No",
          "Yes",
          "No",
          "No",
          "No",
          "No",
          "Yes",
          "No",
          "No",
          "No",
          "No",
          "No",
          "No",
          "No",
          "No",
          "No",
          "Yes",
          "No",
          "No",
          "No",
          "No",
          "No",
          "No",
          "No",
          "No",
          "No",
          "No",
          "No",
          "Yes",
          "Yes",
          "No",
          "No",
          "No",
          "No",
          "Yes",
          "No",
          "No",
          "No",
          "Yes",
          "No",
          "Yes",
          "Yes",
          "No",
          "No",
          "No",
          "No",
          "No",
          "No",
          "No",
          "No",
          "No",
          "No",
          "No",
          "Yes",
          "No",
          "No",
          "No",
          "No",
          "Yes",
          "No",
          "Yes",
          "No",
          "No",
          "Yes",
          "No",
          "No",
          "No",
          "No",
          "No",
          "No",
          "No",
          "No",
          "No",
          "No",
          "Yes",
          "No",
          "No",
          "No",
          "No",
          "No",
          "No",
          "No",
          "No",
          "Yes",
          "No",
          "No",
          "No",
          "No",
          "Yes",
          "No",
          "No",
          "No",
          "No",
          "No",
          "No",
          "Yes",
          "No",
          "No",
          "No",
          "No",
          "No",
          "No",
          "No",
          "No",
          "No",
          "No",
          "No",
          "No",
          "No",
          "No",
          "Yes",
          "No",
          "Yes",
          "No",
          "No",
          "No",
          "No",
          "Yes",
          "No",
          "No",
          "Yes",
          "No",
          "No",
          "No",
          "No",
          "No",
          "No",
          "No",
          "No",
          "No",
          "No",
          "No",
          "No",
          "No",
          "No",
          "No",
          "No",
          "No",
          "No",
          "No",
          "No",
          "Yes",
          "No",
          "No",
          "No",
          "No",
          "No",
          "Yes",
          "No",
          "No",
          "No",
          "Yes",
          "No",
          "No",
          "No",
          "No",
          "No",
          "No",
          "No",
          "No",
          "Yes",
          "No",
          "No",
          "No",
          "No",
          "No",
          "No",
          "No",
          "No",
          "No",
          "No",
          "No",
          "No",
          "No",
          "No",
          "No",
          "No",
          "No",
          "No",
          "No",
          "No",
          "Yes",
          "No",
          "No",
          "No",
          "No",
          "No",
          "Yes",
          "No",
          "No",
          "Yes",
          "No",
          "Yes",
          "No",
          "Yes",
          "No",
          "No",
          "No",
          "No",
          "No",
          "No",
          "No",
          "Yes",
          "No",
          "No",
          "No",
          "Yes",
          "No",
          "No",
          "Yes",
          "No",
          "No",
          "No",
          "No",
          "No",
          "No",
          "No",
          "No",
          "No",
          "No",
          "No",
          "No",
          "No",
          "No",
          "No",
          "No",
          "No",
          "No",
          "No",
          "Yes",
          "No",
          "No",
          "No",
          "No",
          "No",
          "No",
          "No",
          "No",
          "Yes",
          "Yes",
          "No",
          "No",
          "No",
          "No",
          "No",
          "Yes",
          "Yes",
          "No",
          "No",
          "No",
          "No",
          "No",
          "No",
          "No",
          "No",
          "No",
          "No",
          "No",
          "No",
          "Yes",
          "Yes",
          "No",
          "No",
          "Yes",
          "Yes",
          "No",
          "No",
          "Yes",
          "No",
          "No",
          "No",
          "No",
          "No",
          "No",
          "No",
          "No",
          "No",
          "Yes",
          "No",
          "No",
          "No",
          "Yes",
          "No",
          "No",
          "No",
          "No",
          "No",
          "Yes",
          "No",
          "No",
          "No",
          "No",
          "No",
          "Yes",
          "No",
          "No",
          "No",
          "No",
          "No",
          "No",
          "No",
          "No",
          "No",
          "Yes",
          "Yes",
          "No",
          "Yes",
          "No",
          "No",
          "No",
          "No",
          "No",
          "No",
          "No",
          "No",
          "No",
          "No",
          "No",
          "No",
          "Yes",
          "No",
          "No",
          "No",
          "No",
          "No",
          "No",
          "No",
          "No",
          "Yes",
          "No",
          "No",
          "No",
          "No",
          "No",
          "No",
          "No",
          "No",
          "Yes",
          "Yes",
          "No",
          "No",
          "No",
          "No",
          "No",
          "No",
          "No",
          "No",
          "No",
          "No",
          "Yes",
          "No",
          "No",
          "Yes",
          "No",
          "No",
          "No",
          "No",
          "No",
          "No",
          "No",
          "No",
          "No",
          "No",
          "No",
          "Yes",
          "No",
          "No",
          "No",
          "No",
          "No",
          "No",
          "Yes",
          "No",
          "No",
          "No",
          "No",
          "No",
          "No",
          "No",
          "No",
          "No",
          "No",
          "No",
          "No",
          "No",
          "No",
          "Yes",
          "No",
          "No",
          "No",
          "Yes",
          "No",
          "Yes",
          "No",
          "No",
          "No",
          "No",
          "Yes",
          "No",
          "No",
          "No",
          "No",
          "No",
          "No",
          "No",
          "No",
          "No",
          "No",
          "No",
          "Yes",
          "No",
          "No",
          "No",
          "Yes",
          "No",
          "Yes",
          "No",
          "No",
          "No",
          "Yes",
          "No",
          "No",
          "Yes",
          "No",
          "No",
          "No",
          "No",
          "No",
          "No",
          "No",
          "No",
          "Yes",
          "Yes",
          "No",
          "No",
          "No",
          "No",
          "No",
          "Yes",
          "No",
          "No",
          "No",
          "No",
          "No",
          "No",
          "No",
          "No",
          "No",
          "No",
          "No",
          "No",
          "No",
          "No",
          "No",
          "No",
          "No",
          "No",
          "No",
          "No",
          "No",
          "Yes",
          "No",
          "No",
          "No",
          "No",
          "No",
          "No",
          "No",
          "No",
          "Yes",
          "No",
          "No",
          "No",
          "No",
          "No",
          "No",
          "No",
          "No",
          "No",
          "No",
          "Yes",
          "No",
          "No",
          "No",
          "Yes",
          "No",
          "Yes",
          "Yes",
          "No",
          "No",
          "Yes",
          "Yes",
          "No",
          "Yes",
          "No",
          "No",
          "No",
          "No",
          "No",
          "No",
          "No",
          "No",
          "No",
          "No",
          "No",
          "No",
          "No",
          "Yes",
          "No",
          "No",
          "No",
          "No",
          "Yes",
          "Yes",
          "No",
          "No",
          "No",
          "Yes",
          "No",
          "Yes",
          "No",
          "No",
          "No",
          "No",
          "Yes",
          "No",
          "No",
          "No",
          "No",
          "No",
          "Yes",
          "No",
          "No",
          "Yes",
          "No",
          "Yes",
          "No",
          "No",
          "No",
          "No",
          "No",
          "No",
          "No",
          "No",
          "Yes",
          "No",
          "No",
          "No",
          "No",
          "Yes",
          "No",
          "No",
          "No",
          "No",
          "No",
          "Yes",
          "Yes",
          "No",
          "No",
          "No",
          "No",
          "No",
          "No",
          "No",
          "No",
          "No",
          "No",
          "No",
          "Yes",
          "No",
          "No",
          "No",
          "Yes",
          "Yes",
          "No",
          "No",
          "Yes",
          "No",
          "No",
          "No",
          "No",
          "No",
          "No",
          "No",
          "No",
          "Yes",
          "Yes",
          "No",
          "No",
          "No",
          "No",
          "No",
          "No",
          "No",
          "No",
          "No",
          "No",
          "No",
          "No",
          "No",
          "Yes",
          "Yes",
          "No",
          "Yes",
          "Yes",
          "No",
          "No",
          "No",
          "No",
          "No",
          "No",
          "No",
          "No",
          "Yes",
          "No",
          "Yes",
          "Yes",
          "No",
          "No",
          "No",
          "Yes",
          "Yes",
          "Yes",
          "No",
          "Yes",
          "Yes",
          "No",
          "No",
          "No",
          "No",
          "No",
          "No",
          "No",
          "No",
          "No",
          "No",
          "No",
          "Yes",
          "No",
          "No",
          "No",
          "No",
          "No",
          "No",
          "No",
          "No",
          "No",
          "No",
          "No",
          "No",
          "No",
          "No",
          "Yes",
          "Yes",
          "No",
          "Yes",
          "No",
          "No",
          "No",
          "No",
          "Yes",
          "No",
          "Yes",
          "No",
          "No",
          "No",
          "Yes",
          "No",
          "No",
          "No",
          "No",
          "No",
          "No",
          "Yes",
          "No",
          "No",
          "No",
          "No",
          "No",
          "No",
          "No",
          "Yes",
          "No",
          "No",
          "Yes",
          "No",
          "No",
          "No",
          "Yes",
          "No",
          "No",
          "No",
          "No",
          "No",
          "No",
          "Yes",
          "No",
          "No",
          "No",
          "No",
          "No",
          "No",
          "No",
          "No",
          "No",
          "No",
          "No",
          "No",
          "No",
          "No",
          "No",
          "No",
          "No",
          "No",
          "No",
          "No",
          "Yes",
          "No",
          "No",
          "No",
          "No",
          "No",
          "No",
          "No",
          "No",
          "No",
          "No",
          "No",
          "No",
          "No",
          "No",
          "No",
          "No",
          "No",
          "No",
          "Yes",
          "No",
          "Yes",
          "No",
          "Yes",
          "No",
          "No",
          "No",
          "No",
          "No",
          "No",
          "No",
          "No",
          "No",
          "No",
          "No",
          "No",
          "Yes",
          "No",
          "No",
          "No",
          "Yes",
          "No",
          "No",
          "No",
          "No",
          "No",
          "No",
          "Yes",
          "Yes",
          "No",
          "No",
          "No",
          "No",
          "No",
          "Yes",
          "Yes",
          "No",
          "No",
          "No",
          "No",
          "Yes",
          "Yes",
          "No",
          "No",
          "No",
          "No",
          "No",
          "No",
          "No",
          "No",
          "No",
          "No",
          "No",
          "No",
          "Yes",
          "No",
          "No",
          "No",
          "No",
          "No",
          "No",
          "No",
          "No",
          "Yes",
          "No",
          "No",
          "No",
          "No",
          "Yes",
          "Yes",
          "No",
          "No",
          "No",
          "Yes",
          "No",
          "No",
          "No",
          "No",
          "No",
          "No",
          "No",
          "No",
          "No",
          "No",
          "No",
          "Yes",
          "No",
          "No",
          "No",
          "No",
          "No",
          "No",
          "No",
          "No",
          "Yes",
          "Yes",
          "No",
          "No",
          "No",
          "No",
          "Yes",
          "No",
          "No",
          "No",
          "Yes",
          "No",
          "No",
          "No",
          "No",
          "Yes",
          "No",
          "No",
          "No",
          "No",
          "No",
          "No",
          "No",
          "No",
          "No",
          "Yes",
          "Yes",
          "Yes",
          "No",
          "No",
          "Yes",
          "No",
          "No",
          "Yes",
          "No",
          "No",
          "No",
          "No",
          "No",
          "No",
          "No",
          "No",
          "No",
          "No",
          "No",
          "No",
          "No",
          "No",
          "No",
          "No",
          "Yes",
          "Yes",
          "Yes",
          "No",
          "Yes",
          "No",
          "No",
          "No",
          "No",
          "No",
          "No",
          "No",
          "Yes",
          "No",
          "No",
          "No",
          "No",
          "No",
          "No",
          "No",
          "No",
          "Yes",
          "No",
          "No",
          "No",
          "No",
          "No",
          "Yes",
          "No",
          "Yes",
          "No",
          "No",
          "No",
          "No",
          "No",
          "No",
          "No",
          "No",
          "No",
          "No",
          "No",
          "No",
          "No",
          "No",
          "No",
          "No",
          "No",
          "No",
          "No",
          "No",
          "Yes",
          "No",
          "No",
          "No",
          "Yes",
          "Yes",
          "Yes",
          "No",
          "No",
          "No",
          "No",
          "No",
          "No",
          "No",
          "No",
          "No",
          "No",
          "No",
          "No",
          "No",
          "No",
          "No",
          "No",
          "No",
          "No",
          "No",
          "No",
          "No",
          "No",
          "No",
          "Yes",
          "No",
          "No",
          "No",
          "No",
          "No",
          "No",
          "No",
          "No",
          "No",
          "No",
          "No",
          "No",
          "No",
          "No",
          "No",
          "No",
          "Yes",
          "No",
          "No",
          "No",
          "No",
          "No",
          "No",
          "No",
          "No",
          "Yes",
          "No",
          "No",
          "No",
          "No",
          "Yes",
          "No",
          "No",
          "No",
          "Yes",
          "No",
          "No",
          "No",
          "No",
          "No",
          "No",
          "No",
          "No",
          "No",
          "No",
          "No",
          "No",
          "No",
          "No",
          "Yes",
          "No",
          "No",
          "No",
          "No",
          "No",
          "No",
          "No",
          "No",
          "No",
          "No",
          "No",
          "No",
          "No",
          "No",
          "Yes",
          "No",
          "No",
          "Yes",
          "Yes",
          "No",
          "No",
          "No",
          "No",
          "No",
          "No",
          "No",
          "Yes",
          "No",
          "No",
          "No",
          "No",
          "No",
          "No",
          "No",
          "No",
          "Yes",
          "Yes",
          "No",
          "No",
          "No",
          "No",
          "No",
          "No",
          "No",
          "No",
          "No",
          "No",
          "No",
          "No",
          "Yes",
          "Yes",
          "No",
          "No",
          "No",
          "No",
          "No",
          "No",
          "No",
          "No",
          "Yes",
          "No",
          "No",
          "Yes",
          "No",
          "No",
          "No",
          "No",
          "No",
          "Yes",
          "No",
          "Yes",
          "No",
          "No",
          "No",
          "No",
          "Yes",
          "No",
          "No",
          "No",
          "No",
          "No",
          "No",
          "No",
          "No",
          "Yes",
          "No",
          "Yes",
          "No",
          "No",
          "No",
          "No",
          "No",
          "Yes",
          "No",
          "Yes",
          "No",
          "No",
          "No",
          "No",
          "No",
          "No",
          "No",
          "No",
          "Yes",
          "Yes",
          "No",
          "No",
          "No",
          "No",
          "No",
          "Yes",
          "Yes",
          "No",
          "No",
          "No",
          "No",
          "No",
          "No",
          "No",
          "No",
          "No",
          "No",
          "No",
          "No",
          "No",
          "Yes",
          "Yes",
          "No",
          "No",
          "No",
          "No",
          "No",
          "No",
          "No",
          "No",
          "No",
          "No",
          "No",
          "No",
          "Yes",
          "No",
          "No",
          "No",
          "No",
          "No",
          "Yes",
          "Yes",
          "No",
          "No",
          "No",
          "No",
          "Yes",
          "Yes",
          "No",
          "No",
          "No",
          "No",
          "No",
          "No",
          "No",
          "No",
          "No",
          "No",
          "No",
          "No",
          "No",
          "Yes",
          "Yes",
          "No",
          "No",
          "No",
          "No",
          "No",
          "No",
          "No",
          "No",
          "No",
          "No",
          "Yes",
          "No",
          "No",
          "No",
          "Yes",
          "No",
          "No",
          "No",
          "No",
          "No",
          "Yes",
          "No",
          "No",
          "No",
          "Yes",
          "No",
          "No",
          "No",
          "No",
          "No",
          "No",
          "No",
          "No",
          "No",
          "No",
          "Yes",
          "No",
          "No",
          "No",
          "No",
          "Yes",
          "Yes",
          "No",
          "No",
          "No",
          "No",
          "No",
          "No",
          "No",
          "No",
          "No",
          "No",
          "No",
          "No",
          "No",
          "No",
          "No",
          "No",
          "No",
          "No",
          "No",
          "No",
          "No",
          "No",
          "No",
          "No",
          "No",
          "No",
          "No",
          "No",
          "No",
          "No",
          "No",
          "No",
          "No",
          "No",
          "No",
          "No",
          "No",
          "No",
          "No",
          "No",
          "No",
          "Yes",
          "No",
          "No",
          "No",
          "Yes",
          "No",
          "Yes",
          "No",
          "No",
          "No",
          "No",
          "No",
          "No",
          "No",
          "Yes",
          "No",
          "No",
          "No",
          "No",
          "No",
          "No",
          "No",
          "No",
          "Yes",
          "No",
          "No",
          "No",
          "No",
          "No",
          "No",
          "No",
          "No"
         ],
         "legendgroup": "",
         "marker": {
          "colors": [
           "red",
           "green",
           "red",
           "green",
           "green",
           "green",
           "green",
           "green",
           "green",
           "green",
           "green",
           "green",
           "green",
           "green",
           "red",
           "green",
           "green",
           "green",
           "green",
           "green",
           "green",
           "red",
           "green",
           "green",
           "red",
           "green",
           "red",
           "green",
           "green",
           "green",
           "green",
           "green",
           "green",
           "red",
           "red",
           "green",
           "red",
           "green",
           "green",
           "green",
           "green",
           "green",
           "red",
           "green",
           "green",
           "red",
           "green",
           "green",
           "green",
           "green",
           "red",
           "red",
           "green",
           "green",
           "green",
           "green",
           "green",
           "green",
           "green",
           "green",
           "green",
           "green",
           "green",
           "green",
           "green",
           "green",
           "green",
           "green",
           "green",
           "red",
           "green",
           "green",
           "green",
           "green",
           "green",
           "green",
           "green",
           "green",
           "green",
           "green",
           "green",
           "green",
           "green",
           "green",
           "green",
           "green",
           "green",
           "green",
           "green",
           "red",
           "green",
           "green",
           "green",
           "green",
           "green",
           "green",
           "green",
           "green",
           "green",
           "green",
           "red",
           "green",
           "red",
           "green",
           "green",
           "green",
           "green",
           "red",
           "green",
           "green",
           "green",
           "red",
           "green",
           "green",
           "green",
           "green",
           "green",
           "green",
           "green",
           "green",
           "green",
           "green",
           "red",
           "green",
           "red",
           "green",
           "red",
           "red",
           "green",
           "green",
           "green",
           "green",
           "red",
           "green",
           "green",
           "green",
           "red",
           "green",
           "green",
           "green",
           "red",
           "green",
           "green",
           "green",
           "green",
           "green",
           "green",
           "green",
           "green",
           "green",
           "green",
           "green",
           "green",
           "green",
           "green",
           "green",
           "green",
           "green",
           "green",
           "green",
           "green",
           "green",
           "green",
           "green",
           "green",
           "green",
           "green",
           "green",
           "green",
           "green",
           "green",
           "red",
           "green",
           "green",
           "green",
           "green",
           "green",
           "red",
           "green",
           "green",
           "green",
           "green",
           "red",
           "green",
           "green",
           "green",
           "green",
           "green",
           "green",
           "green",
           "green",
           "green",
           "red",
           "green",
           "green",
           "green",
           "green",
           "green",
           "green",
           "green",
           "green",
           "green",
           "green",
           "green",
           "red",
           "red",
           "green",
           "green",
           "green",
           "green",
           "red",
           "green",
           "green",
           "green",
           "red",
           "green",
           "red",
           "red",
           "green",
           "green",
           "green",
           "green",
           "green",
           "green",
           "green",
           "green",
           "green",
           "green",
           "green",
           "red",
           "green",
           "green",
           "green",
           "green",
           "red",
           "green",
           "red",
           "green",
           "green",
           "red",
           "green",
           "green",
           "green",
           "green",
           "green",
           "green",
           "green",
           "green",
           "green",
           "green",
           "red",
           "green",
           "green",
           "green",
           "green",
           "green",
           "green",
           "green",
           "green",
           "red",
           "green",
           "green",
           "green",
           "green",
           "red",
           "green",
           "green",
           "green",
           "green",
           "green",
           "green",
           "red",
           "green",
           "green",
           "green",
           "green",
           "green",
           "green",
           "green",
           "green",
           "green",
           "green",
           "green",
           "green",
           "green",
           "green",
           "red",
           "green",
           "red",
           "green",
           "green",
           "green",
           "green",
           "red",
           "green",
           "green",
           "red",
           "green",
           "green",
           "green",
           "green",
           "green",
           "green",
           "green",
           "green",
           "green",
           "green",
           "green",
           "green",
           "green",
           "green",
           "green",
           "green",
           "green",
           "green",
           "green",
           "green",
           "red",
           "green",
           "green",
           "green",
           "green",
           "green",
           "red",
           "green",
           "green",
           "green",
           "red",
           "green",
           "green",
           "green",
           "green",
           "green",
           "green",
           "green",
           "green",
           "red",
           "green",
           "green",
           "green",
           "green",
           "green",
           "green",
           "green",
           "green",
           "green",
           "green",
           "green",
           "green",
           "green",
           "green",
           "green",
           "green",
           "green",
           "green",
           "green",
           "green",
           "red",
           "green",
           "green",
           "green",
           "green",
           "green",
           "red",
           "green",
           "green",
           "red",
           "green",
           "red",
           "green",
           "red",
           "green",
           "green",
           "green",
           "green",
           "green",
           "green",
           "green",
           "red",
           "green",
           "green",
           "green",
           "red",
           "green",
           "green",
           "red",
           "green",
           "green",
           "green",
           "green",
           "green",
           "green",
           "green",
           "green",
           "green",
           "green",
           "green",
           "green",
           "green",
           "green",
           "green",
           "green",
           "green",
           "green",
           "green",
           "red",
           "green",
           "green",
           "green",
           "green",
           "green",
           "green",
           "green",
           "green",
           "red",
           "red",
           "green",
           "green",
           "green",
           "green",
           "green",
           "red",
           "red",
           "green",
           "green",
           "green",
           "green",
           "green",
           "green",
           "green",
           "green",
           "green",
           "green",
           "green",
           "green",
           "red",
           "red",
           "green",
           "green",
           "red",
           "red",
           "green",
           "green",
           "red",
           "green",
           "green",
           "green",
           "green",
           "green",
           "green",
           "green",
           "green",
           "green",
           "red",
           "green",
           "green",
           "green",
           "red",
           "green",
           "green",
           "green",
           "green",
           "green",
           "red",
           "green",
           "green",
           "green",
           "green",
           "green",
           "red",
           "green",
           "green",
           "green",
           "green",
           "green",
           "green",
           "green",
           "green",
           "green",
           "red",
           "red",
           "green",
           "red",
           "green",
           "green",
           "green",
           "green",
           "green",
           "green",
           "green",
           "green",
           "green",
           "green",
           "green",
           "green",
           "red",
           "green",
           "green",
           "green",
           "green",
           "green",
           "green",
           "green",
           "green",
           "red",
           "green",
           "green",
           "green",
           "green",
           "green",
           "green",
           "green",
           "green",
           "red",
           "red",
           "green",
           "green",
           "green",
           "green",
           "green",
           "green",
           "green",
           "green",
           "green",
           "green",
           "red",
           "green",
           "green",
           "red",
           "green",
           "green",
           "green",
           "green",
           "green",
           "green",
           "green",
           "green",
           "green",
           "green",
           "green",
           "red",
           "green",
           "green",
           "green",
           "green",
           "green",
           "green",
           "red",
           "green",
           "green",
           "green",
           "green",
           "green",
           "green",
           "green",
           "green",
           "green",
           "green",
           "green",
           "green",
           "green",
           "green",
           "red",
           "green",
           "green",
           "green",
           "red",
           "green",
           "red",
           "green",
           "green",
           "green",
           "green",
           "red",
           "green",
           "green",
           "green",
           "green",
           "green",
           "green",
           "green",
           "green",
           "green",
           "green",
           "green",
           "red",
           "green",
           "green",
           "green",
           "red",
           "green",
           "red",
           "green",
           "green",
           "green",
           "red",
           "green",
           "green",
           "red",
           "green",
           "green",
           "green",
           "green",
           "green",
           "green",
           "green",
           "green",
           "red",
           "red",
           "green",
           "green",
           "green",
           "green",
           "green",
           "red",
           "green",
           "green",
           "green",
           "green",
           "green",
           "green",
           "green",
           "green",
           "green",
           "green",
           "green",
           "green",
           "green",
           "green",
           "green",
           "green",
           "green",
           "green",
           "green",
           "green",
           "green",
           "red",
           "green",
           "green",
           "green",
           "green",
           "green",
           "green",
           "green",
           "green",
           "red",
           "green",
           "green",
           "green",
           "green",
           "green",
           "green",
           "green",
           "green",
           "green",
           "green",
           "red",
           "green",
           "green",
           "green",
           "red",
           "green",
           "red",
           "red",
           "green",
           "green",
           "red",
           "red",
           "green",
           "red",
           "green",
           "green",
           "green",
           "green",
           "green",
           "green",
           "green",
           "green",
           "green",
           "green",
           "green",
           "green",
           "green",
           "red",
           "green",
           "green",
           "green",
           "green",
           "red",
           "red",
           "green",
           "green",
           "green",
           "red",
           "green",
           "red",
           "green",
           "green",
           "green",
           "green",
           "red",
           "green",
           "green",
           "green",
           "green",
           "green",
           "red",
           "green",
           "green",
           "red",
           "green",
           "red",
           "green",
           "green",
           "green",
           "green",
           "green",
           "green",
           "green",
           "green",
           "red",
           "green",
           "green",
           "green",
           "green",
           "red",
           "green",
           "green",
           "green",
           "green",
           "green",
           "red",
           "red",
           "green",
           "green",
           "green",
           "green",
           "green",
           "green",
           "green",
           "green",
           "green",
           "green",
           "green",
           "red",
           "green",
           "green",
           "green",
           "red",
           "red",
           "green",
           "green",
           "red",
           "green",
           "green",
           "green",
           "green",
           "green",
           "green",
           "green",
           "green",
           "red",
           "red",
           "green",
           "green",
           "green",
           "green",
           "green",
           "green",
           "green",
           "green",
           "green",
           "green",
           "green",
           "green",
           "green",
           "red",
           "red",
           "green",
           "red",
           "red",
           "green",
           "green",
           "green",
           "green",
           "green",
           "green",
           "green",
           "green",
           "red",
           "green",
           "red",
           "red",
           "green",
           "green",
           "green",
           "red",
           "red",
           "red",
           "green",
           "red",
           "red",
           "green",
           "green",
           "green",
           "green",
           "green",
           "green",
           "green",
           "green",
           "green",
           "green",
           "green",
           "red",
           "green",
           "green",
           "green",
           "green",
           "green",
           "green",
           "green",
           "green",
           "green",
           "green",
           "green",
           "green",
           "green",
           "green",
           "red",
           "red",
           "green",
           "red",
           "green",
           "green",
           "green",
           "green",
           "red",
           "green",
           "red",
           "green",
           "green",
           "green",
           "red",
           "green",
           "green",
           "green",
           "green",
           "green",
           "green",
           "red",
           "green",
           "green",
           "green",
           "green",
           "green",
           "green",
           "green",
           "red",
           "green",
           "green",
           "red",
           "green",
           "green",
           "green",
           "red",
           "green",
           "green",
           "green",
           "green",
           "green",
           "green",
           "red",
           "green",
           "green",
           "green",
           "green",
           "green",
           "green",
           "green",
           "green",
           "green",
           "green",
           "green",
           "green",
           "green",
           "green",
           "green",
           "green",
           "green",
           "green",
           "green",
           "green",
           "red",
           "green",
           "green",
           "green",
           "green",
           "green",
           "green",
           "green",
           "green",
           "green",
           "green",
           "green",
           "green",
           "green",
           "green",
           "green",
           "green",
           "green",
           "green",
           "red",
           "green",
           "red",
           "green",
           "red",
           "green",
           "green",
           "green",
           "green",
           "green",
           "green",
           "green",
           "green",
           "green",
           "green",
           "green",
           "green",
           "red",
           "green",
           "green",
           "green",
           "red",
           "green",
           "green",
           "green",
           "green",
           "green",
           "green",
           "red",
           "red",
           "green",
           "green",
           "green",
           "green",
           "green",
           "red",
           "red",
           "green",
           "green",
           "green",
           "green",
           "red",
           "red",
           "green",
           "green",
           "green",
           "green",
           "green",
           "green",
           "green",
           "green",
           "green",
           "green",
           "green",
           "green",
           "red",
           "green",
           "green",
           "green",
           "green",
           "green",
           "green",
           "green",
           "green",
           "red",
           "green",
           "green",
           "green",
           "green",
           "red",
           "red",
           "green",
           "green",
           "green",
           "red",
           "green",
           "green",
           "green",
           "green",
           "green",
           "green",
           "green",
           "green",
           "green",
           "green",
           "green",
           "red",
           "green",
           "green",
           "green",
           "green",
           "green",
           "green",
           "green",
           "green",
           "red",
           "red",
           "green",
           "green",
           "green",
           "green",
           "red",
           "green",
           "green",
           "green",
           "red",
           "green",
           "green",
           "green",
           "green",
           "red",
           "green",
           "green",
           "green",
           "green",
           "green",
           "green",
           "green",
           "green",
           "green",
           "red",
           "red",
           "red",
           "green",
           "green",
           "red",
           "green",
           "green",
           "red",
           "green",
           "green",
           "green",
           "green",
           "green",
           "green",
           "green",
           "green",
           "green",
           "green",
           "green",
           "green",
           "green",
           "green",
           "green",
           "green",
           "red",
           "red",
           "red",
           "green",
           "red",
           "green",
           "green",
           "green",
           "green",
           "green",
           "green",
           "green",
           "red",
           "green",
           "green",
           "green",
           "green",
           "green",
           "green",
           "green",
           "green",
           "red",
           "green",
           "green",
           "green",
           "green",
           "green",
           "red",
           "green",
           "red",
           "green",
           "green",
           "green",
           "green",
           "green",
           "green",
           "green",
           "green",
           "green",
           "green",
           "green",
           "green",
           "green",
           "green",
           "green",
           "green",
           "green",
           "green",
           "green",
           "green",
           "red",
           "green",
           "green",
           "green",
           "red",
           "red",
           "red",
           "green",
           "green",
           "green",
           "green",
           "green",
           "green",
           "green",
           "green",
           "green",
           "green",
           "green",
           "green",
           "green",
           "green",
           "green",
           "green",
           "green",
           "green",
           "green",
           "green",
           "green",
           "green",
           "green",
           "red",
           "green",
           "green",
           "green",
           "green",
           "green",
           "green",
           "green",
           "green",
           "green",
           "green",
           "green",
           "green",
           "green",
           "green",
           "green",
           "green",
           "red",
           "green",
           "green",
           "green",
           "green",
           "green",
           "green",
           "green",
           "green",
           "red",
           "green",
           "green",
           "green",
           "green",
           "red",
           "green",
           "green",
           "green",
           "red",
           "green",
           "green",
           "green",
           "green",
           "green",
           "green",
           "green",
           "green",
           "green",
           "green",
           "green",
           "green",
           "green",
           "green",
           "red",
           "green",
           "green",
           "green",
           "green",
           "green",
           "green",
           "green",
           "green",
           "green",
           "green",
           "green",
           "green",
           "green",
           "green",
           "red",
           "green",
           "green",
           "red",
           "red",
           "green",
           "green",
           "green",
           "green",
           "green",
           "green",
           "green",
           "red",
           "green",
           "green",
           "green",
           "green",
           "green",
           "green",
           "green",
           "green",
           "red",
           "red",
           "green",
           "green",
           "green",
           "green",
           "green",
           "green",
           "green",
           "green",
           "green",
           "green",
           "green",
           "green",
           "red",
           "red",
           "green",
           "green",
           "green",
           "green",
           "green",
           "green",
           "green",
           "green",
           "red",
           "green",
           "green",
           "red",
           "green",
           "green",
           "green",
           "green",
           "green",
           "red",
           "green",
           "red",
           "green",
           "green",
           "green",
           "green",
           "red",
           "green",
           "green",
           "green",
           "green",
           "green",
           "green",
           "green",
           "green",
           "red",
           "green",
           "red",
           "green",
           "green",
           "green",
           "green",
           "green",
           "red",
           "green",
           "red",
           "green",
           "green",
           "green",
           "green",
           "green",
           "green",
           "green",
           "green",
           "red",
           "red",
           "green",
           "green",
           "green",
           "green",
           "green",
           "red",
           "red",
           "green",
           "green",
           "green",
           "green",
           "green",
           "green",
           "green",
           "green",
           "green",
           "green",
           "green",
           "green",
           "green",
           "red",
           "red",
           "green",
           "green",
           "green",
           "green",
           "green",
           "green",
           "green",
           "green",
           "green",
           "green",
           "green",
           "green",
           "red",
           "green",
           "green",
           "green",
           "green",
           "green",
           "red",
           "red",
           "green",
           "green",
           "green",
           "green",
           "red",
           "red",
           "green",
           "green",
           "green",
           "green",
           "green",
           "green",
           "green",
           "green",
           "green",
           "green",
           "green",
           "green",
           "green",
           "red",
           "red",
           "green",
           "green",
           "green",
           "green",
           "green",
           "green",
           "green",
           "green",
           "green",
           "green",
           "red",
           "green",
           "green",
           "green",
           "red",
           "green",
           "green",
           "green",
           "green",
           "green",
           "red",
           "green",
           "green",
           "green",
           "red",
           "green",
           "green",
           "green",
           "green",
           "green",
           "green",
           "green",
           "green",
           "green",
           "green",
           "red",
           "green",
           "green",
           "green",
           "green",
           "red",
           "red",
           "green",
           "green",
           "green",
           "green",
           "green",
           "green",
           "green",
           "green",
           "green",
           "green",
           "green",
           "green",
           "green",
           "green",
           "green",
           "green",
           "green",
           "green",
           "green",
           "green",
           "green",
           "green",
           "green",
           "green",
           "green",
           "green",
           "green",
           "green",
           "green",
           "green",
           "green",
           "green",
           "green",
           "green",
           "green",
           "green",
           "green",
           "green",
           "green",
           "green",
           "green",
           "red",
           "green",
           "green",
           "green",
           "red",
           "green",
           "red",
           "green",
           "green",
           "green",
           "green",
           "green",
           "green",
           "green",
           "red",
           "green",
           "green",
           "green",
           "green",
           "green",
           "green",
           "green",
           "green",
           "red",
           "green",
           "green",
           "green",
           "green",
           "green",
           "green",
           "green",
           "green"
          ]
         },
         "name": "",
         "showlegend": true,
         "type": "pie"
        }
       ],
       "layout": {
        "legend": {
         "tracegroupgap": 0
        },
        "margin": {
         "t": 60
        },
        "template": {
         "data": {
          "bar": [
           {
            "error_x": {
             "color": "#2a3f5f"
            },
            "error_y": {
             "color": "#2a3f5f"
            },
            "marker": {
             "line": {
              "color": "#E5ECF6",
              "width": 0.5
             },
             "pattern": {
              "fillmode": "overlay",
              "size": 10,
              "solidity": 0.2
             }
            },
            "type": "bar"
           }
          ],
          "barpolar": [
           {
            "marker": {
             "line": {
              "color": "#E5ECF6",
              "width": 0.5
             },
             "pattern": {
              "fillmode": "overlay",
              "size": 10,
              "solidity": 0.2
             }
            },
            "type": "barpolar"
           }
          ],
          "carpet": [
           {
            "aaxis": {
             "endlinecolor": "#2a3f5f",
             "gridcolor": "white",
             "linecolor": "white",
             "minorgridcolor": "white",
             "startlinecolor": "#2a3f5f"
            },
            "baxis": {
             "endlinecolor": "#2a3f5f",
             "gridcolor": "white",
             "linecolor": "white",
             "minorgridcolor": "white",
             "startlinecolor": "#2a3f5f"
            },
            "type": "carpet"
           }
          ],
          "choropleth": [
           {
            "colorbar": {
             "outlinewidth": 0,
             "ticks": ""
            },
            "type": "choropleth"
           }
          ],
          "contour": [
           {
            "colorbar": {
             "outlinewidth": 0,
             "ticks": ""
            },
            "colorscale": [
             [
              0,
              "#0d0887"
             ],
             [
              0.1111111111111111,
              "#46039f"
             ],
             [
              0.2222222222222222,
              "#7201a8"
             ],
             [
              0.3333333333333333,
              "#9c179e"
             ],
             [
              0.4444444444444444,
              "#bd3786"
             ],
             [
              0.5555555555555556,
              "#d8576b"
             ],
             [
              0.6666666666666666,
              "#ed7953"
             ],
             [
              0.7777777777777778,
              "#fb9f3a"
             ],
             [
              0.8888888888888888,
              "#fdca26"
             ],
             [
              1,
              "#f0f921"
             ]
            ],
            "type": "contour"
           }
          ],
          "contourcarpet": [
           {
            "colorbar": {
             "outlinewidth": 0,
             "ticks": ""
            },
            "type": "contourcarpet"
           }
          ],
          "heatmap": [
           {
            "colorbar": {
             "outlinewidth": 0,
             "ticks": ""
            },
            "colorscale": [
             [
              0,
              "#0d0887"
             ],
             [
              0.1111111111111111,
              "#46039f"
             ],
             [
              0.2222222222222222,
              "#7201a8"
             ],
             [
              0.3333333333333333,
              "#9c179e"
             ],
             [
              0.4444444444444444,
              "#bd3786"
             ],
             [
              0.5555555555555556,
              "#d8576b"
             ],
             [
              0.6666666666666666,
              "#ed7953"
             ],
             [
              0.7777777777777778,
              "#fb9f3a"
             ],
             [
              0.8888888888888888,
              "#fdca26"
             ],
             [
              1,
              "#f0f921"
             ]
            ],
            "type": "heatmap"
           }
          ],
          "heatmapgl": [
           {
            "colorbar": {
             "outlinewidth": 0,
             "ticks": ""
            },
            "colorscale": [
             [
              0,
              "#0d0887"
             ],
             [
              0.1111111111111111,
              "#46039f"
             ],
             [
              0.2222222222222222,
              "#7201a8"
             ],
             [
              0.3333333333333333,
              "#9c179e"
             ],
             [
              0.4444444444444444,
              "#bd3786"
             ],
             [
              0.5555555555555556,
              "#d8576b"
             ],
             [
              0.6666666666666666,
              "#ed7953"
             ],
             [
              0.7777777777777778,
              "#fb9f3a"
             ],
             [
              0.8888888888888888,
              "#fdca26"
             ],
             [
              1,
              "#f0f921"
             ]
            ],
            "type": "heatmapgl"
           }
          ],
          "histogram": [
           {
            "marker": {
             "pattern": {
              "fillmode": "overlay",
              "size": 10,
              "solidity": 0.2
             }
            },
            "type": "histogram"
           }
          ],
          "histogram2d": [
           {
            "colorbar": {
             "outlinewidth": 0,
             "ticks": ""
            },
            "colorscale": [
             [
              0,
              "#0d0887"
             ],
             [
              0.1111111111111111,
              "#46039f"
             ],
             [
              0.2222222222222222,
              "#7201a8"
             ],
             [
              0.3333333333333333,
              "#9c179e"
             ],
             [
              0.4444444444444444,
              "#bd3786"
             ],
             [
              0.5555555555555556,
              "#d8576b"
             ],
             [
              0.6666666666666666,
              "#ed7953"
             ],
             [
              0.7777777777777778,
              "#fb9f3a"
             ],
             [
              0.8888888888888888,
              "#fdca26"
             ],
             [
              1,
              "#f0f921"
             ]
            ],
            "type": "histogram2d"
           }
          ],
          "histogram2dcontour": [
           {
            "colorbar": {
             "outlinewidth": 0,
             "ticks": ""
            },
            "colorscale": [
             [
              0,
              "#0d0887"
             ],
             [
              0.1111111111111111,
              "#46039f"
             ],
             [
              0.2222222222222222,
              "#7201a8"
             ],
             [
              0.3333333333333333,
              "#9c179e"
             ],
             [
              0.4444444444444444,
              "#bd3786"
             ],
             [
              0.5555555555555556,
              "#d8576b"
             ],
             [
              0.6666666666666666,
              "#ed7953"
             ],
             [
              0.7777777777777778,
              "#fb9f3a"
             ],
             [
              0.8888888888888888,
              "#fdca26"
             ],
             [
              1,
              "#f0f921"
             ]
            ],
            "type": "histogram2dcontour"
           }
          ],
          "mesh3d": [
           {
            "colorbar": {
             "outlinewidth": 0,
             "ticks": ""
            },
            "type": "mesh3d"
           }
          ],
          "parcoords": [
           {
            "line": {
             "colorbar": {
              "outlinewidth": 0,
              "ticks": ""
             }
            },
            "type": "parcoords"
           }
          ],
          "pie": [
           {
            "automargin": true,
            "type": "pie"
           }
          ],
          "scatter": [
           {
            "marker": {
             "colorbar": {
              "outlinewidth": 0,
              "ticks": ""
             }
            },
            "type": "scatter"
           }
          ],
          "scatter3d": [
           {
            "line": {
             "colorbar": {
              "outlinewidth": 0,
              "ticks": ""
             }
            },
            "marker": {
             "colorbar": {
              "outlinewidth": 0,
              "ticks": ""
             }
            },
            "type": "scatter3d"
           }
          ],
          "scattercarpet": [
           {
            "marker": {
             "colorbar": {
              "outlinewidth": 0,
              "ticks": ""
             }
            },
            "type": "scattercarpet"
           }
          ],
          "scattergeo": [
           {
            "marker": {
             "colorbar": {
              "outlinewidth": 0,
              "ticks": ""
             }
            },
            "type": "scattergeo"
           }
          ],
          "scattergl": [
           {
            "marker": {
             "colorbar": {
              "outlinewidth": 0,
              "ticks": ""
             }
            },
            "type": "scattergl"
           }
          ],
          "scattermapbox": [
           {
            "marker": {
             "colorbar": {
              "outlinewidth": 0,
              "ticks": ""
             }
            },
            "type": "scattermapbox"
           }
          ],
          "scatterpolar": [
           {
            "marker": {
             "colorbar": {
              "outlinewidth": 0,
              "ticks": ""
             }
            },
            "type": "scatterpolar"
           }
          ],
          "scatterpolargl": [
           {
            "marker": {
             "colorbar": {
              "outlinewidth": 0,
              "ticks": ""
             }
            },
            "type": "scatterpolargl"
           }
          ],
          "scatterternary": [
           {
            "marker": {
             "colorbar": {
              "outlinewidth": 0,
              "ticks": ""
             }
            },
            "type": "scatterternary"
           }
          ],
          "surface": [
           {
            "colorbar": {
             "outlinewidth": 0,
             "ticks": ""
            },
            "colorscale": [
             [
              0,
              "#0d0887"
             ],
             [
              0.1111111111111111,
              "#46039f"
             ],
             [
              0.2222222222222222,
              "#7201a8"
             ],
             [
              0.3333333333333333,
              "#9c179e"
             ],
             [
              0.4444444444444444,
              "#bd3786"
             ],
             [
              0.5555555555555556,
              "#d8576b"
             ],
             [
              0.6666666666666666,
              "#ed7953"
             ],
             [
              0.7777777777777778,
              "#fb9f3a"
             ],
             [
              0.8888888888888888,
              "#fdca26"
             ],
             [
              1,
              "#f0f921"
             ]
            ],
            "type": "surface"
           }
          ],
          "table": [
           {
            "cells": {
             "fill": {
              "color": "#EBF0F8"
             },
             "line": {
              "color": "white"
             }
            },
            "header": {
             "fill": {
              "color": "#C8D4E3"
             },
             "line": {
              "color": "white"
             }
            },
            "type": "table"
           }
          ]
         },
         "layout": {
          "annotationdefaults": {
           "arrowcolor": "#2a3f5f",
           "arrowhead": 0,
           "arrowwidth": 1
          },
          "autotypenumbers": "strict",
          "coloraxis": {
           "colorbar": {
            "outlinewidth": 0,
            "ticks": ""
           }
          },
          "colorscale": {
           "diverging": [
            [
             0,
             "#8e0152"
            ],
            [
             0.1,
             "#c51b7d"
            ],
            [
             0.2,
             "#de77ae"
            ],
            [
             0.3,
             "#f1b6da"
            ],
            [
             0.4,
             "#fde0ef"
            ],
            [
             0.5,
             "#f7f7f7"
            ],
            [
             0.6,
             "#e6f5d0"
            ],
            [
             0.7,
             "#b8e186"
            ],
            [
             0.8,
             "#7fbc41"
            ],
            [
             0.9,
             "#4d9221"
            ],
            [
             1,
             "#276419"
            ]
           ],
           "sequential": [
            [
             0,
             "#0d0887"
            ],
            [
             0.1111111111111111,
             "#46039f"
            ],
            [
             0.2222222222222222,
             "#7201a8"
            ],
            [
             0.3333333333333333,
             "#9c179e"
            ],
            [
             0.4444444444444444,
             "#bd3786"
            ],
            [
             0.5555555555555556,
             "#d8576b"
            ],
            [
             0.6666666666666666,
             "#ed7953"
            ],
            [
             0.7777777777777778,
             "#fb9f3a"
            ],
            [
             0.8888888888888888,
             "#fdca26"
            ],
            [
             1,
             "#f0f921"
            ]
           ],
           "sequentialminus": [
            [
             0,
             "#0d0887"
            ],
            [
             0.1111111111111111,
             "#46039f"
            ],
            [
             0.2222222222222222,
             "#7201a8"
            ],
            [
             0.3333333333333333,
             "#9c179e"
            ],
            [
             0.4444444444444444,
             "#bd3786"
            ],
            [
             0.5555555555555556,
             "#d8576b"
            ],
            [
             0.6666666666666666,
             "#ed7953"
            ],
            [
             0.7777777777777778,
             "#fb9f3a"
            ],
            [
             0.8888888888888888,
             "#fdca26"
            ],
            [
             1,
             "#f0f921"
            ]
           ]
          },
          "colorway": [
           "#636efa",
           "#EF553B",
           "#00cc96",
           "#ab63fa",
           "#FFA15A",
           "#19d3f3",
           "#FF6692",
           "#B6E880",
           "#FF97FF",
           "#FECB52"
          ],
          "font": {
           "color": "#2a3f5f"
          },
          "geo": {
           "bgcolor": "white",
           "lakecolor": "white",
           "landcolor": "#E5ECF6",
           "showlakes": true,
           "showland": true,
           "subunitcolor": "white"
          },
          "hoverlabel": {
           "align": "left"
          },
          "hovermode": "closest",
          "mapbox": {
           "style": "light"
          },
          "paper_bgcolor": "white",
          "plot_bgcolor": "#E5ECF6",
          "polar": {
           "angularaxis": {
            "gridcolor": "white",
            "linecolor": "white",
            "ticks": ""
           },
           "bgcolor": "#E5ECF6",
           "radialaxis": {
            "gridcolor": "white",
            "linecolor": "white",
            "ticks": ""
           }
          },
          "scene": {
           "xaxis": {
            "backgroundcolor": "#E5ECF6",
            "gridcolor": "white",
            "gridwidth": 2,
            "linecolor": "white",
            "showbackground": true,
            "ticks": "",
            "zerolinecolor": "white"
           },
           "yaxis": {
            "backgroundcolor": "#E5ECF6",
            "gridcolor": "white",
            "gridwidth": 2,
            "linecolor": "white",
            "showbackground": true,
            "ticks": "",
            "zerolinecolor": "white"
           },
           "zaxis": {
            "backgroundcolor": "#E5ECF6",
            "gridcolor": "white",
            "gridwidth": 2,
            "linecolor": "white",
            "showbackground": true,
            "ticks": "",
            "zerolinecolor": "white"
           }
          },
          "shapedefaults": {
           "line": {
            "color": "#2a3f5f"
           }
          },
          "ternary": {
           "aaxis": {
            "gridcolor": "white",
            "linecolor": "white",
            "ticks": ""
           },
           "baxis": {
            "gridcolor": "white",
            "linecolor": "white",
            "ticks": ""
           },
           "bgcolor": "#E5ECF6",
           "caxis": {
            "gridcolor": "white",
            "linecolor": "white",
            "ticks": ""
           }
          },
          "title": {
           "x": 0.05
          },
          "xaxis": {
           "automargin": true,
           "gridcolor": "white",
           "linecolor": "white",
           "ticks": "",
           "title": {
            "standoff": 15
           },
           "zerolinecolor": "white",
           "zerolinewidth": 2
          },
          "yaxis": {
           "automargin": true,
           "gridcolor": "white",
           "linecolor": "white",
           "ticks": "",
           "title": {
            "standoff": 15
           },
           "zerolinecolor": "white",
           "zerolinewidth": 2
          }
         }
        }
       }
      },
      "text/html": [
       "<div>                            <div id=\"dc7810e7-e057-49ab-a167-af8f8b599327\" class=\"plotly-graph-div\" style=\"height:525px; width:100%;\"></div>            <script type=\"text/javascript\">                require([\"plotly\"], function(Plotly) {                    window.PLOTLYENV=window.PLOTLYENV || {};                                    if (document.getElementById(\"dc7810e7-e057-49ab-a167-af8f8b599327\")) {                    Plotly.newPlot(                        \"dc7810e7-e057-49ab-a167-af8f8b599327\",                        [{\"customdata\":[[\"Yes\"],[\"No\"],[\"Yes\"],[\"No\"],[\"No\"],[\"No\"],[\"No\"],[\"No\"],[\"No\"],[\"No\"],[\"No\"],[\"No\"],[\"No\"],[\"No\"],[\"Yes\"],[\"No\"],[\"No\"],[\"No\"],[\"No\"],[\"No\"],[\"No\"],[\"Yes\"],[\"No\"],[\"No\"],[\"Yes\"],[\"No\"],[\"Yes\"],[\"No\"],[\"No\"],[\"No\"],[\"No\"],[\"No\"],[\"No\"],[\"Yes\"],[\"Yes\"],[\"No\"],[\"Yes\"],[\"No\"],[\"No\"],[\"No\"],[\"No\"],[\"No\"],[\"Yes\"],[\"No\"],[\"No\"],[\"Yes\"],[\"No\"],[\"No\"],[\"No\"],[\"No\"],[\"Yes\"],[\"Yes\"],[\"No\"],[\"No\"],[\"No\"],[\"No\"],[\"No\"],[\"No\"],[\"No\"],[\"No\"],[\"No\"],[\"No\"],[\"No\"],[\"No\"],[\"No\"],[\"No\"],[\"No\"],[\"No\"],[\"No\"],[\"Yes\"],[\"No\"],[\"No\"],[\"No\"],[\"No\"],[\"No\"],[\"No\"],[\"No\"],[\"No\"],[\"No\"],[\"No\"],[\"No\"],[\"No\"],[\"No\"],[\"No\"],[\"No\"],[\"No\"],[\"No\"],[\"No\"],[\"No\"],[\"Yes\"],[\"No\"],[\"No\"],[\"No\"],[\"No\"],[\"No\"],[\"No\"],[\"No\"],[\"No\"],[\"No\"],[\"No\"],[\"Yes\"],[\"No\"],[\"Yes\"],[\"No\"],[\"No\"],[\"No\"],[\"No\"],[\"Yes\"],[\"No\"],[\"No\"],[\"No\"],[\"Yes\"],[\"No\"],[\"No\"],[\"No\"],[\"No\"],[\"No\"],[\"No\"],[\"No\"],[\"No\"],[\"No\"],[\"No\"],[\"Yes\"],[\"No\"],[\"Yes\"],[\"No\"],[\"Yes\"],[\"Yes\"],[\"No\"],[\"No\"],[\"No\"],[\"No\"],[\"Yes\"],[\"No\"],[\"No\"],[\"No\"],[\"Yes\"],[\"No\"],[\"No\"],[\"No\"],[\"Yes\"],[\"No\"],[\"No\"],[\"No\"],[\"No\"],[\"No\"],[\"No\"],[\"No\"],[\"No\"],[\"No\"],[\"No\"],[\"No\"],[\"No\"],[\"No\"],[\"No\"],[\"No\"],[\"No\"],[\"No\"],[\"No\"],[\"No\"],[\"No\"],[\"No\"],[\"No\"],[\"No\"],[\"No\"],[\"No\"],[\"No\"],[\"No\"],[\"No\"],[\"No\"],[\"No\"],[\"Yes\"],[\"No\"],[\"No\"],[\"No\"],[\"No\"],[\"No\"],[\"Yes\"],[\"No\"],[\"No\"],[\"No\"],[\"No\"],[\"Yes\"],[\"No\"],[\"No\"],[\"No\"],[\"No\"],[\"No\"],[\"No\"],[\"No\"],[\"No\"],[\"No\"],[\"Yes\"],[\"No\"],[\"No\"],[\"No\"],[\"No\"],[\"No\"],[\"No\"],[\"No\"],[\"No\"],[\"No\"],[\"No\"],[\"No\"],[\"Yes\"],[\"Yes\"],[\"No\"],[\"No\"],[\"No\"],[\"No\"],[\"Yes\"],[\"No\"],[\"No\"],[\"No\"],[\"Yes\"],[\"No\"],[\"Yes\"],[\"Yes\"],[\"No\"],[\"No\"],[\"No\"],[\"No\"],[\"No\"],[\"No\"],[\"No\"],[\"No\"],[\"No\"],[\"No\"],[\"No\"],[\"Yes\"],[\"No\"],[\"No\"],[\"No\"],[\"No\"],[\"Yes\"],[\"No\"],[\"Yes\"],[\"No\"],[\"No\"],[\"Yes\"],[\"No\"],[\"No\"],[\"No\"],[\"No\"],[\"No\"],[\"No\"],[\"No\"],[\"No\"],[\"No\"],[\"No\"],[\"Yes\"],[\"No\"],[\"No\"],[\"No\"],[\"No\"],[\"No\"],[\"No\"],[\"No\"],[\"No\"],[\"Yes\"],[\"No\"],[\"No\"],[\"No\"],[\"No\"],[\"Yes\"],[\"No\"],[\"No\"],[\"No\"],[\"No\"],[\"No\"],[\"No\"],[\"Yes\"],[\"No\"],[\"No\"],[\"No\"],[\"No\"],[\"No\"],[\"No\"],[\"No\"],[\"No\"],[\"No\"],[\"No\"],[\"No\"],[\"No\"],[\"No\"],[\"No\"],[\"Yes\"],[\"No\"],[\"Yes\"],[\"No\"],[\"No\"],[\"No\"],[\"No\"],[\"Yes\"],[\"No\"],[\"No\"],[\"Yes\"],[\"No\"],[\"No\"],[\"No\"],[\"No\"],[\"No\"],[\"No\"],[\"No\"],[\"No\"],[\"No\"],[\"No\"],[\"No\"],[\"No\"],[\"No\"],[\"No\"],[\"No\"],[\"No\"],[\"No\"],[\"No\"],[\"No\"],[\"No\"],[\"Yes\"],[\"No\"],[\"No\"],[\"No\"],[\"No\"],[\"No\"],[\"Yes\"],[\"No\"],[\"No\"],[\"No\"],[\"Yes\"],[\"No\"],[\"No\"],[\"No\"],[\"No\"],[\"No\"],[\"No\"],[\"No\"],[\"No\"],[\"Yes\"],[\"No\"],[\"No\"],[\"No\"],[\"No\"],[\"No\"],[\"No\"],[\"No\"],[\"No\"],[\"No\"],[\"No\"],[\"No\"],[\"No\"],[\"No\"],[\"No\"],[\"No\"],[\"No\"],[\"No\"],[\"No\"],[\"No\"],[\"No\"],[\"Yes\"],[\"No\"],[\"No\"],[\"No\"],[\"No\"],[\"No\"],[\"Yes\"],[\"No\"],[\"No\"],[\"Yes\"],[\"No\"],[\"Yes\"],[\"No\"],[\"Yes\"],[\"No\"],[\"No\"],[\"No\"],[\"No\"],[\"No\"],[\"No\"],[\"No\"],[\"Yes\"],[\"No\"],[\"No\"],[\"No\"],[\"Yes\"],[\"No\"],[\"No\"],[\"Yes\"],[\"No\"],[\"No\"],[\"No\"],[\"No\"],[\"No\"],[\"No\"],[\"No\"],[\"No\"],[\"No\"],[\"No\"],[\"No\"],[\"No\"],[\"No\"],[\"No\"],[\"No\"],[\"No\"],[\"No\"],[\"No\"],[\"No\"],[\"Yes\"],[\"No\"],[\"No\"],[\"No\"],[\"No\"],[\"No\"],[\"No\"],[\"No\"],[\"No\"],[\"Yes\"],[\"Yes\"],[\"No\"],[\"No\"],[\"No\"],[\"No\"],[\"No\"],[\"Yes\"],[\"Yes\"],[\"No\"],[\"No\"],[\"No\"],[\"No\"],[\"No\"],[\"No\"],[\"No\"],[\"No\"],[\"No\"],[\"No\"],[\"No\"],[\"No\"],[\"Yes\"],[\"Yes\"],[\"No\"],[\"No\"],[\"Yes\"],[\"Yes\"],[\"No\"],[\"No\"],[\"Yes\"],[\"No\"],[\"No\"],[\"No\"],[\"No\"],[\"No\"],[\"No\"],[\"No\"],[\"No\"],[\"No\"],[\"Yes\"],[\"No\"],[\"No\"],[\"No\"],[\"Yes\"],[\"No\"],[\"No\"],[\"No\"],[\"No\"],[\"No\"],[\"Yes\"],[\"No\"],[\"No\"],[\"No\"],[\"No\"],[\"No\"],[\"Yes\"],[\"No\"],[\"No\"],[\"No\"],[\"No\"],[\"No\"],[\"No\"],[\"No\"],[\"No\"],[\"No\"],[\"Yes\"],[\"Yes\"],[\"No\"],[\"Yes\"],[\"No\"],[\"No\"],[\"No\"],[\"No\"],[\"No\"],[\"No\"],[\"No\"],[\"No\"],[\"No\"],[\"No\"],[\"No\"],[\"No\"],[\"Yes\"],[\"No\"],[\"No\"],[\"No\"],[\"No\"],[\"No\"],[\"No\"],[\"No\"],[\"No\"],[\"Yes\"],[\"No\"],[\"No\"],[\"No\"],[\"No\"],[\"No\"],[\"No\"],[\"No\"],[\"No\"],[\"Yes\"],[\"Yes\"],[\"No\"],[\"No\"],[\"No\"],[\"No\"],[\"No\"],[\"No\"],[\"No\"],[\"No\"],[\"No\"],[\"No\"],[\"Yes\"],[\"No\"],[\"No\"],[\"Yes\"],[\"No\"],[\"No\"],[\"No\"],[\"No\"],[\"No\"],[\"No\"],[\"No\"],[\"No\"],[\"No\"],[\"No\"],[\"No\"],[\"Yes\"],[\"No\"],[\"No\"],[\"No\"],[\"No\"],[\"No\"],[\"No\"],[\"Yes\"],[\"No\"],[\"No\"],[\"No\"],[\"No\"],[\"No\"],[\"No\"],[\"No\"],[\"No\"],[\"No\"],[\"No\"],[\"No\"],[\"No\"],[\"No\"],[\"No\"],[\"Yes\"],[\"No\"],[\"No\"],[\"No\"],[\"Yes\"],[\"No\"],[\"Yes\"],[\"No\"],[\"No\"],[\"No\"],[\"No\"],[\"Yes\"],[\"No\"],[\"No\"],[\"No\"],[\"No\"],[\"No\"],[\"No\"],[\"No\"],[\"No\"],[\"No\"],[\"No\"],[\"No\"],[\"Yes\"],[\"No\"],[\"No\"],[\"No\"],[\"Yes\"],[\"No\"],[\"Yes\"],[\"No\"],[\"No\"],[\"No\"],[\"Yes\"],[\"No\"],[\"No\"],[\"Yes\"],[\"No\"],[\"No\"],[\"No\"],[\"No\"],[\"No\"],[\"No\"],[\"No\"],[\"No\"],[\"Yes\"],[\"Yes\"],[\"No\"],[\"No\"],[\"No\"],[\"No\"],[\"No\"],[\"Yes\"],[\"No\"],[\"No\"],[\"No\"],[\"No\"],[\"No\"],[\"No\"],[\"No\"],[\"No\"],[\"No\"],[\"No\"],[\"No\"],[\"No\"],[\"No\"],[\"No\"],[\"No\"],[\"No\"],[\"No\"],[\"No\"],[\"No\"],[\"No\"],[\"No\"],[\"Yes\"],[\"No\"],[\"No\"],[\"No\"],[\"No\"],[\"No\"],[\"No\"],[\"No\"],[\"No\"],[\"Yes\"],[\"No\"],[\"No\"],[\"No\"],[\"No\"],[\"No\"],[\"No\"],[\"No\"],[\"No\"],[\"No\"],[\"No\"],[\"Yes\"],[\"No\"],[\"No\"],[\"No\"],[\"Yes\"],[\"No\"],[\"Yes\"],[\"Yes\"],[\"No\"],[\"No\"],[\"Yes\"],[\"Yes\"],[\"No\"],[\"Yes\"],[\"No\"],[\"No\"],[\"No\"],[\"No\"],[\"No\"],[\"No\"],[\"No\"],[\"No\"],[\"No\"],[\"No\"],[\"No\"],[\"No\"],[\"No\"],[\"Yes\"],[\"No\"],[\"No\"],[\"No\"],[\"No\"],[\"Yes\"],[\"Yes\"],[\"No\"],[\"No\"],[\"No\"],[\"Yes\"],[\"No\"],[\"Yes\"],[\"No\"],[\"No\"],[\"No\"],[\"No\"],[\"Yes\"],[\"No\"],[\"No\"],[\"No\"],[\"No\"],[\"No\"],[\"Yes\"],[\"No\"],[\"No\"],[\"Yes\"],[\"No\"],[\"Yes\"],[\"No\"],[\"No\"],[\"No\"],[\"No\"],[\"No\"],[\"No\"],[\"No\"],[\"No\"],[\"Yes\"],[\"No\"],[\"No\"],[\"No\"],[\"No\"],[\"Yes\"],[\"No\"],[\"No\"],[\"No\"],[\"No\"],[\"No\"],[\"Yes\"],[\"Yes\"],[\"No\"],[\"No\"],[\"No\"],[\"No\"],[\"No\"],[\"No\"],[\"No\"],[\"No\"],[\"No\"],[\"No\"],[\"No\"],[\"Yes\"],[\"No\"],[\"No\"],[\"No\"],[\"Yes\"],[\"Yes\"],[\"No\"],[\"No\"],[\"Yes\"],[\"No\"],[\"No\"],[\"No\"],[\"No\"],[\"No\"],[\"No\"],[\"No\"],[\"No\"],[\"Yes\"],[\"Yes\"],[\"No\"],[\"No\"],[\"No\"],[\"No\"],[\"No\"],[\"No\"],[\"No\"],[\"No\"],[\"No\"],[\"No\"],[\"No\"],[\"No\"],[\"No\"],[\"Yes\"],[\"Yes\"],[\"No\"],[\"Yes\"],[\"Yes\"],[\"No\"],[\"No\"],[\"No\"],[\"No\"],[\"No\"],[\"No\"],[\"No\"],[\"No\"],[\"Yes\"],[\"No\"],[\"Yes\"],[\"Yes\"],[\"No\"],[\"No\"],[\"No\"],[\"Yes\"],[\"Yes\"],[\"Yes\"],[\"No\"],[\"Yes\"],[\"Yes\"],[\"No\"],[\"No\"],[\"No\"],[\"No\"],[\"No\"],[\"No\"],[\"No\"],[\"No\"],[\"No\"],[\"No\"],[\"No\"],[\"Yes\"],[\"No\"],[\"No\"],[\"No\"],[\"No\"],[\"No\"],[\"No\"],[\"No\"],[\"No\"],[\"No\"],[\"No\"],[\"No\"],[\"No\"],[\"No\"],[\"No\"],[\"Yes\"],[\"Yes\"],[\"No\"],[\"Yes\"],[\"No\"],[\"No\"],[\"No\"],[\"No\"],[\"Yes\"],[\"No\"],[\"Yes\"],[\"No\"],[\"No\"],[\"No\"],[\"Yes\"],[\"No\"],[\"No\"],[\"No\"],[\"No\"],[\"No\"],[\"No\"],[\"Yes\"],[\"No\"],[\"No\"],[\"No\"],[\"No\"],[\"No\"],[\"No\"],[\"No\"],[\"Yes\"],[\"No\"],[\"No\"],[\"Yes\"],[\"No\"],[\"No\"],[\"No\"],[\"Yes\"],[\"No\"],[\"No\"],[\"No\"],[\"No\"],[\"No\"],[\"No\"],[\"Yes\"],[\"No\"],[\"No\"],[\"No\"],[\"No\"],[\"No\"],[\"No\"],[\"No\"],[\"No\"],[\"No\"],[\"No\"],[\"No\"],[\"No\"],[\"No\"],[\"No\"],[\"No\"],[\"No\"],[\"No\"],[\"No\"],[\"No\"],[\"No\"],[\"Yes\"],[\"No\"],[\"No\"],[\"No\"],[\"No\"],[\"No\"],[\"No\"],[\"No\"],[\"No\"],[\"No\"],[\"No\"],[\"No\"],[\"No\"],[\"No\"],[\"No\"],[\"No\"],[\"No\"],[\"No\"],[\"No\"],[\"Yes\"],[\"No\"],[\"Yes\"],[\"No\"],[\"Yes\"],[\"No\"],[\"No\"],[\"No\"],[\"No\"],[\"No\"],[\"No\"],[\"No\"],[\"No\"],[\"No\"],[\"No\"],[\"No\"],[\"No\"],[\"Yes\"],[\"No\"],[\"No\"],[\"No\"],[\"Yes\"],[\"No\"],[\"No\"],[\"No\"],[\"No\"],[\"No\"],[\"No\"],[\"Yes\"],[\"Yes\"],[\"No\"],[\"No\"],[\"No\"],[\"No\"],[\"No\"],[\"Yes\"],[\"Yes\"],[\"No\"],[\"No\"],[\"No\"],[\"No\"],[\"Yes\"],[\"Yes\"],[\"No\"],[\"No\"],[\"No\"],[\"No\"],[\"No\"],[\"No\"],[\"No\"],[\"No\"],[\"No\"],[\"No\"],[\"No\"],[\"No\"],[\"Yes\"],[\"No\"],[\"No\"],[\"No\"],[\"No\"],[\"No\"],[\"No\"],[\"No\"],[\"No\"],[\"Yes\"],[\"No\"],[\"No\"],[\"No\"],[\"No\"],[\"Yes\"],[\"Yes\"],[\"No\"],[\"No\"],[\"No\"],[\"Yes\"],[\"No\"],[\"No\"],[\"No\"],[\"No\"],[\"No\"],[\"No\"],[\"No\"],[\"No\"],[\"No\"],[\"No\"],[\"No\"],[\"Yes\"],[\"No\"],[\"No\"],[\"No\"],[\"No\"],[\"No\"],[\"No\"],[\"No\"],[\"No\"],[\"Yes\"],[\"Yes\"],[\"No\"],[\"No\"],[\"No\"],[\"No\"],[\"Yes\"],[\"No\"],[\"No\"],[\"No\"],[\"Yes\"],[\"No\"],[\"No\"],[\"No\"],[\"No\"],[\"Yes\"],[\"No\"],[\"No\"],[\"No\"],[\"No\"],[\"No\"],[\"No\"],[\"No\"],[\"No\"],[\"No\"],[\"Yes\"],[\"Yes\"],[\"Yes\"],[\"No\"],[\"No\"],[\"Yes\"],[\"No\"],[\"No\"],[\"Yes\"],[\"No\"],[\"No\"],[\"No\"],[\"No\"],[\"No\"],[\"No\"],[\"No\"],[\"No\"],[\"No\"],[\"No\"],[\"No\"],[\"No\"],[\"No\"],[\"No\"],[\"No\"],[\"No\"],[\"Yes\"],[\"Yes\"],[\"Yes\"],[\"No\"],[\"Yes\"],[\"No\"],[\"No\"],[\"No\"],[\"No\"],[\"No\"],[\"No\"],[\"No\"],[\"Yes\"],[\"No\"],[\"No\"],[\"No\"],[\"No\"],[\"No\"],[\"No\"],[\"No\"],[\"No\"],[\"Yes\"],[\"No\"],[\"No\"],[\"No\"],[\"No\"],[\"No\"],[\"Yes\"],[\"No\"],[\"Yes\"],[\"No\"],[\"No\"],[\"No\"],[\"No\"],[\"No\"],[\"No\"],[\"No\"],[\"No\"],[\"No\"],[\"No\"],[\"No\"],[\"No\"],[\"No\"],[\"No\"],[\"No\"],[\"No\"],[\"No\"],[\"No\"],[\"No\"],[\"No\"],[\"Yes\"],[\"No\"],[\"No\"],[\"No\"],[\"Yes\"],[\"Yes\"],[\"Yes\"],[\"No\"],[\"No\"],[\"No\"],[\"No\"],[\"No\"],[\"No\"],[\"No\"],[\"No\"],[\"No\"],[\"No\"],[\"No\"],[\"No\"],[\"No\"],[\"No\"],[\"No\"],[\"No\"],[\"No\"],[\"No\"],[\"No\"],[\"No\"],[\"No\"],[\"No\"],[\"No\"],[\"Yes\"],[\"No\"],[\"No\"],[\"No\"],[\"No\"],[\"No\"],[\"No\"],[\"No\"],[\"No\"],[\"No\"],[\"No\"],[\"No\"],[\"No\"],[\"No\"],[\"No\"],[\"No\"],[\"No\"],[\"Yes\"],[\"No\"],[\"No\"],[\"No\"],[\"No\"],[\"No\"],[\"No\"],[\"No\"],[\"No\"],[\"Yes\"],[\"No\"],[\"No\"],[\"No\"],[\"No\"],[\"Yes\"],[\"No\"],[\"No\"],[\"No\"],[\"Yes\"],[\"No\"],[\"No\"],[\"No\"],[\"No\"],[\"No\"],[\"No\"],[\"No\"],[\"No\"],[\"No\"],[\"No\"],[\"No\"],[\"No\"],[\"No\"],[\"No\"],[\"Yes\"],[\"No\"],[\"No\"],[\"No\"],[\"No\"],[\"No\"],[\"No\"],[\"No\"],[\"No\"],[\"No\"],[\"No\"],[\"No\"],[\"No\"],[\"No\"],[\"No\"],[\"Yes\"],[\"No\"],[\"No\"],[\"Yes\"],[\"Yes\"],[\"No\"],[\"No\"],[\"No\"],[\"No\"],[\"No\"],[\"No\"],[\"No\"],[\"Yes\"],[\"No\"],[\"No\"],[\"No\"],[\"No\"],[\"No\"],[\"No\"],[\"No\"],[\"No\"],[\"Yes\"],[\"Yes\"],[\"No\"],[\"No\"],[\"No\"],[\"No\"],[\"No\"],[\"No\"],[\"No\"],[\"No\"],[\"No\"],[\"No\"],[\"No\"],[\"No\"],[\"Yes\"],[\"Yes\"],[\"No\"],[\"No\"],[\"No\"],[\"No\"],[\"No\"],[\"No\"],[\"No\"],[\"No\"],[\"Yes\"],[\"No\"],[\"No\"],[\"Yes\"],[\"No\"],[\"No\"],[\"No\"],[\"No\"],[\"No\"],[\"Yes\"],[\"No\"],[\"Yes\"],[\"No\"],[\"No\"],[\"No\"],[\"No\"],[\"Yes\"],[\"No\"],[\"No\"],[\"No\"],[\"No\"],[\"No\"],[\"No\"],[\"No\"],[\"No\"],[\"Yes\"],[\"No\"],[\"Yes\"],[\"No\"],[\"No\"],[\"No\"],[\"No\"],[\"No\"],[\"Yes\"],[\"No\"],[\"Yes\"],[\"No\"],[\"No\"],[\"No\"],[\"No\"],[\"No\"],[\"No\"],[\"No\"],[\"No\"],[\"Yes\"],[\"Yes\"],[\"No\"],[\"No\"],[\"No\"],[\"No\"],[\"No\"],[\"Yes\"],[\"Yes\"],[\"No\"],[\"No\"],[\"No\"],[\"No\"],[\"No\"],[\"No\"],[\"No\"],[\"No\"],[\"No\"],[\"No\"],[\"No\"],[\"No\"],[\"No\"],[\"Yes\"],[\"Yes\"],[\"No\"],[\"No\"],[\"No\"],[\"No\"],[\"No\"],[\"No\"],[\"No\"],[\"No\"],[\"No\"],[\"No\"],[\"No\"],[\"No\"],[\"Yes\"],[\"No\"],[\"No\"],[\"No\"],[\"No\"],[\"No\"],[\"Yes\"],[\"Yes\"],[\"No\"],[\"No\"],[\"No\"],[\"No\"],[\"Yes\"],[\"Yes\"],[\"No\"],[\"No\"],[\"No\"],[\"No\"],[\"No\"],[\"No\"],[\"No\"],[\"No\"],[\"No\"],[\"No\"],[\"No\"],[\"No\"],[\"No\"],[\"Yes\"],[\"Yes\"],[\"No\"],[\"No\"],[\"No\"],[\"No\"],[\"No\"],[\"No\"],[\"No\"],[\"No\"],[\"No\"],[\"No\"],[\"Yes\"],[\"No\"],[\"No\"],[\"No\"],[\"Yes\"],[\"No\"],[\"No\"],[\"No\"],[\"No\"],[\"No\"],[\"Yes\"],[\"No\"],[\"No\"],[\"No\"],[\"Yes\"],[\"No\"],[\"No\"],[\"No\"],[\"No\"],[\"No\"],[\"No\"],[\"No\"],[\"No\"],[\"No\"],[\"No\"],[\"Yes\"],[\"No\"],[\"No\"],[\"No\"],[\"No\"],[\"Yes\"],[\"Yes\"],[\"No\"],[\"No\"],[\"No\"],[\"No\"],[\"No\"],[\"No\"],[\"No\"],[\"No\"],[\"No\"],[\"No\"],[\"No\"],[\"No\"],[\"No\"],[\"No\"],[\"No\"],[\"No\"],[\"No\"],[\"No\"],[\"No\"],[\"No\"],[\"No\"],[\"No\"],[\"No\"],[\"No\"],[\"No\"],[\"No\"],[\"No\"],[\"No\"],[\"No\"],[\"No\"],[\"No\"],[\"No\"],[\"No\"],[\"No\"],[\"No\"],[\"No\"],[\"No\"],[\"No\"],[\"No\"],[\"No\"],[\"No\"],[\"Yes\"],[\"No\"],[\"No\"],[\"No\"],[\"Yes\"],[\"No\"],[\"Yes\"],[\"No\"],[\"No\"],[\"No\"],[\"No\"],[\"No\"],[\"No\"],[\"No\"],[\"Yes\"],[\"No\"],[\"No\"],[\"No\"],[\"No\"],[\"No\"],[\"No\"],[\"No\"],[\"No\"],[\"Yes\"],[\"No\"],[\"No\"],[\"No\"],[\"No\"],[\"No\"],[\"No\"],[\"No\"],[\"No\"]],\"domain\":{\"x\":[0.0,1.0],\"y\":[0.0,1.0]},\"hovertemplate\":\"Attrition=%{customdata[0]}<extra></extra>\",\"labels\":[\"Yes\",\"No\",\"Yes\",\"No\",\"No\",\"No\",\"No\",\"No\",\"No\",\"No\",\"No\",\"No\",\"No\",\"No\",\"Yes\",\"No\",\"No\",\"No\",\"No\",\"No\",\"No\",\"Yes\",\"No\",\"No\",\"Yes\",\"No\",\"Yes\",\"No\",\"No\",\"No\",\"No\",\"No\",\"No\",\"Yes\",\"Yes\",\"No\",\"Yes\",\"No\",\"No\",\"No\",\"No\",\"No\",\"Yes\",\"No\",\"No\",\"Yes\",\"No\",\"No\",\"No\",\"No\",\"Yes\",\"Yes\",\"No\",\"No\",\"No\",\"No\",\"No\",\"No\",\"No\",\"No\",\"No\",\"No\",\"No\",\"No\",\"No\",\"No\",\"No\",\"No\",\"No\",\"Yes\",\"No\",\"No\",\"No\",\"No\",\"No\",\"No\",\"No\",\"No\",\"No\",\"No\",\"No\",\"No\",\"No\",\"No\",\"No\",\"No\",\"No\",\"No\",\"No\",\"Yes\",\"No\",\"No\",\"No\",\"No\",\"No\",\"No\",\"No\",\"No\",\"No\",\"No\",\"Yes\",\"No\",\"Yes\",\"No\",\"No\",\"No\",\"No\",\"Yes\",\"No\",\"No\",\"No\",\"Yes\",\"No\",\"No\",\"No\",\"No\",\"No\",\"No\",\"No\",\"No\",\"No\",\"No\",\"Yes\",\"No\",\"Yes\",\"No\",\"Yes\",\"Yes\",\"No\",\"No\",\"No\",\"No\",\"Yes\",\"No\",\"No\",\"No\",\"Yes\",\"No\",\"No\",\"No\",\"Yes\",\"No\",\"No\",\"No\",\"No\",\"No\",\"No\",\"No\",\"No\",\"No\",\"No\",\"No\",\"No\",\"No\",\"No\",\"No\",\"No\",\"No\",\"No\",\"No\",\"No\",\"No\",\"No\",\"No\",\"No\",\"No\",\"No\",\"No\",\"No\",\"No\",\"No\",\"Yes\",\"No\",\"No\",\"No\",\"No\",\"No\",\"Yes\",\"No\",\"No\",\"No\",\"No\",\"Yes\",\"No\",\"No\",\"No\",\"No\",\"No\",\"No\",\"No\",\"No\",\"No\",\"Yes\",\"No\",\"No\",\"No\",\"No\",\"No\",\"No\",\"No\",\"No\",\"No\",\"No\",\"No\",\"Yes\",\"Yes\",\"No\",\"No\",\"No\",\"No\",\"Yes\",\"No\",\"No\",\"No\",\"Yes\",\"No\",\"Yes\",\"Yes\",\"No\",\"No\",\"No\",\"No\",\"No\",\"No\",\"No\",\"No\",\"No\",\"No\",\"No\",\"Yes\",\"No\",\"No\",\"No\",\"No\",\"Yes\",\"No\",\"Yes\",\"No\",\"No\",\"Yes\",\"No\",\"No\",\"No\",\"No\",\"No\",\"No\",\"No\",\"No\",\"No\",\"No\",\"Yes\",\"No\",\"No\",\"No\",\"No\",\"No\",\"No\",\"No\",\"No\",\"Yes\",\"No\",\"No\",\"No\",\"No\",\"Yes\",\"No\",\"No\",\"No\",\"No\",\"No\",\"No\",\"Yes\",\"No\",\"No\",\"No\",\"No\",\"No\",\"No\",\"No\",\"No\",\"No\",\"No\",\"No\",\"No\",\"No\",\"No\",\"Yes\",\"No\",\"Yes\",\"No\",\"No\",\"No\",\"No\",\"Yes\",\"No\",\"No\",\"Yes\",\"No\",\"No\",\"No\",\"No\",\"No\",\"No\",\"No\",\"No\",\"No\",\"No\",\"No\",\"No\",\"No\",\"No\",\"No\",\"No\",\"No\",\"No\",\"No\",\"No\",\"Yes\",\"No\",\"No\",\"No\",\"No\",\"No\",\"Yes\",\"No\",\"No\",\"No\",\"Yes\",\"No\",\"No\",\"No\",\"No\",\"No\",\"No\",\"No\",\"No\",\"Yes\",\"No\",\"No\",\"No\",\"No\",\"No\",\"No\",\"No\",\"No\",\"No\",\"No\",\"No\",\"No\",\"No\",\"No\",\"No\",\"No\",\"No\",\"No\",\"No\",\"No\",\"Yes\",\"No\",\"No\",\"No\",\"No\",\"No\",\"Yes\",\"No\",\"No\",\"Yes\",\"No\",\"Yes\",\"No\",\"Yes\",\"No\",\"No\",\"No\",\"No\",\"No\",\"No\",\"No\",\"Yes\",\"No\",\"No\",\"No\",\"Yes\",\"No\",\"No\",\"Yes\",\"No\",\"No\",\"No\",\"No\",\"No\",\"No\",\"No\",\"No\",\"No\",\"No\",\"No\",\"No\",\"No\",\"No\",\"No\",\"No\",\"No\",\"No\",\"No\",\"Yes\",\"No\",\"No\",\"No\",\"No\",\"No\",\"No\",\"No\",\"No\",\"Yes\",\"Yes\",\"No\",\"No\",\"No\",\"No\",\"No\",\"Yes\",\"Yes\",\"No\",\"No\",\"No\",\"No\",\"No\",\"No\",\"No\",\"No\",\"No\",\"No\",\"No\",\"No\",\"Yes\",\"Yes\",\"No\",\"No\",\"Yes\",\"Yes\",\"No\",\"No\",\"Yes\",\"No\",\"No\",\"No\",\"No\",\"No\",\"No\",\"No\",\"No\",\"No\",\"Yes\",\"No\",\"No\",\"No\",\"Yes\",\"No\",\"No\",\"No\",\"No\",\"No\",\"Yes\",\"No\",\"No\",\"No\",\"No\",\"No\",\"Yes\",\"No\",\"No\",\"No\",\"No\",\"No\",\"No\",\"No\",\"No\",\"No\",\"Yes\",\"Yes\",\"No\",\"Yes\",\"No\",\"No\",\"No\",\"No\",\"No\",\"No\",\"No\",\"No\",\"No\",\"No\",\"No\",\"No\",\"Yes\",\"No\",\"No\",\"No\",\"No\",\"No\",\"No\",\"No\",\"No\",\"Yes\",\"No\",\"No\",\"No\",\"No\",\"No\",\"No\",\"No\",\"No\",\"Yes\",\"Yes\",\"No\",\"No\",\"No\",\"No\",\"No\",\"No\",\"No\",\"No\",\"No\",\"No\",\"Yes\",\"No\",\"No\",\"Yes\",\"No\",\"No\",\"No\",\"No\",\"No\",\"No\",\"No\",\"No\",\"No\",\"No\",\"No\",\"Yes\",\"No\",\"No\",\"No\",\"No\",\"No\",\"No\",\"Yes\",\"No\",\"No\",\"No\",\"No\",\"No\",\"No\",\"No\",\"No\",\"No\",\"No\",\"No\",\"No\",\"No\",\"No\",\"Yes\",\"No\",\"No\",\"No\",\"Yes\",\"No\",\"Yes\",\"No\",\"No\",\"No\",\"No\",\"Yes\",\"No\",\"No\",\"No\",\"No\",\"No\",\"No\",\"No\",\"No\",\"No\",\"No\",\"No\",\"Yes\",\"No\",\"No\",\"No\",\"Yes\",\"No\",\"Yes\",\"No\",\"No\",\"No\",\"Yes\",\"No\",\"No\",\"Yes\",\"No\",\"No\",\"No\",\"No\",\"No\",\"No\",\"No\",\"No\",\"Yes\",\"Yes\",\"No\",\"No\",\"No\",\"No\",\"No\",\"Yes\",\"No\",\"No\",\"No\",\"No\",\"No\",\"No\",\"No\",\"No\",\"No\",\"No\",\"No\",\"No\",\"No\",\"No\",\"No\",\"No\",\"No\",\"No\",\"No\",\"No\",\"No\",\"Yes\",\"No\",\"No\",\"No\",\"No\",\"No\",\"No\",\"No\",\"No\",\"Yes\",\"No\",\"No\",\"No\",\"No\",\"No\",\"No\",\"No\",\"No\",\"No\",\"No\",\"Yes\",\"No\",\"No\",\"No\",\"Yes\",\"No\",\"Yes\",\"Yes\",\"No\",\"No\",\"Yes\",\"Yes\",\"No\",\"Yes\",\"No\",\"No\",\"No\",\"No\",\"No\",\"No\",\"No\",\"No\",\"No\",\"No\",\"No\",\"No\",\"No\",\"Yes\",\"No\",\"No\",\"No\",\"No\",\"Yes\",\"Yes\",\"No\",\"No\",\"No\",\"Yes\",\"No\",\"Yes\",\"No\",\"No\",\"No\",\"No\",\"Yes\",\"No\",\"No\",\"No\",\"No\",\"No\",\"Yes\",\"No\",\"No\",\"Yes\",\"No\",\"Yes\",\"No\",\"No\",\"No\",\"No\",\"No\",\"No\",\"No\",\"No\",\"Yes\",\"No\",\"No\",\"No\",\"No\",\"Yes\",\"No\",\"No\",\"No\",\"No\",\"No\",\"Yes\",\"Yes\",\"No\",\"No\",\"No\",\"No\",\"No\",\"No\",\"No\",\"No\",\"No\",\"No\",\"No\",\"Yes\",\"No\",\"No\",\"No\",\"Yes\",\"Yes\",\"No\",\"No\",\"Yes\",\"No\",\"No\",\"No\",\"No\",\"No\",\"No\",\"No\",\"No\",\"Yes\",\"Yes\",\"No\",\"No\",\"No\",\"No\",\"No\",\"No\",\"No\",\"No\",\"No\",\"No\",\"No\",\"No\",\"No\",\"Yes\",\"Yes\",\"No\",\"Yes\",\"Yes\",\"No\",\"No\",\"No\",\"No\",\"No\",\"No\",\"No\",\"No\",\"Yes\",\"No\",\"Yes\",\"Yes\",\"No\",\"No\",\"No\",\"Yes\",\"Yes\",\"Yes\",\"No\",\"Yes\",\"Yes\",\"No\",\"No\",\"No\",\"No\",\"No\",\"No\",\"No\",\"No\",\"No\",\"No\",\"No\",\"Yes\",\"No\",\"No\",\"No\",\"No\",\"No\",\"No\",\"No\",\"No\",\"No\",\"No\",\"No\",\"No\",\"No\",\"No\",\"Yes\",\"Yes\",\"No\",\"Yes\",\"No\",\"No\",\"No\",\"No\",\"Yes\",\"No\",\"Yes\",\"No\",\"No\",\"No\",\"Yes\",\"No\",\"No\",\"No\",\"No\",\"No\",\"No\",\"Yes\",\"No\",\"No\",\"No\",\"No\",\"No\",\"No\",\"No\",\"Yes\",\"No\",\"No\",\"Yes\",\"No\",\"No\",\"No\",\"Yes\",\"No\",\"No\",\"No\",\"No\",\"No\",\"No\",\"Yes\",\"No\",\"No\",\"No\",\"No\",\"No\",\"No\",\"No\",\"No\",\"No\",\"No\",\"No\",\"No\",\"No\",\"No\",\"No\",\"No\",\"No\",\"No\",\"No\",\"No\",\"Yes\",\"No\",\"No\",\"No\",\"No\",\"No\",\"No\",\"No\",\"No\",\"No\",\"No\",\"No\",\"No\",\"No\",\"No\",\"No\",\"No\",\"No\",\"No\",\"Yes\",\"No\",\"Yes\",\"No\",\"Yes\",\"No\",\"No\",\"No\",\"No\",\"No\",\"No\",\"No\",\"No\",\"No\",\"No\",\"No\",\"No\",\"Yes\",\"No\",\"No\",\"No\",\"Yes\",\"No\",\"No\",\"No\",\"No\",\"No\",\"No\",\"Yes\",\"Yes\",\"No\",\"No\",\"No\",\"No\",\"No\",\"Yes\",\"Yes\",\"No\",\"No\",\"No\",\"No\",\"Yes\",\"Yes\",\"No\",\"No\",\"No\",\"No\",\"No\",\"No\",\"No\",\"No\",\"No\",\"No\",\"No\",\"No\",\"Yes\",\"No\",\"No\",\"No\",\"No\",\"No\",\"No\",\"No\",\"No\",\"Yes\",\"No\",\"No\",\"No\",\"No\",\"Yes\",\"Yes\",\"No\",\"No\",\"No\",\"Yes\",\"No\",\"No\",\"No\",\"No\",\"No\",\"No\",\"No\",\"No\",\"No\",\"No\",\"No\",\"Yes\",\"No\",\"No\",\"No\",\"No\",\"No\",\"No\",\"No\",\"No\",\"Yes\",\"Yes\",\"No\",\"No\",\"No\",\"No\",\"Yes\",\"No\",\"No\",\"No\",\"Yes\",\"No\",\"No\",\"No\",\"No\",\"Yes\",\"No\",\"No\",\"No\",\"No\",\"No\",\"No\",\"No\",\"No\",\"No\",\"Yes\",\"Yes\",\"Yes\",\"No\",\"No\",\"Yes\",\"No\",\"No\",\"Yes\",\"No\",\"No\",\"No\",\"No\",\"No\",\"No\",\"No\",\"No\",\"No\",\"No\",\"No\",\"No\",\"No\",\"No\",\"No\",\"No\",\"Yes\",\"Yes\",\"Yes\",\"No\",\"Yes\",\"No\",\"No\",\"No\",\"No\",\"No\",\"No\",\"No\",\"Yes\",\"No\",\"No\",\"No\",\"No\",\"No\",\"No\",\"No\",\"No\",\"Yes\",\"No\",\"No\",\"No\",\"No\",\"No\",\"Yes\",\"No\",\"Yes\",\"No\",\"No\",\"No\",\"No\",\"No\",\"No\",\"No\",\"No\",\"No\",\"No\",\"No\",\"No\",\"No\",\"No\",\"No\",\"No\",\"No\",\"No\",\"No\",\"No\",\"Yes\",\"No\",\"No\",\"No\",\"Yes\",\"Yes\",\"Yes\",\"No\",\"No\",\"No\",\"No\",\"No\",\"No\",\"No\",\"No\",\"No\",\"No\",\"No\",\"No\",\"No\",\"No\",\"No\",\"No\",\"No\",\"No\",\"No\",\"No\",\"No\",\"No\",\"No\",\"Yes\",\"No\",\"No\",\"No\",\"No\",\"No\",\"No\",\"No\",\"No\",\"No\",\"No\",\"No\",\"No\",\"No\",\"No\",\"No\",\"No\",\"Yes\",\"No\",\"No\",\"No\",\"No\",\"No\",\"No\",\"No\",\"No\",\"Yes\",\"No\",\"No\",\"No\",\"No\",\"Yes\",\"No\",\"No\",\"No\",\"Yes\",\"No\",\"No\",\"No\",\"No\",\"No\",\"No\",\"No\",\"No\",\"No\",\"No\",\"No\",\"No\",\"No\",\"No\",\"Yes\",\"No\",\"No\",\"No\",\"No\",\"No\",\"No\",\"No\",\"No\",\"No\",\"No\",\"No\",\"No\",\"No\",\"No\",\"Yes\",\"No\",\"No\",\"Yes\",\"Yes\",\"No\",\"No\",\"No\",\"No\",\"No\",\"No\",\"No\",\"Yes\",\"No\",\"No\",\"No\",\"No\",\"No\",\"No\",\"No\",\"No\",\"Yes\",\"Yes\",\"No\",\"No\",\"No\",\"No\",\"No\",\"No\",\"No\",\"No\",\"No\",\"No\",\"No\",\"No\",\"Yes\",\"Yes\",\"No\",\"No\",\"No\",\"No\",\"No\",\"No\",\"No\",\"No\",\"Yes\",\"No\",\"No\",\"Yes\",\"No\",\"No\",\"No\",\"No\",\"No\",\"Yes\",\"No\",\"Yes\",\"No\",\"No\",\"No\",\"No\",\"Yes\",\"No\",\"No\",\"No\",\"No\",\"No\",\"No\",\"No\",\"No\",\"Yes\",\"No\",\"Yes\",\"No\",\"No\",\"No\",\"No\",\"No\",\"Yes\",\"No\",\"Yes\",\"No\",\"No\",\"No\",\"No\",\"No\",\"No\",\"No\",\"No\",\"Yes\",\"Yes\",\"No\",\"No\",\"No\",\"No\",\"No\",\"Yes\",\"Yes\",\"No\",\"No\",\"No\",\"No\",\"No\",\"No\",\"No\",\"No\",\"No\",\"No\",\"No\",\"No\",\"No\",\"Yes\",\"Yes\",\"No\",\"No\",\"No\",\"No\",\"No\",\"No\",\"No\",\"No\",\"No\",\"No\",\"No\",\"No\",\"Yes\",\"No\",\"No\",\"No\",\"No\",\"No\",\"Yes\",\"Yes\",\"No\",\"No\",\"No\",\"No\",\"Yes\",\"Yes\",\"No\",\"No\",\"No\",\"No\",\"No\",\"No\",\"No\",\"No\",\"No\",\"No\",\"No\",\"No\",\"No\",\"Yes\",\"Yes\",\"No\",\"No\",\"No\",\"No\",\"No\",\"No\",\"No\",\"No\",\"No\",\"No\",\"Yes\",\"No\",\"No\",\"No\",\"Yes\",\"No\",\"No\",\"No\",\"No\",\"No\",\"Yes\",\"No\",\"No\",\"No\",\"Yes\",\"No\",\"No\",\"No\",\"No\",\"No\",\"No\",\"No\",\"No\",\"No\",\"No\",\"Yes\",\"No\",\"No\",\"No\",\"No\",\"Yes\",\"Yes\",\"No\",\"No\",\"No\",\"No\",\"No\",\"No\",\"No\",\"No\",\"No\",\"No\",\"No\",\"No\",\"No\",\"No\",\"No\",\"No\",\"No\",\"No\",\"No\",\"No\",\"No\",\"No\",\"No\",\"No\",\"No\",\"No\",\"No\",\"No\",\"No\",\"No\",\"No\",\"No\",\"No\",\"No\",\"No\",\"No\",\"No\",\"No\",\"No\",\"No\",\"No\",\"Yes\",\"No\",\"No\",\"No\",\"Yes\",\"No\",\"Yes\",\"No\",\"No\",\"No\",\"No\",\"No\",\"No\",\"No\",\"Yes\",\"No\",\"No\",\"No\",\"No\",\"No\",\"No\",\"No\",\"No\",\"Yes\",\"No\",\"No\",\"No\",\"No\",\"No\",\"No\",\"No\",\"No\"],\"legendgroup\":\"\",\"marker\":{\"colors\":[\"red\",\"green\",\"red\",\"green\",\"green\",\"green\",\"green\",\"green\",\"green\",\"green\",\"green\",\"green\",\"green\",\"green\",\"red\",\"green\",\"green\",\"green\",\"green\",\"green\",\"green\",\"red\",\"green\",\"green\",\"red\",\"green\",\"red\",\"green\",\"green\",\"green\",\"green\",\"green\",\"green\",\"red\",\"red\",\"green\",\"red\",\"green\",\"green\",\"green\",\"green\",\"green\",\"red\",\"green\",\"green\",\"red\",\"green\",\"green\",\"green\",\"green\",\"red\",\"red\",\"green\",\"green\",\"green\",\"green\",\"green\",\"green\",\"green\",\"green\",\"green\",\"green\",\"green\",\"green\",\"green\",\"green\",\"green\",\"green\",\"green\",\"red\",\"green\",\"green\",\"green\",\"green\",\"green\",\"green\",\"green\",\"green\",\"green\",\"green\",\"green\",\"green\",\"green\",\"green\",\"green\",\"green\",\"green\",\"green\",\"green\",\"red\",\"green\",\"green\",\"green\",\"green\",\"green\",\"green\",\"green\",\"green\",\"green\",\"green\",\"red\",\"green\",\"red\",\"green\",\"green\",\"green\",\"green\",\"red\",\"green\",\"green\",\"green\",\"red\",\"green\",\"green\",\"green\",\"green\",\"green\",\"green\",\"green\",\"green\",\"green\",\"green\",\"red\",\"green\",\"red\",\"green\",\"red\",\"red\",\"green\",\"green\",\"green\",\"green\",\"red\",\"green\",\"green\",\"green\",\"red\",\"green\",\"green\",\"green\",\"red\",\"green\",\"green\",\"green\",\"green\",\"green\",\"green\",\"green\",\"green\",\"green\",\"green\",\"green\",\"green\",\"green\",\"green\",\"green\",\"green\",\"green\",\"green\",\"green\",\"green\",\"green\",\"green\",\"green\",\"green\",\"green\",\"green\",\"green\",\"green\",\"green\",\"green\",\"red\",\"green\",\"green\",\"green\",\"green\",\"green\",\"red\",\"green\",\"green\",\"green\",\"green\",\"red\",\"green\",\"green\",\"green\",\"green\",\"green\",\"green\",\"green\",\"green\",\"green\",\"red\",\"green\",\"green\",\"green\",\"green\",\"green\",\"green\",\"green\",\"green\",\"green\",\"green\",\"green\",\"red\",\"red\",\"green\",\"green\",\"green\",\"green\",\"red\",\"green\",\"green\",\"green\",\"red\",\"green\",\"red\",\"red\",\"green\",\"green\",\"green\",\"green\",\"green\",\"green\",\"green\",\"green\",\"green\",\"green\",\"green\",\"red\",\"green\",\"green\",\"green\",\"green\",\"red\",\"green\",\"red\",\"green\",\"green\",\"red\",\"green\",\"green\",\"green\",\"green\",\"green\",\"green\",\"green\",\"green\",\"green\",\"green\",\"red\",\"green\",\"green\",\"green\",\"green\",\"green\",\"green\",\"green\",\"green\",\"red\",\"green\",\"green\",\"green\",\"green\",\"red\",\"green\",\"green\",\"green\",\"green\",\"green\",\"green\",\"red\",\"green\",\"green\",\"green\",\"green\",\"green\",\"green\",\"green\",\"green\",\"green\",\"green\",\"green\",\"green\",\"green\",\"green\",\"red\",\"green\",\"red\",\"green\",\"green\",\"green\",\"green\",\"red\",\"green\",\"green\",\"red\",\"green\",\"green\",\"green\",\"green\",\"green\",\"green\",\"green\",\"green\",\"green\",\"green\",\"green\",\"green\",\"green\",\"green\",\"green\",\"green\",\"green\",\"green\",\"green\",\"green\",\"red\",\"green\",\"green\",\"green\",\"green\",\"green\",\"red\",\"green\",\"green\",\"green\",\"red\",\"green\",\"green\",\"green\",\"green\",\"green\",\"green\",\"green\",\"green\",\"red\",\"green\",\"green\",\"green\",\"green\",\"green\",\"green\",\"green\",\"green\",\"green\",\"green\",\"green\",\"green\",\"green\",\"green\",\"green\",\"green\",\"green\",\"green\",\"green\",\"green\",\"red\",\"green\",\"green\",\"green\",\"green\",\"green\",\"red\",\"green\",\"green\",\"red\",\"green\",\"red\",\"green\",\"red\",\"green\",\"green\",\"green\",\"green\",\"green\",\"green\",\"green\",\"red\",\"green\",\"green\",\"green\",\"red\",\"green\",\"green\",\"red\",\"green\",\"green\",\"green\",\"green\",\"green\",\"green\",\"green\",\"green\",\"green\",\"green\",\"green\",\"green\",\"green\",\"green\",\"green\",\"green\",\"green\",\"green\",\"green\",\"red\",\"green\",\"green\",\"green\",\"green\",\"green\",\"green\",\"green\",\"green\",\"red\",\"red\",\"green\",\"green\",\"green\",\"green\",\"green\",\"red\",\"red\",\"green\",\"green\",\"green\",\"green\",\"green\",\"green\",\"green\",\"green\",\"green\",\"green\",\"green\",\"green\",\"red\",\"red\",\"green\",\"green\",\"red\",\"red\",\"green\",\"green\",\"red\",\"green\",\"green\",\"green\",\"green\",\"green\",\"green\",\"green\",\"green\",\"green\",\"red\",\"green\",\"green\",\"green\",\"red\",\"green\",\"green\",\"green\",\"green\",\"green\",\"red\",\"green\",\"green\",\"green\",\"green\",\"green\",\"red\",\"green\",\"green\",\"green\",\"green\",\"green\",\"green\",\"green\",\"green\",\"green\",\"red\",\"red\",\"green\",\"red\",\"green\",\"green\",\"green\",\"green\",\"green\",\"green\",\"green\",\"green\",\"green\",\"green\",\"green\",\"green\",\"red\",\"green\",\"green\",\"green\",\"green\",\"green\",\"green\",\"green\",\"green\",\"red\",\"green\",\"green\",\"green\",\"green\",\"green\",\"green\",\"green\",\"green\",\"red\",\"red\",\"green\",\"green\",\"green\",\"green\",\"green\",\"green\",\"green\",\"green\",\"green\",\"green\",\"red\",\"green\",\"green\",\"red\",\"green\",\"green\",\"green\",\"green\",\"green\",\"green\",\"green\",\"green\",\"green\",\"green\",\"green\",\"red\",\"green\",\"green\",\"green\",\"green\",\"green\",\"green\",\"red\",\"green\",\"green\",\"green\",\"green\",\"green\",\"green\",\"green\",\"green\",\"green\",\"green\",\"green\",\"green\",\"green\",\"green\",\"red\",\"green\",\"green\",\"green\",\"red\",\"green\",\"red\",\"green\",\"green\",\"green\",\"green\",\"red\",\"green\",\"green\",\"green\",\"green\",\"green\",\"green\",\"green\",\"green\",\"green\",\"green\",\"green\",\"red\",\"green\",\"green\",\"green\",\"red\",\"green\",\"red\",\"green\",\"green\",\"green\",\"red\",\"green\",\"green\",\"red\",\"green\",\"green\",\"green\",\"green\",\"green\",\"green\",\"green\",\"green\",\"red\",\"red\",\"green\",\"green\",\"green\",\"green\",\"green\",\"red\",\"green\",\"green\",\"green\",\"green\",\"green\",\"green\",\"green\",\"green\",\"green\",\"green\",\"green\",\"green\",\"green\",\"green\",\"green\",\"green\",\"green\",\"green\",\"green\",\"green\",\"green\",\"red\",\"green\",\"green\",\"green\",\"green\",\"green\",\"green\",\"green\",\"green\",\"red\",\"green\",\"green\",\"green\",\"green\",\"green\",\"green\",\"green\",\"green\",\"green\",\"green\",\"red\",\"green\",\"green\",\"green\",\"red\",\"green\",\"red\",\"red\",\"green\",\"green\",\"red\",\"red\",\"green\",\"red\",\"green\",\"green\",\"green\",\"green\",\"green\",\"green\",\"green\",\"green\",\"green\",\"green\",\"green\",\"green\",\"green\",\"red\",\"green\",\"green\",\"green\",\"green\",\"red\",\"red\",\"green\",\"green\",\"green\",\"red\",\"green\",\"red\",\"green\",\"green\",\"green\",\"green\",\"red\",\"green\",\"green\",\"green\",\"green\",\"green\",\"red\",\"green\",\"green\",\"red\",\"green\",\"red\",\"green\",\"green\",\"green\",\"green\",\"green\",\"green\",\"green\",\"green\",\"red\",\"green\",\"green\",\"green\",\"green\",\"red\",\"green\",\"green\",\"green\",\"green\",\"green\",\"red\",\"red\",\"green\",\"green\",\"green\",\"green\",\"green\",\"green\",\"green\",\"green\",\"green\",\"green\",\"green\",\"red\",\"green\",\"green\",\"green\",\"red\",\"red\",\"green\",\"green\",\"red\",\"green\",\"green\",\"green\",\"green\",\"green\",\"green\",\"green\",\"green\",\"red\",\"red\",\"green\",\"green\",\"green\",\"green\",\"green\",\"green\",\"green\",\"green\",\"green\",\"green\",\"green\",\"green\",\"green\",\"red\",\"red\",\"green\",\"red\",\"red\",\"green\",\"green\",\"green\",\"green\",\"green\",\"green\",\"green\",\"green\",\"red\",\"green\",\"red\",\"red\",\"green\",\"green\",\"green\",\"red\",\"red\",\"red\",\"green\",\"red\",\"red\",\"green\",\"green\",\"green\",\"green\",\"green\",\"green\",\"green\",\"green\",\"green\",\"green\",\"green\",\"red\",\"green\",\"green\",\"green\",\"green\",\"green\",\"green\",\"green\",\"green\",\"green\",\"green\",\"green\",\"green\",\"green\",\"green\",\"red\",\"red\",\"green\",\"red\",\"green\",\"green\",\"green\",\"green\",\"red\",\"green\",\"red\",\"green\",\"green\",\"green\",\"red\",\"green\",\"green\",\"green\",\"green\",\"green\",\"green\",\"red\",\"green\",\"green\",\"green\",\"green\",\"green\",\"green\",\"green\",\"red\",\"green\",\"green\",\"red\",\"green\",\"green\",\"green\",\"red\",\"green\",\"green\",\"green\",\"green\",\"green\",\"green\",\"red\",\"green\",\"green\",\"green\",\"green\",\"green\",\"green\",\"green\",\"green\",\"green\",\"green\",\"green\",\"green\",\"green\",\"green\",\"green\",\"green\",\"green\",\"green\",\"green\",\"green\",\"red\",\"green\",\"green\",\"green\",\"green\",\"green\",\"green\",\"green\",\"green\",\"green\",\"green\",\"green\",\"green\",\"green\",\"green\",\"green\",\"green\",\"green\",\"green\",\"red\",\"green\",\"red\",\"green\",\"red\",\"green\",\"green\",\"green\",\"green\",\"green\",\"green\",\"green\",\"green\",\"green\",\"green\",\"green\",\"green\",\"red\",\"green\",\"green\",\"green\",\"red\",\"green\",\"green\",\"green\",\"green\",\"green\",\"green\",\"red\",\"red\",\"green\",\"green\",\"green\",\"green\",\"green\",\"red\",\"red\",\"green\",\"green\",\"green\",\"green\",\"red\",\"red\",\"green\",\"green\",\"green\",\"green\",\"green\",\"green\",\"green\",\"green\",\"green\",\"green\",\"green\",\"green\",\"red\",\"green\",\"green\",\"green\",\"green\",\"green\",\"green\",\"green\",\"green\",\"red\",\"green\",\"green\",\"green\",\"green\",\"red\",\"red\",\"green\",\"green\",\"green\",\"red\",\"green\",\"green\",\"green\",\"green\",\"green\",\"green\",\"green\",\"green\",\"green\",\"green\",\"green\",\"red\",\"green\",\"green\",\"green\",\"green\",\"green\",\"green\",\"green\",\"green\",\"red\",\"red\",\"green\",\"green\",\"green\",\"green\",\"red\",\"green\",\"green\",\"green\",\"red\",\"green\",\"green\",\"green\",\"green\",\"red\",\"green\",\"green\",\"green\",\"green\",\"green\",\"green\",\"green\",\"green\",\"green\",\"red\",\"red\",\"red\",\"green\",\"green\",\"red\",\"green\",\"green\",\"red\",\"green\",\"green\",\"green\",\"green\",\"green\",\"green\",\"green\",\"green\",\"green\",\"green\",\"green\",\"green\",\"green\",\"green\",\"green\",\"green\",\"red\",\"red\",\"red\",\"green\",\"red\",\"green\",\"green\",\"green\",\"green\",\"green\",\"green\",\"green\",\"red\",\"green\",\"green\",\"green\",\"green\",\"green\",\"green\",\"green\",\"green\",\"red\",\"green\",\"green\",\"green\",\"green\",\"green\",\"red\",\"green\",\"red\",\"green\",\"green\",\"green\",\"green\",\"green\",\"green\",\"green\",\"green\",\"green\",\"green\",\"green\",\"green\",\"green\",\"green\",\"green\",\"green\",\"green\",\"green\",\"green\",\"green\",\"red\",\"green\",\"green\",\"green\",\"red\",\"red\",\"red\",\"green\",\"green\",\"green\",\"green\",\"green\",\"green\",\"green\",\"green\",\"green\",\"green\",\"green\",\"green\",\"green\",\"green\",\"green\",\"green\",\"green\",\"green\",\"green\",\"green\",\"green\",\"green\",\"green\",\"red\",\"green\",\"green\",\"green\",\"green\",\"green\",\"green\",\"green\",\"green\",\"green\",\"green\",\"green\",\"green\",\"green\",\"green\",\"green\",\"green\",\"red\",\"green\",\"green\",\"green\",\"green\",\"green\",\"green\",\"green\",\"green\",\"red\",\"green\",\"green\",\"green\",\"green\",\"red\",\"green\",\"green\",\"green\",\"red\",\"green\",\"green\",\"green\",\"green\",\"green\",\"green\",\"green\",\"green\",\"green\",\"green\",\"green\",\"green\",\"green\",\"green\",\"red\",\"green\",\"green\",\"green\",\"green\",\"green\",\"green\",\"green\",\"green\",\"green\",\"green\",\"green\",\"green\",\"green\",\"green\",\"red\",\"green\",\"green\",\"red\",\"red\",\"green\",\"green\",\"green\",\"green\",\"green\",\"green\",\"green\",\"red\",\"green\",\"green\",\"green\",\"green\",\"green\",\"green\",\"green\",\"green\",\"red\",\"red\",\"green\",\"green\",\"green\",\"green\",\"green\",\"green\",\"green\",\"green\",\"green\",\"green\",\"green\",\"green\",\"red\",\"red\",\"green\",\"green\",\"green\",\"green\",\"green\",\"green\",\"green\",\"green\",\"red\",\"green\",\"green\",\"red\",\"green\",\"green\",\"green\",\"green\",\"green\",\"red\",\"green\",\"red\",\"green\",\"green\",\"green\",\"green\",\"red\",\"green\",\"green\",\"green\",\"green\",\"green\",\"green\",\"green\",\"green\",\"red\",\"green\",\"red\",\"green\",\"green\",\"green\",\"green\",\"green\",\"red\",\"green\",\"red\",\"green\",\"green\",\"green\",\"green\",\"green\",\"green\",\"green\",\"green\",\"red\",\"red\",\"green\",\"green\",\"green\",\"green\",\"green\",\"red\",\"red\",\"green\",\"green\",\"green\",\"green\",\"green\",\"green\",\"green\",\"green\",\"green\",\"green\",\"green\",\"green\",\"green\",\"red\",\"red\",\"green\",\"green\",\"green\",\"green\",\"green\",\"green\",\"green\",\"green\",\"green\",\"green\",\"green\",\"green\",\"red\",\"green\",\"green\",\"green\",\"green\",\"green\",\"red\",\"red\",\"green\",\"green\",\"green\",\"green\",\"red\",\"red\",\"green\",\"green\",\"green\",\"green\",\"green\",\"green\",\"green\",\"green\",\"green\",\"green\",\"green\",\"green\",\"green\",\"red\",\"red\",\"green\",\"green\",\"green\",\"green\",\"green\",\"green\",\"green\",\"green\",\"green\",\"green\",\"red\",\"green\",\"green\",\"green\",\"red\",\"green\",\"green\",\"green\",\"green\",\"green\",\"red\",\"green\",\"green\",\"green\",\"red\",\"green\",\"green\",\"green\",\"green\",\"green\",\"green\",\"green\",\"green\",\"green\",\"green\",\"red\",\"green\",\"green\",\"green\",\"green\",\"red\",\"red\",\"green\",\"green\",\"green\",\"green\",\"green\",\"green\",\"green\",\"green\",\"green\",\"green\",\"green\",\"green\",\"green\",\"green\",\"green\",\"green\",\"green\",\"green\",\"green\",\"green\",\"green\",\"green\",\"green\",\"green\",\"green\",\"green\",\"green\",\"green\",\"green\",\"green\",\"green\",\"green\",\"green\",\"green\",\"green\",\"green\",\"green\",\"green\",\"green\",\"green\",\"green\",\"red\",\"green\",\"green\",\"green\",\"red\",\"green\",\"red\",\"green\",\"green\",\"green\",\"green\",\"green\",\"green\",\"green\",\"red\",\"green\",\"green\",\"green\",\"green\",\"green\",\"green\",\"green\",\"green\",\"red\",\"green\",\"green\",\"green\",\"green\",\"green\",\"green\",\"green\",\"green\"]},\"name\":\"\",\"showlegend\":true,\"type\":\"pie\"}],                        {\"template\":{\"data\":{\"bar\":[{\"error_x\":{\"color\":\"#2a3f5f\"},\"error_y\":{\"color\":\"#2a3f5f\"},\"marker\":{\"line\":{\"color\":\"#E5ECF6\",\"width\":0.5},\"pattern\":{\"fillmode\":\"overlay\",\"size\":10,\"solidity\":0.2}},\"type\":\"bar\"}],\"barpolar\":[{\"marker\":{\"line\":{\"color\":\"#E5ECF6\",\"width\":0.5},\"pattern\":{\"fillmode\":\"overlay\",\"size\":10,\"solidity\":0.2}},\"type\":\"barpolar\"}],\"carpet\":[{\"aaxis\":{\"endlinecolor\":\"#2a3f5f\",\"gridcolor\":\"white\",\"linecolor\":\"white\",\"minorgridcolor\":\"white\",\"startlinecolor\":\"#2a3f5f\"},\"baxis\":{\"endlinecolor\":\"#2a3f5f\",\"gridcolor\":\"white\",\"linecolor\":\"white\",\"minorgridcolor\":\"white\",\"startlinecolor\":\"#2a3f5f\"},\"type\":\"carpet\"}],\"choropleth\":[{\"colorbar\":{\"outlinewidth\":0,\"ticks\":\"\"},\"type\":\"choropleth\"}],\"contour\":[{\"colorbar\":{\"outlinewidth\":0,\"ticks\":\"\"},\"colorscale\":[[0.0,\"#0d0887\"],[0.1111111111111111,\"#46039f\"],[0.2222222222222222,\"#7201a8\"],[0.3333333333333333,\"#9c179e\"],[0.4444444444444444,\"#bd3786\"],[0.5555555555555556,\"#d8576b\"],[0.6666666666666666,\"#ed7953\"],[0.7777777777777778,\"#fb9f3a\"],[0.8888888888888888,\"#fdca26\"],[1.0,\"#f0f921\"]],\"type\":\"contour\"}],\"contourcarpet\":[{\"colorbar\":{\"outlinewidth\":0,\"ticks\":\"\"},\"type\":\"contourcarpet\"}],\"heatmap\":[{\"colorbar\":{\"outlinewidth\":0,\"ticks\":\"\"},\"colorscale\":[[0.0,\"#0d0887\"],[0.1111111111111111,\"#46039f\"],[0.2222222222222222,\"#7201a8\"],[0.3333333333333333,\"#9c179e\"],[0.4444444444444444,\"#bd3786\"],[0.5555555555555556,\"#d8576b\"],[0.6666666666666666,\"#ed7953\"],[0.7777777777777778,\"#fb9f3a\"],[0.8888888888888888,\"#fdca26\"],[1.0,\"#f0f921\"]],\"type\":\"heatmap\"}],\"heatmapgl\":[{\"colorbar\":{\"outlinewidth\":0,\"ticks\":\"\"},\"colorscale\":[[0.0,\"#0d0887\"],[0.1111111111111111,\"#46039f\"],[0.2222222222222222,\"#7201a8\"],[0.3333333333333333,\"#9c179e\"],[0.4444444444444444,\"#bd3786\"],[0.5555555555555556,\"#d8576b\"],[0.6666666666666666,\"#ed7953\"],[0.7777777777777778,\"#fb9f3a\"],[0.8888888888888888,\"#fdca26\"],[1.0,\"#f0f921\"]],\"type\":\"heatmapgl\"}],\"histogram\":[{\"marker\":{\"pattern\":{\"fillmode\":\"overlay\",\"size\":10,\"solidity\":0.2}},\"type\":\"histogram\"}],\"histogram2d\":[{\"colorbar\":{\"outlinewidth\":0,\"ticks\":\"\"},\"colorscale\":[[0.0,\"#0d0887\"],[0.1111111111111111,\"#46039f\"],[0.2222222222222222,\"#7201a8\"],[0.3333333333333333,\"#9c179e\"],[0.4444444444444444,\"#bd3786\"],[0.5555555555555556,\"#d8576b\"],[0.6666666666666666,\"#ed7953\"],[0.7777777777777778,\"#fb9f3a\"],[0.8888888888888888,\"#fdca26\"],[1.0,\"#f0f921\"]],\"type\":\"histogram2d\"}],\"histogram2dcontour\":[{\"colorbar\":{\"outlinewidth\":0,\"ticks\":\"\"},\"colorscale\":[[0.0,\"#0d0887\"],[0.1111111111111111,\"#46039f\"],[0.2222222222222222,\"#7201a8\"],[0.3333333333333333,\"#9c179e\"],[0.4444444444444444,\"#bd3786\"],[0.5555555555555556,\"#d8576b\"],[0.6666666666666666,\"#ed7953\"],[0.7777777777777778,\"#fb9f3a\"],[0.8888888888888888,\"#fdca26\"],[1.0,\"#f0f921\"]],\"type\":\"histogram2dcontour\"}],\"mesh3d\":[{\"colorbar\":{\"outlinewidth\":0,\"ticks\":\"\"},\"type\":\"mesh3d\"}],\"parcoords\":[{\"line\":{\"colorbar\":{\"outlinewidth\":0,\"ticks\":\"\"}},\"type\":\"parcoords\"}],\"pie\":[{\"automargin\":true,\"type\":\"pie\"}],\"scatter\":[{\"marker\":{\"colorbar\":{\"outlinewidth\":0,\"ticks\":\"\"}},\"type\":\"scatter\"}],\"scatter3d\":[{\"line\":{\"colorbar\":{\"outlinewidth\":0,\"ticks\":\"\"}},\"marker\":{\"colorbar\":{\"outlinewidth\":0,\"ticks\":\"\"}},\"type\":\"scatter3d\"}],\"scattercarpet\":[{\"marker\":{\"colorbar\":{\"outlinewidth\":0,\"ticks\":\"\"}},\"type\":\"scattercarpet\"}],\"scattergeo\":[{\"marker\":{\"colorbar\":{\"outlinewidth\":0,\"ticks\":\"\"}},\"type\":\"scattergeo\"}],\"scattergl\":[{\"marker\":{\"colorbar\":{\"outlinewidth\":0,\"ticks\":\"\"}},\"type\":\"scattergl\"}],\"scattermapbox\":[{\"marker\":{\"colorbar\":{\"outlinewidth\":0,\"ticks\":\"\"}},\"type\":\"scattermapbox\"}],\"scatterpolar\":[{\"marker\":{\"colorbar\":{\"outlinewidth\":0,\"ticks\":\"\"}},\"type\":\"scatterpolar\"}],\"scatterpolargl\":[{\"marker\":{\"colorbar\":{\"outlinewidth\":0,\"ticks\":\"\"}},\"type\":\"scatterpolargl\"}],\"scatterternary\":[{\"marker\":{\"colorbar\":{\"outlinewidth\":0,\"ticks\":\"\"}},\"type\":\"scatterternary\"}],\"surface\":[{\"colorbar\":{\"outlinewidth\":0,\"ticks\":\"\"},\"colorscale\":[[0.0,\"#0d0887\"],[0.1111111111111111,\"#46039f\"],[0.2222222222222222,\"#7201a8\"],[0.3333333333333333,\"#9c179e\"],[0.4444444444444444,\"#bd3786\"],[0.5555555555555556,\"#d8576b\"],[0.6666666666666666,\"#ed7953\"],[0.7777777777777778,\"#fb9f3a\"],[0.8888888888888888,\"#fdca26\"],[1.0,\"#f0f921\"]],\"type\":\"surface\"}],\"table\":[{\"cells\":{\"fill\":{\"color\":\"#EBF0F8\"},\"line\":{\"color\":\"white\"}},\"header\":{\"fill\":{\"color\":\"#C8D4E3\"},\"line\":{\"color\":\"white\"}},\"type\":\"table\"}]},\"layout\":{\"annotationdefaults\":{\"arrowcolor\":\"#2a3f5f\",\"arrowhead\":0,\"arrowwidth\":1},\"autotypenumbers\":\"strict\",\"coloraxis\":{\"colorbar\":{\"outlinewidth\":0,\"ticks\":\"\"}},\"colorscale\":{\"diverging\":[[0,\"#8e0152\"],[0.1,\"#c51b7d\"],[0.2,\"#de77ae\"],[0.3,\"#f1b6da\"],[0.4,\"#fde0ef\"],[0.5,\"#f7f7f7\"],[0.6,\"#e6f5d0\"],[0.7,\"#b8e186\"],[0.8,\"#7fbc41\"],[0.9,\"#4d9221\"],[1,\"#276419\"]],\"sequential\":[[0.0,\"#0d0887\"],[0.1111111111111111,\"#46039f\"],[0.2222222222222222,\"#7201a8\"],[0.3333333333333333,\"#9c179e\"],[0.4444444444444444,\"#bd3786\"],[0.5555555555555556,\"#d8576b\"],[0.6666666666666666,\"#ed7953\"],[0.7777777777777778,\"#fb9f3a\"],[0.8888888888888888,\"#fdca26\"],[1.0,\"#f0f921\"]],\"sequentialminus\":[[0.0,\"#0d0887\"],[0.1111111111111111,\"#46039f\"],[0.2222222222222222,\"#7201a8\"],[0.3333333333333333,\"#9c179e\"],[0.4444444444444444,\"#bd3786\"],[0.5555555555555556,\"#d8576b\"],[0.6666666666666666,\"#ed7953\"],[0.7777777777777778,\"#fb9f3a\"],[0.8888888888888888,\"#fdca26\"],[1.0,\"#f0f921\"]]},\"colorway\":[\"#636efa\",\"#EF553B\",\"#00cc96\",\"#ab63fa\",\"#FFA15A\",\"#19d3f3\",\"#FF6692\",\"#B6E880\",\"#FF97FF\",\"#FECB52\"],\"font\":{\"color\":\"#2a3f5f\"},\"geo\":{\"bgcolor\":\"white\",\"lakecolor\":\"white\",\"landcolor\":\"#E5ECF6\",\"showlakes\":true,\"showland\":true,\"subunitcolor\":\"white\"},\"hoverlabel\":{\"align\":\"left\"},\"hovermode\":\"closest\",\"mapbox\":{\"style\":\"light\"},\"paper_bgcolor\":\"white\",\"plot_bgcolor\":\"#E5ECF6\",\"polar\":{\"angularaxis\":{\"gridcolor\":\"white\",\"linecolor\":\"white\",\"ticks\":\"\"},\"bgcolor\":\"#E5ECF6\",\"radialaxis\":{\"gridcolor\":\"white\",\"linecolor\":\"white\",\"ticks\":\"\"}},\"scene\":{\"xaxis\":{\"backgroundcolor\":\"#E5ECF6\",\"gridcolor\":\"white\",\"gridwidth\":2,\"linecolor\":\"white\",\"showbackground\":true,\"ticks\":\"\",\"zerolinecolor\":\"white\"},\"yaxis\":{\"backgroundcolor\":\"#E5ECF6\",\"gridcolor\":\"white\",\"gridwidth\":2,\"linecolor\":\"white\",\"showbackground\":true,\"ticks\":\"\",\"zerolinecolor\":\"white\"},\"zaxis\":{\"backgroundcolor\":\"#E5ECF6\",\"gridcolor\":\"white\",\"gridwidth\":2,\"linecolor\":\"white\",\"showbackground\":true,\"ticks\":\"\",\"zerolinecolor\":\"white\"}},\"shapedefaults\":{\"line\":{\"color\":\"#2a3f5f\"}},\"ternary\":{\"aaxis\":{\"gridcolor\":\"white\",\"linecolor\":\"white\",\"ticks\":\"\"},\"baxis\":{\"gridcolor\":\"white\",\"linecolor\":\"white\",\"ticks\":\"\"},\"bgcolor\":\"#E5ECF6\",\"caxis\":{\"gridcolor\":\"white\",\"linecolor\":\"white\",\"ticks\":\"\"}},\"title\":{\"x\":0.05},\"xaxis\":{\"automargin\":true,\"gridcolor\":\"white\",\"linecolor\":\"white\",\"ticks\":\"\",\"title\":{\"standoff\":15},\"zerolinecolor\":\"white\",\"zerolinewidth\":2},\"yaxis\":{\"automargin\":true,\"gridcolor\":\"white\",\"linecolor\":\"white\",\"ticks\":\"\",\"title\":{\"standoff\":15},\"zerolinecolor\":\"white\",\"zerolinewidth\":2}}},\"legend\":{\"tracegroupgap\":0},\"margin\":{\"t\":60}},                        {\"responsive\": true}                    ).then(function(){\n",
       "                            \n",
       "var gd = document.getElementById('dc7810e7-e057-49ab-a167-af8f8b599327');\n",
       "var x = new MutationObserver(function (mutations, observer) {{\n",
       "        var display = window.getComputedStyle(gd).display;\n",
       "        if (!display || display === 'none') {{\n",
       "            console.log([gd, 'removed!']);\n",
       "            Plotly.purge(gd);\n",
       "            observer.disconnect();\n",
       "        }}\n",
       "}});\n",
       "\n",
       "// Listen for the removal of the full notebook cells\n",
       "var notebookContainer = gd.closest('#notebook-container');\n",
       "if (notebookContainer) {{\n",
       "    x.observe(notebookContainer, {childList: true});\n",
       "}}\n",
       "\n",
       "// Listen for the clearing of the current output cell\n",
       "var outputEl = gd.closest('.output');\n",
       "if (outputEl) {{\n",
       "    x.observe(outputEl, {childList: true});\n",
       "}}\n",
       "\n",
       "                        })                };                });            </script>        </div>"
      ]
     },
     "metadata": {},
     "output_type": "display_data"
    }
   ],
   "source": [
    "import plotly.express as px\n",
    "\n",
    "fig = px.pie(data,names='Attrition',color='Attrition',\n",
    "             color_discrete_map={'Yes':'red',\n",
    "                                 'No':'green'})\n",
    "fig.show()"
   ]
  },
  {
   "cell_type": "markdown",
   "id": "66e9ae17",
   "metadata": {},
   "source": [
    "## Reject Employee data = Bad Employee"
   ]
  },
  {
   "cell_type": "code",
   "execution_count": 31,
   "id": "727bd23e",
   "metadata": {
    "scrolled": true
   },
   "outputs": [
    {
     "data": {
      "text/html": [
       "<div>\n",
       "<style scoped>\n",
       "    .dataframe tbody tr th:only-of-type {\n",
       "        vertical-align: middle;\n",
       "    }\n",
       "\n",
       "    .dataframe tbody tr th {\n",
       "        vertical-align: top;\n",
       "    }\n",
       "\n",
       "    .dataframe thead th {\n",
       "        text-align: right;\n",
       "    }\n",
       "</style>\n",
       "<table border=\"1\" class=\"dataframe\">\n",
       "  <thead>\n",
       "    <tr style=\"text-align: right;\">\n",
       "      <th></th>\n",
       "      <th>Age</th>\n",
       "      <th>Attrition</th>\n",
       "      <th>BusinessTravel</th>\n",
       "      <th>DailyRate</th>\n",
       "      <th>Department</th>\n",
       "      <th>DistanceFromHome</th>\n",
       "      <th>EducationField</th>\n",
       "      <th>EnvironmentSatisfaction</th>\n",
       "      <th>Gender</th>\n",
       "      <th>HourlyRate</th>\n",
       "      <th>...</th>\n",
       "      <th>JobSatisfaction</th>\n",
       "      <th>MaritalStatus</th>\n",
       "      <th>MonthlyIncome</th>\n",
       "      <th>MonthlyRate</th>\n",
       "      <th>OverTime</th>\n",
       "      <th>PercentSalaryHike</th>\n",
       "      <th>PerformanceRating</th>\n",
       "      <th>TotalWorkingYears</th>\n",
       "      <th>YearsAtCompany</th>\n",
       "      <th>YearsSinceLastPromotion</th>\n",
       "    </tr>\n",
       "  </thead>\n",
       "  <tbody>\n",
       "    <tr>\n",
       "      <th>0</th>\n",
       "      <td>41.0</td>\n",
       "      <td>Yes</td>\n",
       "      <td>Travel_Rarely</td>\n",
       "      <td>1102.0</td>\n",
       "      <td>Sales</td>\n",
       "      <td>1.0</td>\n",
       "      <td>Life Sciences</td>\n",
       "      <td>2.0</td>\n",
       "      <td>Female</td>\n",
       "      <td>94.0</td>\n",
       "      <td>...</td>\n",
       "      <td>4.0</td>\n",
       "      <td>Single</td>\n",
       "      <td>5993.0</td>\n",
       "      <td>19479.0</td>\n",
       "      <td>Yes</td>\n",
       "      <td>11.0</td>\n",
       "      <td>3.0</td>\n",
       "      <td>8.0</td>\n",
       "      <td>6.0</td>\n",
       "      <td>0.0</td>\n",
       "    </tr>\n",
       "    <tr>\n",
       "      <th>2</th>\n",
       "      <td>37.0</td>\n",
       "      <td>Yes</td>\n",
       "      <td>Travel_Rarely</td>\n",
       "      <td>1373.0</td>\n",
       "      <td>Research &amp; Development</td>\n",
       "      <td>2.0</td>\n",
       "      <td>Other</td>\n",
       "      <td>4.0</td>\n",
       "      <td>Male</td>\n",
       "      <td>92.0</td>\n",
       "      <td>...</td>\n",
       "      <td>3.0</td>\n",
       "      <td>Single</td>\n",
       "      <td>2090.0</td>\n",
       "      <td>2396.0</td>\n",
       "      <td>Yes</td>\n",
       "      <td>15.0</td>\n",
       "      <td>3.0</td>\n",
       "      <td>7.0</td>\n",
       "      <td>0.0</td>\n",
       "      <td>0.0</td>\n",
       "    </tr>\n",
       "    <tr>\n",
       "      <th>14</th>\n",
       "      <td>28.0</td>\n",
       "      <td>Yes</td>\n",
       "      <td>Travel_Rarely</td>\n",
       "      <td>103.0</td>\n",
       "      <td>Research &amp; Development</td>\n",
       "      <td>24.0</td>\n",
       "      <td>Life Sciences</td>\n",
       "      <td>3.0</td>\n",
       "      <td>Male</td>\n",
       "      <td>50.0</td>\n",
       "      <td>...</td>\n",
       "      <td>3.0</td>\n",
       "      <td>Single</td>\n",
       "      <td>2028.0</td>\n",
       "      <td>12947.0</td>\n",
       "      <td>Yes</td>\n",
       "      <td>14.0</td>\n",
       "      <td>3.0</td>\n",
       "      <td>6.0</td>\n",
       "      <td>4.0</td>\n",
       "      <td>0.0</td>\n",
       "    </tr>\n",
       "    <tr>\n",
       "      <th>21</th>\n",
       "      <td>36.0</td>\n",
       "      <td>Yes</td>\n",
       "      <td>Travel_Rarely</td>\n",
       "      <td>1218.0</td>\n",
       "      <td>Sales</td>\n",
       "      <td>9.0</td>\n",
       "      <td>Life Sciences</td>\n",
       "      <td>3.0</td>\n",
       "      <td>Male</td>\n",
       "      <td>82.0</td>\n",
       "      <td>...</td>\n",
       "      <td>1.0</td>\n",
       "      <td>Single</td>\n",
       "      <td>3407.0</td>\n",
       "      <td>6986.0</td>\n",
       "      <td>No</td>\n",
       "      <td>23.0</td>\n",
       "      <td>3.0</td>\n",
       "      <td>10.0</td>\n",
       "      <td>5.0</td>\n",
       "      <td>0.0</td>\n",
       "    </tr>\n",
       "    <tr>\n",
       "      <th>24</th>\n",
       "      <td>34.0</td>\n",
       "      <td>Yes</td>\n",
       "      <td>Travel_Rarely</td>\n",
       "      <td>699.0</td>\n",
       "      <td>Research &amp; Development</td>\n",
       "      <td>6.0</td>\n",
       "      <td>Medical</td>\n",
       "      <td>2.0</td>\n",
       "      <td>Male</td>\n",
       "      <td>83.0</td>\n",
       "      <td>...</td>\n",
       "      <td>1.0</td>\n",
       "      <td>Single</td>\n",
       "      <td>2960.0</td>\n",
       "      <td>17102.0</td>\n",
       "      <td>No</td>\n",
       "      <td>11.0</td>\n",
       "      <td>3.0</td>\n",
       "      <td>8.0</td>\n",
       "      <td>4.0</td>\n",
       "      <td>1.0</td>\n",
       "    </tr>\n",
       "    <tr>\n",
       "      <th>...</th>\n",
       "      <td>...</td>\n",
       "      <td>...</td>\n",
       "      <td>...</td>\n",
       "      <td>...</td>\n",
       "      <td>...</td>\n",
       "      <td>...</td>\n",
       "      <td>...</td>\n",
       "      <td>...</td>\n",
       "      <td>...</td>\n",
       "      <td>...</td>\n",
       "      <td>...</td>\n",
       "      <td>...</td>\n",
       "      <td>...</td>\n",
       "      <td>...</td>\n",
       "      <td>...</td>\n",
       "      <td>...</td>\n",
       "      <td>...</td>\n",
       "      <td>...</td>\n",
       "      <td>...</td>\n",
       "      <td>...</td>\n",
       "      <td>...</td>\n",
       "    </tr>\n",
       "    <tr>\n",
       "      <th>1438</th>\n",
       "      <td>23.0</td>\n",
       "      <td>Yes</td>\n",
       "      <td>Travel_Frequently</td>\n",
       "      <td>638.0</td>\n",
       "      <td>Sales</td>\n",
       "      <td>9.0</td>\n",
       "      <td>Marketing</td>\n",
       "      <td>4.0</td>\n",
       "      <td>Male</td>\n",
       "      <td>33.0</td>\n",
       "      <td>...</td>\n",
       "      <td>1.0</td>\n",
       "      <td>Married</td>\n",
       "      <td>1790.0</td>\n",
       "      <td>26956.0</td>\n",
       "      <td>No</td>\n",
       "      <td>19.0</td>\n",
       "      <td>3.0</td>\n",
       "      <td>1.0</td>\n",
       "      <td>1.0</td>\n",
       "      <td>1.0</td>\n",
       "    </tr>\n",
       "    <tr>\n",
       "      <th>1442</th>\n",
       "      <td>29.0</td>\n",
       "      <td>Yes</td>\n",
       "      <td>Travel_Rarely</td>\n",
       "      <td>1092.0</td>\n",
       "      <td>Research &amp; Development</td>\n",
       "      <td>1.0</td>\n",
       "      <td>Medical</td>\n",
       "      <td>1.0</td>\n",
       "      <td>Male</td>\n",
       "      <td>36.0</td>\n",
       "      <td>...</td>\n",
       "      <td>4.0</td>\n",
       "      <td>Married</td>\n",
       "      <td>4787.0</td>\n",
       "      <td>26124.0</td>\n",
       "      <td>Yes</td>\n",
       "      <td>14.0</td>\n",
       "      <td>3.0</td>\n",
       "      <td>4.0</td>\n",
       "      <td>2.0</td>\n",
       "      <td>2.0</td>\n",
       "    </tr>\n",
       "    <tr>\n",
       "      <th>1444</th>\n",
       "      <td>56.0</td>\n",
       "      <td>Yes</td>\n",
       "      <td>Travel_Rarely</td>\n",
       "      <td>310.0</td>\n",
       "      <td>Research &amp; Development</td>\n",
       "      <td>7.0</td>\n",
       "      <td>Technical Degree</td>\n",
       "      <td>4.0</td>\n",
       "      <td>Male</td>\n",
       "      <td>72.0</td>\n",
       "      <td>...</td>\n",
       "      <td>3.0</td>\n",
       "      <td>Married</td>\n",
       "      <td>2339.0</td>\n",
       "      <td>3666.0</td>\n",
       "      <td>No</td>\n",
       "      <td>11.0</td>\n",
       "      <td>3.0</td>\n",
       "      <td>14.0</td>\n",
       "      <td>10.0</td>\n",
       "      <td>7.5</td>\n",
       "    </tr>\n",
       "    <tr>\n",
       "      <th>1452</th>\n",
       "      <td>50.0</td>\n",
       "      <td>Yes</td>\n",
       "      <td>Travel_Frequently</td>\n",
       "      <td>878.0</td>\n",
       "      <td>Sales</td>\n",
       "      <td>1.0</td>\n",
       "      <td>Life Sciences</td>\n",
       "      <td>2.0</td>\n",
       "      <td>Male</td>\n",
       "      <td>94.0</td>\n",
       "      <td>...</td>\n",
       "      <td>3.0</td>\n",
       "      <td>Divorced</td>\n",
       "      <td>6728.0</td>\n",
       "      <td>14255.0</td>\n",
       "      <td>No</td>\n",
       "      <td>12.0</td>\n",
       "      <td>3.0</td>\n",
       "      <td>12.0</td>\n",
       "      <td>6.0</td>\n",
       "      <td>0.0</td>\n",
       "    </tr>\n",
       "    <tr>\n",
       "      <th>1461</th>\n",
       "      <td>50.0</td>\n",
       "      <td>Yes</td>\n",
       "      <td>Travel_Rarely</td>\n",
       "      <td>410.0</td>\n",
       "      <td>Sales</td>\n",
       "      <td>28.0</td>\n",
       "      <td>Marketing</td>\n",
       "      <td>4.0</td>\n",
       "      <td>Male</td>\n",
       "      <td>39.0</td>\n",
       "      <td>...</td>\n",
       "      <td>1.0</td>\n",
       "      <td>Divorced</td>\n",
       "      <td>10854.0</td>\n",
       "      <td>16586.0</td>\n",
       "      <td>Yes</td>\n",
       "      <td>13.0</td>\n",
       "      <td>3.0</td>\n",
       "      <td>20.0</td>\n",
       "      <td>3.0</td>\n",
       "      <td>2.0</td>\n",
       "    </tr>\n",
       "  </tbody>\n",
       "</table>\n",
       "<p>237 rows × 21 columns</p>\n",
       "</div>"
      ],
      "text/plain": [
       "       Age Attrition     BusinessTravel  DailyRate              Department  \\\n",
       "0     41.0       Yes      Travel_Rarely     1102.0                   Sales   \n",
       "2     37.0       Yes      Travel_Rarely     1373.0  Research & Development   \n",
       "14    28.0       Yes      Travel_Rarely      103.0  Research & Development   \n",
       "21    36.0       Yes      Travel_Rarely     1218.0                   Sales   \n",
       "24    34.0       Yes      Travel_Rarely      699.0  Research & Development   \n",
       "...    ...       ...                ...        ...                     ...   \n",
       "1438  23.0       Yes  Travel_Frequently      638.0                   Sales   \n",
       "1442  29.0       Yes      Travel_Rarely     1092.0  Research & Development   \n",
       "1444  56.0       Yes      Travel_Rarely      310.0  Research & Development   \n",
       "1452  50.0       Yes  Travel_Frequently      878.0                   Sales   \n",
       "1461  50.0       Yes      Travel_Rarely      410.0                   Sales   \n",
       "\n",
       "      DistanceFromHome    EducationField  EnvironmentSatisfaction  Gender  \\\n",
       "0                  1.0     Life Sciences                      2.0  Female   \n",
       "2                  2.0             Other                      4.0    Male   \n",
       "14                24.0     Life Sciences                      3.0    Male   \n",
       "21                 9.0     Life Sciences                      3.0    Male   \n",
       "24                 6.0           Medical                      2.0    Male   \n",
       "...                ...               ...                      ...     ...   \n",
       "1438               9.0         Marketing                      4.0    Male   \n",
       "1442               1.0           Medical                      1.0    Male   \n",
       "1444               7.0  Technical Degree                      4.0    Male   \n",
       "1452               1.0     Life Sciences                      2.0    Male   \n",
       "1461              28.0         Marketing                      4.0    Male   \n",
       "\n",
       "      HourlyRate  ... JobSatisfaction  MaritalStatus MonthlyIncome  \\\n",
       "0           94.0  ...             4.0         Single        5993.0   \n",
       "2           92.0  ...             3.0         Single        2090.0   \n",
       "14          50.0  ...             3.0         Single        2028.0   \n",
       "21          82.0  ...             1.0         Single        3407.0   \n",
       "24          83.0  ...             1.0         Single        2960.0   \n",
       "...          ...  ...             ...            ...           ...   \n",
       "1438        33.0  ...             1.0        Married        1790.0   \n",
       "1442        36.0  ...             4.0        Married        4787.0   \n",
       "1444        72.0  ...             3.0        Married        2339.0   \n",
       "1452        94.0  ...             3.0       Divorced        6728.0   \n",
       "1461        39.0  ...             1.0       Divorced       10854.0   \n",
       "\n",
       "      MonthlyRate  OverTime PercentSalaryHike  PerformanceRating  \\\n",
       "0         19479.0       Yes              11.0                3.0   \n",
       "2          2396.0       Yes              15.0                3.0   \n",
       "14        12947.0       Yes              14.0                3.0   \n",
       "21         6986.0        No              23.0                3.0   \n",
       "24        17102.0        No              11.0                3.0   \n",
       "...           ...       ...               ...                ...   \n",
       "1438      26956.0        No              19.0                3.0   \n",
       "1442      26124.0       Yes              14.0                3.0   \n",
       "1444       3666.0        No              11.0                3.0   \n",
       "1452      14255.0        No              12.0                3.0   \n",
       "1461      16586.0       Yes              13.0                3.0   \n",
       "\n",
       "      TotalWorkingYears  YearsAtCompany  YearsSinceLastPromotion  \n",
       "0                   8.0             6.0                      0.0  \n",
       "2                   7.0             0.0                      0.0  \n",
       "14                  6.0             4.0                      0.0  \n",
       "21                 10.0             5.0                      0.0  \n",
       "24                  8.0             4.0                      1.0  \n",
       "...                 ...             ...                      ...  \n",
       "1438                1.0             1.0                      1.0  \n",
       "1442                4.0             2.0                      2.0  \n",
       "1444               14.0            10.0                      7.5  \n",
       "1452               12.0             6.0                      0.0  \n",
       "1461               20.0             3.0                      2.0  \n",
       "\n",
       "[237 rows x 21 columns]"
      ]
     },
     "execution_count": 31,
     "metadata": {},
     "output_type": "execute_result"
    }
   ],
   "source": [
    "data_Yes= data[data[\"Attrition\"] == \"Yes\"] \n",
    "\n",
    "data_Yes"
   ]
  },
  {
   "cell_type": "code",
   "execution_count": 32,
   "id": "2d6f666c",
   "metadata": {},
   "outputs": [
    {
     "data": {
      "text/html": [
       "<div>\n",
       "<style scoped>\n",
       "    .dataframe tbody tr th:only-of-type {\n",
       "        vertical-align: middle;\n",
       "    }\n",
       "\n",
       "    .dataframe tbody tr th {\n",
       "        vertical-align: top;\n",
       "    }\n",
       "\n",
       "    .dataframe thead th {\n",
       "        text-align: right;\n",
       "    }\n",
       "</style>\n",
       "<table border=\"1\" class=\"dataframe\">\n",
       "  <thead>\n",
       "    <tr style=\"text-align: right;\">\n",
       "      <th></th>\n",
       "      <th>Age</th>\n",
       "      <th>Attrition</th>\n",
       "      <th>BusinessTravel</th>\n",
       "      <th>DailyRate</th>\n",
       "      <th>Department</th>\n",
       "      <th>DistanceFromHome</th>\n",
       "      <th>EducationField</th>\n",
       "      <th>EnvironmentSatisfaction</th>\n",
       "      <th>Gender</th>\n",
       "      <th>HourlyRate</th>\n",
       "      <th>...</th>\n",
       "      <th>JobSatisfaction</th>\n",
       "      <th>MaritalStatus</th>\n",
       "      <th>MonthlyIncome</th>\n",
       "      <th>MonthlyRate</th>\n",
       "      <th>OverTime</th>\n",
       "      <th>PercentSalaryHike</th>\n",
       "      <th>PerformanceRating</th>\n",
       "      <th>TotalWorkingYears</th>\n",
       "      <th>YearsAtCompany</th>\n",
       "      <th>YearsSinceLastPromotion</th>\n",
       "    </tr>\n",
       "  </thead>\n",
       "  <tbody>\n",
       "    <tr>\n",
       "      <th>1</th>\n",
       "      <td>49.0</td>\n",
       "      <td>No</td>\n",
       "      <td>Travel_Frequently</td>\n",
       "      <td>279.0</td>\n",
       "      <td>Research &amp; Development</td>\n",
       "      <td>8.0</td>\n",
       "      <td>Life Sciences</td>\n",
       "      <td>3.0</td>\n",
       "      <td>Male</td>\n",
       "      <td>61.0</td>\n",
       "      <td>...</td>\n",
       "      <td>2.0</td>\n",
       "      <td>Married</td>\n",
       "      <td>5130.0</td>\n",
       "      <td>24907.0</td>\n",
       "      <td>No</td>\n",
       "      <td>23.0</td>\n",
       "      <td>3.0</td>\n",
       "      <td>10.0</td>\n",
       "      <td>10.0</td>\n",
       "      <td>1.0</td>\n",
       "    </tr>\n",
       "    <tr>\n",
       "      <th>3</th>\n",
       "      <td>33.0</td>\n",
       "      <td>No</td>\n",
       "      <td>Travel_Frequently</td>\n",
       "      <td>1392.0</td>\n",
       "      <td>Research &amp; Development</td>\n",
       "      <td>3.0</td>\n",
       "      <td>Life Sciences</td>\n",
       "      <td>4.0</td>\n",
       "      <td>Female</td>\n",
       "      <td>56.0</td>\n",
       "      <td>...</td>\n",
       "      <td>3.0</td>\n",
       "      <td>Married</td>\n",
       "      <td>2909.0</td>\n",
       "      <td>23159.0</td>\n",
       "      <td>Yes</td>\n",
       "      <td>11.0</td>\n",
       "      <td>3.0</td>\n",
       "      <td>8.0</td>\n",
       "      <td>8.0</td>\n",
       "      <td>3.0</td>\n",
       "    </tr>\n",
       "    <tr>\n",
       "      <th>4</th>\n",
       "      <td>27.0</td>\n",
       "      <td>No</td>\n",
       "      <td>Travel_Rarely</td>\n",
       "      <td>591.0</td>\n",
       "      <td>Research &amp; Development</td>\n",
       "      <td>2.0</td>\n",
       "      <td>Medical</td>\n",
       "      <td>1.0</td>\n",
       "      <td>Male</td>\n",
       "      <td>40.0</td>\n",
       "      <td>...</td>\n",
       "      <td>2.0</td>\n",
       "      <td>Married</td>\n",
       "      <td>3468.0</td>\n",
       "      <td>16632.0</td>\n",
       "      <td>No</td>\n",
       "      <td>12.0</td>\n",
       "      <td>3.0</td>\n",
       "      <td>6.0</td>\n",
       "      <td>2.0</td>\n",
       "      <td>2.0</td>\n",
       "    </tr>\n",
       "    <tr>\n",
       "      <th>5</th>\n",
       "      <td>32.0</td>\n",
       "      <td>No</td>\n",
       "      <td>Travel_Frequently</td>\n",
       "      <td>1005.0</td>\n",
       "      <td>Research &amp; Development</td>\n",
       "      <td>2.0</td>\n",
       "      <td>Life Sciences</td>\n",
       "      <td>4.0</td>\n",
       "      <td>Male</td>\n",
       "      <td>79.0</td>\n",
       "      <td>...</td>\n",
       "      <td>4.0</td>\n",
       "      <td>Single</td>\n",
       "      <td>3068.0</td>\n",
       "      <td>11864.0</td>\n",
       "      <td>No</td>\n",
       "      <td>13.0</td>\n",
       "      <td>3.0</td>\n",
       "      <td>8.0</td>\n",
       "      <td>7.0</td>\n",
       "      <td>3.0</td>\n",
       "    </tr>\n",
       "    <tr>\n",
       "      <th>6</th>\n",
       "      <td>59.0</td>\n",
       "      <td>No</td>\n",
       "      <td>Travel_Rarely</td>\n",
       "      <td>1324.0</td>\n",
       "      <td>Research &amp; Development</td>\n",
       "      <td>3.0</td>\n",
       "      <td>Medical</td>\n",
       "      <td>3.0</td>\n",
       "      <td>Female</td>\n",
       "      <td>81.0</td>\n",
       "      <td>...</td>\n",
       "      <td>1.0</td>\n",
       "      <td>Married</td>\n",
       "      <td>2670.0</td>\n",
       "      <td>9964.0</td>\n",
       "      <td>Yes</td>\n",
       "      <td>20.0</td>\n",
       "      <td>3.0</td>\n",
       "      <td>12.0</td>\n",
       "      <td>1.0</td>\n",
       "      <td>0.0</td>\n",
       "    </tr>\n",
       "    <tr>\n",
       "      <th>...</th>\n",
       "      <td>...</td>\n",
       "      <td>...</td>\n",
       "      <td>...</td>\n",
       "      <td>...</td>\n",
       "      <td>...</td>\n",
       "      <td>...</td>\n",
       "      <td>...</td>\n",
       "      <td>...</td>\n",
       "      <td>...</td>\n",
       "      <td>...</td>\n",
       "      <td>...</td>\n",
       "      <td>...</td>\n",
       "      <td>...</td>\n",
       "      <td>...</td>\n",
       "      <td>...</td>\n",
       "      <td>...</td>\n",
       "      <td>...</td>\n",
       "      <td>...</td>\n",
       "      <td>...</td>\n",
       "      <td>...</td>\n",
       "      <td>...</td>\n",
       "    </tr>\n",
       "    <tr>\n",
       "      <th>1465</th>\n",
       "      <td>36.0</td>\n",
       "      <td>No</td>\n",
       "      <td>Travel_Frequently</td>\n",
       "      <td>884.0</td>\n",
       "      <td>Research &amp; Development</td>\n",
       "      <td>23.0</td>\n",
       "      <td>Medical</td>\n",
       "      <td>3.0</td>\n",
       "      <td>Male</td>\n",
       "      <td>41.0</td>\n",
       "      <td>...</td>\n",
       "      <td>4.0</td>\n",
       "      <td>Married</td>\n",
       "      <td>2571.0</td>\n",
       "      <td>12290.0</td>\n",
       "      <td>No</td>\n",
       "      <td>17.0</td>\n",
       "      <td>3.0</td>\n",
       "      <td>17.0</td>\n",
       "      <td>5.0</td>\n",
       "      <td>0.0</td>\n",
       "    </tr>\n",
       "    <tr>\n",
       "      <th>1466</th>\n",
       "      <td>39.0</td>\n",
       "      <td>No</td>\n",
       "      <td>Travel_Rarely</td>\n",
       "      <td>613.0</td>\n",
       "      <td>Research &amp; Development</td>\n",
       "      <td>6.0</td>\n",
       "      <td>Medical</td>\n",
       "      <td>4.0</td>\n",
       "      <td>Male</td>\n",
       "      <td>42.0</td>\n",
       "      <td>...</td>\n",
       "      <td>1.0</td>\n",
       "      <td>Married</td>\n",
       "      <td>9991.0</td>\n",
       "      <td>21457.0</td>\n",
       "      <td>No</td>\n",
       "      <td>15.0</td>\n",
       "      <td>3.0</td>\n",
       "      <td>9.0</td>\n",
       "      <td>7.0</td>\n",
       "      <td>1.0</td>\n",
       "    </tr>\n",
       "    <tr>\n",
       "      <th>1467</th>\n",
       "      <td>27.0</td>\n",
       "      <td>No</td>\n",
       "      <td>Travel_Rarely</td>\n",
       "      <td>155.0</td>\n",
       "      <td>Research &amp; Development</td>\n",
       "      <td>4.0</td>\n",
       "      <td>Life Sciences</td>\n",
       "      <td>2.0</td>\n",
       "      <td>Male</td>\n",
       "      <td>87.0</td>\n",
       "      <td>...</td>\n",
       "      <td>2.0</td>\n",
       "      <td>Married</td>\n",
       "      <td>6142.0</td>\n",
       "      <td>5174.0</td>\n",
       "      <td>Yes</td>\n",
       "      <td>20.0</td>\n",
       "      <td>3.0</td>\n",
       "      <td>6.0</td>\n",
       "      <td>6.0</td>\n",
       "      <td>0.0</td>\n",
       "    </tr>\n",
       "    <tr>\n",
       "      <th>1468</th>\n",
       "      <td>49.0</td>\n",
       "      <td>No</td>\n",
       "      <td>Travel_Frequently</td>\n",
       "      <td>1023.0</td>\n",
       "      <td>Sales</td>\n",
       "      <td>2.0</td>\n",
       "      <td>Medical</td>\n",
       "      <td>4.0</td>\n",
       "      <td>Male</td>\n",
       "      <td>63.0</td>\n",
       "      <td>...</td>\n",
       "      <td>2.0</td>\n",
       "      <td>Married</td>\n",
       "      <td>5390.0</td>\n",
       "      <td>13243.0</td>\n",
       "      <td>No</td>\n",
       "      <td>14.0</td>\n",
       "      <td>3.0</td>\n",
       "      <td>17.0</td>\n",
       "      <td>9.0</td>\n",
       "      <td>0.0</td>\n",
       "    </tr>\n",
       "    <tr>\n",
       "      <th>1469</th>\n",
       "      <td>34.0</td>\n",
       "      <td>No</td>\n",
       "      <td>Travel_Rarely</td>\n",
       "      <td>628.0</td>\n",
       "      <td>Research &amp; Development</td>\n",
       "      <td>8.0</td>\n",
       "      <td>Medical</td>\n",
       "      <td>2.0</td>\n",
       "      <td>Male</td>\n",
       "      <td>82.0</td>\n",
       "      <td>...</td>\n",
       "      <td>3.0</td>\n",
       "      <td>Married</td>\n",
       "      <td>4404.0</td>\n",
       "      <td>10228.0</td>\n",
       "      <td>No</td>\n",
       "      <td>12.0</td>\n",
       "      <td>3.0</td>\n",
       "      <td>6.0</td>\n",
       "      <td>4.0</td>\n",
       "      <td>1.0</td>\n",
       "    </tr>\n",
       "  </tbody>\n",
       "</table>\n",
       "<p>1233 rows × 21 columns</p>\n",
       "</div>"
      ],
      "text/plain": [
       "       Age Attrition     BusinessTravel  DailyRate              Department  \\\n",
       "1     49.0        No  Travel_Frequently      279.0  Research & Development   \n",
       "3     33.0        No  Travel_Frequently     1392.0  Research & Development   \n",
       "4     27.0        No      Travel_Rarely      591.0  Research & Development   \n",
       "5     32.0        No  Travel_Frequently     1005.0  Research & Development   \n",
       "6     59.0        No      Travel_Rarely     1324.0  Research & Development   \n",
       "...    ...       ...                ...        ...                     ...   \n",
       "1465  36.0        No  Travel_Frequently      884.0  Research & Development   \n",
       "1466  39.0        No      Travel_Rarely      613.0  Research & Development   \n",
       "1467  27.0        No      Travel_Rarely      155.0  Research & Development   \n",
       "1468  49.0        No  Travel_Frequently     1023.0                   Sales   \n",
       "1469  34.0        No      Travel_Rarely      628.0  Research & Development   \n",
       "\n",
       "      DistanceFromHome EducationField  EnvironmentSatisfaction  Gender  \\\n",
       "1                  8.0  Life Sciences                      3.0    Male   \n",
       "3                  3.0  Life Sciences                      4.0  Female   \n",
       "4                  2.0        Medical                      1.0    Male   \n",
       "5                  2.0  Life Sciences                      4.0    Male   \n",
       "6                  3.0        Medical                      3.0  Female   \n",
       "...                ...            ...                      ...     ...   \n",
       "1465              23.0        Medical                      3.0    Male   \n",
       "1466               6.0        Medical                      4.0    Male   \n",
       "1467               4.0  Life Sciences                      2.0    Male   \n",
       "1468               2.0        Medical                      4.0    Male   \n",
       "1469               8.0        Medical                      2.0    Male   \n",
       "\n",
       "      HourlyRate  ... JobSatisfaction  MaritalStatus MonthlyIncome  \\\n",
       "1           61.0  ...             2.0        Married        5130.0   \n",
       "3           56.0  ...             3.0        Married        2909.0   \n",
       "4           40.0  ...             2.0        Married        3468.0   \n",
       "5           79.0  ...             4.0         Single        3068.0   \n",
       "6           81.0  ...             1.0        Married        2670.0   \n",
       "...          ...  ...             ...            ...           ...   \n",
       "1465        41.0  ...             4.0        Married        2571.0   \n",
       "1466        42.0  ...             1.0        Married        9991.0   \n",
       "1467        87.0  ...             2.0        Married        6142.0   \n",
       "1468        63.0  ...             2.0        Married        5390.0   \n",
       "1469        82.0  ...             3.0        Married        4404.0   \n",
       "\n",
       "      MonthlyRate  OverTime PercentSalaryHike  PerformanceRating  \\\n",
       "1         24907.0        No              23.0                3.0   \n",
       "3         23159.0       Yes              11.0                3.0   \n",
       "4         16632.0        No              12.0                3.0   \n",
       "5         11864.0        No              13.0                3.0   \n",
       "6          9964.0       Yes              20.0                3.0   \n",
       "...           ...       ...               ...                ...   \n",
       "1465      12290.0        No              17.0                3.0   \n",
       "1466      21457.0        No              15.0                3.0   \n",
       "1467       5174.0       Yes              20.0                3.0   \n",
       "1468      13243.0        No              14.0                3.0   \n",
       "1469      10228.0        No              12.0                3.0   \n",
       "\n",
       "      TotalWorkingYears  YearsAtCompany  YearsSinceLastPromotion  \n",
       "1                  10.0            10.0                      1.0  \n",
       "3                   8.0             8.0                      3.0  \n",
       "4                   6.0             2.0                      2.0  \n",
       "5                   8.0             7.0                      3.0  \n",
       "6                  12.0             1.0                      0.0  \n",
       "...                 ...             ...                      ...  \n",
       "1465               17.0             5.0                      0.0  \n",
       "1466                9.0             7.0                      1.0  \n",
       "1467                6.0             6.0                      0.0  \n",
       "1468               17.0             9.0                      0.0  \n",
       "1469                6.0             4.0                      1.0  \n",
       "\n",
       "[1233 rows x 21 columns]"
      ]
     },
     "execution_count": 32,
     "metadata": {},
     "output_type": "execute_result"
    }
   ],
   "source": [
    "data_Yes= data[data[\"Attrition\"] == \"No\"] \n",
    "\n",
    "data_Yes"
   ]
  },
  {
   "cell_type": "code",
   "execution_count": 33,
   "id": "ed3ccc68",
   "metadata": {},
   "outputs": [
    {
     "data": {
      "application/vnd.plotly.v1+json": {
       "config": {
        "plotlyServerURL": "https://plot.ly"
       },
       "data": [
        {
         "branchvalues": "total",
         "domain": {
          "x": [
           0,
           1
          ],
          "y": [
           0,
           1
          ]
         },
         "hovertemplate": "labels=%{label}<br>count=%{value}<br>parent=%{parent}<br>id=%{id}<extra></extra>",
         "ids": [
          "Female/Research & Development/Life Sciences/Healthcare Representative/No",
          "Male/Research & Development/Life Sciences/Healthcare Representative/No",
          "Female/Research & Development/Medical/Healthcare Representative/No",
          "Male/Research & Development/Medical/Healthcare Representative/No",
          "Female/Research & Development/Other/Healthcare Representative/No",
          "Male/Research & Development/Other/Healthcare Representative/No",
          "Female/Research & Development/Technical Degree/Healthcare Representative/No",
          "Male/Research & Development/Technical Degree/Healthcare Representative/No",
          "Female/Human Resources/Human Resources/Human Resources/No",
          "Male/Human Resources/Human Resources/Human Resources/No",
          "Female/Human Resources/Life Sciences/Human Resources/No",
          "Male/Human Resources/Life Sciences/Human Resources/No",
          "Female/Human Resources/Medical/Human Resources/No",
          "Male/Human Resources/Medical/Human Resources/No",
          "Male/Human Resources/Other/Human Resources/No",
          "Male/Human Resources/Technical Degree/Human Resources/No",
          "Female/Research & Development/Life Sciences/Laboratory Technician/No",
          "Male/Research & Development/Life Sciences/Laboratory Technician/No",
          "Female/Research & Development/Medical/Laboratory Technician/No",
          "Male/Research & Development/Medical/Laboratory Technician/No",
          "Female/Research & Development/Other/Laboratory Technician/No",
          "Male/Research & Development/Other/Laboratory Technician/No",
          "Female/Research & Development/Technical Degree/Laboratory Technician/No",
          "Male/Research & Development/Technical Degree/Laboratory Technician/No",
          "Female/Human Resources/Human Resources/Manager/No",
          "Male/Human Resources/Human Resources/Manager/No",
          "Female/Human Resources/Life Sciences/Manager/No",
          "Male/Human Resources/Life Sciences/Manager/No",
          "Female/Research & Development/Life Sciences/Manager/No",
          "Male/Research & Development/Life Sciences/Manager/No",
          "Female/Sales/Life Sciences/Manager/No",
          "Male/Sales/Life Sciences/Manager/No",
          "Female/Sales/Marketing/Manager/No",
          "Male/Sales/Marketing/Manager/No",
          "Male/Human Resources/Medical/Manager/No",
          "Female/Research & Development/Medical/Manager/No",
          "Male/Research & Development/Medical/Manager/No",
          "Female/Sales/Medical/Manager/No",
          "Male/Sales/Medical/Manager/No",
          "Female/Research & Development/Other/Manager/No",
          "Male/Research & Development/Other/Manager/No",
          "Female/Research & Development/Technical Degree/Manager/No",
          "Male/Research & Development/Technical Degree/Manager/No",
          "Female/Sales/Technical Degree/Manager/No",
          "Male/Sales/Technical Degree/Manager/No",
          "Female/Research & Development/Life Sciences/Manufacturing Director/No",
          "Male/Research & Development/Life Sciences/Manufacturing Director/No",
          "Female/Research & Development/Medical/Manufacturing Director/No",
          "Male/Research & Development/Medical/Manufacturing Director/No",
          "Female/Research & Development/Other/Manufacturing Director/No",
          "Male/Research & Development/Other/Manufacturing Director/No",
          "Female/Research & Development/Technical Degree/Manufacturing Director/No",
          "Male/Research & Development/Technical Degree/Manufacturing Director/No",
          "Female/Research & Development/Life Sciences/Research Director/No",
          "Male/Research & Development/Life Sciences/Research Director/No",
          "Female/Research & Development/Medical/Research Director/No",
          "Male/Research & Development/Medical/Research Director/No",
          "Female/Research & Development/Other/Research Director/No",
          "Male/Research & Development/Other/Research Director/No",
          "Female/Research & Development/Technical Degree/Research Director/No",
          "Male/Research & Development/Technical Degree/Research Director/No",
          "Female/Research & Development/Life Sciences/Research Scientist/No",
          "Male/Research & Development/Life Sciences/Research Scientist/No",
          "Female/Research & Development/Medical/Research Scientist/No",
          "Male/Research & Development/Medical/Research Scientist/No",
          "Female/Research & Development/Other/Research Scientist/No",
          "Male/Research & Development/Other/Research Scientist/No",
          "Female/Research & Development/Technical Degree/Research Scientist/No",
          "Male/Research & Development/Technical Degree/Research Scientist/No",
          "Female/Sales/Life Sciences/Sales Executive/No",
          "Male/Sales/Life Sciences/Sales Executive/No",
          "Female/Sales/Marketing/Sales Executive/No",
          "Male/Sales/Marketing/Sales Executive/No",
          "Female/Sales/Medical/Sales Executive/No",
          "Male/Sales/Medical/Sales Executive/No",
          "Female/Sales/Other/Sales Executive/No",
          "Male/Sales/Other/Sales Executive/No",
          "Female/Sales/Technical Degree/Sales Executive/No",
          "Male/Sales/Technical Degree/Sales Executive/No",
          "Female/Sales/Life Sciences/Sales Representative/No",
          "Male/Sales/Life Sciences/Sales Representative/No",
          "Female/Sales/Marketing/Sales Representative/No",
          "Male/Sales/Marketing/Sales Representative/No",
          "Female/Sales/Medical/Sales Representative/No",
          "Male/Sales/Medical/Sales Representative/No",
          "Female/Sales/Other/Sales Representative/No",
          "Female/Sales/Technical Degree/Sales Representative/No",
          "Male/Sales/Technical Degree/Sales Representative/No",
          "Female/Research & Development/Life Sciences/Healthcare Representative",
          "Male/Research & Development/Life Sciences/Healthcare Representative",
          "Female/Research & Development/Medical/Healthcare Representative",
          "Male/Research & Development/Medical/Healthcare Representative",
          "Female/Research & Development/Other/Healthcare Representative",
          "Male/Research & Development/Other/Healthcare Representative",
          "Female/Research & Development/Technical Degree/Healthcare Representative",
          "Male/Research & Development/Technical Degree/Healthcare Representative",
          "Female/Human Resources/Human Resources/Human Resources",
          "Male/Human Resources/Human Resources/Human Resources",
          "Female/Human Resources/Life Sciences/Human Resources",
          "Male/Human Resources/Life Sciences/Human Resources",
          "Female/Human Resources/Medical/Human Resources",
          "Male/Human Resources/Medical/Human Resources",
          "Male/Human Resources/Other/Human Resources",
          "Male/Human Resources/Technical Degree/Human Resources",
          "Female/Research & Development/Life Sciences/Laboratory Technician",
          "Male/Research & Development/Life Sciences/Laboratory Technician",
          "Female/Research & Development/Medical/Laboratory Technician",
          "Male/Research & Development/Medical/Laboratory Technician",
          "Female/Research & Development/Other/Laboratory Technician",
          "Male/Research & Development/Other/Laboratory Technician",
          "Female/Research & Development/Technical Degree/Laboratory Technician",
          "Male/Research & Development/Technical Degree/Laboratory Technician",
          "Female/Human Resources/Human Resources/Manager",
          "Male/Human Resources/Human Resources/Manager",
          "Female/Human Resources/Life Sciences/Manager",
          "Male/Human Resources/Life Sciences/Manager",
          "Female/Research & Development/Life Sciences/Manager",
          "Male/Research & Development/Life Sciences/Manager",
          "Female/Sales/Life Sciences/Manager",
          "Male/Sales/Life Sciences/Manager",
          "Female/Sales/Marketing/Manager",
          "Male/Sales/Marketing/Manager",
          "Male/Human Resources/Medical/Manager",
          "Female/Research & Development/Medical/Manager",
          "Male/Research & Development/Medical/Manager",
          "Female/Sales/Medical/Manager",
          "Male/Sales/Medical/Manager",
          "Female/Research & Development/Other/Manager",
          "Male/Research & Development/Other/Manager",
          "Female/Research & Development/Technical Degree/Manager",
          "Male/Research & Development/Technical Degree/Manager",
          "Female/Sales/Technical Degree/Manager",
          "Male/Sales/Technical Degree/Manager",
          "Female/Research & Development/Life Sciences/Manufacturing Director",
          "Male/Research & Development/Life Sciences/Manufacturing Director",
          "Female/Research & Development/Medical/Manufacturing Director",
          "Male/Research & Development/Medical/Manufacturing Director",
          "Female/Research & Development/Other/Manufacturing Director",
          "Male/Research & Development/Other/Manufacturing Director",
          "Female/Research & Development/Technical Degree/Manufacturing Director",
          "Male/Research & Development/Technical Degree/Manufacturing Director",
          "Female/Research & Development/Life Sciences/Research Director",
          "Male/Research & Development/Life Sciences/Research Director",
          "Female/Research & Development/Medical/Research Director",
          "Male/Research & Development/Medical/Research Director",
          "Female/Research & Development/Other/Research Director",
          "Male/Research & Development/Other/Research Director",
          "Female/Research & Development/Technical Degree/Research Director",
          "Male/Research & Development/Technical Degree/Research Director",
          "Female/Research & Development/Life Sciences/Research Scientist",
          "Male/Research & Development/Life Sciences/Research Scientist",
          "Female/Research & Development/Medical/Research Scientist",
          "Male/Research & Development/Medical/Research Scientist",
          "Female/Research & Development/Other/Research Scientist",
          "Male/Research & Development/Other/Research Scientist",
          "Female/Research & Development/Technical Degree/Research Scientist",
          "Male/Research & Development/Technical Degree/Research Scientist",
          "Female/Sales/Life Sciences/Sales Executive",
          "Male/Sales/Life Sciences/Sales Executive",
          "Female/Sales/Marketing/Sales Executive",
          "Male/Sales/Marketing/Sales Executive",
          "Female/Sales/Medical/Sales Executive",
          "Male/Sales/Medical/Sales Executive",
          "Female/Sales/Other/Sales Executive",
          "Male/Sales/Other/Sales Executive",
          "Female/Sales/Technical Degree/Sales Executive",
          "Male/Sales/Technical Degree/Sales Executive",
          "Female/Sales/Life Sciences/Sales Representative",
          "Male/Sales/Life Sciences/Sales Representative",
          "Female/Sales/Marketing/Sales Representative",
          "Male/Sales/Marketing/Sales Representative",
          "Female/Sales/Medical/Sales Representative",
          "Male/Sales/Medical/Sales Representative",
          "Female/Sales/Other/Sales Representative",
          "Female/Sales/Technical Degree/Sales Representative",
          "Male/Sales/Technical Degree/Sales Representative",
          "Female/Human Resources/Human Resources",
          "Male/Human Resources/Human Resources",
          "Female/Human Resources/Life Sciences",
          "Male/Human Resources/Life Sciences",
          "Female/Research & Development/Life Sciences",
          "Male/Research & Development/Life Sciences",
          "Female/Sales/Life Sciences",
          "Male/Sales/Life Sciences",
          "Female/Sales/Marketing",
          "Male/Sales/Marketing",
          "Female/Human Resources/Medical",
          "Male/Human Resources/Medical",
          "Female/Research & Development/Medical",
          "Male/Research & Development/Medical",
          "Female/Sales/Medical",
          "Male/Sales/Medical",
          "Male/Human Resources/Other",
          "Female/Research & Development/Other",
          "Male/Research & Development/Other",
          "Female/Sales/Other",
          "Male/Sales/Other",
          "Male/Human Resources/Technical Degree",
          "Female/Research & Development/Technical Degree",
          "Male/Research & Development/Technical Degree",
          "Female/Sales/Technical Degree",
          "Male/Sales/Technical Degree",
          "Female/Human Resources",
          "Male/Human Resources",
          "Female/Research & Development",
          "Male/Research & Development",
          "Female/Sales",
          "Male/Sales",
          "Female",
          "Male"
         ],
         "labels": [
          "No",
          "No",
          "No",
          "No",
          "No",
          "No",
          "No",
          "No",
          "No",
          "No",
          "No",
          "No",
          "No",
          "No",
          "No",
          "No",
          "No",
          "No",
          "No",
          "No",
          "No",
          "No",
          "No",
          "No",
          "No",
          "No",
          "No",
          "No",
          "No",
          "No",
          "No",
          "No",
          "No",
          "No",
          "No",
          "No",
          "No",
          "No",
          "No",
          "No",
          "No",
          "No",
          "No",
          "No",
          "No",
          "No",
          "No",
          "No",
          "No",
          "No",
          "No",
          "No",
          "No",
          "No",
          "No",
          "No",
          "No",
          "No",
          "No",
          "No",
          "No",
          "No",
          "No",
          "No",
          "No",
          "No",
          "No",
          "No",
          "No",
          "No",
          "No",
          "No",
          "No",
          "No",
          "No",
          "No",
          "No",
          "No",
          "No",
          "No",
          "No",
          "No",
          "No",
          "No",
          "No",
          "No",
          "No",
          "No",
          "Healthcare Representative",
          "Healthcare Representative",
          "Healthcare Representative",
          "Healthcare Representative",
          "Healthcare Representative",
          "Healthcare Representative",
          "Healthcare Representative",
          "Healthcare Representative",
          "Human Resources",
          "Human Resources",
          "Human Resources",
          "Human Resources",
          "Human Resources",
          "Human Resources",
          "Human Resources",
          "Human Resources",
          "Laboratory Technician",
          "Laboratory Technician",
          "Laboratory Technician",
          "Laboratory Technician",
          "Laboratory Technician",
          "Laboratory Technician",
          "Laboratory Technician",
          "Laboratory Technician",
          "Manager",
          "Manager",
          "Manager",
          "Manager",
          "Manager",
          "Manager",
          "Manager",
          "Manager",
          "Manager",
          "Manager",
          "Manager",
          "Manager",
          "Manager",
          "Manager",
          "Manager",
          "Manager",
          "Manager",
          "Manager",
          "Manager",
          "Manager",
          "Manager",
          "Manufacturing Director",
          "Manufacturing Director",
          "Manufacturing Director",
          "Manufacturing Director",
          "Manufacturing Director",
          "Manufacturing Director",
          "Manufacturing Director",
          "Manufacturing Director",
          "Research Director",
          "Research Director",
          "Research Director",
          "Research Director",
          "Research Director",
          "Research Director",
          "Research Director",
          "Research Director",
          "Research Scientist",
          "Research Scientist",
          "Research Scientist",
          "Research Scientist",
          "Research Scientist",
          "Research Scientist",
          "Research Scientist",
          "Research Scientist",
          "Sales Executive",
          "Sales Executive",
          "Sales Executive",
          "Sales Executive",
          "Sales Executive",
          "Sales Executive",
          "Sales Executive",
          "Sales Executive",
          "Sales Executive",
          "Sales Executive",
          "Sales Representative",
          "Sales Representative",
          "Sales Representative",
          "Sales Representative",
          "Sales Representative",
          "Sales Representative",
          "Sales Representative",
          "Sales Representative",
          "Sales Representative",
          "Human Resources",
          "Human Resources",
          "Life Sciences",
          "Life Sciences",
          "Life Sciences",
          "Life Sciences",
          "Life Sciences",
          "Life Sciences",
          "Marketing",
          "Marketing",
          "Medical",
          "Medical",
          "Medical",
          "Medical",
          "Medical",
          "Medical",
          "Other",
          "Other",
          "Other",
          "Other",
          "Other",
          "Technical Degree",
          "Technical Degree",
          "Technical Degree",
          "Technical Degree",
          "Technical Degree",
          "Human Resources",
          "Human Resources",
          "Research & Development",
          "Research & Development",
          "Sales",
          "Sales",
          "Female",
          "Male"
         ],
         "name": "",
         "parents": [
          "Female/Research & Development/Life Sciences/Healthcare Representative",
          "Male/Research & Development/Life Sciences/Healthcare Representative",
          "Female/Research & Development/Medical/Healthcare Representative",
          "Male/Research & Development/Medical/Healthcare Representative",
          "Female/Research & Development/Other/Healthcare Representative",
          "Male/Research & Development/Other/Healthcare Representative",
          "Female/Research & Development/Technical Degree/Healthcare Representative",
          "Male/Research & Development/Technical Degree/Healthcare Representative",
          "Female/Human Resources/Human Resources/Human Resources",
          "Male/Human Resources/Human Resources/Human Resources",
          "Female/Human Resources/Life Sciences/Human Resources",
          "Male/Human Resources/Life Sciences/Human Resources",
          "Female/Human Resources/Medical/Human Resources",
          "Male/Human Resources/Medical/Human Resources",
          "Male/Human Resources/Other/Human Resources",
          "Male/Human Resources/Technical Degree/Human Resources",
          "Female/Research & Development/Life Sciences/Laboratory Technician",
          "Male/Research & Development/Life Sciences/Laboratory Technician",
          "Female/Research & Development/Medical/Laboratory Technician",
          "Male/Research & Development/Medical/Laboratory Technician",
          "Female/Research & Development/Other/Laboratory Technician",
          "Male/Research & Development/Other/Laboratory Technician",
          "Female/Research & Development/Technical Degree/Laboratory Technician",
          "Male/Research & Development/Technical Degree/Laboratory Technician",
          "Female/Human Resources/Human Resources/Manager",
          "Male/Human Resources/Human Resources/Manager",
          "Female/Human Resources/Life Sciences/Manager",
          "Male/Human Resources/Life Sciences/Manager",
          "Female/Research & Development/Life Sciences/Manager",
          "Male/Research & Development/Life Sciences/Manager",
          "Female/Sales/Life Sciences/Manager",
          "Male/Sales/Life Sciences/Manager",
          "Female/Sales/Marketing/Manager",
          "Male/Sales/Marketing/Manager",
          "Male/Human Resources/Medical/Manager",
          "Female/Research & Development/Medical/Manager",
          "Male/Research & Development/Medical/Manager",
          "Female/Sales/Medical/Manager",
          "Male/Sales/Medical/Manager",
          "Female/Research & Development/Other/Manager",
          "Male/Research & Development/Other/Manager",
          "Female/Research & Development/Technical Degree/Manager",
          "Male/Research & Development/Technical Degree/Manager",
          "Female/Sales/Technical Degree/Manager",
          "Male/Sales/Technical Degree/Manager",
          "Female/Research & Development/Life Sciences/Manufacturing Director",
          "Male/Research & Development/Life Sciences/Manufacturing Director",
          "Female/Research & Development/Medical/Manufacturing Director",
          "Male/Research & Development/Medical/Manufacturing Director",
          "Female/Research & Development/Other/Manufacturing Director",
          "Male/Research & Development/Other/Manufacturing Director",
          "Female/Research & Development/Technical Degree/Manufacturing Director",
          "Male/Research & Development/Technical Degree/Manufacturing Director",
          "Female/Research & Development/Life Sciences/Research Director",
          "Male/Research & Development/Life Sciences/Research Director",
          "Female/Research & Development/Medical/Research Director",
          "Male/Research & Development/Medical/Research Director",
          "Female/Research & Development/Other/Research Director",
          "Male/Research & Development/Other/Research Director",
          "Female/Research & Development/Technical Degree/Research Director",
          "Male/Research & Development/Technical Degree/Research Director",
          "Female/Research & Development/Life Sciences/Research Scientist",
          "Male/Research & Development/Life Sciences/Research Scientist",
          "Female/Research & Development/Medical/Research Scientist",
          "Male/Research & Development/Medical/Research Scientist",
          "Female/Research & Development/Other/Research Scientist",
          "Male/Research & Development/Other/Research Scientist",
          "Female/Research & Development/Technical Degree/Research Scientist",
          "Male/Research & Development/Technical Degree/Research Scientist",
          "Female/Sales/Life Sciences/Sales Executive",
          "Male/Sales/Life Sciences/Sales Executive",
          "Female/Sales/Marketing/Sales Executive",
          "Male/Sales/Marketing/Sales Executive",
          "Female/Sales/Medical/Sales Executive",
          "Male/Sales/Medical/Sales Executive",
          "Female/Sales/Other/Sales Executive",
          "Male/Sales/Other/Sales Executive",
          "Female/Sales/Technical Degree/Sales Executive",
          "Male/Sales/Technical Degree/Sales Executive",
          "Female/Sales/Life Sciences/Sales Representative",
          "Male/Sales/Life Sciences/Sales Representative",
          "Female/Sales/Marketing/Sales Representative",
          "Male/Sales/Marketing/Sales Representative",
          "Female/Sales/Medical/Sales Representative",
          "Male/Sales/Medical/Sales Representative",
          "Female/Sales/Other/Sales Representative",
          "Female/Sales/Technical Degree/Sales Representative",
          "Male/Sales/Technical Degree/Sales Representative",
          "Female/Research & Development/Life Sciences",
          "Male/Research & Development/Life Sciences",
          "Female/Research & Development/Medical",
          "Male/Research & Development/Medical",
          "Female/Research & Development/Other",
          "Male/Research & Development/Other",
          "Female/Research & Development/Technical Degree",
          "Male/Research & Development/Technical Degree",
          "Female/Human Resources/Human Resources",
          "Male/Human Resources/Human Resources",
          "Female/Human Resources/Life Sciences",
          "Male/Human Resources/Life Sciences",
          "Female/Human Resources/Medical",
          "Male/Human Resources/Medical",
          "Male/Human Resources/Other",
          "Male/Human Resources/Technical Degree",
          "Female/Research & Development/Life Sciences",
          "Male/Research & Development/Life Sciences",
          "Female/Research & Development/Medical",
          "Male/Research & Development/Medical",
          "Female/Research & Development/Other",
          "Male/Research & Development/Other",
          "Female/Research & Development/Technical Degree",
          "Male/Research & Development/Technical Degree",
          "Female/Human Resources/Human Resources",
          "Male/Human Resources/Human Resources",
          "Female/Human Resources/Life Sciences",
          "Male/Human Resources/Life Sciences",
          "Female/Research & Development/Life Sciences",
          "Male/Research & Development/Life Sciences",
          "Female/Sales/Life Sciences",
          "Male/Sales/Life Sciences",
          "Female/Sales/Marketing",
          "Male/Sales/Marketing",
          "Male/Human Resources/Medical",
          "Female/Research & Development/Medical",
          "Male/Research & Development/Medical",
          "Female/Sales/Medical",
          "Male/Sales/Medical",
          "Female/Research & Development/Other",
          "Male/Research & Development/Other",
          "Female/Research & Development/Technical Degree",
          "Male/Research & Development/Technical Degree",
          "Female/Sales/Technical Degree",
          "Male/Sales/Technical Degree",
          "Female/Research & Development/Life Sciences",
          "Male/Research & Development/Life Sciences",
          "Female/Research & Development/Medical",
          "Male/Research & Development/Medical",
          "Female/Research & Development/Other",
          "Male/Research & Development/Other",
          "Female/Research & Development/Technical Degree",
          "Male/Research & Development/Technical Degree",
          "Female/Research & Development/Life Sciences",
          "Male/Research & Development/Life Sciences",
          "Female/Research & Development/Medical",
          "Male/Research & Development/Medical",
          "Female/Research & Development/Other",
          "Male/Research & Development/Other",
          "Female/Research & Development/Technical Degree",
          "Male/Research & Development/Technical Degree",
          "Female/Research & Development/Life Sciences",
          "Male/Research & Development/Life Sciences",
          "Female/Research & Development/Medical",
          "Male/Research & Development/Medical",
          "Female/Research & Development/Other",
          "Male/Research & Development/Other",
          "Female/Research & Development/Technical Degree",
          "Male/Research & Development/Technical Degree",
          "Female/Sales/Life Sciences",
          "Male/Sales/Life Sciences",
          "Female/Sales/Marketing",
          "Male/Sales/Marketing",
          "Female/Sales/Medical",
          "Male/Sales/Medical",
          "Female/Sales/Other",
          "Male/Sales/Other",
          "Female/Sales/Technical Degree",
          "Male/Sales/Technical Degree",
          "Female/Sales/Life Sciences",
          "Male/Sales/Life Sciences",
          "Female/Sales/Marketing",
          "Male/Sales/Marketing",
          "Female/Sales/Medical",
          "Male/Sales/Medical",
          "Female/Sales/Other",
          "Female/Sales/Technical Degree",
          "Male/Sales/Technical Degree",
          "Female/Human Resources",
          "Male/Human Resources",
          "Female/Human Resources",
          "Male/Human Resources",
          "Female/Research & Development",
          "Male/Research & Development",
          "Female/Sales",
          "Male/Sales",
          "Female/Sales",
          "Male/Sales",
          "Female/Human Resources",
          "Male/Human Resources",
          "Female/Research & Development",
          "Male/Research & Development",
          "Female/Sales",
          "Male/Sales",
          "Male/Human Resources",
          "Female/Research & Development",
          "Male/Research & Development",
          "Female/Sales",
          "Male/Sales",
          "Male/Human Resources",
          "Female/Research & Development",
          "Male/Research & Development",
          "Female/Sales",
          "Male/Sales",
          "Female",
          "Male",
          "Female",
          "Male",
          "Female",
          "Male",
          "",
          ""
         ],
         "type": "sunburst",
         "values": [
          15,
          43,
          18,
          25,
          5,
          3,
          8,
          5,
          2,
          12,
          7,
          5,
          1,
          8,
          3,
          2,
          29,
          57,
          33,
          49,
          4,
          14,
          3,
          8,
          3,
          3,
          1,
          2,
          7,
          13,
          9,
          7,
          5,
          7,
          2,
          13,
          10,
          2,
          3,
          2,
          3,
          2,
          1,
          1,
          1,
          33,
          34,
          26,
          22,
          4,
          3,
          5,
          8,
          16,
          19,
          12,
          23,
          1,
          3,
          3,
          1,
          42,
          73,
          38,
          47,
          7,
          8,
          10,
          20,
          34,
          53,
          45,
          56,
          22,
          34,
          3,
          7,
          8,
          7,
          9,
          9,
          4,
          7,
          6,
          7,
          1,
          2,
          5,
          15,
          43,
          18,
          25,
          5,
          3,
          8,
          5,
          2,
          12,
          7,
          5,
          1,
          8,
          3,
          2,
          29,
          57,
          33,
          49,
          4,
          14,
          3,
          8,
          3,
          3,
          1,
          2,
          7,
          13,
          9,
          7,
          5,
          7,
          2,
          13,
          10,
          2,
          3,
          2,
          3,
          2,
          1,
          1,
          1,
          33,
          34,
          26,
          22,
          4,
          3,
          5,
          8,
          16,
          19,
          12,
          23,
          1,
          3,
          3,
          1,
          42,
          73,
          38,
          47,
          7,
          8,
          10,
          20,
          34,
          53,
          45,
          56,
          22,
          34,
          3,
          7,
          8,
          7,
          9,
          9,
          4,
          7,
          6,
          7,
          1,
          2,
          5,
          5,
          15,
          8,
          7,
          142,
          239,
          52,
          69,
          54,
          70,
          1,
          10,
          140,
          176,
          30,
          44,
          3,
          23,
          34,
          4,
          7,
          2,
          31,
          43,
          11,
          13,
          14,
          37,
          336,
          492,
          151,
          203,
          501,
          732
         ]
        }
       ],
       "layout": {
        "legend": {
         "tracegroupgap": 0
        },
        "margin": {
         "t": 60
        },
        "template": {
         "data": {
          "bar": [
           {
            "error_x": {
             "color": "#2a3f5f"
            },
            "error_y": {
             "color": "#2a3f5f"
            },
            "marker": {
             "line": {
              "color": "#E5ECF6",
              "width": 0.5
             },
             "pattern": {
              "fillmode": "overlay",
              "size": 10,
              "solidity": 0.2
             }
            },
            "type": "bar"
           }
          ],
          "barpolar": [
           {
            "marker": {
             "line": {
              "color": "#E5ECF6",
              "width": 0.5
             },
             "pattern": {
              "fillmode": "overlay",
              "size": 10,
              "solidity": 0.2
             }
            },
            "type": "barpolar"
           }
          ],
          "carpet": [
           {
            "aaxis": {
             "endlinecolor": "#2a3f5f",
             "gridcolor": "white",
             "linecolor": "white",
             "minorgridcolor": "white",
             "startlinecolor": "#2a3f5f"
            },
            "baxis": {
             "endlinecolor": "#2a3f5f",
             "gridcolor": "white",
             "linecolor": "white",
             "minorgridcolor": "white",
             "startlinecolor": "#2a3f5f"
            },
            "type": "carpet"
           }
          ],
          "choropleth": [
           {
            "colorbar": {
             "outlinewidth": 0,
             "ticks": ""
            },
            "type": "choropleth"
           }
          ],
          "contour": [
           {
            "colorbar": {
             "outlinewidth": 0,
             "ticks": ""
            },
            "colorscale": [
             [
              0,
              "#0d0887"
             ],
             [
              0.1111111111111111,
              "#46039f"
             ],
             [
              0.2222222222222222,
              "#7201a8"
             ],
             [
              0.3333333333333333,
              "#9c179e"
             ],
             [
              0.4444444444444444,
              "#bd3786"
             ],
             [
              0.5555555555555556,
              "#d8576b"
             ],
             [
              0.6666666666666666,
              "#ed7953"
             ],
             [
              0.7777777777777778,
              "#fb9f3a"
             ],
             [
              0.8888888888888888,
              "#fdca26"
             ],
             [
              1,
              "#f0f921"
             ]
            ],
            "type": "contour"
           }
          ],
          "contourcarpet": [
           {
            "colorbar": {
             "outlinewidth": 0,
             "ticks": ""
            },
            "type": "contourcarpet"
           }
          ],
          "heatmap": [
           {
            "colorbar": {
             "outlinewidth": 0,
             "ticks": ""
            },
            "colorscale": [
             [
              0,
              "#0d0887"
             ],
             [
              0.1111111111111111,
              "#46039f"
             ],
             [
              0.2222222222222222,
              "#7201a8"
             ],
             [
              0.3333333333333333,
              "#9c179e"
             ],
             [
              0.4444444444444444,
              "#bd3786"
             ],
             [
              0.5555555555555556,
              "#d8576b"
             ],
             [
              0.6666666666666666,
              "#ed7953"
             ],
             [
              0.7777777777777778,
              "#fb9f3a"
             ],
             [
              0.8888888888888888,
              "#fdca26"
             ],
             [
              1,
              "#f0f921"
             ]
            ],
            "type": "heatmap"
           }
          ],
          "heatmapgl": [
           {
            "colorbar": {
             "outlinewidth": 0,
             "ticks": ""
            },
            "colorscale": [
             [
              0,
              "#0d0887"
             ],
             [
              0.1111111111111111,
              "#46039f"
             ],
             [
              0.2222222222222222,
              "#7201a8"
             ],
             [
              0.3333333333333333,
              "#9c179e"
             ],
             [
              0.4444444444444444,
              "#bd3786"
             ],
             [
              0.5555555555555556,
              "#d8576b"
             ],
             [
              0.6666666666666666,
              "#ed7953"
             ],
             [
              0.7777777777777778,
              "#fb9f3a"
             ],
             [
              0.8888888888888888,
              "#fdca26"
             ],
             [
              1,
              "#f0f921"
             ]
            ],
            "type": "heatmapgl"
           }
          ],
          "histogram": [
           {
            "marker": {
             "pattern": {
              "fillmode": "overlay",
              "size": 10,
              "solidity": 0.2
             }
            },
            "type": "histogram"
           }
          ],
          "histogram2d": [
           {
            "colorbar": {
             "outlinewidth": 0,
             "ticks": ""
            },
            "colorscale": [
             [
              0,
              "#0d0887"
             ],
             [
              0.1111111111111111,
              "#46039f"
             ],
             [
              0.2222222222222222,
              "#7201a8"
             ],
             [
              0.3333333333333333,
              "#9c179e"
             ],
             [
              0.4444444444444444,
              "#bd3786"
             ],
             [
              0.5555555555555556,
              "#d8576b"
             ],
             [
              0.6666666666666666,
              "#ed7953"
             ],
             [
              0.7777777777777778,
              "#fb9f3a"
             ],
             [
              0.8888888888888888,
              "#fdca26"
             ],
             [
              1,
              "#f0f921"
             ]
            ],
            "type": "histogram2d"
           }
          ],
          "histogram2dcontour": [
           {
            "colorbar": {
             "outlinewidth": 0,
             "ticks": ""
            },
            "colorscale": [
             [
              0,
              "#0d0887"
             ],
             [
              0.1111111111111111,
              "#46039f"
             ],
             [
              0.2222222222222222,
              "#7201a8"
             ],
             [
              0.3333333333333333,
              "#9c179e"
             ],
             [
              0.4444444444444444,
              "#bd3786"
             ],
             [
              0.5555555555555556,
              "#d8576b"
             ],
             [
              0.6666666666666666,
              "#ed7953"
             ],
             [
              0.7777777777777778,
              "#fb9f3a"
             ],
             [
              0.8888888888888888,
              "#fdca26"
             ],
             [
              1,
              "#f0f921"
             ]
            ],
            "type": "histogram2dcontour"
           }
          ],
          "mesh3d": [
           {
            "colorbar": {
             "outlinewidth": 0,
             "ticks": ""
            },
            "type": "mesh3d"
           }
          ],
          "parcoords": [
           {
            "line": {
             "colorbar": {
              "outlinewidth": 0,
              "ticks": ""
             }
            },
            "type": "parcoords"
           }
          ],
          "pie": [
           {
            "automargin": true,
            "type": "pie"
           }
          ],
          "scatter": [
           {
            "marker": {
             "colorbar": {
              "outlinewidth": 0,
              "ticks": ""
             }
            },
            "type": "scatter"
           }
          ],
          "scatter3d": [
           {
            "line": {
             "colorbar": {
              "outlinewidth": 0,
              "ticks": ""
             }
            },
            "marker": {
             "colorbar": {
              "outlinewidth": 0,
              "ticks": ""
             }
            },
            "type": "scatter3d"
           }
          ],
          "scattercarpet": [
           {
            "marker": {
             "colorbar": {
              "outlinewidth": 0,
              "ticks": ""
             }
            },
            "type": "scattercarpet"
           }
          ],
          "scattergeo": [
           {
            "marker": {
             "colorbar": {
              "outlinewidth": 0,
              "ticks": ""
             }
            },
            "type": "scattergeo"
           }
          ],
          "scattergl": [
           {
            "marker": {
             "colorbar": {
              "outlinewidth": 0,
              "ticks": ""
             }
            },
            "type": "scattergl"
           }
          ],
          "scattermapbox": [
           {
            "marker": {
             "colorbar": {
              "outlinewidth": 0,
              "ticks": ""
             }
            },
            "type": "scattermapbox"
           }
          ],
          "scatterpolar": [
           {
            "marker": {
             "colorbar": {
              "outlinewidth": 0,
              "ticks": ""
             }
            },
            "type": "scatterpolar"
           }
          ],
          "scatterpolargl": [
           {
            "marker": {
             "colorbar": {
              "outlinewidth": 0,
              "ticks": ""
             }
            },
            "type": "scatterpolargl"
           }
          ],
          "scatterternary": [
           {
            "marker": {
             "colorbar": {
              "outlinewidth": 0,
              "ticks": ""
             }
            },
            "type": "scatterternary"
           }
          ],
          "surface": [
           {
            "colorbar": {
             "outlinewidth": 0,
             "ticks": ""
            },
            "colorscale": [
             [
              0,
              "#0d0887"
             ],
             [
              0.1111111111111111,
              "#46039f"
             ],
             [
              0.2222222222222222,
              "#7201a8"
             ],
             [
              0.3333333333333333,
              "#9c179e"
             ],
             [
              0.4444444444444444,
              "#bd3786"
             ],
             [
              0.5555555555555556,
              "#d8576b"
             ],
             [
              0.6666666666666666,
              "#ed7953"
             ],
             [
              0.7777777777777778,
              "#fb9f3a"
             ],
             [
              0.8888888888888888,
              "#fdca26"
             ],
             [
              1,
              "#f0f921"
             ]
            ],
            "type": "surface"
           }
          ],
          "table": [
           {
            "cells": {
             "fill": {
              "color": "#EBF0F8"
             },
             "line": {
              "color": "white"
             }
            },
            "header": {
             "fill": {
              "color": "#C8D4E3"
             },
             "line": {
              "color": "white"
             }
            },
            "type": "table"
           }
          ]
         },
         "layout": {
          "annotationdefaults": {
           "arrowcolor": "#2a3f5f",
           "arrowhead": 0,
           "arrowwidth": 1
          },
          "autotypenumbers": "strict",
          "coloraxis": {
           "colorbar": {
            "outlinewidth": 0,
            "ticks": ""
           }
          },
          "colorscale": {
           "diverging": [
            [
             0,
             "#8e0152"
            ],
            [
             0.1,
             "#c51b7d"
            ],
            [
             0.2,
             "#de77ae"
            ],
            [
             0.3,
             "#f1b6da"
            ],
            [
             0.4,
             "#fde0ef"
            ],
            [
             0.5,
             "#f7f7f7"
            ],
            [
             0.6,
             "#e6f5d0"
            ],
            [
             0.7,
             "#b8e186"
            ],
            [
             0.8,
             "#7fbc41"
            ],
            [
             0.9,
             "#4d9221"
            ],
            [
             1,
             "#276419"
            ]
           ],
           "sequential": [
            [
             0,
             "#0d0887"
            ],
            [
             0.1111111111111111,
             "#46039f"
            ],
            [
             0.2222222222222222,
             "#7201a8"
            ],
            [
             0.3333333333333333,
             "#9c179e"
            ],
            [
             0.4444444444444444,
             "#bd3786"
            ],
            [
             0.5555555555555556,
             "#d8576b"
            ],
            [
             0.6666666666666666,
             "#ed7953"
            ],
            [
             0.7777777777777778,
             "#fb9f3a"
            ],
            [
             0.8888888888888888,
             "#fdca26"
            ],
            [
             1,
             "#f0f921"
            ]
           ],
           "sequentialminus": [
            [
             0,
             "#0d0887"
            ],
            [
             0.1111111111111111,
             "#46039f"
            ],
            [
             0.2222222222222222,
             "#7201a8"
            ],
            [
             0.3333333333333333,
             "#9c179e"
            ],
            [
             0.4444444444444444,
             "#bd3786"
            ],
            [
             0.5555555555555556,
             "#d8576b"
            ],
            [
             0.6666666666666666,
             "#ed7953"
            ],
            [
             0.7777777777777778,
             "#fb9f3a"
            ],
            [
             0.8888888888888888,
             "#fdca26"
            ],
            [
             1,
             "#f0f921"
            ]
           ]
          },
          "colorway": [
           "#636efa",
           "#EF553B",
           "#00cc96",
           "#ab63fa",
           "#FFA15A",
           "#19d3f3",
           "#FF6692",
           "#B6E880",
           "#FF97FF",
           "#FECB52"
          ],
          "font": {
           "color": "#2a3f5f"
          },
          "geo": {
           "bgcolor": "white",
           "lakecolor": "white",
           "landcolor": "#E5ECF6",
           "showlakes": true,
           "showland": true,
           "subunitcolor": "white"
          },
          "hoverlabel": {
           "align": "left"
          },
          "hovermode": "closest",
          "mapbox": {
           "style": "light"
          },
          "paper_bgcolor": "white",
          "plot_bgcolor": "#E5ECF6",
          "polar": {
           "angularaxis": {
            "gridcolor": "white",
            "linecolor": "white",
            "ticks": ""
           },
           "bgcolor": "#E5ECF6",
           "radialaxis": {
            "gridcolor": "white",
            "linecolor": "white",
            "ticks": ""
           }
          },
          "scene": {
           "xaxis": {
            "backgroundcolor": "#E5ECF6",
            "gridcolor": "white",
            "gridwidth": 2,
            "linecolor": "white",
            "showbackground": true,
            "ticks": "",
            "zerolinecolor": "white"
           },
           "yaxis": {
            "backgroundcolor": "#E5ECF6",
            "gridcolor": "white",
            "gridwidth": 2,
            "linecolor": "white",
            "showbackground": true,
            "ticks": "",
            "zerolinecolor": "white"
           },
           "zaxis": {
            "backgroundcolor": "#E5ECF6",
            "gridcolor": "white",
            "gridwidth": 2,
            "linecolor": "white",
            "showbackground": true,
            "ticks": "",
            "zerolinecolor": "white"
           }
          },
          "shapedefaults": {
           "line": {
            "color": "#2a3f5f"
           }
          },
          "ternary": {
           "aaxis": {
            "gridcolor": "white",
            "linecolor": "white",
            "ticks": ""
           },
           "baxis": {
            "gridcolor": "white",
            "linecolor": "white",
            "ticks": ""
           },
           "bgcolor": "#E5ECF6",
           "caxis": {
            "gridcolor": "white",
            "linecolor": "white",
            "ticks": ""
           }
          },
          "title": {
           "x": 0.05
          },
          "xaxis": {
           "automargin": true,
           "gridcolor": "white",
           "linecolor": "white",
           "ticks": "",
           "title": {
            "standoff": 15
           },
           "zerolinecolor": "white",
           "zerolinewidth": 2
          },
          "yaxis": {
           "automargin": true,
           "gridcolor": "white",
           "linecolor": "white",
           "ticks": "",
           "title": {
            "standoff": 15
           },
           "zerolinecolor": "white",
           "zerolinewidth": 2
          }
         }
        }
       }
      },
      "text/html": [
       "<div>                            <div id=\"89532878-5c5b-4f17-b904-e79e2c556d8e\" class=\"plotly-graph-div\" style=\"height:525px; width:100%;\"></div>            <script type=\"text/javascript\">                require([\"plotly\"], function(Plotly) {                    window.PLOTLYENV=window.PLOTLYENV || {};                                    if (document.getElementById(\"89532878-5c5b-4f17-b904-e79e2c556d8e\")) {                    Plotly.newPlot(                        \"89532878-5c5b-4f17-b904-e79e2c556d8e\",                        [{\"branchvalues\":\"total\",\"domain\":{\"x\":[0.0,1.0],\"y\":[0.0,1.0]},\"hovertemplate\":\"labels=%{label}<br>count=%{value}<br>parent=%{parent}<br>id=%{id}<extra></extra>\",\"ids\":[\"Female/Research & Development/Life Sciences/Healthcare Representative/No\",\"Male/Research & Development/Life Sciences/Healthcare Representative/No\",\"Female/Research & Development/Medical/Healthcare Representative/No\",\"Male/Research & Development/Medical/Healthcare Representative/No\",\"Female/Research & Development/Other/Healthcare Representative/No\",\"Male/Research & Development/Other/Healthcare Representative/No\",\"Female/Research & Development/Technical Degree/Healthcare Representative/No\",\"Male/Research & Development/Technical Degree/Healthcare Representative/No\",\"Female/Human Resources/Human Resources/Human Resources/No\",\"Male/Human Resources/Human Resources/Human Resources/No\",\"Female/Human Resources/Life Sciences/Human Resources/No\",\"Male/Human Resources/Life Sciences/Human Resources/No\",\"Female/Human Resources/Medical/Human Resources/No\",\"Male/Human Resources/Medical/Human Resources/No\",\"Male/Human Resources/Other/Human Resources/No\",\"Male/Human Resources/Technical Degree/Human Resources/No\",\"Female/Research & Development/Life Sciences/Laboratory Technician/No\",\"Male/Research & Development/Life Sciences/Laboratory Technician/No\",\"Female/Research & Development/Medical/Laboratory Technician/No\",\"Male/Research & Development/Medical/Laboratory Technician/No\",\"Female/Research & Development/Other/Laboratory Technician/No\",\"Male/Research & Development/Other/Laboratory Technician/No\",\"Female/Research & Development/Technical Degree/Laboratory Technician/No\",\"Male/Research & Development/Technical Degree/Laboratory Technician/No\",\"Female/Human Resources/Human Resources/Manager/No\",\"Male/Human Resources/Human Resources/Manager/No\",\"Female/Human Resources/Life Sciences/Manager/No\",\"Male/Human Resources/Life Sciences/Manager/No\",\"Female/Research & Development/Life Sciences/Manager/No\",\"Male/Research & Development/Life Sciences/Manager/No\",\"Female/Sales/Life Sciences/Manager/No\",\"Male/Sales/Life Sciences/Manager/No\",\"Female/Sales/Marketing/Manager/No\",\"Male/Sales/Marketing/Manager/No\",\"Male/Human Resources/Medical/Manager/No\",\"Female/Research & Development/Medical/Manager/No\",\"Male/Research & Development/Medical/Manager/No\",\"Female/Sales/Medical/Manager/No\",\"Male/Sales/Medical/Manager/No\",\"Female/Research & Development/Other/Manager/No\",\"Male/Research & Development/Other/Manager/No\",\"Female/Research & Development/Technical Degree/Manager/No\",\"Male/Research & Development/Technical Degree/Manager/No\",\"Female/Sales/Technical Degree/Manager/No\",\"Male/Sales/Technical Degree/Manager/No\",\"Female/Research & Development/Life Sciences/Manufacturing Director/No\",\"Male/Research & Development/Life Sciences/Manufacturing Director/No\",\"Female/Research & Development/Medical/Manufacturing Director/No\",\"Male/Research & Development/Medical/Manufacturing Director/No\",\"Female/Research & Development/Other/Manufacturing Director/No\",\"Male/Research & Development/Other/Manufacturing Director/No\",\"Female/Research & Development/Technical Degree/Manufacturing Director/No\",\"Male/Research & Development/Technical Degree/Manufacturing Director/No\",\"Female/Research & Development/Life Sciences/Research Director/No\",\"Male/Research & Development/Life Sciences/Research Director/No\",\"Female/Research & Development/Medical/Research Director/No\",\"Male/Research & Development/Medical/Research Director/No\",\"Female/Research & Development/Other/Research Director/No\",\"Male/Research & Development/Other/Research Director/No\",\"Female/Research & Development/Technical Degree/Research Director/No\",\"Male/Research & Development/Technical Degree/Research Director/No\",\"Female/Research & Development/Life Sciences/Research Scientist/No\",\"Male/Research & Development/Life Sciences/Research Scientist/No\",\"Female/Research & Development/Medical/Research Scientist/No\",\"Male/Research & Development/Medical/Research Scientist/No\",\"Female/Research & Development/Other/Research Scientist/No\",\"Male/Research & Development/Other/Research Scientist/No\",\"Female/Research & Development/Technical Degree/Research Scientist/No\",\"Male/Research & Development/Technical Degree/Research Scientist/No\",\"Female/Sales/Life Sciences/Sales Executive/No\",\"Male/Sales/Life Sciences/Sales Executive/No\",\"Female/Sales/Marketing/Sales Executive/No\",\"Male/Sales/Marketing/Sales Executive/No\",\"Female/Sales/Medical/Sales Executive/No\",\"Male/Sales/Medical/Sales Executive/No\",\"Female/Sales/Other/Sales Executive/No\",\"Male/Sales/Other/Sales Executive/No\",\"Female/Sales/Technical Degree/Sales Executive/No\",\"Male/Sales/Technical Degree/Sales Executive/No\",\"Female/Sales/Life Sciences/Sales Representative/No\",\"Male/Sales/Life Sciences/Sales Representative/No\",\"Female/Sales/Marketing/Sales Representative/No\",\"Male/Sales/Marketing/Sales Representative/No\",\"Female/Sales/Medical/Sales Representative/No\",\"Male/Sales/Medical/Sales Representative/No\",\"Female/Sales/Other/Sales Representative/No\",\"Female/Sales/Technical Degree/Sales Representative/No\",\"Male/Sales/Technical Degree/Sales Representative/No\",\"Female/Research & Development/Life Sciences/Healthcare Representative\",\"Male/Research & Development/Life Sciences/Healthcare Representative\",\"Female/Research & Development/Medical/Healthcare Representative\",\"Male/Research & Development/Medical/Healthcare Representative\",\"Female/Research & Development/Other/Healthcare Representative\",\"Male/Research & Development/Other/Healthcare Representative\",\"Female/Research & Development/Technical Degree/Healthcare Representative\",\"Male/Research & Development/Technical Degree/Healthcare Representative\",\"Female/Human Resources/Human Resources/Human Resources\",\"Male/Human Resources/Human Resources/Human Resources\",\"Female/Human Resources/Life Sciences/Human Resources\",\"Male/Human Resources/Life Sciences/Human Resources\",\"Female/Human Resources/Medical/Human Resources\",\"Male/Human Resources/Medical/Human Resources\",\"Male/Human Resources/Other/Human Resources\",\"Male/Human Resources/Technical Degree/Human Resources\",\"Female/Research & Development/Life Sciences/Laboratory Technician\",\"Male/Research & Development/Life Sciences/Laboratory Technician\",\"Female/Research & Development/Medical/Laboratory Technician\",\"Male/Research & Development/Medical/Laboratory Technician\",\"Female/Research & Development/Other/Laboratory Technician\",\"Male/Research & Development/Other/Laboratory Technician\",\"Female/Research & Development/Technical Degree/Laboratory Technician\",\"Male/Research & Development/Technical Degree/Laboratory Technician\",\"Female/Human Resources/Human Resources/Manager\",\"Male/Human Resources/Human Resources/Manager\",\"Female/Human Resources/Life Sciences/Manager\",\"Male/Human Resources/Life Sciences/Manager\",\"Female/Research & Development/Life Sciences/Manager\",\"Male/Research & Development/Life Sciences/Manager\",\"Female/Sales/Life Sciences/Manager\",\"Male/Sales/Life Sciences/Manager\",\"Female/Sales/Marketing/Manager\",\"Male/Sales/Marketing/Manager\",\"Male/Human Resources/Medical/Manager\",\"Female/Research & Development/Medical/Manager\",\"Male/Research & Development/Medical/Manager\",\"Female/Sales/Medical/Manager\",\"Male/Sales/Medical/Manager\",\"Female/Research & Development/Other/Manager\",\"Male/Research & Development/Other/Manager\",\"Female/Research & Development/Technical Degree/Manager\",\"Male/Research & Development/Technical Degree/Manager\",\"Female/Sales/Technical Degree/Manager\",\"Male/Sales/Technical Degree/Manager\",\"Female/Research & Development/Life Sciences/Manufacturing Director\",\"Male/Research & Development/Life Sciences/Manufacturing Director\",\"Female/Research & Development/Medical/Manufacturing Director\",\"Male/Research & Development/Medical/Manufacturing Director\",\"Female/Research & Development/Other/Manufacturing Director\",\"Male/Research & Development/Other/Manufacturing Director\",\"Female/Research & Development/Technical Degree/Manufacturing Director\",\"Male/Research & Development/Technical Degree/Manufacturing Director\",\"Female/Research & Development/Life Sciences/Research Director\",\"Male/Research & Development/Life Sciences/Research Director\",\"Female/Research & Development/Medical/Research Director\",\"Male/Research & Development/Medical/Research Director\",\"Female/Research & Development/Other/Research Director\",\"Male/Research & Development/Other/Research Director\",\"Female/Research & Development/Technical Degree/Research Director\",\"Male/Research & Development/Technical Degree/Research Director\",\"Female/Research & Development/Life Sciences/Research Scientist\",\"Male/Research & Development/Life Sciences/Research Scientist\",\"Female/Research & Development/Medical/Research Scientist\",\"Male/Research & Development/Medical/Research Scientist\",\"Female/Research & Development/Other/Research Scientist\",\"Male/Research & Development/Other/Research Scientist\",\"Female/Research & Development/Technical Degree/Research Scientist\",\"Male/Research & Development/Technical Degree/Research Scientist\",\"Female/Sales/Life Sciences/Sales Executive\",\"Male/Sales/Life Sciences/Sales Executive\",\"Female/Sales/Marketing/Sales Executive\",\"Male/Sales/Marketing/Sales Executive\",\"Female/Sales/Medical/Sales Executive\",\"Male/Sales/Medical/Sales Executive\",\"Female/Sales/Other/Sales Executive\",\"Male/Sales/Other/Sales Executive\",\"Female/Sales/Technical Degree/Sales Executive\",\"Male/Sales/Technical Degree/Sales Executive\",\"Female/Sales/Life Sciences/Sales Representative\",\"Male/Sales/Life Sciences/Sales Representative\",\"Female/Sales/Marketing/Sales Representative\",\"Male/Sales/Marketing/Sales Representative\",\"Female/Sales/Medical/Sales Representative\",\"Male/Sales/Medical/Sales Representative\",\"Female/Sales/Other/Sales Representative\",\"Female/Sales/Technical Degree/Sales Representative\",\"Male/Sales/Technical Degree/Sales Representative\",\"Female/Human Resources/Human Resources\",\"Male/Human Resources/Human Resources\",\"Female/Human Resources/Life Sciences\",\"Male/Human Resources/Life Sciences\",\"Female/Research & Development/Life Sciences\",\"Male/Research & Development/Life Sciences\",\"Female/Sales/Life Sciences\",\"Male/Sales/Life Sciences\",\"Female/Sales/Marketing\",\"Male/Sales/Marketing\",\"Female/Human Resources/Medical\",\"Male/Human Resources/Medical\",\"Female/Research & Development/Medical\",\"Male/Research & Development/Medical\",\"Female/Sales/Medical\",\"Male/Sales/Medical\",\"Male/Human Resources/Other\",\"Female/Research & Development/Other\",\"Male/Research & Development/Other\",\"Female/Sales/Other\",\"Male/Sales/Other\",\"Male/Human Resources/Technical Degree\",\"Female/Research & Development/Technical Degree\",\"Male/Research & Development/Technical Degree\",\"Female/Sales/Technical Degree\",\"Male/Sales/Technical Degree\",\"Female/Human Resources\",\"Male/Human Resources\",\"Female/Research & Development\",\"Male/Research & Development\",\"Female/Sales\",\"Male/Sales\",\"Female\",\"Male\"],\"labels\":[\"No\",\"No\",\"No\",\"No\",\"No\",\"No\",\"No\",\"No\",\"No\",\"No\",\"No\",\"No\",\"No\",\"No\",\"No\",\"No\",\"No\",\"No\",\"No\",\"No\",\"No\",\"No\",\"No\",\"No\",\"No\",\"No\",\"No\",\"No\",\"No\",\"No\",\"No\",\"No\",\"No\",\"No\",\"No\",\"No\",\"No\",\"No\",\"No\",\"No\",\"No\",\"No\",\"No\",\"No\",\"No\",\"No\",\"No\",\"No\",\"No\",\"No\",\"No\",\"No\",\"No\",\"No\",\"No\",\"No\",\"No\",\"No\",\"No\",\"No\",\"No\",\"No\",\"No\",\"No\",\"No\",\"No\",\"No\",\"No\",\"No\",\"No\",\"No\",\"No\",\"No\",\"No\",\"No\",\"No\",\"No\",\"No\",\"No\",\"No\",\"No\",\"No\",\"No\",\"No\",\"No\",\"No\",\"No\",\"No\",\"Healthcare Representative\",\"Healthcare Representative\",\"Healthcare Representative\",\"Healthcare Representative\",\"Healthcare Representative\",\"Healthcare Representative\",\"Healthcare Representative\",\"Healthcare Representative\",\"Human Resources\",\"Human Resources\",\"Human Resources\",\"Human Resources\",\"Human Resources\",\"Human Resources\",\"Human Resources\",\"Human Resources\",\"Laboratory Technician\",\"Laboratory Technician\",\"Laboratory Technician\",\"Laboratory Technician\",\"Laboratory Technician\",\"Laboratory Technician\",\"Laboratory Technician\",\"Laboratory Technician\",\"Manager\",\"Manager\",\"Manager\",\"Manager\",\"Manager\",\"Manager\",\"Manager\",\"Manager\",\"Manager\",\"Manager\",\"Manager\",\"Manager\",\"Manager\",\"Manager\",\"Manager\",\"Manager\",\"Manager\",\"Manager\",\"Manager\",\"Manager\",\"Manager\",\"Manufacturing Director\",\"Manufacturing Director\",\"Manufacturing Director\",\"Manufacturing Director\",\"Manufacturing Director\",\"Manufacturing Director\",\"Manufacturing Director\",\"Manufacturing Director\",\"Research Director\",\"Research Director\",\"Research Director\",\"Research Director\",\"Research Director\",\"Research Director\",\"Research Director\",\"Research Director\",\"Research Scientist\",\"Research Scientist\",\"Research Scientist\",\"Research Scientist\",\"Research Scientist\",\"Research Scientist\",\"Research Scientist\",\"Research Scientist\",\"Sales Executive\",\"Sales Executive\",\"Sales Executive\",\"Sales Executive\",\"Sales Executive\",\"Sales Executive\",\"Sales Executive\",\"Sales Executive\",\"Sales Executive\",\"Sales Executive\",\"Sales Representative\",\"Sales Representative\",\"Sales Representative\",\"Sales Representative\",\"Sales Representative\",\"Sales Representative\",\"Sales Representative\",\"Sales Representative\",\"Sales Representative\",\"Human Resources\",\"Human Resources\",\"Life Sciences\",\"Life Sciences\",\"Life Sciences\",\"Life Sciences\",\"Life Sciences\",\"Life Sciences\",\"Marketing\",\"Marketing\",\"Medical\",\"Medical\",\"Medical\",\"Medical\",\"Medical\",\"Medical\",\"Other\",\"Other\",\"Other\",\"Other\",\"Other\",\"Technical Degree\",\"Technical Degree\",\"Technical Degree\",\"Technical Degree\",\"Technical Degree\",\"Human Resources\",\"Human Resources\",\"Research & Development\",\"Research & Development\",\"Sales\",\"Sales\",\"Female\",\"Male\"],\"name\":\"\",\"parents\":[\"Female/Research & Development/Life Sciences/Healthcare Representative\",\"Male/Research & Development/Life Sciences/Healthcare Representative\",\"Female/Research & Development/Medical/Healthcare Representative\",\"Male/Research & Development/Medical/Healthcare Representative\",\"Female/Research & Development/Other/Healthcare Representative\",\"Male/Research & Development/Other/Healthcare Representative\",\"Female/Research & Development/Technical Degree/Healthcare Representative\",\"Male/Research & Development/Technical Degree/Healthcare Representative\",\"Female/Human Resources/Human Resources/Human Resources\",\"Male/Human Resources/Human Resources/Human Resources\",\"Female/Human Resources/Life Sciences/Human Resources\",\"Male/Human Resources/Life Sciences/Human Resources\",\"Female/Human Resources/Medical/Human Resources\",\"Male/Human Resources/Medical/Human Resources\",\"Male/Human Resources/Other/Human Resources\",\"Male/Human Resources/Technical Degree/Human Resources\",\"Female/Research & Development/Life Sciences/Laboratory Technician\",\"Male/Research & Development/Life Sciences/Laboratory Technician\",\"Female/Research & Development/Medical/Laboratory Technician\",\"Male/Research & Development/Medical/Laboratory Technician\",\"Female/Research & Development/Other/Laboratory Technician\",\"Male/Research & Development/Other/Laboratory Technician\",\"Female/Research & Development/Technical Degree/Laboratory Technician\",\"Male/Research & Development/Technical Degree/Laboratory Technician\",\"Female/Human Resources/Human Resources/Manager\",\"Male/Human Resources/Human Resources/Manager\",\"Female/Human Resources/Life Sciences/Manager\",\"Male/Human Resources/Life Sciences/Manager\",\"Female/Research & Development/Life Sciences/Manager\",\"Male/Research & Development/Life Sciences/Manager\",\"Female/Sales/Life Sciences/Manager\",\"Male/Sales/Life Sciences/Manager\",\"Female/Sales/Marketing/Manager\",\"Male/Sales/Marketing/Manager\",\"Male/Human Resources/Medical/Manager\",\"Female/Research & Development/Medical/Manager\",\"Male/Research & Development/Medical/Manager\",\"Female/Sales/Medical/Manager\",\"Male/Sales/Medical/Manager\",\"Female/Research & Development/Other/Manager\",\"Male/Research & Development/Other/Manager\",\"Female/Research & Development/Technical Degree/Manager\",\"Male/Research & Development/Technical Degree/Manager\",\"Female/Sales/Technical Degree/Manager\",\"Male/Sales/Technical Degree/Manager\",\"Female/Research & Development/Life Sciences/Manufacturing Director\",\"Male/Research & Development/Life Sciences/Manufacturing Director\",\"Female/Research & Development/Medical/Manufacturing Director\",\"Male/Research & Development/Medical/Manufacturing Director\",\"Female/Research & Development/Other/Manufacturing Director\",\"Male/Research & Development/Other/Manufacturing Director\",\"Female/Research & Development/Technical Degree/Manufacturing Director\",\"Male/Research & Development/Technical Degree/Manufacturing Director\",\"Female/Research & Development/Life Sciences/Research Director\",\"Male/Research & Development/Life Sciences/Research Director\",\"Female/Research & Development/Medical/Research Director\",\"Male/Research & Development/Medical/Research Director\",\"Female/Research & Development/Other/Research Director\",\"Male/Research & Development/Other/Research Director\",\"Female/Research & Development/Technical Degree/Research Director\",\"Male/Research & Development/Technical Degree/Research Director\",\"Female/Research & Development/Life Sciences/Research Scientist\",\"Male/Research & Development/Life Sciences/Research Scientist\",\"Female/Research & Development/Medical/Research Scientist\",\"Male/Research & Development/Medical/Research Scientist\",\"Female/Research & Development/Other/Research Scientist\",\"Male/Research & Development/Other/Research Scientist\",\"Female/Research & Development/Technical Degree/Research Scientist\",\"Male/Research & Development/Technical Degree/Research Scientist\",\"Female/Sales/Life Sciences/Sales Executive\",\"Male/Sales/Life Sciences/Sales Executive\",\"Female/Sales/Marketing/Sales Executive\",\"Male/Sales/Marketing/Sales Executive\",\"Female/Sales/Medical/Sales Executive\",\"Male/Sales/Medical/Sales Executive\",\"Female/Sales/Other/Sales Executive\",\"Male/Sales/Other/Sales Executive\",\"Female/Sales/Technical Degree/Sales Executive\",\"Male/Sales/Technical Degree/Sales Executive\",\"Female/Sales/Life Sciences/Sales Representative\",\"Male/Sales/Life Sciences/Sales Representative\",\"Female/Sales/Marketing/Sales Representative\",\"Male/Sales/Marketing/Sales Representative\",\"Female/Sales/Medical/Sales Representative\",\"Male/Sales/Medical/Sales Representative\",\"Female/Sales/Other/Sales Representative\",\"Female/Sales/Technical Degree/Sales Representative\",\"Male/Sales/Technical Degree/Sales Representative\",\"Female/Research & Development/Life Sciences\",\"Male/Research & Development/Life Sciences\",\"Female/Research & Development/Medical\",\"Male/Research & Development/Medical\",\"Female/Research & Development/Other\",\"Male/Research & Development/Other\",\"Female/Research & Development/Technical Degree\",\"Male/Research & Development/Technical Degree\",\"Female/Human Resources/Human Resources\",\"Male/Human Resources/Human Resources\",\"Female/Human Resources/Life Sciences\",\"Male/Human Resources/Life Sciences\",\"Female/Human Resources/Medical\",\"Male/Human Resources/Medical\",\"Male/Human Resources/Other\",\"Male/Human Resources/Technical Degree\",\"Female/Research & Development/Life Sciences\",\"Male/Research & Development/Life Sciences\",\"Female/Research & Development/Medical\",\"Male/Research & Development/Medical\",\"Female/Research & Development/Other\",\"Male/Research & Development/Other\",\"Female/Research & Development/Technical Degree\",\"Male/Research & Development/Technical Degree\",\"Female/Human Resources/Human Resources\",\"Male/Human Resources/Human Resources\",\"Female/Human Resources/Life Sciences\",\"Male/Human Resources/Life Sciences\",\"Female/Research & Development/Life Sciences\",\"Male/Research & Development/Life Sciences\",\"Female/Sales/Life Sciences\",\"Male/Sales/Life Sciences\",\"Female/Sales/Marketing\",\"Male/Sales/Marketing\",\"Male/Human Resources/Medical\",\"Female/Research & Development/Medical\",\"Male/Research & Development/Medical\",\"Female/Sales/Medical\",\"Male/Sales/Medical\",\"Female/Research & Development/Other\",\"Male/Research & Development/Other\",\"Female/Research & Development/Technical Degree\",\"Male/Research & Development/Technical Degree\",\"Female/Sales/Technical Degree\",\"Male/Sales/Technical Degree\",\"Female/Research & Development/Life Sciences\",\"Male/Research & Development/Life Sciences\",\"Female/Research & Development/Medical\",\"Male/Research & Development/Medical\",\"Female/Research & Development/Other\",\"Male/Research & Development/Other\",\"Female/Research & Development/Technical Degree\",\"Male/Research & Development/Technical Degree\",\"Female/Research & Development/Life Sciences\",\"Male/Research & Development/Life Sciences\",\"Female/Research & Development/Medical\",\"Male/Research & Development/Medical\",\"Female/Research & Development/Other\",\"Male/Research & Development/Other\",\"Female/Research & Development/Technical Degree\",\"Male/Research & Development/Technical Degree\",\"Female/Research & Development/Life Sciences\",\"Male/Research & Development/Life Sciences\",\"Female/Research & Development/Medical\",\"Male/Research & Development/Medical\",\"Female/Research & Development/Other\",\"Male/Research & Development/Other\",\"Female/Research & Development/Technical Degree\",\"Male/Research & Development/Technical Degree\",\"Female/Sales/Life Sciences\",\"Male/Sales/Life Sciences\",\"Female/Sales/Marketing\",\"Male/Sales/Marketing\",\"Female/Sales/Medical\",\"Male/Sales/Medical\",\"Female/Sales/Other\",\"Male/Sales/Other\",\"Female/Sales/Technical Degree\",\"Male/Sales/Technical Degree\",\"Female/Sales/Life Sciences\",\"Male/Sales/Life Sciences\",\"Female/Sales/Marketing\",\"Male/Sales/Marketing\",\"Female/Sales/Medical\",\"Male/Sales/Medical\",\"Female/Sales/Other\",\"Female/Sales/Technical Degree\",\"Male/Sales/Technical Degree\",\"Female/Human Resources\",\"Male/Human Resources\",\"Female/Human Resources\",\"Male/Human Resources\",\"Female/Research & Development\",\"Male/Research & Development\",\"Female/Sales\",\"Male/Sales\",\"Female/Sales\",\"Male/Sales\",\"Female/Human Resources\",\"Male/Human Resources\",\"Female/Research & Development\",\"Male/Research & Development\",\"Female/Sales\",\"Male/Sales\",\"Male/Human Resources\",\"Female/Research & Development\",\"Male/Research & Development\",\"Female/Sales\",\"Male/Sales\",\"Male/Human Resources\",\"Female/Research & Development\",\"Male/Research & Development\",\"Female/Sales\",\"Male/Sales\",\"Female\",\"Male\",\"Female\",\"Male\",\"Female\",\"Male\",\"\",\"\"],\"values\":[15,43,18,25,5,3,8,5,2,12,7,5,1,8,3,2,29,57,33,49,4,14,3,8,3,3,1,2,7,13,9,7,5,7,2,13,10,2,3,2,3,2,1,1,1,33,34,26,22,4,3,5,8,16,19,12,23,1,3,3,1,42,73,38,47,7,8,10,20,34,53,45,56,22,34,3,7,8,7,9,9,4,7,6,7,1,2,5,15,43,18,25,5,3,8,5,2,12,7,5,1,8,3,2,29,57,33,49,4,14,3,8,3,3,1,2,7,13,9,7,5,7,2,13,10,2,3,2,3,2,1,1,1,33,34,26,22,4,3,5,8,16,19,12,23,1,3,3,1,42,73,38,47,7,8,10,20,34,53,45,56,22,34,3,7,8,7,9,9,4,7,6,7,1,2,5,5,15,8,7,142,239,52,69,54,70,1,10,140,176,30,44,3,23,34,4,7,2,31,43,11,13,14,37,336,492,151,203,501,732],\"type\":\"sunburst\"}],                        {\"template\":{\"data\":{\"bar\":[{\"error_x\":{\"color\":\"#2a3f5f\"},\"error_y\":{\"color\":\"#2a3f5f\"},\"marker\":{\"line\":{\"color\":\"#E5ECF6\",\"width\":0.5},\"pattern\":{\"fillmode\":\"overlay\",\"size\":10,\"solidity\":0.2}},\"type\":\"bar\"}],\"barpolar\":[{\"marker\":{\"line\":{\"color\":\"#E5ECF6\",\"width\":0.5},\"pattern\":{\"fillmode\":\"overlay\",\"size\":10,\"solidity\":0.2}},\"type\":\"barpolar\"}],\"carpet\":[{\"aaxis\":{\"endlinecolor\":\"#2a3f5f\",\"gridcolor\":\"white\",\"linecolor\":\"white\",\"minorgridcolor\":\"white\",\"startlinecolor\":\"#2a3f5f\"},\"baxis\":{\"endlinecolor\":\"#2a3f5f\",\"gridcolor\":\"white\",\"linecolor\":\"white\",\"minorgridcolor\":\"white\",\"startlinecolor\":\"#2a3f5f\"},\"type\":\"carpet\"}],\"choropleth\":[{\"colorbar\":{\"outlinewidth\":0,\"ticks\":\"\"},\"type\":\"choropleth\"}],\"contour\":[{\"colorbar\":{\"outlinewidth\":0,\"ticks\":\"\"},\"colorscale\":[[0.0,\"#0d0887\"],[0.1111111111111111,\"#46039f\"],[0.2222222222222222,\"#7201a8\"],[0.3333333333333333,\"#9c179e\"],[0.4444444444444444,\"#bd3786\"],[0.5555555555555556,\"#d8576b\"],[0.6666666666666666,\"#ed7953\"],[0.7777777777777778,\"#fb9f3a\"],[0.8888888888888888,\"#fdca26\"],[1.0,\"#f0f921\"]],\"type\":\"contour\"}],\"contourcarpet\":[{\"colorbar\":{\"outlinewidth\":0,\"ticks\":\"\"},\"type\":\"contourcarpet\"}],\"heatmap\":[{\"colorbar\":{\"outlinewidth\":0,\"ticks\":\"\"},\"colorscale\":[[0.0,\"#0d0887\"],[0.1111111111111111,\"#46039f\"],[0.2222222222222222,\"#7201a8\"],[0.3333333333333333,\"#9c179e\"],[0.4444444444444444,\"#bd3786\"],[0.5555555555555556,\"#d8576b\"],[0.6666666666666666,\"#ed7953\"],[0.7777777777777778,\"#fb9f3a\"],[0.8888888888888888,\"#fdca26\"],[1.0,\"#f0f921\"]],\"type\":\"heatmap\"}],\"heatmapgl\":[{\"colorbar\":{\"outlinewidth\":0,\"ticks\":\"\"},\"colorscale\":[[0.0,\"#0d0887\"],[0.1111111111111111,\"#46039f\"],[0.2222222222222222,\"#7201a8\"],[0.3333333333333333,\"#9c179e\"],[0.4444444444444444,\"#bd3786\"],[0.5555555555555556,\"#d8576b\"],[0.6666666666666666,\"#ed7953\"],[0.7777777777777778,\"#fb9f3a\"],[0.8888888888888888,\"#fdca26\"],[1.0,\"#f0f921\"]],\"type\":\"heatmapgl\"}],\"histogram\":[{\"marker\":{\"pattern\":{\"fillmode\":\"overlay\",\"size\":10,\"solidity\":0.2}},\"type\":\"histogram\"}],\"histogram2d\":[{\"colorbar\":{\"outlinewidth\":0,\"ticks\":\"\"},\"colorscale\":[[0.0,\"#0d0887\"],[0.1111111111111111,\"#46039f\"],[0.2222222222222222,\"#7201a8\"],[0.3333333333333333,\"#9c179e\"],[0.4444444444444444,\"#bd3786\"],[0.5555555555555556,\"#d8576b\"],[0.6666666666666666,\"#ed7953\"],[0.7777777777777778,\"#fb9f3a\"],[0.8888888888888888,\"#fdca26\"],[1.0,\"#f0f921\"]],\"type\":\"histogram2d\"}],\"histogram2dcontour\":[{\"colorbar\":{\"outlinewidth\":0,\"ticks\":\"\"},\"colorscale\":[[0.0,\"#0d0887\"],[0.1111111111111111,\"#46039f\"],[0.2222222222222222,\"#7201a8\"],[0.3333333333333333,\"#9c179e\"],[0.4444444444444444,\"#bd3786\"],[0.5555555555555556,\"#d8576b\"],[0.6666666666666666,\"#ed7953\"],[0.7777777777777778,\"#fb9f3a\"],[0.8888888888888888,\"#fdca26\"],[1.0,\"#f0f921\"]],\"type\":\"histogram2dcontour\"}],\"mesh3d\":[{\"colorbar\":{\"outlinewidth\":0,\"ticks\":\"\"},\"type\":\"mesh3d\"}],\"parcoords\":[{\"line\":{\"colorbar\":{\"outlinewidth\":0,\"ticks\":\"\"}},\"type\":\"parcoords\"}],\"pie\":[{\"automargin\":true,\"type\":\"pie\"}],\"scatter\":[{\"marker\":{\"colorbar\":{\"outlinewidth\":0,\"ticks\":\"\"}},\"type\":\"scatter\"}],\"scatter3d\":[{\"line\":{\"colorbar\":{\"outlinewidth\":0,\"ticks\":\"\"}},\"marker\":{\"colorbar\":{\"outlinewidth\":0,\"ticks\":\"\"}},\"type\":\"scatter3d\"}],\"scattercarpet\":[{\"marker\":{\"colorbar\":{\"outlinewidth\":0,\"ticks\":\"\"}},\"type\":\"scattercarpet\"}],\"scattergeo\":[{\"marker\":{\"colorbar\":{\"outlinewidth\":0,\"ticks\":\"\"}},\"type\":\"scattergeo\"}],\"scattergl\":[{\"marker\":{\"colorbar\":{\"outlinewidth\":0,\"ticks\":\"\"}},\"type\":\"scattergl\"}],\"scattermapbox\":[{\"marker\":{\"colorbar\":{\"outlinewidth\":0,\"ticks\":\"\"}},\"type\":\"scattermapbox\"}],\"scatterpolar\":[{\"marker\":{\"colorbar\":{\"outlinewidth\":0,\"ticks\":\"\"}},\"type\":\"scatterpolar\"}],\"scatterpolargl\":[{\"marker\":{\"colorbar\":{\"outlinewidth\":0,\"ticks\":\"\"}},\"type\":\"scatterpolargl\"}],\"scatterternary\":[{\"marker\":{\"colorbar\":{\"outlinewidth\":0,\"ticks\":\"\"}},\"type\":\"scatterternary\"}],\"surface\":[{\"colorbar\":{\"outlinewidth\":0,\"ticks\":\"\"},\"colorscale\":[[0.0,\"#0d0887\"],[0.1111111111111111,\"#46039f\"],[0.2222222222222222,\"#7201a8\"],[0.3333333333333333,\"#9c179e\"],[0.4444444444444444,\"#bd3786\"],[0.5555555555555556,\"#d8576b\"],[0.6666666666666666,\"#ed7953\"],[0.7777777777777778,\"#fb9f3a\"],[0.8888888888888888,\"#fdca26\"],[1.0,\"#f0f921\"]],\"type\":\"surface\"}],\"table\":[{\"cells\":{\"fill\":{\"color\":\"#EBF0F8\"},\"line\":{\"color\":\"white\"}},\"header\":{\"fill\":{\"color\":\"#C8D4E3\"},\"line\":{\"color\":\"white\"}},\"type\":\"table\"}]},\"layout\":{\"annotationdefaults\":{\"arrowcolor\":\"#2a3f5f\",\"arrowhead\":0,\"arrowwidth\":1},\"autotypenumbers\":\"strict\",\"coloraxis\":{\"colorbar\":{\"outlinewidth\":0,\"ticks\":\"\"}},\"colorscale\":{\"diverging\":[[0,\"#8e0152\"],[0.1,\"#c51b7d\"],[0.2,\"#de77ae\"],[0.3,\"#f1b6da\"],[0.4,\"#fde0ef\"],[0.5,\"#f7f7f7\"],[0.6,\"#e6f5d0\"],[0.7,\"#b8e186\"],[0.8,\"#7fbc41\"],[0.9,\"#4d9221\"],[1,\"#276419\"]],\"sequential\":[[0.0,\"#0d0887\"],[0.1111111111111111,\"#46039f\"],[0.2222222222222222,\"#7201a8\"],[0.3333333333333333,\"#9c179e\"],[0.4444444444444444,\"#bd3786\"],[0.5555555555555556,\"#d8576b\"],[0.6666666666666666,\"#ed7953\"],[0.7777777777777778,\"#fb9f3a\"],[0.8888888888888888,\"#fdca26\"],[1.0,\"#f0f921\"]],\"sequentialminus\":[[0.0,\"#0d0887\"],[0.1111111111111111,\"#46039f\"],[0.2222222222222222,\"#7201a8\"],[0.3333333333333333,\"#9c179e\"],[0.4444444444444444,\"#bd3786\"],[0.5555555555555556,\"#d8576b\"],[0.6666666666666666,\"#ed7953\"],[0.7777777777777778,\"#fb9f3a\"],[0.8888888888888888,\"#fdca26\"],[1.0,\"#f0f921\"]]},\"colorway\":[\"#636efa\",\"#EF553B\",\"#00cc96\",\"#ab63fa\",\"#FFA15A\",\"#19d3f3\",\"#FF6692\",\"#B6E880\",\"#FF97FF\",\"#FECB52\"],\"font\":{\"color\":\"#2a3f5f\"},\"geo\":{\"bgcolor\":\"white\",\"lakecolor\":\"white\",\"landcolor\":\"#E5ECF6\",\"showlakes\":true,\"showland\":true,\"subunitcolor\":\"white\"},\"hoverlabel\":{\"align\":\"left\"},\"hovermode\":\"closest\",\"mapbox\":{\"style\":\"light\"},\"paper_bgcolor\":\"white\",\"plot_bgcolor\":\"#E5ECF6\",\"polar\":{\"angularaxis\":{\"gridcolor\":\"white\",\"linecolor\":\"white\",\"ticks\":\"\"},\"bgcolor\":\"#E5ECF6\",\"radialaxis\":{\"gridcolor\":\"white\",\"linecolor\":\"white\",\"ticks\":\"\"}},\"scene\":{\"xaxis\":{\"backgroundcolor\":\"#E5ECF6\",\"gridcolor\":\"white\",\"gridwidth\":2,\"linecolor\":\"white\",\"showbackground\":true,\"ticks\":\"\",\"zerolinecolor\":\"white\"},\"yaxis\":{\"backgroundcolor\":\"#E5ECF6\",\"gridcolor\":\"white\",\"gridwidth\":2,\"linecolor\":\"white\",\"showbackground\":true,\"ticks\":\"\",\"zerolinecolor\":\"white\"},\"zaxis\":{\"backgroundcolor\":\"#E5ECF6\",\"gridcolor\":\"white\",\"gridwidth\":2,\"linecolor\":\"white\",\"showbackground\":true,\"ticks\":\"\",\"zerolinecolor\":\"white\"}},\"shapedefaults\":{\"line\":{\"color\":\"#2a3f5f\"}},\"ternary\":{\"aaxis\":{\"gridcolor\":\"white\",\"linecolor\":\"white\",\"ticks\":\"\"},\"baxis\":{\"gridcolor\":\"white\",\"linecolor\":\"white\",\"ticks\":\"\"},\"bgcolor\":\"#E5ECF6\",\"caxis\":{\"gridcolor\":\"white\",\"linecolor\":\"white\",\"ticks\":\"\"}},\"title\":{\"x\":0.05},\"xaxis\":{\"automargin\":true,\"gridcolor\":\"white\",\"linecolor\":\"white\",\"ticks\":\"\",\"title\":{\"standoff\":15},\"zerolinecolor\":\"white\",\"zerolinewidth\":2},\"yaxis\":{\"automargin\":true,\"gridcolor\":\"white\",\"linecolor\":\"white\",\"ticks\":\"\",\"title\":{\"standoff\":15},\"zerolinecolor\":\"white\",\"zerolinewidth\":2}}},\"legend\":{\"tracegroupgap\":0},\"margin\":{\"t\":60}},                        {\"responsive\": true}                    ).then(function(){\n",
       "                            \n",
       "var gd = document.getElementById('89532878-5c5b-4f17-b904-e79e2c556d8e');\n",
       "var x = new MutationObserver(function (mutations, observer) {{\n",
       "        var display = window.getComputedStyle(gd).display;\n",
       "        if (!display || display === 'none') {{\n",
       "            console.log([gd, 'removed!']);\n",
       "            Plotly.purge(gd);\n",
       "            observer.disconnect();\n",
       "        }}\n",
       "}});\n",
       "\n",
       "// Listen for the removal of the full notebook cells\n",
       "var notebookContainer = gd.closest('#notebook-container');\n",
       "if (notebookContainer) {{\n",
       "    x.observe(notebookContainer, {childList: true});\n",
       "}}\n",
       "\n",
       "// Listen for the clearing of the current output cell\n",
       "var outputEl = gd.closest('.output');\n",
       "if (outputEl) {{\n",
       "    x.observe(outputEl, {childList: true});\n",
       "}}\n",
       "\n",
       "                        })                };                });            </script>        </div>"
      ]
     },
     "metadata": {},
     "output_type": "display_data"
    }
   ],
   "source": [
    "fig = px.sunburst(data_Yes, path=[\"Gender\",'Department','EducationField',\n",
    "                                    'JobRole','Attrition'])\n",
    "fig.show()"
   ]
  },
  {
   "cell_type": "markdown",
   "id": "50b3bdb7",
   "metadata": {},
   "source": [
    "# Step 5 : Breaking Data into Two Parts\n",
    "* Quantitative Variable\n",
    "* Qualitative Variable"
   ]
  },
  {
   "cell_type": "code",
   "execution_count": 34,
   "id": "c6f4a5f2",
   "metadata": {},
   "outputs": [
    {
     "data": {
      "text/plain": [
       "['Age',\n",
       " 'DailyRate',\n",
       " 'DistanceFromHome',\n",
       " 'EnvironmentSatisfaction',\n",
       " 'HourlyRate',\n",
       " 'JobSatisfaction',\n",
       " 'MonthlyIncome',\n",
       " 'MonthlyRate',\n",
       " 'PercentSalaryHike',\n",
       " 'PerformanceRating',\n",
       " 'TotalWorkingYears',\n",
       " 'YearsAtCompany',\n",
       " 'YearsSinceLastPromotion']"
      ]
     },
     "execution_count": 34,
     "metadata": {},
     "output_type": "execute_result"
    }
   ],
   "source": [
    "data.select_dtypes(include=[np.number]).columns.tolist()"
   ]
  },
  {
   "cell_type": "code",
   "execution_count": 35,
   "id": "5cfce5b7",
   "metadata": {},
   "outputs": [
    {
     "data": {
      "text/html": [
       "<div>\n",
       "<style scoped>\n",
       "    .dataframe tbody tr th:only-of-type {\n",
       "        vertical-align: middle;\n",
       "    }\n",
       "\n",
       "    .dataframe tbody tr th {\n",
       "        vertical-align: top;\n",
       "    }\n",
       "\n",
       "    .dataframe thead th {\n",
       "        text-align: right;\n",
       "    }\n",
       "</style>\n",
       "<table border=\"1\" class=\"dataframe\">\n",
       "  <thead>\n",
       "    <tr style=\"text-align: right;\">\n",
       "      <th></th>\n",
       "      <th>Age</th>\n",
       "      <th>DailyRate</th>\n",
       "      <th>DistanceFromHome</th>\n",
       "      <th>EnvironmentSatisfaction</th>\n",
       "      <th>HourlyRate</th>\n",
       "      <th>JobSatisfaction</th>\n",
       "      <th>MonthlyIncome</th>\n",
       "      <th>MonthlyRate</th>\n",
       "      <th>PercentSalaryHike</th>\n",
       "      <th>PerformanceRating</th>\n",
       "      <th>TotalWorkingYears</th>\n",
       "      <th>YearsAtCompany</th>\n",
       "      <th>YearsSinceLastPromotion</th>\n",
       "    </tr>\n",
       "  </thead>\n",
       "  <tbody>\n",
       "    <tr>\n",
       "      <th>0</th>\n",
       "      <td>41.0</td>\n",
       "      <td>1102.0</td>\n",
       "      <td>1.0</td>\n",
       "      <td>2.0</td>\n",
       "      <td>94.0</td>\n",
       "      <td>4.0</td>\n",
       "      <td>5993.0</td>\n",
       "      <td>19479.0</td>\n",
       "      <td>11.0</td>\n",
       "      <td>3.0</td>\n",
       "      <td>8.0</td>\n",
       "      <td>6.0</td>\n",
       "      <td>0.0</td>\n",
       "    </tr>\n",
       "    <tr>\n",
       "      <th>1</th>\n",
       "      <td>49.0</td>\n",
       "      <td>279.0</td>\n",
       "      <td>8.0</td>\n",
       "      <td>3.0</td>\n",
       "      <td>61.0</td>\n",
       "      <td>2.0</td>\n",
       "      <td>5130.0</td>\n",
       "      <td>24907.0</td>\n",
       "      <td>23.0</td>\n",
       "      <td>3.0</td>\n",
       "      <td>10.0</td>\n",
       "      <td>10.0</td>\n",
       "      <td>1.0</td>\n",
       "    </tr>\n",
       "    <tr>\n",
       "      <th>2</th>\n",
       "      <td>37.0</td>\n",
       "      <td>1373.0</td>\n",
       "      <td>2.0</td>\n",
       "      <td>4.0</td>\n",
       "      <td>92.0</td>\n",
       "      <td>3.0</td>\n",
       "      <td>2090.0</td>\n",
       "      <td>2396.0</td>\n",
       "      <td>15.0</td>\n",
       "      <td>3.0</td>\n",
       "      <td>7.0</td>\n",
       "      <td>0.0</td>\n",
       "      <td>0.0</td>\n",
       "    </tr>\n",
       "  </tbody>\n",
       "</table>\n",
       "</div>"
      ],
      "text/plain": [
       "    Age  DailyRate  DistanceFromHome  EnvironmentSatisfaction  HourlyRate  \\\n",
       "0  41.0     1102.0               1.0                      2.0        94.0   \n",
       "1  49.0      279.0               8.0                      3.0        61.0   \n",
       "2  37.0     1373.0               2.0                      4.0        92.0   \n",
       "\n",
       "   JobSatisfaction  MonthlyIncome  MonthlyRate  PercentSalaryHike  \\\n",
       "0              4.0         5993.0      19479.0               11.0   \n",
       "1              2.0         5130.0      24907.0               23.0   \n",
       "2              3.0         2090.0       2396.0               15.0   \n",
       "\n",
       "   PerformanceRating  TotalWorkingYears  YearsAtCompany  \\\n",
       "0                3.0                8.0             6.0   \n",
       "1                3.0               10.0            10.0   \n",
       "2                3.0                7.0             0.0   \n",
       "\n",
       "   YearsSinceLastPromotion  \n",
       "0                      0.0  \n",
       "1                      1.0  \n",
       "2                      0.0  "
      ]
     },
     "execution_count": 35,
     "metadata": {},
     "output_type": "execute_result"
    }
   ],
   "source": [
    "Quantitative_Variable = data[data.select_dtypes(include=[np.number]).columns.tolist()]\n",
    "Quantitative_Variable.head(3)"
   ]
  },
  {
   "cell_type": "code",
   "execution_count": 36,
   "id": "4a7ff376",
   "metadata": {},
   "outputs": [
    {
     "data": {
      "text/html": [
       "<div>\n",
       "<style scoped>\n",
       "    .dataframe tbody tr th:only-of-type {\n",
       "        vertical-align: middle;\n",
       "    }\n",
       "\n",
       "    .dataframe tbody tr th {\n",
       "        vertical-align: top;\n",
       "    }\n",
       "\n",
       "    .dataframe thead th {\n",
       "        text-align: right;\n",
       "    }\n",
       "</style>\n",
       "<table border=\"1\" class=\"dataframe\">\n",
       "  <thead>\n",
       "    <tr style=\"text-align: right;\">\n",
       "      <th></th>\n",
       "      <th>Attrition</th>\n",
       "      <th>BusinessTravel</th>\n",
       "      <th>Department</th>\n",
       "      <th>EducationField</th>\n",
       "      <th>Gender</th>\n",
       "      <th>JobRole</th>\n",
       "      <th>MaritalStatus</th>\n",
       "      <th>OverTime</th>\n",
       "    </tr>\n",
       "  </thead>\n",
       "  <tbody>\n",
       "    <tr>\n",
       "      <th>0</th>\n",
       "      <td>Yes</td>\n",
       "      <td>Travel_Rarely</td>\n",
       "      <td>Sales</td>\n",
       "      <td>Life Sciences</td>\n",
       "      <td>Female</td>\n",
       "      <td>Sales Executive</td>\n",
       "      <td>Single</td>\n",
       "      <td>Yes</td>\n",
       "    </tr>\n",
       "    <tr>\n",
       "      <th>1</th>\n",
       "      <td>No</td>\n",
       "      <td>Travel_Frequently</td>\n",
       "      <td>Research &amp; Development</td>\n",
       "      <td>Life Sciences</td>\n",
       "      <td>Male</td>\n",
       "      <td>Research Scientist</td>\n",
       "      <td>Married</td>\n",
       "      <td>No</td>\n",
       "    </tr>\n",
       "    <tr>\n",
       "      <th>2</th>\n",
       "      <td>Yes</td>\n",
       "      <td>Travel_Rarely</td>\n",
       "      <td>Research &amp; Development</td>\n",
       "      <td>Other</td>\n",
       "      <td>Male</td>\n",
       "      <td>Laboratory Technician</td>\n",
       "      <td>Single</td>\n",
       "      <td>Yes</td>\n",
       "    </tr>\n",
       "    <tr>\n",
       "      <th>3</th>\n",
       "      <td>No</td>\n",
       "      <td>Travel_Frequently</td>\n",
       "      <td>Research &amp; Development</td>\n",
       "      <td>Life Sciences</td>\n",
       "      <td>Female</td>\n",
       "      <td>Research Scientist</td>\n",
       "      <td>Married</td>\n",
       "      <td>Yes</td>\n",
       "    </tr>\n",
       "    <tr>\n",
       "      <th>4</th>\n",
       "      <td>No</td>\n",
       "      <td>Travel_Rarely</td>\n",
       "      <td>Research &amp; Development</td>\n",
       "      <td>Medical</td>\n",
       "      <td>Male</td>\n",
       "      <td>Laboratory Technician</td>\n",
       "      <td>Married</td>\n",
       "      <td>No</td>\n",
       "    </tr>\n",
       "  </tbody>\n",
       "</table>\n",
       "</div>"
      ],
      "text/plain": [
       "  Attrition     BusinessTravel              Department EducationField  Gender  \\\n",
       "0       Yes      Travel_Rarely                   Sales  Life Sciences  Female   \n",
       "1        No  Travel_Frequently  Research & Development  Life Sciences    Male   \n",
       "2       Yes      Travel_Rarely  Research & Development          Other    Male   \n",
       "3        No  Travel_Frequently  Research & Development  Life Sciences  Female   \n",
       "4        No      Travel_Rarely  Research & Development        Medical    Male   \n",
       "\n",
       "                 JobRole MaritalStatus OverTime  \n",
       "0        Sales Executive        Single      Yes  \n",
       "1     Research Scientist       Married       No  \n",
       "2  Laboratory Technician        Single      Yes  \n",
       "3     Research Scientist       Married      Yes  \n",
       "4  Laboratory Technician       Married       No  "
      ]
     },
     "execution_count": 36,
     "metadata": {},
     "output_type": "execute_result"
    }
   ],
   "source": [
    "Qualitative_Variable = data[data.select_dtypes(include=['object']).columns.tolist()]\n",
    "Qualitative_Variable.head(5)"
   ]
  },
  {
   "cell_type": "markdown",
   "id": "5ffcf536",
   "metadata": {},
   "source": [
    "## Converting qualitative Variable into number"
   ]
  },
  {
   "cell_type": "code",
   "execution_count": 37,
   "id": "206d964d",
   "metadata": {},
   "outputs": [
    {
     "data": {
      "text/html": [
       "<div>\n",
       "<style scoped>\n",
       "    .dataframe tbody tr th:only-of-type {\n",
       "        vertical-align: middle;\n",
       "    }\n",
       "\n",
       "    .dataframe tbody tr th {\n",
       "        vertical-align: top;\n",
       "    }\n",
       "\n",
       "    .dataframe thead th {\n",
       "        text-align: right;\n",
       "    }\n",
       "</style>\n",
       "<table border=\"1\" class=\"dataframe\">\n",
       "  <thead>\n",
       "    <tr style=\"text-align: right;\">\n",
       "      <th></th>\n",
       "      <th>Attrition</th>\n",
       "      <th>BusinessTravel</th>\n",
       "      <th>Department</th>\n",
       "      <th>EducationField</th>\n",
       "      <th>Gender</th>\n",
       "      <th>JobRole</th>\n",
       "      <th>MaritalStatus</th>\n",
       "      <th>OverTime</th>\n",
       "    </tr>\n",
       "  </thead>\n",
       "  <tbody>\n",
       "    <tr>\n",
       "      <th>0</th>\n",
       "      <td>1</td>\n",
       "      <td>2</td>\n",
       "      <td>2</td>\n",
       "      <td>1</td>\n",
       "      <td>0</td>\n",
       "      <td>7</td>\n",
       "      <td>2</td>\n",
       "      <td>1</td>\n",
       "    </tr>\n",
       "    <tr>\n",
       "      <th>1</th>\n",
       "      <td>0</td>\n",
       "      <td>1</td>\n",
       "      <td>1</td>\n",
       "      <td>1</td>\n",
       "      <td>1</td>\n",
       "      <td>6</td>\n",
       "      <td>1</td>\n",
       "      <td>0</td>\n",
       "    </tr>\n",
       "    <tr>\n",
       "      <th>2</th>\n",
       "      <td>1</td>\n",
       "      <td>2</td>\n",
       "      <td>1</td>\n",
       "      <td>4</td>\n",
       "      <td>1</td>\n",
       "      <td>2</td>\n",
       "      <td>2</td>\n",
       "      <td>1</td>\n",
       "    </tr>\n",
       "    <tr>\n",
       "      <th>3</th>\n",
       "      <td>0</td>\n",
       "      <td>1</td>\n",
       "      <td>1</td>\n",
       "      <td>1</td>\n",
       "      <td>0</td>\n",
       "      <td>6</td>\n",
       "      <td>1</td>\n",
       "      <td>1</td>\n",
       "    </tr>\n",
       "    <tr>\n",
       "      <th>4</th>\n",
       "      <td>0</td>\n",
       "      <td>2</td>\n",
       "      <td>1</td>\n",
       "      <td>3</td>\n",
       "      <td>1</td>\n",
       "      <td>2</td>\n",
       "      <td>1</td>\n",
       "      <td>0</td>\n",
       "    </tr>\n",
       "  </tbody>\n",
       "</table>\n",
       "</div>"
      ],
      "text/plain": [
       "   Attrition  BusinessTravel  Department  EducationField  Gender  JobRole  \\\n",
       "0          1               2           2               1       0        7   \n",
       "1          0               1           1               1       1        6   \n",
       "2          1               2           1               4       1        2   \n",
       "3          0               1           1               1       0        6   \n",
       "4          0               2           1               3       1        2   \n",
       "\n",
       "   MaritalStatus  OverTime  \n",
       "0              2         1  \n",
       "1              1         0  \n",
       "2              2         1  \n",
       "3              1         1  \n",
       "4              1         0  "
      ]
     },
     "execution_count": 37,
     "metadata": {},
     "output_type": "execute_result"
    }
   ],
   "source": [
    "from sklearn.preprocessing import LabelEncoder\n",
    "Qualitative_Variable=Qualitative_Variable.apply(LabelEncoder().fit_transform) # label in ascending order\n",
    "Qualitative_Variable.head()"
   ]
  },
  {
   "cell_type": "markdown",
   "id": "a8b1d9d1",
   "metadata": {},
   "source": [
    "## Combining the data set"
   ]
  },
  {
   "cell_type": "code",
   "execution_count": 38,
   "id": "062307a8",
   "metadata": {},
   "outputs": [
    {
     "data": {
      "text/html": [
       "<div>\n",
       "<style scoped>\n",
       "    .dataframe tbody tr th:only-of-type {\n",
       "        vertical-align: middle;\n",
       "    }\n",
       "\n",
       "    .dataframe tbody tr th {\n",
       "        vertical-align: top;\n",
       "    }\n",
       "\n",
       "    .dataframe thead th {\n",
       "        text-align: right;\n",
       "    }\n",
       "</style>\n",
       "<table border=\"1\" class=\"dataframe\">\n",
       "  <thead>\n",
       "    <tr style=\"text-align: right;\">\n",
       "      <th></th>\n",
       "      <th>Attrition</th>\n",
       "      <th>BusinessTravel</th>\n",
       "      <th>Department</th>\n",
       "      <th>EducationField</th>\n",
       "      <th>Gender</th>\n",
       "      <th>JobRole</th>\n",
       "      <th>MaritalStatus</th>\n",
       "      <th>OverTime</th>\n",
       "      <th>Age</th>\n",
       "      <th>DailyRate</th>\n",
       "      <th>...</th>\n",
       "      <th>EnvironmentSatisfaction</th>\n",
       "      <th>HourlyRate</th>\n",
       "      <th>JobSatisfaction</th>\n",
       "      <th>MonthlyIncome</th>\n",
       "      <th>MonthlyRate</th>\n",
       "      <th>PercentSalaryHike</th>\n",
       "      <th>PerformanceRating</th>\n",
       "      <th>TotalWorkingYears</th>\n",
       "      <th>YearsAtCompany</th>\n",
       "      <th>YearsSinceLastPromotion</th>\n",
       "    </tr>\n",
       "  </thead>\n",
       "  <tbody>\n",
       "    <tr>\n",
       "      <th>0</th>\n",
       "      <td>1</td>\n",
       "      <td>2</td>\n",
       "      <td>2</td>\n",
       "      <td>1</td>\n",
       "      <td>0</td>\n",
       "      <td>7</td>\n",
       "      <td>2</td>\n",
       "      <td>1</td>\n",
       "      <td>41.0</td>\n",
       "      <td>1102.0</td>\n",
       "      <td>...</td>\n",
       "      <td>2.0</td>\n",
       "      <td>94.0</td>\n",
       "      <td>4.0</td>\n",
       "      <td>5993.0</td>\n",
       "      <td>19479.0</td>\n",
       "      <td>11.0</td>\n",
       "      <td>3.0</td>\n",
       "      <td>8.0</td>\n",
       "      <td>6.0</td>\n",
       "      <td>0.0</td>\n",
       "    </tr>\n",
       "    <tr>\n",
       "      <th>1</th>\n",
       "      <td>0</td>\n",
       "      <td>1</td>\n",
       "      <td>1</td>\n",
       "      <td>1</td>\n",
       "      <td>1</td>\n",
       "      <td>6</td>\n",
       "      <td>1</td>\n",
       "      <td>0</td>\n",
       "      <td>49.0</td>\n",
       "      <td>279.0</td>\n",
       "      <td>...</td>\n",
       "      <td>3.0</td>\n",
       "      <td>61.0</td>\n",
       "      <td>2.0</td>\n",
       "      <td>5130.0</td>\n",
       "      <td>24907.0</td>\n",
       "      <td>23.0</td>\n",
       "      <td>3.0</td>\n",
       "      <td>10.0</td>\n",
       "      <td>10.0</td>\n",
       "      <td>1.0</td>\n",
       "    </tr>\n",
       "    <tr>\n",
       "      <th>2</th>\n",
       "      <td>1</td>\n",
       "      <td>2</td>\n",
       "      <td>1</td>\n",
       "      <td>4</td>\n",
       "      <td>1</td>\n",
       "      <td>2</td>\n",
       "      <td>2</td>\n",
       "      <td>1</td>\n",
       "      <td>37.0</td>\n",
       "      <td>1373.0</td>\n",
       "      <td>...</td>\n",
       "      <td>4.0</td>\n",
       "      <td>92.0</td>\n",
       "      <td>3.0</td>\n",
       "      <td>2090.0</td>\n",
       "      <td>2396.0</td>\n",
       "      <td>15.0</td>\n",
       "      <td>3.0</td>\n",
       "      <td>7.0</td>\n",
       "      <td>0.0</td>\n",
       "      <td>0.0</td>\n",
       "    </tr>\n",
       "    <tr>\n",
       "      <th>3</th>\n",
       "      <td>0</td>\n",
       "      <td>1</td>\n",
       "      <td>1</td>\n",
       "      <td>1</td>\n",
       "      <td>0</td>\n",
       "      <td>6</td>\n",
       "      <td>1</td>\n",
       "      <td>1</td>\n",
       "      <td>33.0</td>\n",
       "      <td>1392.0</td>\n",
       "      <td>...</td>\n",
       "      <td>4.0</td>\n",
       "      <td>56.0</td>\n",
       "      <td>3.0</td>\n",
       "      <td>2909.0</td>\n",
       "      <td>23159.0</td>\n",
       "      <td>11.0</td>\n",
       "      <td>3.0</td>\n",
       "      <td>8.0</td>\n",
       "      <td>8.0</td>\n",
       "      <td>3.0</td>\n",
       "    </tr>\n",
       "    <tr>\n",
       "      <th>4</th>\n",
       "      <td>0</td>\n",
       "      <td>2</td>\n",
       "      <td>1</td>\n",
       "      <td>3</td>\n",
       "      <td>1</td>\n",
       "      <td>2</td>\n",
       "      <td>1</td>\n",
       "      <td>0</td>\n",
       "      <td>27.0</td>\n",
       "      <td>591.0</td>\n",
       "      <td>...</td>\n",
       "      <td>1.0</td>\n",
       "      <td>40.0</td>\n",
       "      <td>2.0</td>\n",
       "      <td>3468.0</td>\n",
       "      <td>16632.0</td>\n",
       "      <td>12.0</td>\n",
       "      <td>3.0</td>\n",
       "      <td>6.0</td>\n",
       "      <td>2.0</td>\n",
       "      <td>2.0</td>\n",
       "    </tr>\n",
       "  </tbody>\n",
       "</table>\n",
       "<p>5 rows × 21 columns</p>\n",
       "</div>"
      ],
      "text/plain": [
       "   Attrition  BusinessTravel  Department  EducationField  Gender  JobRole  \\\n",
       "0          1               2           2               1       0        7   \n",
       "1          0               1           1               1       1        6   \n",
       "2          1               2           1               4       1        2   \n",
       "3          0               1           1               1       0        6   \n",
       "4          0               2           1               3       1        2   \n",
       "\n",
       "   MaritalStatus  OverTime   Age  DailyRate  ...  EnvironmentSatisfaction  \\\n",
       "0              2         1  41.0     1102.0  ...                      2.0   \n",
       "1              1         0  49.0      279.0  ...                      3.0   \n",
       "2              2         1  37.0     1373.0  ...                      4.0   \n",
       "3              1         1  33.0     1392.0  ...                      4.0   \n",
       "4              1         0  27.0      591.0  ...                      1.0   \n",
       "\n",
       "   HourlyRate  JobSatisfaction  MonthlyIncome  MonthlyRate  PercentSalaryHike  \\\n",
       "0        94.0              4.0         5993.0      19479.0               11.0   \n",
       "1        61.0              2.0         5130.0      24907.0               23.0   \n",
       "2        92.0              3.0         2090.0       2396.0               15.0   \n",
       "3        56.0              3.0         2909.0      23159.0               11.0   \n",
       "4        40.0              2.0         3468.0      16632.0               12.0   \n",
       "\n",
       "   PerformanceRating  TotalWorkingYears  YearsAtCompany  \\\n",
       "0                3.0                8.0             6.0   \n",
       "1                3.0               10.0            10.0   \n",
       "2                3.0                7.0             0.0   \n",
       "3                3.0                8.0             8.0   \n",
       "4                3.0                6.0             2.0   \n",
       "\n",
       "   YearsSinceLastPromotion  \n",
       "0                      0.0  \n",
       "1                      1.0  \n",
       "2                      0.0  \n",
       "3                      3.0  \n",
       "4                      2.0  \n",
       "\n",
       "[5 rows x 21 columns]"
      ]
     },
     "execution_count": 38,
     "metadata": {},
     "output_type": "execute_result"
    }
   ],
   "source": [
    "Final_combined = pd.concat([Qualitative_Variable, Quantitative_Variable],axis=1)\n",
    "Final_combined.head()"
   ]
  },
  {
   "cell_type": "markdown",
   "id": "4410f5cd",
   "metadata": {},
   "source": [
    "# Step 6 : Data Partition"
   ]
  },
  {
   "cell_type": "code",
   "execution_count": 39,
   "id": "5e10058f",
   "metadata": {},
   "outputs": [],
   "source": [
    "from sklearn.model_selection import train_test_split\n",
    "\n",
    "X = Final_combined.drop('Attrition', axis = 1)\n",
    "Y = Final_combined[['Attrition']]\n",
    "\n",
    "X_train, X_test, y_train, y_test = train_test_split(X, Y, test_size=0.20, random_state=100)"
   ]
  },
  {
   "cell_type": "markdown",
   "id": "df6fcf9b",
   "metadata": {},
   "source": [
    "# Step 7 : Model building"
   ]
  },
  {
   "cell_type": "markdown",
   "id": "98cc24e7",
   "metadata": {},
   "source": [
    "# Hypothesis\n",
    "* H0 :- There is no log linear relationship between Attrition and all independent Variable.\n",
    "\n",
    "Vs\n",
    "\n",
    "* H1 :- There is log linear relationship between Attrition and all independent Variable.\n",
    "\n",
    "* Alpha = 0.05 (5%)."
   ]
  },
  {
   "cell_type": "markdown",
   "id": "d95cec3b",
   "metadata": {},
   "source": [
    "# Logistics Regression"
   ]
  },
  {
   "cell_type": "code",
   "execution_count": 40,
   "id": "7dd8d16c",
   "metadata": {},
   "outputs": [],
   "source": [
    "from sklearn.linear_model import LogisticRegression\n",
    "from sklearn import metrics\n",
    "logreg = LogisticRegression()\n",
    "output=logreg.fit(X_train, y_train)"
   ]
  },
  {
   "cell_type": "code",
   "execution_count": 41,
   "id": "69cc354c",
   "metadata": {},
   "outputs": [
    {
     "data": {
      "text/plain": [
       "array([0.00012553])"
      ]
     },
     "execution_count": 41,
     "metadata": {},
     "output_type": "execute_result"
    }
   ],
   "source": [
    "output.intercept_  # beta 0 "
   ]
  },
  {
   "cell_type": "code",
   "execution_count": 42,
   "id": "51169cfa",
   "metadata": {},
   "outputs": [
    {
     "data": {
      "text/plain": [
       "array([[-1.32669959e-03,  6.44295412e-03,  7.46901476e-04,\n",
       "         6.51520258e-04,  2.12486123e-02,  1.60001999e-02,\n",
       "         1.77777656e-02, -1.21276296e-02, -4.63040964e-04,\n",
       "         4.12600206e-02, -1.40892905e-02, -2.93160825e-03,\n",
       "        -1.41610470e-02, -1.04617961e-04, -1.41175087e-06,\n",
       "        -9.02358930e-04,  3.76740647e-04, -2.90917210e-02,\n",
       "        -4.69785387e-02,  1.67029998e-02]])"
      ]
     },
     "execution_count": 42,
     "metadata": {},
     "output_type": "execute_result"
    }
   ],
   "source": [
    "output.coef_  # Beta 1 --"
   ]
  },
  {
   "cell_type": "code",
   "execution_count": 43,
   "id": "e22ef787",
   "metadata": {},
   "outputs": [
    {
     "data": {
      "text/plain": [
       "20"
      ]
     },
     "execution_count": 43,
     "metadata": {},
     "output_type": "execute_result"
    }
   ],
   "source": [
    "output.n_features_in_"
   ]
  },
  {
   "cell_type": "code",
   "execution_count": 44,
   "id": "387185fa",
   "metadata": {},
   "outputs": [
    {
     "data": {
      "text/plain": [
       "array(['BusinessTravel', 'Department', 'EducationField', 'Gender',\n",
       "       'JobRole', 'MaritalStatus', 'OverTime', 'Age', 'DailyRate',\n",
       "       'DistanceFromHome', 'EnvironmentSatisfaction', 'HourlyRate',\n",
       "       'JobSatisfaction', 'MonthlyIncome', 'MonthlyRate',\n",
       "       'PercentSalaryHike', 'PerformanceRating', 'TotalWorkingYears',\n",
       "       'YearsAtCompany', 'YearsSinceLastPromotion'], dtype=object)"
      ]
     },
     "execution_count": 44,
     "metadata": {},
     "output_type": "execute_result"
    }
   ],
   "source": [
    "output.feature_names_in_"
   ]
  },
  {
   "cell_type": "markdown",
   "id": "af9df73b",
   "metadata": {},
   "source": [
    "* We Reject Ho\n",
    "* There is log linear relationship between Attrition and BusinessTravel,Department,EducationField,JobRole."
   ]
  },
  {
   "cell_type": "markdown",
   "id": "1161dfea",
   "metadata": {},
   "source": [
    "# Step 8 : Predictions on Train Dataset"
   ]
  },
  {
   "cell_type": "code",
   "execution_count": 45,
   "id": "05d69f99",
   "metadata": {},
   "outputs": [
    {
     "data": {
      "text/html": [
       "<div>\n",
       "<style scoped>\n",
       "    .dataframe tbody tr th:only-of-type {\n",
       "        vertical-align: middle;\n",
       "    }\n",
       "\n",
       "    .dataframe tbody tr th {\n",
       "        vertical-align: top;\n",
       "    }\n",
       "\n",
       "    .dataframe thead th {\n",
       "        text-align: right;\n",
       "    }\n",
       "</style>\n",
       "<table border=\"1\" class=\"dataframe\">\n",
       "  <thead>\n",
       "    <tr style=\"text-align: right;\">\n",
       "      <th></th>\n",
       "      <th>BusinessTravel</th>\n",
       "      <th>Department</th>\n",
       "      <th>EducationField</th>\n",
       "      <th>Gender</th>\n",
       "      <th>JobRole</th>\n",
       "      <th>MaritalStatus</th>\n",
       "      <th>OverTime</th>\n",
       "      <th>Age</th>\n",
       "      <th>DailyRate</th>\n",
       "      <th>DistanceFromHome</th>\n",
       "      <th>...</th>\n",
       "      <th>HourlyRate</th>\n",
       "      <th>JobSatisfaction</th>\n",
       "      <th>MonthlyIncome</th>\n",
       "      <th>MonthlyRate</th>\n",
       "      <th>PercentSalaryHike</th>\n",
       "      <th>PerformanceRating</th>\n",
       "      <th>TotalWorkingYears</th>\n",
       "      <th>YearsAtCompany</th>\n",
       "      <th>YearsSinceLastPromotion</th>\n",
       "      <th>Attrition</th>\n",
       "    </tr>\n",
       "  </thead>\n",
       "  <tbody>\n",
       "    <tr>\n",
       "      <th>1361</th>\n",
       "      <td>1</td>\n",
       "      <td>1</td>\n",
       "      <td>4</td>\n",
       "      <td>1</td>\n",
       "      <td>2</td>\n",
       "      <td>1</td>\n",
       "      <td>0</td>\n",
       "      <td>26.0</td>\n",
       "      <td>1096.0</td>\n",
       "      <td>6.0</td>\n",
       "      <td>...</td>\n",
       "      <td>61.0</td>\n",
       "      <td>4.0</td>\n",
       "      <td>2544.0</td>\n",
       "      <td>7102.0</td>\n",
       "      <td>18.0</td>\n",
       "      <td>3.0</td>\n",
       "      <td>8.0</td>\n",
       "      <td>7.0</td>\n",
       "      <td>7.0</td>\n",
       "      <td>0</td>\n",
       "    </tr>\n",
       "    <tr>\n",
       "      <th>610</th>\n",
       "      <td>2</td>\n",
       "      <td>1</td>\n",
       "      <td>5</td>\n",
       "      <td>1</td>\n",
       "      <td>5</td>\n",
       "      <td>0</td>\n",
       "      <td>1</td>\n",
       "      <td>27.0</td>\n",
       "      <td>269.0</td>\n",
       "      <td>5.0</td>\n",
       "      <td>...</td>\n",
       "      <td>42.0</td>\n",
       "      <td>4.0</td>\n",
       "      <td>12808.0</td>\n",
       "      <td>8842.0</td>\n",
       "      <td>16.0</td>\n",
       "      <td>3.0</td>\n",
       "      <td>9.0</td>\n",
       "      <td>9.0</td>\n",
       "      <td>0.0</td>\n",
       "      <td>0</td>\n",
       "    </tr>\n",
       "    <tr>\n",
       "      <th>542</th>\n",
       "      <td>2</td>\n",
       "      <td>1</td>\n",
       "      <td>1</td>\n",
       "      <td>0</td>\n",
       "      <td>4</td>\n",
       "      <td>2</td>\n",
       "      <td>1</td>\n",
       "      <td>38.0</td>\n",
       "      <td>168.0</td>\n",
       "      <td>1.0</td>\n",
       "      <td>...</td>\n",
       "      <td>81.0</td>\n",
       "      <td>3.0</td>\n",
       "      <td>7861.0</td>\n",
       "      <td>15397.0</td>\n",
       "      <td>14.0</td>\n",
       "      <td>3.0</td>\n",
       "      <td>10.0</td>\n",
       "      <td>1.0</td>\n",
       "      <td>0.0</td>\n",
       "      <td>0</td>\n",
       "    </tr>\n",
       "    <tr>\n",
       "      <th>950</th>\n",
       "      <td>0</td>\n",
       "      <td>2</td>\n",
       "      <td>1</td>\n",
       "      <td>0</td>\n",
       "      <td>7</td>\n",
       "      <td>0</td>\n",
       "      <td>1</td>\n",
       "      <td>31.0</td>\n",
       "      <td>587.0</td>\n",
       "      <td>2.0</td>\n",
       "      <td>...</td>\n",
       "      <td>57.0</td>\n",
       "      <td>3.0</td>\n",
       "      <td>9852.0</td>\n",
       "      <td>8935.0</td>\n",
       "      <td>19.0</td>\n",
       "      <td>3.0</td>\n",
       "      <td>10.0</td>\n",
       "      <td>10.0</td>\n",
       "      <td>7.5</td>\n",
       "      <td>0</td>\n",
       "    </tr>\n",
       "    <tr>\n",
       "      <th>344</th>\n",
       "      <td>2</td>\n",
       "      <td>1</td>\n",
       "      <td>5</td>\n",
       "      <td>1</td>\n",
       "      <td>4</td>\n",
       "      <td>2</td>\n",
       "      <td>0</td>\n",
       "      <td>35.0</td>\n",
       "      <td>1296.0</td>\n",
       "      <td>5.0</td>\n",
       "      <td>...</td>\n",
       "      <td>62.0</td>\n",
       "      <td>2.0</td>\n",
       "      <td>8095.0</td>\n",
       "      <td>18264.0</td>\n",
       "      <td>13.0</td>\n",
       "      <td>3.0</td>\n",
       "      <td>17.0</td>\n",
       "      <td>16.0</td>\n",
       "      <td>0.0</td>\n",
       "      <td>0</td>\n",
       "    </tr>\n",
       "  </tbody>\n",
       "</table>\n",
       "<p>5 rows × 21 columns</p>\n",
       "</div>"
      ],
      "text/plain": [
       "      BusinessTravel  Department  EducationField  Gender  JobRole  \\\n",
       "1361               1           1               4       1        2   \n",
       "610                2           1               5       1        5   \n",
       "542                2           1               1       0        4   \n",
       "950                0           2               1       0        7   \n",
       "344                2           1               5       1        4   \n",
       "\n",
       "      MaritalStatus  OverTime   Age  DailyRate  DistanceFromHome  ...  \\\n",
       "1361              1         0  26.0     1096.0               6.0  ...   \n",
       "610               0         1  27.0      269.0               5.0  ...   \n",
       "542               2         1  38.0      168.0               1.0  ...   \n",
       "950               0         1  31.0      587.0               2.0  ...   \n",
       "344               2         0  35.0     1296.0               5.0  ...   \n",
       "\n",
       "      HourlyRate  JobSatisfaction  MonthlyIncome  MonthlyRate  \\\n",
       "1361        61.0              4.0         2544.0       7102.0   \n",
       "610         42.0              4.0        12808.0       8842.0   \n",
       "542         81.0              3.0         7861.0      15397.0   \n",
       "950         57.0              3.0         9852.0       8935.0   \n",
       "344         62.0              2.0         8095.0      18264.0   \n",
       "\n",
       "      PercentSalaryHike  PerformanceRating  TotalWorkingYears  YearsAtCompany  \\\n",
       "1361               18.0                3.0                8.0             7.0   \n",
       "610                16.0                3.0                9.0             9.0   \n",
       "542                14.0                3.0               10.0             1.0   \n",
       "950                19.0                3.0               10.0            10.0   \n",
       "344                13.0                3.0               17.0            16.0   \n",
       "\n",
       "      YearsSinceLastPromotion  Attrition  \n",
       "1361                      7.0          0  \n",
       "610                       0.0          0  \n",
       "542                       0.0          0  \n",
       "950                       7.5          0  \n",
       "344                       0.0          0  \n",
       "\n",
       "[5 rows x 21 columns]"
      ]
     },
     "execution_count": 45,
     "metadata": {},
     "output_type": "execute_result"
    }
   ],
   "source": [
    "train=pd.concat([X_train,y_train],axis=1)\n",
    "train.head()"
   ]
  },
  {
   "cell_type": "code",
   "execution_count": 46,
   "id": "16518cb8",
   "metadata": {},
   "outputs": [
    {
     "data": {
      "text/html": [
       "<div>\n",
       "<style scoped>\n",
       "    .dataframe tbody tr th:only-of-type {\n",
       "        vertical-align: middle;\n",
       "    }\n",
       "\n",
       "    .dataframe tbody tr th {\n",
       "        vertical-align: top;\n",
       "    }\n",
       "\n",
       "    .dataframe thead th {\n",
       "        text-align: right;\n",
       "    }\n",
       "</style>\n",
       "<table border=\"1\" class=\"dataframe\">\n",
       "  <thead>\n",
       "    <tr style=\"text-align: right;\">\n",
       "      <th></th>\n",
       "      <th>BusinessTravel</th>\n",
       "      <th>Department</th>\n",
       "      <th>EducationField</th>\n",
       "      <th>Gender</th>\n",
       "      <th>JobRole</th>\n",
       "      <th>MaritalStatus</th>\n",
       "      <th>OverTime</th>\n",
       "      <th>Age</th>\n",
       "      <th>DailyRate</th>\n",
       "      <th>DistanceFromHome</th>\n",
       "      <th>...</th>\n",
       "      <th>JobSatisfaction</th>\n",
       "      <th>MonthlyIncome</th>\n",
       "      <th>MonthlyRate</th>\n",
       "      <th>PercentSalaryHike</th>\n",
       "      <th>PerformanceRating</th>\n",
       "      <th>TotalWorkingYears</th>\n",
       "      <th>YearsAtCompany</th>\n",
       "      <th>YearsSinceLastPromotion</th>\n",
       "      <th>Attrition</th>\n",
       "      <th>Predicted</th>\n",
       "    </tr>\n",
       "  </thead>\n",
       "  <tbody>\n",
       "    <tr>\n",
       "      <th>1361</th>\n",
       "      <td>1</td>\n",
       "      <td>1</td>\n",
       "      <td>4</td>\n",
       "      <td>1</td>\n",
       "      <td>2</td>\n",
       "      <td>1</td>\n",
       "      <td>0</td>\n",
       "      <td>26.0</td>\n",
       "      <td>1096.0</td>\n",
       "      <td>6.0</td>\n",
       "      <td>...</td>\n",
       "      <td>4.0</td>\n",
       "      <td>2544.0</td>\n",
       "      <td>7102.0</td>\n",
       "      <td>18.0</td>\n",
       "      <td>3.0</td>\n",
       "      <td>8.0</td>\n",
       "      <td>7.0</td>\n",
       "      <td>7.0</td>\n",
       "      <td>0</td>\n",
       "      <td>0</td>\n",
       "    </tr>\n",
       "    <tr>\n",
       "      <th>610</th>\n",
       "      <td>2</td>\n",
       "      <td>1</td>\n",
       "      <td>5</td>\n",
       "      <td>1</td>\n",
       "      <td>5</td>\n",
       "      <td>0</td>\n",
       "      <td>1</td>\n",
       "      <td>27.0</td>\n",
       "      <td>269.0</td>\n",
       "      <td>5.0</td>\n",
       "      <td>...</td>\n",
       "      <td>4.0</td>\n",
       "      <td>12808.0</td>\n",
       "      <td>8842.0</td>\n",
       "      <td>16.0</td>\n",
       "      <td>3.0</td>\n",
       "      <td>9.0</td>\n",
       "      <td>9.0</td>\n",
       "      <td>0.0</td>\n",
       "      <td>0</td>\n",
       "      <td>0</td>\n",
       "    </tr>\n",
       "    <tr>\n",
       "      <th>542</th>\n",
       "      <td>2</td>\n",
       "      <td>1</td>\n",
       "      <td>1</td>\n",
       "      <td>0</td>\n",
       "      <td>4</td>\n",
       "      <td>2</td>\n",
       "      <td>1</td>\n",
       "      <td>38.0</td>\n",
       "      <td>168.0</td>\n",
       "      <td>1.0</td>\n",
       "      <td>...</td>\n",
       "      <td>3.0</td>\n",
       "      <td>7861.0</td>\n",
       "      <td>15397.0</td>\n",
       "      <td>14.0</td>\n",
       "      <td>3.0</td>\n",
       "      <td>10.0</td>\n",
       "      <td>1.0</td>\n",
       "      <td>0.0</td>\n",
       "      <td>0</td>\n",
       "      <td>0</td>\n",
       "    </tr>\n",
       "    <tr>\n",
       "      <th>950</th>\n",
       "      <td>0</td>\n",
       "      <td>2</td>\n",
       "      <td>1</td>\n",
       "      <td>0</td>\n",
       "      <td>7</td>\n",
       "      <td>0</td>\n",
       "      <td>1</td>\n",
       "      <td>31.0</td>\n",
       "      <td>587.0</td>\n",
       "      <td>2.0</td>\n",
       "      <td>...</td>\n",
       "      <td>3.0</td>\n",
       "      <td>9852.0</td>\n",
       "      <td>8935.0</td>\n",
       "      <td>19.0</td>\n",
       "      <td>3.0</td>\n",
       "      <td>10.0</td>\n",
       "      <td>10.0</td>\n",
       "      <td>7.5</td>\n",
       "      <td>0</td>\n",
       "      <td>0</td>\n",
       "    </tr>\n",
       "    <tr>\n",
       "      <th>344</th>\n",
       "      <td>2</td>\n",
       "      <td>1</td>\n",
       "      <td>5</td>\n",
       "      <td>1</td>\n",
       "      <td>4</td>\n",
       "      <td>2</td>\n",
       "      <td>0</td>\n",
       "      <td>35.0</td>\n",
       "      <td>1296.0</td>\n",
       "      <td>5.0</td>\n",
       "      <td>...</td>\n",
       "      <td>2.0</td>\n",
       "      <td>8095.0</td>\n",
       "      <td>18264.0</td>\n",
       "      <td>13.0</td>\n",
       "      <td>3.0</td>\n",
       "      <td>17.0</td>\n",
       "      <td>16.0</td>\n",
       "      <td>0.0</td>\n",
       "      <td>0</td>\n",
       "      <td>0</td>\n",
       "    </tr>\n",
       "  </tbody>\n",
       "</table>\n",
       "<p>5 rows × 22 columns</p>\n",
       "</div>"
      ],
      "text/plain": [
       "      BusinessTravel  Department  EducationField  Gender  JobRole  \\\n",
       "1361               1           1               4       1        2   \n",
       "610                2           1               5       1        5   \n",
       "542                2           1               1       0        4   \n",
       "950                0           2               1       0        7   \n",
       "344                2           1               5       1        4   \n",
       "\n",
       "      MaritalStatus  OverTime   Age  DailyRate  DistanceFromHome  ...  \\\n",
       "1361              1         0  26.0     1096.0               6.0  ...   \n",
       "610               0         1  27.0      269.0               5.0  ...   \n",
       "542               2         1  38.0      168.0               1.0  ...   \n",
       "950               0         1  31.0      587.0               2.0  ...   \n",
       "344               2         0  35.0     1296.0               5.0  ...   \n",
       "\n",
       "      JobSatisfaction  MonthlyIncome  MonthlyRate  PercentSalaryHike  \\\n",
       "1361              4.0         2544.0       7102.0               18.0   \n",
       "610               4.0        12808.0       8842.0               16.0   \n",
       "542               3.0         7861.0      15397.0               14.0   \n",
       "950               3.0         9852.0       8935.0               19.0   \n",
       "344               2.0         8095.0      18264.0               13.0   \n",
       "\n",
       "      PerformanceRating  TotalWorkingYears  YearsAtCompany  \\\n",
       "1361                3.0                8.0             7.0   \n",
       "610                 3.0                9.0             9.0   \n",
       "542                 3.0               10.0             1.0   \n",
       "950                 3.0               10.0            10.0   \n",
       "344                 3.0               17.0            16.0   \n",
       "\n",
       "      YearsSinceLastPromotion  Attrition  Predicted  \n",
       "1361                      7.0          0          0  \n",
       "610                       0.0          0          0  \n",
       "542                       0.0          0          0  \n",
       "950                       7.5          0          0  \n",
       "344                       0.0          0          0  \n",
       "\n",
       "[5 rows x 22 columns]"
      ]
     },
     "execution_count": 46,
     "metadata": {},
     "output_type": "execute_result"
    }
   ],
   "source": [
    "train['Predicted']=output.predict(X_train)    #predict_proba   if you want but prefer predict\n",
    "train.head()"
   ]
  },
  {
   "cell_type": "markdown",
   "id": "d0d6bb82",
   "metadata": {},
   "source": [
    "# Step 9 : Model Performance Metrics"
   ]
  },
  {
   "cell_type": "code",
   "execution_count": 47,
   "id": "f520712e",
   "metadata": {},
   "outputs": [
    {
     "data": {
      "text/plain": [
       "array([[984, 185],\n",
       "       [  2,   5]], dtype=int64)"
      ]
     },
     "execution_count": 47,
     "metadata": {},
     "output_type": "execute_result"
    }
   ],
   "source": [
    "from sklearn.metrics import confusion_matrix\n",
    "matrix = confusion_matrix(train['Predicted'], train['Attrition'])\n",
    "matrix"
   ]
  },
  {
   "cell_type": "code",
   "execution_count": 48,
   "id": "fce98489",
   "metadata": {},
   "outputs": [
    {
     "name": "stdout",
     "output_type": "stream",
     "text": [
      "              precision    recall  f1-score   support\n",
      "\n",
      "           0       0.84      1.00      0.91       986\n",
      "           1       0.71      0.03      0.05       190\n",
      "\n",
      "    accuracy                           0.84      1176\n",
      "   macro avg       0.78      0.51      0.48      1176\n",
      "weighted avg       0.82      0.84      0.77      1176\n",
      "\n"
     ]
    }
   ],
   "source": [
    "from sklearn.metrics import classification_report\n",
    "print(classification_report(train['Attrition'],train['Predicted']))"
   ]
  },
  {
   "cell_type": "markdown",
   "id": "fa0f4f26",
   "metadata": {},
   "source": [
    "* Accuracy of Model is 84 %,Hence Model is good Fit.\n",
    "* Accuracy of Bad Employee Capture by Model is 3% ( Sensitivity ).\n",
    "* Accuracy of Good Employee Capture by Model is 100% (Specificity)."
   ]
  },
  {
   "cell_type": "markdown",
   "id": "3701aa3a",
   "metadata": {},
   "source": [
    "# Step 10 : Predictions on Test Dataset"
   ]
  },
  {
   "cell_type": "code",
   "execution_count": 49,
   "id": "f73b0c05",
   "metadata": {},
   "outputs": [
    {
     "data": {
      "text/html": [
       "<div>\n",
       "<style scoped>\n",
       "    .dataframe tbody tr th:only-of-type {\n",
       "        vertical-align: middle;\n",
       "    }\n",
       "\n",
       "    .dataframe tbody tr th {\n",
       "        vertical-align: top;\n",
       "    }\n",
       "\n",
       "    .dataframe thead th {\n",
       "        text-align: right;\n",
       "    }\n",
       "</style>\n",
       "<table border=\"1\" class=\"dataframe\">\n",
       "  <thead>\n",
       "    <tr style=\"text-align: right;\">\n",
       "      <th></th>\n",
       "      <th>BusinessTravel</th>\n",
       "      <th>Department</th>\n",
       "      <th>EducationField</th>\n",
       "      <th>Gender</th>\n",
       "      <th>JobRole</th>\n",
       "      <th>MaritalStatus</th>\n",
       "      <th>OverTime</th>\n",
       "      <th>Age</th>\n",
       "      <th>DailyRate</th>\n",
       "      <th>DistanceFromHome</th>\n",
       "      <th>...</th>\n",
       "      <th>HourlyRate</th>\n",
       "      <th>JobSatisfaction</th>\n",
       "      <th>MonthlyIncome</th>\n",
       "      <th>MonthlyRate</th>\n",
       "      <th>PercentSalaryHike</th>\n",
       "      <th>PerformanceRating</th>\n",
       "      <th>TotalWorkingYears</th>\n",
       "      <th>YearsAtCompany</th>\n",
       "      <th>YearsSinceLastPromotion</th>\n",
       "      <th>Attrition</th>\n",
       "    </tr>\n",
       "  </thead>\n",
       "  <tbody>\n",
       "    <tr>\n",
       "      <th>880</th>\n",
       "      <td>1</td>\n",
       "      <td>1</td>\n",
       "      <td>4</td>\n",
       "      <td>0</td>\n",
       "      <td>2</td>\n",
       "      <td>1</td>\n",
       "      <td>0</td>\n",
       "      <td>32.0</td>\n",
       "      <td>116.0</td>\n",
       "      <td>13.0</td>\n",
       "      <td>...</td>\n",
       "      <td>77.0</td>\n",
       "      <td>2.0</td>\n",
       "      <td>2743.0</td>\n",
       "      <td>7331.0</td>\n",
       "      <td>20.0</td>\n",
       "      <td>3.0</td>\n",
       "      <td>2.0</td>\n",
       "      <td>2.0</td>\n",
       "      <td>2.0</td>\n",
       "      <td>0</td>\n",
       "    </tr>\n",
       "    <tr>\n",
       "      <th>152</th>\n",
       "      <td>2</td>\n",
       "      <td>2</td>\n",
       "      <td>2</td>\n",
       "      <td>1</td>\n",
       "      <td>8</td>\n",
       "      <td>1</td>\n",
       "      <td>1</td>\n",
       "      <td>53.0</td>\n",
       "      <td>1436.0</td>\n",
       "      <td>6.0</td>\n",
       "      <td>...</td>\n",
       "      <td>34.0</td>\n",
       "      <td>3.0</td>\n",
       "      <td>2306.0</td>\n",
       "      <td>16047.0</td>\n",
       "      <td>20.0</td>\n",
       "      <td>3.0</td>\n",
       "      <td>13.0</td>\n",
       "      <td>7.0</td>\n",
       "      <td>4.0</td>\n",
       "      <td>0</td>\n",
       "    </tr>\n",
       "    <tr>\n",
       "      <th>1466</th>\n",
       "      <td>2</td>\n",
       "      <td>1</td>\n",
       "      <td>3</td>\n",
       "      <td>1</td>\n",
       "      <td>0</td>\n",
       "      <td>1</td>\n",
       "      <td>0</td>\n",
       "      <td>39.0</td>\n",
       "      <td>613.0</td>\n",
       "      <td>6.0</td>\n",
       "      <td>...</td>\n",
       "      <td>42.0</td>\n",
       "      <td>1.0</td>\n",
       "      <td>9991.0</td>\n",
       "      <td>21457.0</td>\n",
       "      <td>15.0</td>\n",
       "      <td>3.0</td>\n",
       "      <td>9.0</td>\n",
       "      <td>7.0</td>\n",
       "      <td>1.0</td>\n",
       "      <td>0</td>\n",
       "    </tr>\n",
       "    <tr>\n",
       "      <th>1084</th>\n",
       "      <td>2</td>\n",
       "      <td>2</td>\n",
       "      <td>5</td>\n",
       "      <td>1</td>\n",
       "      <td>7</td>\n",
       "      <td>1</td>\n",
       "      <td>1</td>\n",
       "      <td>34.0</td>\n",
       "      <td>971.0</td>\n",
       "      <td>1.0</td>\n",
       "      <td>...</td>\n",
       "      <td>64.0</td>\n",
       "      <td>3.0</td>\n",
       "      <td>7083.0</td>\n",
       "      <td>12288.0</td>\n",
       "      <td>14.0</td>\n",
       "      <td>3.0</td>\n",
       "      <td>10.0</td>\n",
       "      <td>10.0</td>\n",
       "      <td>7.5</td>\n",
       "      <td>0</td>\n",
       "    </tr>\n",
       "    <tr>\n",
       "      <th>1086</th>\n",
       "      <td>1</td>\n",
       "      <td>1</td>\n",
       "      <td>3</td>\n",
       "      <td>1</td>\n",
       "      <td>5</td>\n",
       "      <td>2</td>\n",
       "      <td>1</td>\n",
       "      <td>50.0</td>\n",
       "      <td>333.0</td>\n",
       "      <td>22.0</td>\n",
       "      <td>...</td>\n",
       "      <td>88.0</td>\n",
       "      <td>4.0</td>\n",
       "      <td>14411.0</td>\n",
       "      <td>24450.0</td>\n",
       "      <td>13.0</td>\n",
       "      <td>3.0</td>\n",
       "      <td>28.5</td>\n",
       "      <td>18.0</td>\n",
       "      <td>7.5</td>\n",
       "      <td>0</td>\n",
       "    </tr>\n",
       "  </tbody>\n",
       "</table>\n",
       "<p>5 rows × 21 columns</p>\n",
       "</div>"
      ],
      "text/plain": [
       "      BusinessTravel  Department  EducationField  Gender  JobRole  \\\n",
       "880                1           1               4       0        2   \n",
       "152                2           2               2       1        8   \n",
       "1466               2           1               3       1        0   \n",
       "1084               2           2               5       1        7   \n",
       "1086               1           1               3       1        5   \n",
       "\n",
       "      MaritalStatus  OverTime   Age  DailyRate  DistanceFromHome  ...  \\\n",
       "880               1         0  32.0      116.0              13.0  ...   \n",
       "152               1         1  53.0     1436.0               6.0  ...   \n",
       "1466              1         0  39.0      613.0               6.0  ...   \n",
       "1084              1         1  34.0      971.0               1.0  ...   \n",
       "1086              2         1  50.0      333.0              22.0  ...   \n",
       "\n",
       "      HourlyRate  JobSatisfaction  MonthlyIncome  MonthlyRate  \\\n",
       "880         77.0              2.0         2743.0       7331.0   \n",
       "152         34.0              3.0         2306.0      16047.0   \n",
       "1466        42.0              1.0         9991.0      21457.0   \n",
       "1084        64.0              3.0         7083.0      12288.0   \n",
       "1086        88.0              4.0        14411.0      24450.0   \n",
       "\n",
       "      PercentSalaryHike  PerformanceRating  TotalWorkingYears  YearsAtCompany  \\\n",
       "880                20.0                3.0                2.0             2.0   \n",
       "152                20.0                3.0               13.0             7.0   \n",
       "1466               15.0                3.0                9.0             7.0   \n",
       "1084               14.0                3.0               10.0            10.0   \n",
       "1086               13.0                3.0               28.5            18.0   \n",
       "\n",
       "      YearsSinceLastPromotion  Attrition  \n",
       "880                       2.0          0  \n",
       "152                       4.0          0  \n",
       "1466                      1.0          0  \n",
       "1084                      7.5          0  \n",
       "1086                      7.5          0  \n",
       "\n",
       "[5 rows x 21 columns]"
      ]
     },
     "execution_count": 49,
     "metadata": {},
     "output_type": "execute_result"
    }
   ],
   "source": [
    "test=pd.concat([X_test,y_test],axis=1)\n",
    "test.head()"
   ]
  },
  {
   "cell_type": "code",
   "execution_count": 50,
   "id": "5fea7cff",
   "metadata": {},
   "outputs": [
    {
     "data": {
      "text/html": [
       "<div>\n",
       "<style scoped>\n",
       "    .dataframe tbody tr th:only-of-type {\n",
       "        vertical-align: middle;\n",
       "    }\n",
       "\n",
       "    .dataframe tbody tr th {\n",
       "        vertical-align: top;\n",
       "    }\n",
       "\n",
       "    .dataframe thead th {\n",
       "        text-align: right;\n",
       "    }\n",
       "</style>\n",
       "<table border=\"1\" class=\"dataframe\">\n",
       "  <thead>\n",
       "    <tr style=\"text-align: right;\">\n",
       "      <th></th>\n",
       "      <th>BusinessTravel</th>\n",
       "      <th>Department</th>\n",
       "      <th>EducationField</th>\n",
       "      <th>Gender</th>\n",
       "      <th>JobRole</th>\n",
       "      <th>MaritalStatus</th>\n",
       "      <th>OverTime</th>\n",
       "      <th>Age</th>\n",
       "      <th>DailyRate</th>\n",
       "      <th>DistanceFromHome</th>\n",
       "      <th>...</th>\n",
       "      <th>JobSatisfaction</th>\n",
       "      <th>MonthlyIncome</th>\n",
       "      <th>MonthlyRate</th>\n",
       "      <th>PercentSalaryHike</th>\n",
       "      <th>PerformanceRating</th>\n",
       "      <th>TotalWorkingYears</th>\n",
       "      <th>YearsAtCompany</th>\n",
       "      <th>YearsSinceLastPromotion</th>\n",
       "      <th>Attrition</th>\n",
       "      <th>Predicted</th>\n",
       "    </tr>\n",
       "  </thead>\n",
       "  <tbody>\n",
       "    <tr>\n",
       "      <th>880</th>\n",
       "      <td>1</td>\n",
       "      <td>1</td>\n",
       "      <td>4</td>\n",
       "      <td>0</td>\n",
       "      <td>2</td>\n",
       "      <td>1</td>\n",
       "      <td>0</td>\n",
       "      <td>32.0</td>\n",
       "      <td>116.0</td>\n",
       "      <td>13.0</td>\n",
       "      <td>...</td>\n",
       "      <td>2.0</td>\n",
       "      <td>2743.0</td>\n",
       "      <td>7331.0</td>\n",
       "      <td>20.0</td>\n",
       "      <td>3.0</td>\n",
       "      <td>2.0</td>\n",
       "      <td>2.0</td>\n",
       "      <td>2.0</td>\n",
       "      <td>0</td>\n",
       "      <td>0</td>\n",
       "    </tr>\n",
       "    <tr>\n",
       "      <th>152</th>\n",
       "      <td>2</td>\n",
       "      <td>2</td>\n",
       "      <td>2</td>\n",
       "      <td>1</td>\n",
       "      <td>8</td>\n",
       "      <td>1</td>\n",
       "      <td>1</td>\n",
       "      <td>53.0</td>\n",
       "      <td>1436.0</td>\n",
       "      <td>6.0</td>\n",
       "      <td>...</td>\n",
       "      <td>3.0</td>\n",
       "      <td>2306.0</td>\n",
       "      <td>16047.0</td>\n",
       "      <td>20.0</td>\n",
       "      <td>3.0</td>\n",
       "      <td>13.0</td>\n",
       "      <td>7.0</td>\n",
       "      <td>4.0</td>\n",
       "      <td>0</td>\n",
       "      <td>0</td>\n",
       "    </tr>\n",
       "    <tr>\n",
       "      <th>1466</th>\n",
       "      <td>2</td>\n",
       "      <td>1</td>\n",
       "      <td>3</td>\n",
       "      <td>1</td>\n",
       "      <td>0</td>\n",
       "      <td>1</td>\n",
       "      <td>0</td>\n",
       "      <td>39.0</td>\n",
       "      <td>613.0</td>\n",
       "      <td>6.0</td>\n",
       "      <td>...</td>\n",
       "      <td>1.0</td>\n",
       "      <td>9991.0</td>\n",
       "      <td>21457.0</td>\n",
       "      <td>15.0</td>\n",
       "      <td>3.0</td>\n",
       "      <td>9.0</td>\n",
       "      <td>7.0</td>\n",
       "      <td>1.0</td>\n",
       "      <td>0</td>\n",
       "      <td>0</td>\n",
       "    </tr>\n",
       "    <tr>\n",
       "      <th>1084</th>\n",
       "      <td>2</td>\n",
       "      <td>2</td>\n",
       "      <td>5</td>\n",
       "      <td>1</td>\n",
       "      <td>7</td>\n",
       "      <td>1</td>\n",
       "      <td>1</td>\n",
       "      <td>34.0</td>\n",
       "      <td>971.0</td>\n",
       "      <td>1.0</td>\n",
       "      <td>...</td>\n",
       "      <td>3.0</td>\n",
       "      <td>7083.0</td>\n",
       "      <td>12288.0</td>\n",
       "      <td>14.0</td>\n",
       "      <td>3.0</td>\n",
       "      <td>10.0</td>\n",
       "      <td>10.0</td>\n",
       "      <td>7.5</td>\n",
       "      <td>0</td>\n",
       "      <td>0</td>\n",
       "    </tr>\n",
       "    <tr>\n",
       "      <th>1086</th>\n",
       "      <td>1</td>\n",
       "      <td>1</td>\n",
       "      <td>3</td>\n",
       "      <td>1</td>\n",
       "      <td>5</td>\n",
       "      <td>2</td>\n",
       "      <td>1</td>\n",
       "      <td>50.0</td>\n",
       "      <td>333.0</td>\n",
       "      <td>22.0</td>\n",
       "      <td>...</td>\n",
       "      <td>4.0</td>\n",
       "      <td>14411.0</td>\n",
       "      <td>24450.0</td>\n",
       "      <td>13.0</td>\n",
       "      <td>3.0</td>\n",
       "      <td>28.5</td>\n",
       "      <td>18.0</td>\n",
       "      <td>7.5</td>\n",
       "      <td>0</td>\n",
       "      <td>0</td>\n",
       "    </tr>\n",
       "  </tbody>\n",
       "</table>\n",
       "<p>5 rows × 22 columns</p>\n",
       "</div>"
      ],
      "text/plain": [
       "      BusinessTravel  Department  EducationField  Gender  JobRole  \\\n",
       "880                1           1               4       0        2   \n",
       "152                2           2               2       1        8   \n",
       "1466               2           1               3       1        0   \n",
       "1084               2           2               5       1        7   \n",
       "1086               1           1               3       1        5   \n",
       "\n",
       "      MaritalStatus  OverTime   Age  DailyRate  DistanceFromHome  ...  \\\n",
       "880               1         0  32.0      116.0              13.0  ...   \n",
       "152               1         1  53.0     1436.0               6.0  ...   \n",
       "1466              1         0  39.0      613.0               6.0  ...   \n",
       "1084              1         1  34.0      971.0               1.0  ...   \n",
       "1086              2         1  50.0      333.0              22.0  ...   \n",
       "\n",
       "      JobSatisfaction  MonthlyIncome  MonthlyRate  PercentSalaryHike  \\\n",
       "880               2.0         2743.0       7331.0               20.0   \n",
       "152               3.0         2306.0      16047.0               20.0   \n",
       "1466              1.0         9991.0      21457.0               15.0   \n",
       "1084              3.0         7083.0      12288.0               14.0   \n",
       "1086              4.0        14411.0      24450.0               13.0   \n",
       "\n",
       "      PerformanceRating  TotalWorkingYears  YearsAtCompany  \\\n",
       "880                 3.0                2.0             2.0   \n",
       "152                 3.0               13.0             7.0   \n",
       "1466                3.0                9.0             7.0   \n",
       "1084                3.0               10.0            10.0   \n",
       "1086                3.0               28.5            18.0   \n",
       "\n",
       "      YearsSinceLastPromotion  Attrition  Predicted  \n",
       "880                       2.0          0          0  \n",
       "152                       4.0          0          0  \n",
       "1466                      1.0          0          0  \n",
       "1084                      7.5          0          0  \n",
       "1086                      7.5          0          0  \n",
       "\n",
       "[5 rows x 22 columns]"
      ]
     },
     "execution_count": 50,
     "metadata": {},
     "output_type": "execute_result"
    }
   ],
   "source": [
    "test['Predicted']=output.predict(X_test)\n",
    "test.head()"
   ]
  },
  {
   "cell_type": "markdown",
   "id": "940717b5",
   "metadata": {},
   "source": [
    "# Step 11 : Model Performance Metrics on Test data"
   ]
  },
  {
   "cell_type": "code",
   "execution_count": 51,
   "id": "cc438bb2",
   "metadata": {},
   "outputs": [
    {
     "name": "stdout",
     "output_type": "stream",
     "text": [
      "[[247  46]\n",
      " [  0   1]]\n"
     ]
    }
   ],
   "source": [
    "from sklearn.metrics import confusion_matrix\n",
    "matrix = confusion_matrix(test['Predicted'],test['Attrition'])\n",
    "print(matrix)"
   ]
  },
  {
   "cell_type": "code",
   "execution_count": 52,
   "id": "ee49ea9e",
   "metadata": {},
   "outputs": [
    {
     "name": "stdout",
     "output_type": "stream",
     "text": [
      "              precision    recall  f1-score   support\n",
      "\n",
      "           0       0.84      1.00      0.91       247\n",
      "           1       1.00      0.02      0.04        47\n",
      "\n",
      "    accuracy                           0.84       294\n",
      "   macro avg       0.92      0.51      0.48       294\n",
      "weighted avg       0.87      0.84      0.78       294\n",
      "\n"
     ]
    }
   ],
   "source": [
    "from sklearn.metrics import classification_report\n",
    "print(classification_report(test['Attrition'],test['Predicted']))"
   ]
  },
  {
   "cell_type": "markdown",
   "id": "b9791635",
   "metadata": {},
   "source": [
    "* Accuracy of Model is 84 %,Hence Model is good Fit\n",
    "* Accuracy of Bad Customer Capture by Model is 2 % (Sensitivity)\n",
    "* Accuracy of Good Customer Capture by Model is 100 % (Specificity)"
   ]
  },
  {
   "cell_type": "markdown",
   "id": "b1d883f0",
   "metadata": {},
   "source": [
    "## Coefficient\n",
    "* For future Prediction below 4 variable data is mandatory.\n",
    "* Note :- If anyone is not present output will not be reliable."
   ]
  },
  {
   "cell_type": "code",
   "execution_count": 53,
   "id": "7f4cd5dd",
   "metadata": {},
   "outputs": [
    {
     "data": {
      "text/html": [
       "<div>\n",
       "<style scoped>\n",
       "    .dataframe tbody tr th:only-of-type {\n",
       "        vertical-align: middle;\n",
       "    }\n",
       "\n",
       "    .dataframe tbody tr th {\n",
       "        vertical-align: top;\n",
       "    }\n",
       "\n",
       "    .dataframe thead th {\n",
       "        text-align: right;\n",
       "    }\n",
       "</style>\n",
       "<table border=\"1\" class=\"dataframe\">\n",
       "  <thead>\n",
       "    <tr style=\"text-align: right;\">\n",
       "      <th></th>\n",
       "      <th>Coefficient</th>\n",
       "    </tr>\n",
       "  </thead>\n",
       "  <tbody>\n",
       "    <tr>\n",
       "      <th>Intercept</th>\n",
       "      <td>0.000126</td>\n",
       "    </tr>\n",
       "  </tbody>\n",
       "</table>\n",
       "</div>"
      ],
      "text/plain": [
       "           Coefficient\n",
       "Intercept     0.000126"
      ]
     },
     "execution_count": 53,
     "metadata": {},
     "output_type": "execute_result"
    }
   ],
   "source": [
    "Model_Values=pd.DataFrame(output.intercept_,index=['Intercept'],columns=['Coefficient'])\n",
    "Model_Values"
   ]
  },
  {
   "cell_type": "code",
   "execution_count": 54,
   "id": "47e9de30",
   "metadata": {},
   "outputs": [
    {
     "data": {
      "text/html": [
       "<div>\n",
       "<style scoped>\n",
       "    .dataframe tbody tr th:only-of-type {\n",
       "        vertical-align: middle;\n",
       "    }\n",
       "\n",
       "    .dataframe tbody tr th {\n",
       "        vertical-align: top;\n",
       "    }\n",
       "\n",
       "    .dataframe thead th {\n",
       "        text-align: right;\n",
       "    }\n",
       "</style>\n",
       "<table border=\"1\" class=\"dataframe\">\n",
       "  <thead>\n",
       "    <tr style=\"text-align: right;\">\n",
       "      <th></th>\n",
       "      <th>Coefficient</th>\n",
       "    </tr>\n",
       "  </thead>\n",
       "  <tbody>\n",
       "    <tr>\n",
       "      <th>BusinessTravel</th>\n",
       "      <td>-0.001327</td>\n",
       "    </tr>\n",
       "    <tr>\n",
       "      <th>Department</th>\n",
       "      <td>0.006443</td>\n",
       "    </tr>\n",
       "    <tr>\n",
       "      <th>EducationField</th>\n",
       "      <td>0.000747</td>\n",
       "    </tr>\n",
       "    <tr>\n",
       "      <th>Gender</th>\n",
       "      <td>0.000652</td>\n",
       "    </tr>\n",
       "    <tr>\n",
       "      <th>JobRole</th>\n",
       "      <td>0.021249</td>\n",
       "    </tr>\n",
       "    <tr>\n",
       "      <th>MaritalStatus</th>\n",
       "      <td>0.016000</td>\n",
       "    </tr>\n",
       "    <tr>\n",
       "      <th>OverTime</th>\n",
       "      <td>0.017778</td>\n",
       "    </tr>\n",
       "    <tr>\n",
       "      <th>Age</th>\n",
       "      <td>-0.012128</td>\n",
       "    </tr>\n",
       "    <tr>\n",
       "      <th>DailyRate</th>\n",
       "      <td>-0.000463</td>\n",
       "    </tr>\n",
       "    <tr>\n",
       "      <th>DistanceFromHome</th>\n",
       "      <td>0.041260</td>\n",
       "    </tr>\n",
       "    <tr>\n",
       "      <th>EnvironmentSatisfaction</th>\n",
       "      <td>-0.014089</td>\n",
       "    </tr>\n",
       "    <tr>\n",
       "      <th>HourlyRate</th>\n",
       "      <td>-0.002932</td>\n",
       "    </tr>\n",
       "    <tr>\n",
       "      <th>JobSatisfaction</th>\n",
       "      <td>-0.014161</td>\n",
       "    </tr>\n",
       "    <tr>\n",
       "      <th>MonthlyIncome</th>\n",
       "      <td>-0.000105</td>\n",
       "    </tr>\n",
       "    <tr>\n",
       "      <th>MonthlyRate</th>\n",
       "      <td>-0.000001</td>\n",
       "    </tr>\n",
       "    <tr>\n",
       "      <th>PercentSalaryHike</th>\n",
       "      <td>-0.000902</td>\n",
       "    </tr>\n",
       "    <tr>\n",
       "      <th>PerformanceRating</th>\n",
       "      <td>0.000377</td>\n",
       "    </tr>\n",
       "    <tr>\n",
       "      <th>TotalWorkingYears</th>\n",
       "      <td>-0.029092</td>\n",
       "    </tr>\n",
       "    <tr>\n",
       "      <th>YearsAtCompany</th>\n",
       "      <td>-0.046979</td>\n",
       "    </tr>\n",
       "    <tr>\n",
       "      <th>YearsSinceLastPromotion</th>\n",
       "      <td>0.016703</td>\n",
       "    </tr>\n",
       "  </tbody>\n",
       "</table>\n",
       "</div>"
      ],
      "text/plain": [
       "                         Coefficient\n",
       "BusinessTravel             -0.001327\n",
       "Department                  0.006443\n",
       "EducationField              0.000747\n",
       "Gender                      0.000652\n",
       "JobRole                     0.021249\n",
       "MaritalStatus               0.016000\n",
       "OverTime                    0.017778\n",
       "Age                        -0.012128\n",
       "DailyRate                  -0.000463\n",
       "DistanceFromHome            0.041260\n",
       "EnvironmentSatisfaction    -0.014089\n",
       "HourlyRate                 -0.002932\n",
       "JobSatisfaction            -0.014161\n",
       "MonthlyIncome              -0.000105\n",
       "MonthlyRate                -0.000001\n",
       "PercentSalaryHike          -0.000902\n",
       "PerformanceRating           0.000377\n",
       "TotalWorkingYears          -0.029092\n",
       "YearsAtCompany             -0.046979\n",
       "YearsSinceLastPromotion     0.016703"
      ]
     },
     "execution_count": 54,
     "metadata": {},
     "output_type": "execute_result"
    }
   ],
   "source": [
    "rows=['BusinessTravel', 'Department', 'EducationField', 'Gender',\n",
    "       'JobRole', 'MaritalStatus', 'OverTime', 'Age', 'DailyRate',\n",
    "       'DistanceFromHome', 'EnvironmentSatisfaction', 'HourlyRate',\n",
    "       'JobSatisfaction', 'MonthlyIncome', 'MonthlyRate',\n",
    "       'PercentSalaryHike', 'PerformanceRating', 'TotalWorkingYears',\n",
    "       'YearsAtCompany', 'YearsSinceLastPromotion']\n",
    "\n",
    "abc=pd.DataFrame(output.coef_.T,index=rows,columns=['Coefficient'])\n",
    "abc"
   ]
  },
  {
   "cell_type": "code",
   "execution_count": 55,
   "id": "6680d55d",
   "metadata": {},
   "outputs": [
    {
     "data": {
      "text/html": [
       "<div>\n",
       "<style scoped>\n",
       "    .dataframe tbody tr th:only-of-type {\n",
       "        vertical-align: middle;\n",
       "    }\n",
       "\n",
       "    .dataframe tbody tr th {\n",
       "        vertical-align: top;\n",
       "    }\n",
       "\n",
       "    .dataframe thead th {\n",
       "        text-align: right;\n",
       "    }\n",
       "</style>\n",
       "<table border=\"1\" class=\"dataframe\">\n",
       "  <thead>\n",
       "    <tr style=\"text-align: right;\">\n",
       "      <th></th>\n",
       "      <th>Coefficient</th>\n",
       "    </tr>\n",
       "  </thead>\n",
       "  <tbody>\n",
       "    <tr>\n",
       "      <th>Intercept</th>\n",
       "      <td>0.000126</td>\n",
       "    </tr>\n",
       "    <tr>\n",
       "      <th>BusinessTravel</th>\n",
       "      <td>-0.001327</td>\n",
       "    </tr>\n",
       "    <tr>\n",
       "      <th>Department</th>\n",
       "      <td>0.006443</td>\n",
       "    </tr>\n",
       "    <tr>\n",
       "      <th>EducationField</th>\n",
       "      <td>0.000747</td>\n",
       "    </tr>\n",
       "    <tr>\n",
       "      <th>Gender</th>\n",
       "      <td>0.000652</td>\n",
       "    </tr>\n",
       "    <tr>\n",
       "      <th>JobRole</th>\n",
       "      <td>0.021249</td>\n",
       "    </tr>\n",
       "    <tr>\n",
       "      <th>MaritalStatus</th>\n",
       "      <td>0.016000</td>\n",
       "    </tr>\n",
       "    <tr>\n",
       "      <th>OverTime</th>\n",
       "      <td>0.017778</td>\n",
       "    </tr>\n",
       "    <tr>\n",
       "      <th>Age</th>\n",
       "      <td>-0.012128</td>\n",
       "    </tr>\n",
       "    <tr>\n",
       "      <th>DailyRate</th>\n",
       "      <td>-0.000463</td>\n",
       "    </tr>\n",
       "    <tr>\n",
       "      <th>DistanceFromHome</th>\n",
       "      <td>0.041260</td>\n",
       "    </tr>\n",
       "    <tr>\n",
       "      <th>EnvironmentSatisfaction</th>\n",
       "      <td>-0.014089</td>\n",
       "    </tr>\n",
       "    <tr>\n",
       "      <th>HourlyRate</th>\n",
       "      <td>-0.002932</td>\n",
       "    </tr>\n",
       "    <tr>\n",
       "      <th>JobSatisfaction</th>\n",
       "      <td>-0.014161</td>\n",
       "    </tr>\n",
       "    <tr>\n",
       "      <th>MonthlyIncome</th>\n",
       "      <td>-0.000105</td>\n",
       "    </tr>\n",
       "    <tr>\n",
       "      <th>MonthlyRate</th>\n",
       "      <td>-0.000001</td>\n",
       "    </tr>\n",
       "    <tr>\n",
       "      <th>PercentSalaryHike</th>\n",
       "      <td>-0.000902</td>\n",
       "    </tr>\n",
       "    <tr>\n",
       "      <th>PerformanceRating</th>\n",
       "      <td>0.000377</td>\n",
       "    </tr>\n",
       "    <tr>\n",
       "      <th>TotalWorkingYears</th>\n",
       "      <td>-0.029092</td>\n",
       "    </tr>\n",
       "    <tr>\n",
       "      <th>YearsAtCompany</th>\n",
       "      <td>-0.046979</td>\n",
       "    </tr>\n",
       "    <tr>\n",
       "      <th>YearsSinceLastPromotion</th>\n",
       "      <td>0.016703</td>\n",
       "    </tr>\n",
       "  </tbody>\n",
       "</table>\n",
       "</div>"
      ],
      "text/plain": [
       "                         Coefficient\n",
       "Intercept                   0.000126\n",
       "BusinessTravel             -0.001327\n",
       "Department                  0.006443\n",
       "EducationField              0.000747\n",
       "Gender                      0.000652\n",
       "JobRole                     0.021249\n",
       "MaritalStatus               0.016000\n",
       "OverTime                    0.017778\n",
       "Age                        -0.012128\n",
       "DailyRate                  -0.000463\n",
       "DistanceFromHome            0.041260\n",
       "EnvironmentSatisfaction    -0.014089\n",
       "HourlyRate                 -0.002932\n",
       "JobSatisfaction            -0.014161\n",
       "MonthlyIncome              -0.000105\n",
       "MonthlyRate                -0.000001\n",
       "PercentSalaryHike          -0.000902\n",
       "PerformanceRating           0.000377\n",
       "TotalWorkingYears          -0.029092\n",
       "YearsAtCompany             -0.046979\n",
       "YearsSinceLastPromotion     0.016703"
      ]
     },
     "execution_count": 55,
     "metadata": {},
     "output_type": "execute_result"
    }
   ],
   "source": [
    "Model_Values.append(abc)"
   ]
  },
  {
   "cell_type": "markdown",
   "id": "125d2bdd",
   "metadata": {},
   "source": [
    "# Finished"
   ]
  },
  {
   "cell_type": "markdown",
   "id": "d4c90fde",
   "metadata": {},
   "source": [
    "# Thank You....!"
   ]
  }
 ],
 "metadata": {
  "kernelspec": {
   "display_name": "Python 3 (ipykernel)",
   "language": "python",
   "name": "python3"
  },
  "language_info": {
   "codemirror_mode": {
    "name": "ipython",
    "version": 3
   },
   "file_extension": ".py",
   "mimetype": "text/x-python",
   "name": "python",
   "nbconvert_exporter": "python",
   "pygments_lexer": "ipython3",
   "version": "3.9.12"
  }
 },
 "nbformat": 4,
 "nbformat_minor": 5
}
